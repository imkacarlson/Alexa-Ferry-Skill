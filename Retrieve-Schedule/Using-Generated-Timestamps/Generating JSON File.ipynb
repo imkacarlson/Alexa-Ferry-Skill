{
 "cells": [
  {
   "cell_type": "markdown",
   "metadata": {},
   "source": [
    "# Generating JSON File\n",
    "\n",
    "This code reads a csv file and extracts the different departure times. The data is then serialized into a JSON object and written out as a .json file."
   ]
  },
  {
   "cell_type": "markdown",
   "metadata": {},
   "source": [
    "<a href =\"https://stackoverflow.com/questions/45051882/valueerror-arrays-must-all-be-same-length-in-python-using-pandas-dataframe\">ValueError: arrays must all be same length in python using pandas DataFrame</a>\n",
    "\n",
    "<a href =\"https://stackoverflow.com/questions/25146121/extracting-just-month-and-year-from-pandas-datetime-column\">Extracting just Month and Year from Pandas Datetime column</a>"
   ]
  },
  {
   "cell_type": "code",
   "execution_count": 47,
   "metadata": {},
   "outputs": [],
   "source": [
    "import pandas as pd\n",
    "\n",
    "df = pd.read_csv(\"Bainbridge_Departures_2013_Indexed.csv\", index_col = \"timestamps\", parse_dates = ['timestamps'])\n",
    "df.index.name = None\n",
    "\n",
    "bainbridge_weekday = pd.Series(df[\"2013-01-15\"].index.values, name = \"weekday\").map(lambda x: x.strftime('%H:%M:%S')).tolist()\n",
    "bainbridge_holiday_saturday = pd.Series(df[\"2013-07-04\"].index.values, name = \"holiday_saturday\").map(lambda x: \n",
    "                                                                                           x.strftime('%H:%M:%S')).tolist()\n",
    "bainbridge_sunday = pd.Series(df[\"2013-03-09\"].index.values, name = \"sunday\").map(lambda x: x.strftime('%H:%M:%S')).tolist()"
   ]
  },
  {
   "cell_type": "code",
   "execution_count": 48,
   "metadata": {
    "collapsed": true
   },
   "outputs": [],
   "source": [
    "import json"
   ]
  },
  {
   "cell_type": "code",
   "execution_count": 49,
   "metadata": {},
   "outputs": [],
   "source": [
    "bainbrigde_data = {}\n",
    "bainbrigde_data[\"weekday\"] = bainbridge_weekday\n",
    "bainbrigde_data[\"holiday_saturday\"] = bainbridge_holiday_saturday\n",
    "bainbrigde_data[\"sunday\"] = bainbridge_sunday"
   ]
  },
  {
   "cell_type": "code",
   "execution_count": 50,
   "metadata": {
    "collapsed": true
   },
   "outputs": [],
   "source": [
    "data = {}\n",
    "data[\"bainbridge\"] = bainbrigde_data"
   ]
  },
  {
   "cell_type": "code",
   "execution_count": 51,
   "metadata": {
    "collapsed": true
   },
   "outputs": [],
   "source": [
    "json_data = json.dumps(data)"
   ]
  },
  {
   "cell_type": "code",
   "execution_count": 52,
   "metadata": {},
   "outputs": [
    {
     "data": {
      "text/plain": [
       "'{\"bainbridge\": {\"weekday\": [\"00:55:00\", \"04:45:00\", \"05:20:00\", \"06:20:00\", \"07:05:00\", \"07:55:00\", \"08:45:00\", \"09:40:00\", \"10:25:00\", \"11:30:00\", \"12:20:00\", \"13:10:00\", \"14:05:00\", \"14:55:00\", \"15:50:00\", \"16:35:00\", \"17:30:00\", \"18:30:00\", \"19:10:00\", \"20:10:00\", \"20:55:00\", \"21:45:00\", \"22:35:00\"], \"holiday_saturday\": [\"00:55:00\", \"05:20:00\", \"07:05:00\", \"07:55:00\", \"08:45:00\", \"09:35:00\", \"10:25:00\", \"11:30:00\", \"12:20:00\", \"13:10:00\", \"14:05:00\", \"14:55:00\", \"15:50:00\", \"16:35:00\", \"17:30:00\", \"18:30:00\", \"19:10:00\", \"20:10:00\", \"20:55:00\", \"21:45:00\", \"22:30:00\"], \"sunday\": [\"00:55:00\", \"05:20:00\", \"07:05:00\", \"07:55:00\", \"08:45:00\", \"09:35:00\", \"10:25:00\", \"11:30:00\", \"12:20:00\", \"13:10:00\", \"14:05:00\", \"14:55:00\", \"15:50:00\", \"16:35:00\", \"17:30:00\", \"18:30:00\", \"19:10:00\", \"20:10:00\", \"20:55:00\", \"21:45:00\", \"22:30:00\"]}}'"
      ]
     },
     "execution_count": 52,
     "metadata": {},
     "output_type": "execute_result"
    }
   ],
   "source": [
    "json_data"
   ]
  },
  {
   "cell_type": "code",
   "execution_count": 53,
   "metadata": {
    "collapsed": true
   },
   "outputs": [],
   "source": [
    "with open ('bainbridge_departures_2013.json', 'w') as outfile:\n",
    "    json.dump(json_data, outfile)"
   ]
  }
 ],
 "metadata": {
  "kernelspec": {
   "display_name": "Python 3",
   "language": "python",
   "name": "python3"
  },
  "language_info": {
   "codemirror_mode": {
    "name": "ipython",
    "version": 3
   },
   "file_extension": ".py",
   "mimetype": "text/x-python",
   "name": "python",
   "nbconvert_exporter": "python",
   "pygments_lexer": "ipython3",
   "version": "3.6.2"
  }
 },
 "nbformat": 4,
 "nbformat_minor": 2
}
