{
 "cells": [
  {
   "cell_type": "markdown",
   "metadata": {},
   "source": [
    "## Objective for this File:\n",
    "\n",
    "This is the beginning of some Exploratory Data Analysis on the data I have recieved from WSDOT. I start by working with one file and exploring it then I create a method that I use to print out some statistics of an arbitrary WSDOT ferry dataset."
   ]
  },
  {
   "cell_type": "markdown",
   "metadata": {},
   "source": [
    "## File 1: September 5, 2001 - 2006"
   ]
  },
  {
   "cell_type": "code",
   "execution_count": 260,
   "metadata": {
    "collapsed": true
   },
   "outputs": [],
   "source": [
    "import pandas as pd\n",
    "import numpy as np\n",
    "\n",
    "laptop_file_path = 'C:/Users/Keith/Google Drive/H Drive Full Backup/Fall 2018/CS 495 - Senior Seminar/Ferry Data/P000413-090518_2001-2006.csv'\n",
    "dataset = pd.read_csv(laptop_file_path)"
   ]
  },
  {
   "cell_type": "code",
   "execution_count": 261,
   "metadata": {},
   "outputs": [
    {
     "data": {
      "text/html": [
       "<div>\n",
       "<style scoped>\n",
       "    .dataframe tbody tr th:only-of-type {\n",
       "        vertical-align: middle;\n",
       "    }\n",
       "\n",
       "    .dataframe tbody tr th {\n",
       "        vertical-align: top;\n",
       "    }\n",
       "\n",
       "    .dataframe thead th {\n",
       "        text-align: right;\n",
       "    }\n",
       "</style>\n",
       "<table border=\"1\" class=\"dataframe\">\n",
       "  <thead>\n",
       "    <tr style=\"text-align: right;\">\n",
       "      <th></th>\n",
       "      <th>departure_terminal</th>\n",
       "      <th>arrival_terminal</th>\n",
       "      <th>scheduled_departure</th>\n",
       "      <th>actual_departure</th>\n",
       "      <th>Actual_Arrival</th>\n",
       "      <th>TransitTime</th>\n",
       "    </tr>\n",
       "  </thead>\n",
       "  <tbody>\n",
       "    <tr>\n",
       "      <th>0</th>\n",
       "      <td>Edmonds</td>\n",
       "      <td>Kingston</td>\n",
       "      <td>05:00.0</td>\n",
       "      <td>06:47.0</td>\n",
       "      <td>27:47.0</td>\n",
       "      <td>21.0</td>\n",
       "    </tr>\n",
       "    <tr>\n",
       "      <th>1</th>\n",
       "      <td>Kingston</td>\n",
       "      <td>Edmonds</td>\n",
       "      <td>10:00.0</td>\n",
       "      <td>11:40.0</td>\n",
       "      <td>32:10.0</td>\n",
       "      <td>21.0</td>\n",
       "    </tr>\n",
       "    <tr>\n",
       "      <th>2</th>\n",
       "      <td>Southworth</td>\n",
       "      <td>NaN</td>\n",
       "      <td>15:00.0</td>\n",
       "      <td>NaN</td>\n",
       "      <td>NaN</td>\n",
       "      <td>NaN</td>\n",
       "    </tr>\n",
       "    <tr>\n",
       "      <th>3</th>\n",
       "      <td>Vashon</td>\n",
       "      <td>Southworth</td>\n",
       "      <td>15:00.0</td>\n",
       "      <td>16:40.0</td>\n",
       "      <td>27:40.0</td>\n",
       "      <td>11.0</td>\n",
       "    </tr>\n",
       "    <tr>\n",
       "      <th>4</th>\n",
       "      <td>Bainbridge</td>\n",
       "      <td>Colman</td>\n",
       "      <td>20:00.0</td>\n",
       "      <td>21:10.0</td>\n",
       "      <td>50:30.0</td>\n",
       "      <td>29.0</td>\n",
       "    </tr>\n",
       "  </tbody>\n",
       "</table>\n",
       "</div>"
      ],
      "text/plain": [
       "  departure_terminal arrival_terminal scheduled_departure actual_departure  \\\n",
       "0            Edmonds         Kingston             05:00.0          06:47.0   \n",
       "1           Kingston          Edmonds             10:00.0          11:40.0   \n",
       "2         Southworth              NaN             15:00.0              NaN   \n",
       "3             Vashon       Southworth             15:00.0          16:40.0   \n",
       "4         Bainbridge           Colman             20:00.0          21:10.0   \n",
       "\n",
       "  Actual_Arrival  TransitTime  \n",
       "0        27:47.0         21.0  \n",
       "1        32:10.0         21.0  \n",
       "2            NaN          NaN  \n",
       "3        27:40.0         11.0  \n",
       "4        50:30.0         29.0  "
      ]
     },
     "execution_count": 261,
     "metadata": {},
     "output_type": "execute_result"
    }
   ],
   "source": [
    "dataset.head()"
   ]
  },
  {
   "cell_type": "code",
   "execution_count": 262,
   "metadata": {},
   "outputs": [
    {
     "data": {
      "text/plain": [
       "(903627, 6)"
      ]
     },
     "execution_count": 262,
     "metadata": {},
     "output_type": "execute_result"
    }
   ],
   "source": [
    "dataset.shape"
   ]
  },
  {
   "cell_type": "code",
   "execution_count": 263,
   "metadata": {},
   "outputs": [
    {
     "name": "stdout",
     "output_type": "stream",
     "text": [
      "['Edmonds' 'Kingston' 'Southworth' 'Vashon' 'Bainbridge' 'Colman'\n",
      " 'Tahlequah' 'Clinton' 'Fauntleroy' 'Keystone' 'Lopez' 'Mukilteo'\n",
      " 'Port Townsend' 'Orcas' 'Shaw' 'Bremerton' 'Friday Harbor' 'Anacortes'\n",
      " 'Colman PO' 'Pt. Defiance' 'Sidney B. C.']\n"
     ]
    }
   ],
   "source": [
    "departure_terminals = dataset.departure_terminal.unique()\n",
    "print(departure_terminals)"
   ]
  },
  {
   "cell_type": "code",
   "execution_count": 264,
   "metadata": {},
   "outputs": [
    {
     "name": "stdout",
     "output_type": "stream",
     "text": [
      "['Kingston' 'Edmonds' nan 'Southworth' 'Colman' 'Bainbridge'\n",
      " 'Pt. Defiance' 'Mukilteo' 'Vashon' 'Port Townsend' 'Anacortes' 'Clinton'\n",
      " 'Keystone' 'Shaw' 'Orcas' 'Fauntleroy' 'Lopez' 'Bremerton'\n",
      " 'Friday Harbor' 'Colman PO' 'Tahlequah' 'Sidney B. C.'\n",
      " 'Pier 48 - Standby' 'Fuel Dock - Pier 15' 'Eagle Harbor'\n",
      " 'Todd Shipyard (1)' 'Dakota Creek']\n"
     ]
    }
   ],
   "source": [
    "arrival_terminals = dataset.arrival_terminal.unique()\n",
    "print(arrival_terminals)"
   ]
  },
  {
   "cell_type": "markdown",
   "metadata": {},
   "source": [
    "<a href=\"https://stackoverflow.com/questions/25220975/find-the-non-intersecting-values-of-two-arrays\"> Find the non-intersecting values of two arrays </a>"
   ]
  },
  {
   "cell_type": "code",
   "execution_count": 265,
   "metadata": {},
   "outputs": [
    {
     "data": {
      "text/plain": [
       "[nan,\n",
       " 'Dakota Creek',\n",
       " 'Todd Shipyard (1)',\n",
       " 'Eagle Harbor',\n",
       " 'Fuel Dock - Pier 15',\n",
       " 'Pier 48 - Standby']"
      ]
     },
     "execution_count": 265,
     "metadata": {},
     "output_type": "execute_result"
    }
   ],
   "source": [
    "differences = list(set(departure_terminals).symmetric_difference(arrival_terminals))\n",
    "differences"
   ]
  },
  {
   "cell_type": "markdown",
   "metadata": {},
   "source": [
    "<a href = \"https://stackoverflow.com/questions/21011777/how-can-i-remove-nan-from-list-python-numpy\"> How can I remove Nan from list Python/NumPy</a>"
   ]
  },
  {
   "cell_type": "code",
   "execution_count": 266,
   "metadata": {},
   "outputs": [
    {
     "data": {
      "text/plain": [
       "['Dakota Creek',\n",
       " 'Todd Shipyard (1)',\n",
       " 'Eagle Harbor',\n",
       " 'Fuel Dock - Pier 15',\n",
       " 'Pier 48 - Standby']"
      ]
     },
     "execution_count": 266,
     "metadata": {},
     "output_type": "execute_result"
    }
   ],
   "source": [
    "differences_no_nan = [x for x in differences if str(x) != 'nan']\n",
    "differences_no_nan"
   ]
  },
  {
   "cell_type": "markdown",
   "metadata": {},
   "source": [
    "<a href = \"https://stackoverflow.com/questions/12065885/filter-dataframe-rows-if-value-in-column-is-in-a-set-list-of-values/12065904\"> Filter dataframe rows if value in column is in a set list of values [duplicate]</a>"
   ]
  },
  {
   "cell_type": "code",
   "execution_count": 267,
   "metadata": {},
   "outputs": [],
   "source": [
    "dataset_differences_no_nan = dataset[dataset['arrival_terminal'].isin(differences_no_nan)]"
   ]
  },
  {
   "cell_type": "code",
   "execution_count": 268,
   "metadata": {},
   "outputs": [
    {
     "data": {
      "text/html": [
       "<div>\n",
       "<style scoped>\n",
       "    .dataframe tbody tr th:only-of-type {\n",
       "        vertical-align: middle;\n",
       "    }\n",
       "\n",
       "    .dataframe tbody tr th {\n",
       "        vertical-align: top;\n",
       "    }\n",
       "\n",
       "    .dataframe thead th {\n",
       "        text-align: right;\n",
       "    }\n",
       "</style>\n",
       "<table border=\"1\" class=\"dataframe\">\n",
       "  <thead>\n",
       "    <tr style=\"text-align: right;\">\n",
       "      <th></th>\n",
       "      <th>departure_terminal</th>\n",
       "      <th>arrival_terminal</th>\n",
       "      <th>scheduled_departure</th>\n",
       "      <th>actual_departure</th>\n",
       "      <th>Actual_Arrival</th>\n",
       "      <th>TransitTime</th>\n",
       "    </tr>\n",
       "  </thead>\n",
       "  <tbody>\n",
       "    <tr>\n",
       "      <th>748</th>\n",
       "      <td>Bremerton</td>\n",
       "      <td>Pier 48 - Standby</td>\n",
       "      <td>05:00.0</td>\n",
       "      <td>NaN</td>\n",
       "      <td>30:03.0</td>\n",
       "      <td>NaN</td>\n",
       "    </tr>\n",
       "    <tr>\n",
       "      <th>3385</th>\n",
       "      <td>Bremerton</td>\n",
       "      <td>Fuel Dock - Pier 15</td>\n",
       "      <td>30:00.0</td>\n",
       "      <td>NaN</td>\n",
       "      <td>05:02.0</td>\n",
       "      <td>NaN</td>\n",
       "    </tr>\n",
       "    <tr>\n",
       "      <th>9142</th>\n",
       "      <td>Colman PO</td>\n",
       "      <td>Fuel Dock - Pier 15</td>\n",
       "      <td>55:00.0</td>\n",
       "      <td>NaN</td>\n",
       "      <td>16:18.0</td>\n",
       "      <td>NaN</td>\n",
       "    </tr>\n",
       "    <tr>\n",
       "      <th>9530</th>\n",
       "      <td>Bremerton</td>\n",
       "      <td>Fuel Dock - Pier 15</td>\n",
       "      <td>30:00.0</td>\n",
       "      <td>NaN</td>\n",
       "      <td>04:01.0</td>\n",
       "      <td>NaN</td>\n",
       "    </tr>\n",
       "    <tr>\n",
       "      <th>13374</th>\n",
       "      <td>Bremerton</td>\n",
       "      <td>Pier 48 - Standby</td>\n",
       "      <td>10:00.0</td>\n",
       "      <td>NaN</td>\n",
       "      <td>53:16.0</td>\n",
       "      <td>NaN</td>\n",
       "    </tr>\n",
       "  </tbody>\n",
       "</table>\n",
       "</div>"
      ],
      "text/plain": [
       "      departure_terminal     arrival_terminal scheduled_departure  \\\n",
       "748            Bremerton    Pier 48 - Standby             05:00.0   \n",
       "3385           Bremerton  Fuel Dock - Pier 15             30:00.0   \n",
       "9142           Colman PO  Fuel Dock - Pier 15             55:00.0   \n",
       "9530           Bremerton  Fuel Dock - Pier 15             30:00.0   \n",
       "13374          Bremerton    Pier 48 - Standby             10:00.0   \n",
       "\n",
       "      actual_departure Actual_Arrival  TransitTime  \n",
       "748                NaN        30:03.0          NaN  \n",
       "3385               NaN        05:02.0          NaN  \n",
       "9142               NaN        16:18.0          NaN  \n",
       "9530               NaN        04:01.0          NaN  \n",
       "13374              NaN        53:16.0          NaN  "
      ]
     },
     "execution_count": 268,
     "metadata": {},
     "output_type": "execute_result"
    }
   ],
   "source": [
    "dataset_differences_no_nan.head()"
   ]
  },
  {
   "cell_type": "code",
   "execution_count": 269,
   "metadata": {},
   "outputs": [
    {
     "data": {
      "text/plain": [
       "(242, 6)"
      ]
     },
     "execution_count": 269,
     "metadata": {},
     "output_type": "execute_result"
    }
   ],
   "source": [
    "dataset_differences_no_nan.shape"
   ]
  },
  {
   "cell_type": "code",
   "execution_count": 270,
   "metadata": {},
   "outputs": [],
   "source": [
    "dataset_differences = dataset[dataset['arrival_terminal'].isin(differences)]"
   ]
  },
  {
   "cell_type": "code",
   "execution_count": 271,
   "metadata": {},
   "outputs": [
    {
     "data": {
      "text/html": [
       "<div>\n",
       "<style scoped>\n",
       "    .dataframe tbody tr th:only-of-type {\n",
       "        vertical-align: middle;\n",
       "    }\n",
       "\n",
       "    .dataframe tbody tr th {\n",
       "        vertical-align: top;\n",
       "    }\n",
       "\n",
       "    .dataframe thead th {\n",
       "        text-align: right;\n",
       "    }\n",
       "</style>\n",
       "<table border=\"1\" class=\"dataframe\">\n",
       "  <thead>\n",
       "    <tr style=\"text-align: right;\">\n",
       "      <th></th>\n",
       "      <th>departure_terminal</th>\n",
       "      <th>arrival_terminal</th>\n",
       "      <th>scheduled_departure</th>\n",
       "      <th>actual_departure</th>\n",
       "      <th>Actual_Arrival</th>\n",
       "      <th>TransitTime</th>\n",
       "    </tr>\n",
       "  </thead>\n",
       "  <tbody>\n",
       "    <tr>\n",
       "      <th>2</th>\n",
       "      <td>Southworth</td>\n",
       "      <td>NaN</td>\n",
       "      <td>15:00.0</td>\n",
       "      <td>NaN</td>\n",
       "      <td>NaN</td>\n",
       "      <td>NaN</td>\n",
       "    </tr>\n",
       "    <tr>\n",
       "      <th>14</th>\n",
       "      <td>Vashon</td>\n",
       "      <td>NaN</td>\n",
       "      <td>35:00.0</td>\n",
       "      <td>NaN</td>\n",
       "      <td>NaN</td>\n",
       "      <td>NaN</td>\n",
       "    </tr>\n",
       "    <tr>\n",
       "      <th>26</th>\n",
       "      <td>Fauntleroy</td>\n",
       "      <td>NaN</td>\n",
       "      <td>05:00.0</td>\n",
       "      <td>NaN</td>\n",
       "      <td>NaN</td>\n",
       "      <td>NaN</td>\n",
       "    </tr>\n",
       "    <tr>\n",
       "      <th>40</th>\n",
       "      <td>Vashon</td>\n",
       "      <td>NaN</td>\n",
       "      <td>40:00.0</td>\n",
       "      <td>NaN</td>\n",
       "      <td>NaN</td>\n",
       "      <td>NaN</td>\n",
       "    </tr>\n",
       "    <tr>\n",
       "      <th>49</th>\n",
       "      <td>Southworth</td>\n",
       "      <td>NaN</td>\n",
       "      <td>00:00.0</td>\n",
       "      <td>NaN</td>\n",
       "      <td>NaN</td>\n",
       "      <td>NaN</td>\n",
       "    </tr>\n",
       "  </tbody>\n",
       "</table>\n",
       "</div>"
      ],
      "text/plain": [
       "   departure_terminal arrival_terminal scheduled_departure actual_departure  \\\n",
       "2          Southworth              NaN             15:00.0              NaN   \n",
       "14             Vashon              NaN             35:00.0              NaN   \n",
       "26         Fauntleroy              NaN             05:00.0              NaN   \n",
       "40             Vashon              NaN             40:00.0              NaN   \n",
       "49         Southworth              NaN             00:00.0              NaN   \n",
       "\n",
       "   Actual_Arrival  TransitTime  \n",
       "2             NaN          NaN  \n",
       "14            NaN          NaN  \n",
       "26            NaN          NaN  \n",
       "40            NaN          NaN  \n",
       "49            NaN          NaN  "
      ]
     },
     "execution_count": 271,
     "metadata": {},
     "output_type": "execute_result"
    }
   ],
   "source": [
    "dataset_differences.head()"
   ]
  },
  {
   "cell_type": "code",
   "execution_count": 272,
   "metadata": {},
   "outputs": [
    {
     "data": {
      "text/plain": [
       "(45092, 6)"
      ]
     },
     "execution_count": 272,
     "metadata": {},
     "output_type": "execute_result"
    }
   ],
   "source": [
    "dataset_differences.shape"
   ]
  },
  {
   "cell_type": "markdown",
   "metadata": {},
   "source": [
    "<a href = \"https://stackoverflow.com/questions/39494988/in-pandas-how-to-select-the-rows-that-contains-nan\"> In pandas, How to select the rows that contains NaN? [duplicate]</a>"
   ]
  },
  {
   "cell_type": "code",
   "execution_count": 273,
   "metadata": {},
   "outputs": [
    {
     "data": {
      "text/html": [
       "<div>\n",
       "<style scoped>\n",
       "    .dataframe tbody tr th:only-of-type {\n",
       "        vertical-align: middle;\n",
       "    }\n",
       "\n",
       "    .dataframe tbody tr th {\n",
       "        vertical-align: top;\n",
       "    }\n",
       "\n",
       "    .dataframe thead th {\n",
       "        text-align: right;\n",
       "    }\n",
       "</style>\n",
       "<table border=\"1\" class=\"dataframe\">\n",
       "  <thead>\n",
       "    <tr style=\"text-align: right;\">\n",
       "      <th></th>\n",
       "      <th>departure_terminal</th>\n",
       "      <th>arrival_terminal</th>\n",
       "      <th>scheduled_departure</th>\n",
       "      <th>actual_departure</th>\n",
       "      <th>Actual_Arrival</th>\n",
       "      <th>TransitTime</th>\n",
       "    </tr>\n",
       "  </thead>\n",
       "  <tbody>\n",
       "  </tbody>\n",
       "</table>\n",
       "</div>"
      ],
      "text/plain": [
       "Empty DataFrame\n",
       "Columns: [departure_terminal, arrival_terminal, scheduled_departure, actual_departure, Actual_Arrival, TransitTime]\n",
       "Index: []"
      ]
     },
     "execution_count": 273,
     "metadata": {},
     "output_type": "execute_result"
    }
   ],
   "source": [
    "dataset.loc[dataset['departure_terminal'].isnull()]"
   ]
  },
  {
   "cell_type": "markdown",
   "metadata": {},
   "source": [
    "## Now I want to make this into a method.\n",
    "\n",
    "The method will take in a DataFrame and return the number of departure_terminals or arrival_terminals that are unusable."
   ]
  },
  {
   "cell_type": "markdown",
   "metadata": {},
   "source": [
    "<a href = \"https://stackoverflow.com/questions/952914/how-to-make-a-flat-list-out-of-list-of-lists\">How to make a flat list out of list of lists?</a>"
   ]
  },
  {
   "cell_type": "code",
   "execution_count": 274,
   "metadata": {},
   "outputs": [],
   "source": [
    "def unusable_terminals(dataset):\n",
    "    departure_terminals = dataset.departure_terminal.unique()\n",
    "    arrival_terminals = dataset.arrival_terminal.unique()\n",
    "    \n",
    "    differences = list(set(departure_terminals).symmetric_difference(arrival_terminals))\n",
    "    differences_no_nan = [x for x in differences if str(x) != 'nan']\n",
    "        \n",
    "    unusable_terminals = [dataset.loc[dataset['arrival_terminal'].isnull()].index.values.tolist(),\n",
    "                         dataset.loc[dataset['scheduled_departure'].isnull()].index.values.tolist(),\n",
    "                         dataset[dataset['arrival_terminal'].isin(differences_no_nan)].index.values.tolist(),\n",
    "                         dataset[dataset['arrival_terminal'].isin(differences)].index.values.tolist()]\n",
    "    \n",
    "    unusable_terminals = set([item for sublist in unusable_terminals for item in sublist])\n",
    "    \n",
    "    return \"\"\"This dataset has %d rows.\\n\n",
    "            \\t Null Departure Terminals: %d\\n\n",
    "            \\t Null Scheduled Departures: %d\\n\n",
    "            \\t Null Actual Departures: %d\\n\n",
    "            \\t Null Actual Arrivals: %d\\n\n",
    "            \\t Null or Negative Transit Times: %d\\n\n",
    "            \\t Unusable Arrival Terminals (No Null): %d\\n\n",
    "            \\t Unusable Arrival Terminals (With Null): %d\\n\n",
    "            %d/%d (%.3f%%) rows are unusable\"\"\" % (dataset.shape[0], \n",
    "                                                        dataset.loc[dataset['departure_terminal'].isnull()].shape[0],\n",
    "                                                        dataset.loc[dataset['scheduled_departure'].isnull()].shape[0],\n",
    "                                                        dataset.loc[dataset['actual_departure'].isnull()].shape[0],\n",
    "                                                        dataset.loc[dataset['Actual_Arrival'].isnull()].shape[0],\n",
    "                                                        dataset[dataset['TransitTime'] < 0].shape[0] + \n",
    "                                                            dataset.loc[dataset['TransitTime'].isnull()].shape[0],\n",
    "                                                        dataset[dataset['arrival_terminal'].isin(differences_no_nan)].shape[0],\n",
    "                                                        dataset[dataset['arrival_terminal'].isin(differences)].shape[0],\n",
    "                                                        len(unusable_terminals),\n",
    "                                                        dataset.shape[0],\n",
    "                                                        ((len(unusable_terminals) / dataset.shape[0]) * 100))\n",
    "    "
   ]
  },
  {
   "cell_type": "markdown",
   "metadata": {},
   "source": [
    "### Here are the results for `P000413-090518_2001-2006.csv`"
   ]
  },
  {
   "cell_type": "code",
   "execution_count": 275,
   "metadata": {},
   "outputs": [
    {
     "name": "stdout",
     "output_type": "stream",
     "text": [
      "This dataset has 903627 rows.\n",
      "\n",
      "            \t Null Departure Terminals: 0\n",
      "\n",
      "            \t Null Scheduled Departures: 0\n",
      "\n",
      "            \t Null Actual Departures: 42676\n",
      "\n",
      "            \t Null Actual Arrivals: 44850\n",
      "\n",
      "            \t Null or Negative Transit Times: 47830\n",
      "\n",
      "            \t Unusable Arrival Terminals (No Null): 242\n",
      "\n",
      "            \t Unusable Arrival Terminals (With Null): 45092\n",
      "\n",
      "            45092/903627 (4.990%) rows are unusable\n"
     ]
    }
   ],
   "source": [
    "laptop_file_path = 'C:/Users/Keith/Google Drive/H Drive Full Backup/Fall 2018/CS 495 - Senior Seminar/Ferry Data/P000413-090518_2001-2006.csv'\n",
    "dataset = pd.read_csv(laptop_file_path)\n",
    "print(unusable_terminals(dataset))"
   ]
  },
  {
   "cell_type": "markdown",
   "metadata": {},
   "source": [
    "### Here are the results for `P000413-090518_2007-2012.csv`"
   ]
  },
  {
   "cell_type": "code",
   "execution_count": 276,
   "metadata": {},
   "outputs": [
    {
     "name": "stdout",
     "output_type": "stream",
     "text": [
      "This dataset has 985657 rows.\n",
      "\n",
      "            \t Null Departure Terminals: 0\n",
      "\n",
      "            \t Null Scheduled Departures: 0\n",
      "\n",
      "            \t Null Actual Departures: 46411\n",
      "\n",
      "            \t Null Actual Arrivals: 50224\n",
      "\n",
      "            \t Null or Negative Transit Times: 53376\n",
      "\n",
      "            \t Unusable Arrival Terminals (No Null): 123\n",
      "\n",
      "            \t Unusable Arrival Terminals (With Null): 50347\n",
      "\n",
      "            50347/985657 (5.108%) rows are unusable\n"
     ]
    }
   ],
   "source": [
    "laptop_file_path = 'C:/Users/Keith/Google Drive/H Drive Full Backup/Fall 2018/CS 495 - Senior Seminar/Ferry Data/P000413-090518_2007-2012.csv'\n",
    "dataset = pd.read_csv(laptop_file_path)\n",
    "print(unusable_terminals(dataset))"
   ]
  },
  {
   "cell_type": "markdown",
   "metadata": {},
   "source": [
    "### Here are the results for `P000413-090518_2013-2018-09-10.csv`"
   ]
  },
  {
   "cell_type": "code",
   "execution_count": 277,
   "metadata": {},
   "outputs": [
    {
     "name": "stdout",
     "output_type": "stream",
     "text": [
      "This dataset has 932417 rows.\n",
      "\n",
      "            \t Null Departure Terminals: 0\n",
      "\n",
      "            \t Null Scheduled Departures: 0\n",
      "\n",
      "            \t Null Actual Departures: 21607\n",
      "\n",
      "            \t Null Actual Arrivals: 22618\n",
      "\n",
      "            \t Null or Negative Transit Times: 24097\n",
      "\n",
      "            \t Unusable Arrival Terminals (No Null): 140\n",
      "\n",
      "            \t Unusable Arrival Terminals (With Null): 22756\n",
      "\n",
      "            22756/932417 (2.441%) rows are unusable\n"
     ]
    }
   ],
   "source": [
    "laptop_file_path = 'C:/Users/Keith/Google Drive/H Drive Full Backup/Fall 2018/CS 495 - Senior Seminar/Ferry Data/P000413-090518_2013-2018-09-10.csv'\n",
    "dataset = pd.read_csv(laptop_file_path)\n",
    "print(unusable_terminals(dataset))"
   ]
  }
 ],
 "metadata": {
  "kernelspec": {
   "display_name": "Python 3",
   "language": "python",
   "name": "python3"
  },
  "language_info": {
   "codemirror_mode": {
    "name": "ipython",
    "version": 3
   },
   "file_extension": ".py",
   "mimetype": "text/x-python",
   "name": "python",
   "nbconvert_exporter": "python",
   "pygments_lexer": "ipython3",
   "version": "3.6.2"
  }
 },
 "nbformat": 4,
 "nbformat_minor": 2
}
