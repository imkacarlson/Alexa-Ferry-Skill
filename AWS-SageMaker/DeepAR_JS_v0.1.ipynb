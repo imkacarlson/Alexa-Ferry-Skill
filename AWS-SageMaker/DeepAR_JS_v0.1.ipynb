{
 "cells": [
  {
   "cell_type": "markdown",
   "metadata": {},
   "source": [
    "## DeepAR version 0.1"
   ]
  },
  {
   "cell_type": "markdown",
   "metadata": {},
   "source": [
    "This is based off of <a href = \"https://medium.com/@julsimon/predicting-world-temperature-with-time-series-and-deepar-on-amazon-sagemaker-e371cf94ddb5\">this tutorial</a> that I found online. Thanks <a href = \"https://twitter.com/julsimon\"> Julien Simon</a>(that is what the JS stands for in the name)! Here is a link to <a href = \"https://github.com/juliensimon/dlnotebooks/blob/master/sagemaker/04-DeepAR-temperatures.ipynb\">his original notebook</a> on his GitHub page."
   ]
  },
  {
   "cell_type": "code",
   "execution_count": 41,
   "metadata": {},
   "outputs": [],
   "source": [
    "# Just a dictionary that has the month name as a key and month number as value\n",
    "months_to_number = {v: k for k,v in enumerate(calendar.month_name)}"
   ]
  },
  {
   "cell_type": "code",
   "execution_count": 61,
   "metadata": {},
   "outputs": [],
   "source": [
    "# Our model will predict temperature for the next 'prediction_length' 5 minute intervals\n",
    "prediction_length = 30\n",
    "freq = '5min'\n",
    "bucket = '#####'"
   ]
  },
  {
   "cell_type": "code",
   "execution_count": 2,
   "metadata": {},
   "outputs": [],
   "source": [
    "import csv, boto3, json, sagemaker\n",
    "import numpy as np\n",
    "import pandas as pd"
   ]
  },
  {
   "cell_type": "code",
   "execution_count": 3,
   "metadata": {},
   "outputs": [],
   "source": [
    "data_key = 'Bainbridge_Departures_Master.csv'\n",
    "data_location = 's3://{}/{}'.format(bucket, data_key)\n",
    "df = pd.read_csv(data_location, parse_dates = [\"timestamps\"], index_col = \"timestamps\")"
   ]
  },
  {
   "cell_type": "code",
   "execution_count": 7,
   "metadata": {},
   "outputs": [],
   "source": [
    "df_first_year = 2013\n",
    "df_last_year = 2017"
   ]
  },
  {
   "cell_type": "markdown",
   "metadata": {},
   "source": [
    "`dataset` is a dictionary that stores month name and year as a key (ex `April 2014`) and the values is a list of seconds late for that entire month"
   ]
  },
  {
   "cell_type": "code",
   "execution_count": 11,
   "metadata": {},
   "outputs": [],
   "source": [
    "import calendar\n",
    "\n",
    "dataset = {}\n",
    "\n",
    "for year in range (df_first_year, df_last_year + 1):\n",
    "    for month in range(1,13):\n",
    "        index = \"{}-{}\".format(year, month)\n",
    "        key = \"{} {}\".format(calendar.month_name[month], year)\n",
    "        dataset[key] = list(df[index][\"seconds_late\"])"
   ]
  },
  {
   "cell_type": "code",
   "execution_count": 16,
   "metadata": {},
   "outputs": [],
   "source": [
    "# According to https://docs.aws.amazon.com/sagemaker/latest/dg/deepar.html\n",
    "# - remove the last 'prediction_length' points from each time series\n",
    "# - use the full data set for testing\n",
    "# - no need to shuffle the training set: dictionaries are not ordered :)\n",
    "\n",
    "trainingSet = dataset.copy()\n",
    "trainingSet[year] = { year: dataset[year][:-prediction_length] for year in dataset.keys() }\n",
    "\n",
    "testSet = dataset.copy()"
   ]
  },
  {
   "cell_type": "code",
   "execution_count": 40,
   "metadata": {},
   "outputs": [],
   "source": [
    "train_key      = 'bainbridge_deepar_training.json'\n",
    "test_key       = 'bainbridge_deepar_test.json'\n",
    "\n",
    "def writeDataset(filename, data):\n",
    "    file=open(filename,'w')\n",
    "    for key in dataset.keys():\n",
    "        # One JSON sample per line\n",
    "        month, year = key.split(\" \")\n",
    "        line = \"\\\"start\\\":\\\"{}-{}-01 00:00:00\\\",\\\"target\\\":{}\".format(year, months_to_number[month],dataset[key])\n",
    "        file.write('{'+line+'}\\n')"
   ]
  },
  {
   "cell_type": "code",
   "execution_count": 21,
   "metadata": {},
   "outputs": [],
   "source": [
    "writeDataset(train_key, trainingSet)        \n",
    "writeDataset(test_key, testSet)"
   ]
  },
  {
   "cell_type": "markdown",
   "metadata": {},
   "source": [
    "### Uploading training set and test set to S3"
   ]
  },
  {
   "cell_type": "code",
   "execution_count": 23,
   "metadata": {},
   "outputs": [],
   "source": [
    "prefix         = 'sagemaker/deepar-bainbridge-departures'\n",
    "\n",
    "train_prefix   = '{}/{}'.format(prefix, 'train')\n",
    "test_prefix    = '{}/{}'.format(prefix, 'test')\n",
    "output_prefix  = '{}/{}'.format(prefix, 'output')"
   ]
  },
  {
   "cell_type": "code",
   "execution_count": 24,
   "metadata": {},
   "outputs": [
    {
     "name": "stdout",
     "output_type": "stream",
     "text": [
      "s3://example-bucket-99/sagemaker/deepar-bainbridge-departures/train/bainbridge_deepar_training.json\n",
      "s3://example-bucket-99/sagemaker/deepar-bainbridge-departures/test/bainbridge_deepar_test.json\n",
      "s3://example-bucket-99/sagemaker/deepar-bainbridge-departures/output\n"
     ]
    }
   ],
   "source": [
    "sagemaker_session = sagemaker.Session()\n",
    "role              = sagemaker.get_execution_role()\n",
    "region            = boto3.Session().region_name\n",
    "\n",
    "train_path  = sagemaker_session.upload_data(train_key, bucket=bucket, key_prefix=train_prefix)\n",
    "test_path   = sagemaker_session.upload_data(test_key,  bucket=bucket, key_prefix=test_prefix)\n",
    "output_path = 's3://{}/{}'.format(bucket, output_prefix)\n",
    "\n",
    "print(train_path)\n",
    "print(test_path)\n",
    "print(output_path)"
   ]
  },
  {
   "cell_type": "markdown",
   "metadata": {},
   "source": [
    "### Configure training job"
   ]
  },
  {
   "cell_type": "code",
   "execution_count": 25,
   "metadata": {},
   "outputs": [],
   "source": [
    "containers = {\n",
    "    'us-east-1': '522234722520.dkr.ecr.us-east-1.amazonaws.com/forecasting-deepar:latest',\n",
    "    'us-east-2': '566113047672.dkr.ecr.us-east-2.amazonaws.com/forecasting-deepar:latest',\n",
    "    'us-west-2': '156387875391.dkr.ecr.us-west-2.amazonaws.com/forecasting-deepar:latest',\n",
    "    'eu-west-1': '224300973850.dkr.ecr.eu-west-1.amazonaws.com/forecasting-deepar:latest'\n",
    "}\n",
    "\n",
    "image_name = containers[region]"
   ]
  },
  {
   "cell_type": "code",
   "execution_count": 29,
   "metadata": {},
   "outputs": [],
   "source": [
    "estimator = sagemaker.estimator.Estimator(\n",
    "    sagemaker_session=sagemaker_session,\n",
    "    image_name=image_name,\n",
    "    role=role,\n",
    "    train_instance_count=1,\n",
    "    train_instance_type='ml.c4.8xlarge',\n",
    "    base_job_name='bainbridge-departures-predictor',\n",
    "    output_path=output_path\n",
    ")"
   ]
  },
  {
   "cell_type": "code",
   "execution_count": 30,
   "metadata": {},
   "outputs": [],
   "source": [
    "# https://docs.aws.amazon.com/sagemaker/latest/dg/deepar_hyperparameters.html\n",
    "\n",
    "hyperparameters = {\n",
    "    \"time_freq\": freq,\n",
    "    \"context_length\": prediction_length,\n",
    "    \"prediction_length\": prediction_length, # number of data points to predict\n",
    "    \"num_cells\": \"40\",\n",
    "    \"num_layers\": \"2\",\n",
    "    \"likelihood\": \"gaussian\",\n",
    "    \"epochs\": \"250\",\n",
    "    \"mini_batch_size\": \"32\",\n",
    "    \"learning_rate\": \"0.00001\",\n",
    "    \"dropout_rate\": \"0.05\",\n",
    "    \"early_stopping_patience\": \"10\" # stop if loss hasn't improved in 10 epochs\n",
    "}\n",
    "\n",
    "estimator.set_hyperparameters(**hyperparameters)"
   ]
  },
  {
   "cell_type": "markdown",
   "metadata": {},
   "source": [
    "### Run training job"
   ]
  },
  {
   "cell_type": "code",
   "execution_count": 31,
   "metadata": {},
   "outputs": [
    {
     "name": "stdout",
     "output_type": "stream",
     "text": [
      "s3://example-bucket-99/sagemaker/deepar-bainbridge-departures/train/bainbridge_deepar_training.json\n",
      "s3://example-bucket-99/sagemaker/deepar-bainbridge-departures/test/bainbridge_deepar_test.json\n",
      "s3://example-bucket-99/sagemaker/deepar-bainbridge-departures/output\n"
     ]
    }
   ],
   "source": [
    "print(train_path)\n",
    "print(test_path)\n",
    "print(output_path)\n",
    "\n",
    "data_channels = {\"train\": train_path, \"test\": test_path}"
   ]
  },
  {
   "cell_type": "code",
   "execution_count": 33,
   "metadata": {},
   "outputs": [
    {
     "name": "stderr",
     "output_type": "stream",
     "text": [
      "INFO:sagemaker:Creating training-job with name: bainbridge-departures-predictor-2019-04-10-17-58-57-334\n"
     ]
    },
    {
     "name": "stdout",
     "output_type": "stream",
     "text": [
      "2019-04-10 17:58:57 Starting - Starting the training job...\n",
      "2019-04-10 17:58:58 Starting - Launching requested ML instances.........\n",
      "2019-04-10 18:00:29 Starting - Preparing the instances for training......\n",
      "2019-04-10 18:01:57 Downloading - Downloading input data\n",
      "2019-04-10 18:01:57 Training - Downloading the training image..\n",
      "\u001b[31mArguments: train\u001b[0m\n",
      "\u001b[31m[04/10/2019 18:02:03 INFO 140054916126528] Reading default configuration from /opt/amazon/lib/python2.7/site-packages/algorithm/default-input.json: {u'num_dynamic_feat': u'auto', u'dropout_rate': u'0.10', u'mini_batch_size': u'128', u'test_quantiles': u'[0.1, 0.2, 0.3, 0.4, 0.5, 0.6, 0.7, 0.8, 0.9]', u'_tuning_objective_metric': u'', u'_num_gpus': u'auto', u'num_eval_samples': u'100', u'learning_rate': u'0.001', u'num_cells': u'40', u'num_layers': u'2', u'embedding_dimension': u'10', u'_kvstore': u'auto', u'_num_kv_servers': u'auto', u'cardinality': u'auto', u'likelihood': u'student-t', u'early_stopping_patience': u''}\u001b[0m\n",
      "\u001b[31m[04/10/2019 18:02:03 INFO 140054916126528] Reading provided configuration from /opt/ml/input/config/hyperparameters.json: {u'dropout_rate': u'0.05', u'learning_rate': u'0.00001', u'num_cells': u'40', u'prediction_length': u'30', u'epochs': u'250', u'time_freq': u'5min', u'context_length': u'30', u'num_layers': u'2', u'mini_batch_size': u'32', u'likelihood': u'gaussian', u'early_stopping_patience': u'10'}\u001b[0m\n",
      "\u001b[31m[04/10/2019 18:02:03 INFO 140054916126528] Final configuration: {u'dropout_rate': u'0.05', u'test_quantiles': u'[0.1, 0.2, 0.3, 0.4, 0.5, 0.6, 0.7, 0.8, 0.9]', u'_tuning_objective_metric': u'', u'num_eval_samples': u'100', u'learning_rate': u'0.00001', u'num_layers': u'2', u'epochs': u'250', u'embedding_dimension': u'10', u'num_cells': u'40', u'_num_kv_servers': u'auto', u'mini_batch_size': u'32', u'likelihood': u'gaussian', u'num_dynamic_feat': u'auto', u'cardinality': u'auto', u'_num_gpus': u'auto', u'prediction_length': u'30', u'time_freq': u'5min', u'context_length': u'30', u'_kvstore': u'auto', u'early_stopping_patience': u'10'}\u001b[0m\n",
      "\u001b[31mProcess 1 is a worker.\u001b[0m\n",
      "\u001b[31m[04/10/2019 18:02:03 INFO 140054916126528] Detected entry point for worker worker\u001b[0m\n",
      "\u001b[31m[04/10/2019 18:02:03 INFO 140054916126528] Using early stopping with patience 10\u001b[0m\n",
      "\u001b[31m[04/10/2019 18:02:03 INFO 140054916126528] [cardinality=auto] `cat` field was NOT found in the file `/opt/ml/input/data/train/bainbridge_deepar_training.json` and will NOT be used for training.\u001b[0m\n",
      "\u001b[31m[04/10/2019 18:02:03 INFO 140054916126528] [num_dynamic_feat=auto] `dynamic_feat` field was NOT found in the file `/opt/ml/input/data/train/bainbridge_deepar_training.json` and will NOT be used for training.\u001b[0m\n",
      "\u001b[31m[04/10/2019 18:02:03 INFO 140054916126528] Training set statistics:\u001b[0m\n",
      "\u001b[31m[04/10/2019 18:02:03 INFO 140054916126528] Real time series\u001b[0m\n",
      "\u001b[31m[04/10/2019 18:02:03 INFO 140054916126528] number of time series: 60\u001b[0m\n",
      "\u001b[31m[04/10/2019 18:02:03 INFO 140054916126528] number of observations: 525844\u001b[0m\n",
      "\u001b[31m[04/10/2019 18:02:03 INFO 140054916126528] mean target length: 8764\u001b[0m\n",
      "\u001b[31m[04/10/2019 18:02:03 INFO 140054916126528] min/mean/max target: -291.0/187.944226924/3587.0\u001b[0m\n",
      "\u001b[31m[04/10/2019 18:02:03 INFO 140054916126528] mean abs(target): 189.247276046\u001b[0m\n",
      "\u001b[31m[04/10/2019 18:02:03 INFO 140054916126528] contains missing values: no\u001b[0m\n",
      "\u001b[31m[04/10/2019 18:02:03 INFO 140054916126528] Small number of time series. Doing 5 number of passes over dataset per epoch.\u001b[0m\n",
      "\u001b[31m[04/10/2019 18:02:03 INFO 140054916126528] Test set statistics:\u001b[0m\n",
      "\u001b[31m[04/10/2019 18:02:03 INFO 140054916126528] Real time series\u001b[0m\n",
      "\u001b[31m[04/10/2019 18:02:03 INFO 140054916126528] number of time series: 60\u001b[0m\n",
      "\u001b[31m[04/10/2019 18:02:03 INFO 140054916126528] number of observations: 525844\u001b[0m\n",
      "\u001b[31m[04/10/2019 18:02:03 INFO 140054916126528] mean target length: 8764\u001b[0m\n",
      "\u001b[31m[04/10/2019 18:02:03 INFO 140054916126528] min/mean/max target: -291.0/187.944226924/3587.0\u001b[0m\n",
      "\u001b[31m[04/10/2019 18:02:03 INFO 140054916126528] mean abs(target): 189.247276046\u001b[0m\n",
      "\u001b[31m[04/10/2019 18:02:03 INFO 140054916126528] contains missing values: no\u001b[0m\n",
      "\u001b[31m[04/10/2019 18:02:03 INFO 140054916126528] nvidia-smi took: 0.0252029895782 secs to identify 0 gpus\u001b[0m\n",
      "\u001b[31m[04/10/2019 18:02:03 INFO 140054916126528] Number of GPUs being used: 0\u001b[0m\n",
      "\u001b[31m[04/10/2019 18:02:03 INFO 140054916126528] Create Store: local\u001b[0m\n",
      "\u001b[31m#metrics {\"Metrics\": {\"get_graph.time\": {\"count\": 1, \"max\": 463.270902633667, \"sum\": 463.270902633667, \"min\": 463.270902633667}}, \"EndTime\": 1554919323.986259, \"Dimensions\": {\"Host\": \"algo-1\", \"Operation\": \"training\", \"Algorithm\": \"AWS/DeepAR\"}, \"StartTime\": 1554919323.52219}\n",
      "\u001b[0m\n",
      "\u001b[31m[04/10/2019 18:02:03 INFO 140054916126528] Number of GPUs being used: 0\u001b[0m\n",
      "\u001b[31m#metrics {\"Metrics\": {\"initialize.time\": {\"count\": 1, \"max\": 724.4629859924316, \"sum\": 724.4629859924316, \"min\": 724.4629859924316}}, \"EndTime\": 1554919324.246761, \"Dimensions\": {\"Host\": \"algo-1\", \"Operation\": \"training\", \"Algorithm\": \"AWS/DeepAR\"}, \"StartTime\": 1554919323.98634}\n",
      "\u001b[0m\n",
      "\u001b[31m[04/10/2019 18:02:05 INFO 140054916126528] Epoch[0] Batch[0] avg_epoch_loss=14.278848\u001b[0m\n",
      "\u001b[31m[04/10/2019 18:02:06 INFO 140054916126528] Epoch[0] Batch[5] avg_epoch_loss=60.112128\u001b[0m\n",
      "\u001b[31m[04/10/2019 18:02:06 INFO 140054916126528] Epoch[0] Batch [5]#011Speed: 491.98 samples/sec#011loss=60.112128\u001b[0m\n",
      "\u001b[31m[04/10/2019 18:02:06 INFO 140054916126528] processed a total of 298 examples\u001b[0m\n",
      "\u001b[31m#metrics {\"Metrics\": {\"epochs\": {\"count\": 1, \"max\": 250, \"sum\": 250.0, \"min\": 250}, \"update.time\": {\"count\": 1, \"max\": 2250.1769065856934, \"sum\": 2250.1769065856934, \"min\": 2250.1769065856934}}, \"EndTime\": 1554919326.497075, \"Dimensions\": {\"Host\": \"algo-1\", \"Operation\": \"training\", \"Algorithm\": \"AWS/DeepAR\"}, \"StartTime\": 1554919324.246815}\n",
      "\u001b[0m\n",
      "\u001b[31m[04/10/2019 18:02:06 INFO 140054916126528] #throughput_metric: host=algo-1, train throughput=132.42690387 records/second\u001b[0m\n",
      "\u001b[31m[04/10/2019 18:02:06 INFO 140054916126528] #progress_metric: host=algo-1, completed 0 % of epochs\u001b[0m\n",
      "\u001b[31m[04/10/2019 18:02:06 INFO 140054916126528] best epoch loss so far\u001b[0m\n",
      "\u001b[31m[04/10/2019 18:02:06 INFO 140054916126528] Saved checkpoint to \"/opt/ml/model/state_bb4d5f74-1b64-4897-a25d-38db2f84741d-0000.params\"\u001b[0m\n",
      "\u001b[31m#metrics {\"Metrics\": {\"state.serialize.time\": {\"count\": 1, \"max\": 28.030872344970703, \"sum\": 28.030872344970703, \"min\": 28.030872344970703}}, \"EndTime\": 1554919326.52556, \"Dimensions\": {\"Host\": \"algo-1\", \"Operation\": \"training\", \"Algorithm\": \"AWS/DeepAR\"}, \"StartTime\": 1554919326.49716}\n",
      "\u001b[0m\n",
      "\u001b[31m[04/10/2019 18:02:07 INFO 140054916126528] Epoch[1] Batch[0] avg_epoch_loss=11.085378\u001b[0m\n",
      "\u001b[31m[04/10/2019 18:02:07 INFO 140054916126528] Epoch[1] Batch[5] avg_epoch_loss=24.731295\u001b[0m\n",
      "\u001b[31m[04/10/2019 18:02:07 INFO 140054916126528] Epoch[1] Batch [5]#011Speed: 490.14 samples/sec#011loss=24.731295\u001b[0m\n",
      "\u001b[31m[04/10/2019 18:02:07 INFO 140054916126528] processed a total of 298 examples\u001b[0m\n",
      "\u001b[31m#metrics {\"Metrics\": {\"update.time\": {\"count\": 1, \"max\": 1138.6611461639404, \"sum\": 1138.6611461639404, \"min\": 1138.6611461639404}}, \"EndTime\": 1554919327.664326, \"Dimensions\": {\"Host\": \"algo-1\", \"Operation\": \"training\", \"Algorithm\": \"AWS/DeepAR\"}, \"StartTime\": 1554919326.525612}\n",
      "\u001b[0m\n",
      "\u001b[31m[04/10/2019 18:02:07 INFO 140054916126528] #throughput_metric: host=algo-1, train throughput=261.686542506 records/second\u001b[0m\n",
      "\u001b[31m[04/10/2019 18:02:07 INFO 140054916126528] #progress_metric: host=algo-1, completed 0 % of epochs\u001b[0m\n",
      "\u001b[31m[04/10/2019 18:02:07 INFO 140054916126528] loss did not improve\u001b[0m\n",
      "\u001b[31m[04/10/2019 18:02:08 INFO 140054916126528] Epoch[2] Batch[0] avg_epoch_loss=17.678905\u001b[0m\n",
      "\u001b[31m[04/10/2019 18:02:08 INFO 140054916126528] Epoch[2] Batch[5] avg_epoch_loss=57.640918\u001b[0m\n",
      "\u001b[31m[04/10/2019 18:02:08 INFO 140054916126528] Epoch[2] Batch [5]#011Speed: 467.67 samples/sec#011loss=57.640918\u001b[0m\n",
      "\u001b[31m[04/10/2019 18:02:08 INFO 140054916126528] processed a total of 297 examples\u001b[0m\n",
      "\u001b[31m#metrics {\"Metrics\": {\"update.time\": {\"count\": 1, \"max\": 1161.402940750122, \"sum\": 1161.402940750122, \"min\": 1161.402940750122}}, \"EndTime\": 1554919328.826103, \"Dimensions\": {\"Host\": \"algo-1\", \"Operation\": \"training\", \"Algorithm\": \"AWS/DeepAR\"}, \"StartTime\": 1554919327.664399}\n",
      "\u001b[0m\n",
      "\u001b[31m[04/10/2019 18:02:08 INFO 140054916126528] #throughput_metric: host=algo-1, train throughput=255.701631824 records/second\u001b[0m\n",
      "\u001b[31m[04/10/2019 18:02:08 INFO 140054916126528] #progress_metric: host=algo-1, completed 1 % of epochs\u001b[0m\n",
      "\u001b[31m[04/10/2019 18:02:08 INFO 140054916126528] loss did not improve\u001b[0m\n",
      "\u001b[31m[04/10/2019 18:02:09 INFO 140054916126528] Epoch[3] Batch[0] avg_epoch_loss=36.387436\u001b[0m\n",
      "\u001b[31m[04/10/2019 18:02:09 INFO 140054916126528] Epoch[3] Batch[5] avg_epoch_loss=19.624473\u001b[0m\n",
      "\u001b[31m[04/10/2019 18:02:09 INFO 140054916126528] Epoch[3] Batch [5]#011Speed: 480.72 samples/sec#011loss=19.624473\u001b[0m\n",
      "\u001b[31m[04/10/2019 18:02:10 INFO 140054916126528] processed a total of 264 examples\u001b[0m\n",
      "\u001b[31m#metrics {\"Metrics\": {\"update.time\": {\"count\": 1, \"max\": 1188.7311935424805, \"sum\": 1188.7311935424805, \"min\": 1188.7311935424805}}, \"EndTime\": 1554919330.015204, \"Dimensions\": {\"Host\": \"algo-1\", \"Operation\": \"training\", \"Algorithm\": \"AWS/DeepAR\"}, \"StartTime\": 1554919328.826175}\n",
      "\u001b[0m\n",
      "\u001b[31m[04/10/2019 18:02:10 INFO 140054916126528] #throughput_metric: host=algo-1, train throughput=222.065400918 records/second\u001b[0m\n",
      "\u001b[31m[04/10/2019 18:02:10 INFO 140054916126528] #progress_metric: host=algo-1, completed 1 % of epochs\u001b[0m\n",
      "\u001b[31m[04/10/2019 18:02:10 INFO 140054916126528] loss did not improve\u001b[0m\n",
      "\u001b[31m[04/10/2019 18:02:10 INFO 140054916126528] Epoch[4] Batch[0] avg_epoch_loss=13.133924\u001b[0m\n",
      "\u001b[31m[04/10/2019 18:02:10 INFO 140054916126528] Epoch[4] Batch[5] avg_epoch_loss=30.195588\u001b[0m\n",
      "\u001b[31m[04/10/2019 18:02:10 INFO 140054916126528] Epoch[4] Batch [5]#011Speed: 508.50 samples/sec#011loss=30.195588\u001b[0m\n",
      "\u001b[31m[04/10/2019 18:02:11 INFO 140054916126528] processed a total of 306 examples\u001b[0m\n",
      "\u001b[31m#metrics {\"Metrics\": {\"update.time\": {\"count\": 1, \"max\": 1138.6349201202393, \"sum\": 1138.6349201202393, \"min\": 1138.6349201202393}}, \"EndTime\": 1554919331.154209, \"Dimensions\": {\"Host\": \"algo-1\", \"Operation\": \"training\", \"Algorithm\": \"AWS/DeepAR\"}, \"StartTime\": 1554919330.015276}\n",
      "\u001b[0m\n",
      "\u001b[31m[04/10/2019 18:02:11 INFO 140054916126528] #throughput_metric: host=algo-1, train throughput=268.721136426 records/second\u001b[0m\n",
      "\u001b[31m[04/10/2019 18:02:11 INFO 140054916126528] #progress_metric: host=algo-1, completed 2 % of epochs\u001b[0m\n",
      "\u001b[31m[04/10/2019 18:02:11 INFO 140054916126528] best epoch loss so far\u001b[0m\n",
      "\u001b[31m[04/10/2019 18:02:11 INFO 140054916126528] Saved checkpoint to \"/opt/ml/model/state_2b329851-b47f-45a5-a167-51b10925d3ab-0000.params\"\u001b[0m\n",
      "\u001b[31m#metrics {\"Metrics\": {\"state.serialize.time\": {\"count\": 1, \"max\": 29.035091400146484, \"sum\": 29.035091400146484, \"min\": 29.035091400146484}}, \"EndTime\": 1554919331.183626, \"Dimensions\": {\"Host\": \"algo-1\", \"Operation\": \"training\", \"Algorithm\": \"AWS/DeepAR\"}, \"StartTime\": 1554919331.154265}\n",
      "\u001b[0m\n",
      "\u001b[31m[04/10/2019 18:02:11 INFO 140054916126528] Epoch[5] Batch[0] avg_epoch_loss=84.531097\u001b[0m\n",
      "\u001b[31m[04/10/2019 18:02:12 INFO 140054916126528] Epoch[5] Batch[5] avg_epoch_loss=47.224970\u001b[0m\n",
      "\u001b[31m[04/10/2019 18:02:12 INFO 140054916126528] Epoch[5] Batch [5]#011Speed: 419.68 samples/sec#011loss=47.224970\u001b[0m\n",
      "\u001b[31m[04/10/2019 18:02:12 INFO 140054916126528] processed a total of 294 examples\u001b[0m\n",
      "\u001b[31m#metrics {\"Metrics\": {\"update.time\": {\"count\": 1, \"max\": 1370.5971240997314, \"sum\": 1370.5971240997314, \"min\": 1370.5971240997314}}, \"EndTime\": 1554919332.55436, \"Dimensions\": {\"Host\": \"algo-1\", \"Operation\": \"training\", \"Algorithm\": \"AWS/DeepAR\"}, \"StartTime\": 1554919331.183694}\n",
      "\u001b[0m\n",
      "\u001b[31m[04/10/2019 18:02:12 INFO 140054916126528] #throughput_metric: host=algo-1, train throughput=214.486130264 records/second\u001b[0m\n",
      "\u001b[31m[04/10/2019 18:02:12 INFO 140054916126528] #progress_metric: host=algo-1, completed 2 % of epochs\u001b[0m\n",
      "\u001b[31m[04/10/2019 18:02:12 INFO 140054916126528] loss did not improve\u001b[0m\n",
      "\u001b[31m[04/10/2019 18:02:13 INFO 140054916126528] Epoch[6] Batch[0] avg_epoch_loss=40.013412\u001b[0m\n",
      "\u001b[31m[04/10/2019 18:02:13 INFO 140054916126528] Epoch[6] Batch[5] avg_epoch_loss=24.200149\u001b[0m\n",
      "\u001b[31m[04/10/2019 18:02:13 INFO 140054916126528] Epoch[6] Batch [5]#011Speed: 483.70 samples/sec#011loss=24.200149\u001b[0m\n",
      "\u001b[31m[04/10/2019 18:02:13 INFO 140054916126528] processed a total of 299 examples\u001b[0m\n",
      "\u001b[31m#metrics {\"Metrics\": {\"update.time\": {\"count\": 1, \"max\": 1149.5811939239502, \"sum\": 1149.5811939239502, \"min\": 1149.5811939239502}}, \"EndTime\": 1554919333.704335, \"Dimensions\": {\"Host\": \"algo-1\", \"Operation\": \"training\", \"Algorithm\": \"AWS/DeepAR\"}, \"StartTime\": 1554919332.55444}\n",
      "\u001b[0m\n",
      "\u001b[31m[04/10/2019 18:02:13 INFO 140054916126528] #throughput_metric: host=algo-1, train throughput=260.070341311 records/second\u001b[0m\n",
      "\u001b[31m[04/10/2019 18:02:13 INFO 140054916126528] #progress_metric: host=algo-1, completed 2 % of epochs\u001b[0m\n",
      "\u001b[31m[04/10/2019 18:02:13 INFO 140054916126528] best epoch loss so far\u001b[0m\n",
      "\u001b[31m[04/10/2019 18:02:13 INFO 140054916126528] Saved checkpoint to \"/opt/ml/model/state_b3386166-c3b4-4fde-bf02-64d5b9be646a-0000.params\"\u001b[0m\n",
      "\u001b[31m#metrics {\"Metrics\": {\"state.serialize.time\": {\"count\": 1, \"max\": 26.780128479003906, \"sum\": 26.780128479003906, \"min\": 26.780128479003906}}, \"EndTime\": 1554919333.731525, \"Dimensions\": {\"Host\": \"algo-1\", \"Operation\": \"training\", \"Algorithm\": \"AWS/DeepAR\"}, \"StartTime\": 1554919333.704407}\n",
      "\u001b[0m\n",
      "\u001b[31m[04/10/2019 18:02:14 INFO 140054916126528] Epoch[7] Batch[0] avg_epoch_loss=19.423067\u001b[0m\n",
      "\u001b[31m[04/10/2019 18:02:14 INFO 140054916126528] Epoch[7] Batch[5] avg_epoch_loss=1553.249960\u001b[0m\n",
      "\u001b[31m[04/10/2019 18:02:14 INFO 140054916126528] Epoch[7] Batch [5]#011Speed: 500.57 samples/sec#011loss=1553.249960\u001b[0m\n",
      "\u001b[31m[04/10/2019 18:02:14 INFO 140054916126528] processed a total of 309 examples\u001b[0m\n",
      "\u001b[31m#metrics {\"Metrics\": {\"update.time\": {\"count\": 1, \"max\": 1090.8401012420654, \"sum\": 1090.8401012420654, \"min\": 1090.8401012420654}}, \"EndTime\": 1554919334.822471, \"Dimensions\": {\"Host\": \"algo-1\", \"Operation\": \"training\", \"Algorithm\": \"AWS/DeepAR\"}, \"StartTime\": 1554919333.731582}\n",
      "\u001b[0m\n",
      "\u001b[31m[04/10/2019 18:02:14 INFO 140054916126528] #throughput_metric: host=algo-1, train throughput=283.246370198 records/second\u001b[0m\n",
      "\u001b[31m[04/10/2019 18:02:14 INFO 140054916126528] #progress_metric: host=algo-1, completed 3 % of epochs\u001b[0m\n",
      "\u001b[31m[04/10/2019 18:02:14 INFO 140054916126528] loss did not improve\u001b[0m\n",
      "\u001b[31m[04/10/2019 18:02:15 INFO 140054916126528] Epoch[8] Batch[0] avg_epoch_loss=15.470381\u001b[0m\n",
      "\u001b[31m[04/10/2019 18:02:15 INFO 140054916126528] Epoch[8] Batch[5] avg_epoch_loss=41.832763\u001b[0m\n",
      "\u001b[31m[04/10/2019 18:02:15 INFO 140054916126528] Epoch[8] Batch [5]#011Speed: 420.98 samples/sec#011loss=41.832763\u001b[0m\n",
      "\u001b[31m[04/10/2019 18:02:16 INFO 140054916126528] Epoch[8] Batch[10] avg_epoch_loss=31.248985\u001b[0m\n",
      "\u001b[31m[04/10/2019 18:02:16 INFO 140054916126528] Epoch[8] Batch [10]#011Speed: 391.21 samples/sec#011loss=18.548451\u001b[0m\n",
      "\u001b[31m[04/10/2019 18:02:16 INFO 140054916126528] processed a total of 321 examples\u001b[0m\n",
      "\u001b[31m#metrics {\"Metrics\": {\"update.time\": {\"count\": 1, \"max\": 1288.3899211883545, \"sum\": 1288.3899211883545, \"min\": 1288.3899211883545}}, \"EndTime\": 1554919336.111135, \"Dimensions\": {\"Host\": \"algo-1\", \"Operation\": \"training\", \"Algorithm\": \"AWS/DeepAR\"}, \"StartTime\": 1554919334.822525}\n",
      "\u001b[0m\n",
      "\u001b[31m[04/10/2019 18:02:16 INFO 140054916126528] #throughput_metric: host=algo-1, train throughput=249.132870893 records/second\u001b[0m\n",
      "\u001b[31m[04/10/2019 18:02:16 INFO 140054916126528] #progress_metric: host=algo-1, completed 3 % of epochs\u001b[0m\n",
      "\u001b[31m[04/10/2019 18:02:16 INFO 140054916126528] loss did not improve\u001b[0m\n",
      "\u001b[31m[04/10/2019 18:02:16 INFO 140054916126528] Epoch[9] Batch[0] avg_epoch_loss=18.194670\u001b[0m\n",
      "\u001b[31m[04/10/2019 18:02:16 INFO 140054916126528] Epoch[9] Batch[5] avg_epoch_loss=22.288891\u001b[0m\n",
      "\u001b[31m[04/10/2019 18:02:16 INFO 140054916126528] Epoch[9] Batch [5]#011Speed: 476.39 samples/sec#011loss=22.288891\u001b[0m\n",
      "\u001b[31m[04/10/2019 18:02:17 INFO 140054916126528] processed a total of 318 examples\u001b[0m\n",
      "\u001b[31m#metrics {\"Metrics\": {\"update.time\": {\"count\": 1, \"max\": 1106.863021850586, \"sum\": 1106.863021850586, \"min\": 1106.863021850586}}, \"EndTime\": 1554919337.218284, \"Dimensions\": {\"Host\": \"algo-1\", \"Operation\": \"training\", \"Algorithm\": \"AWS/DeepAR\"}, \"StartTime\": 1554919336.111185}\n",
      "\u001b[0m\n",
      "\u001b[31m[04/10/2019 18:02:17 INFO 140054916126528] #throughput_metric: host=algo-1, train throughput=287.271938432 records/second\u001b[0m\n",
      "\u001b[31m[04/10/2019 18:02:17 INFO 140054916126528] #progress_metric: host=algo-1, completed 4 % of epochs\u001b[0m\n",
      "\u001b[31m[04/10/2019 18:02:17 INFO 140054916126528] loss did not improve\u001b[0m\n",
      "\u001b[31m[04/10/2019 18:02:17 INFO 140054916126528] Epoch[10] Batch[0] avg_epoch_loss=15.961347\u001b[0m\n"
     ]
    },
    {
     "name": "stdout",
     "output_type": "stream",
     "text": [
      "\n",
      "2019-04-10 18:02:00 Training - Training image download completed. Training in progress.\u001b[31m[04/10/2019 18:02:18 INFO 140054916126528] Epoch[10] Batch[5] avg_epoch_loss=58.571930\u001b[0m\n",
      "\u001b[31m[04/10/2019 18:02:18 INFO 140054916126528] Epoch[10] Batch [5]#011Speed: 499.11 samples/sec#011loss=58.571930\u001b[0m\n",
      "\u001b[31m[04/10/2019 18:02:18 INFO 140054916126528] Epoch[10] Batch[10] avg_epoch_loss=81.109534\u001b[0m\n",
      "\u001b[31m[04/10/2019 18:02:18 INFO 140054916126528] Epoch[10] Batch [10]#011Speed: 401.89 samples/sec#011loss=108.154660\u001b[0m\n",
      "\u001b[31m[04/10/2019 18:02:18 INFO 140054916126528] processed a total of 330 examples\u001b[0m\n",
      "\u001b[31m#metrics {\"Metrics\": {\"update.time\": {\"count\": 1, \"max\": 1230.7898998260498, \"sum\": 1230.7898998260498, \"min\": 1230.7898998260498}}, \"EndTime\": 1554919338.449434, \"Dimensions\": {\"Host\": \"algo-1\", \"Operation\": \"training\", \"Algorithm\": \"AWS/DeepAR\"}, \"StartTime\": 1554919337.218352}\n",
      "\u001b[0m\n",
      "\u001b[31m[04/10/2019 18:02:18 INFO 140054916126528] #throughput_metric: host=algo-1, train throughput=268.097594537 records/second\u001b[0m\n",
      "\u001b[31m[04/10/2019 18:02:18 INFO 140054916126528] #progress_metric: host=algo-1, completed 4 % of epochs\u001b[0m\n",
      "\u001b[31m[04/10/2019 18:02:18 INFO 140054916126528] loss did not improve\u001b[0m\n",
      "\u001b[31m[04/10/2019 18:02:18 INFO 140054916126528] Epoch[11] Batch[0] avg_epoch_loss=13.007334\u001b[0m\n",
      "\u001b[31m[04/10/2019 18:02:19 INFO 140054916126528] Epoch[11] Batch[5] avg_epoch_loss=19.300791\u001b[0m\n",
      "\u001b[31m[04/10/2019 18:02:19 INFO 140054916126528] Epoch[11] Batch [5]#011Speed: 433.00 samples/sec#011loss=19.300791\u001b[0m\n",
      "\u001b[31m[04/10/2019 18:02:19 INFO 140054916126528] processed a total of 276 examples\u001b[0m\n",
      "\u001b[31m#metrics {\"Metrics\": {\"update.time\": {\"count\": 1, \"max\": 1061.682939529419, \"sum\": 1061.682939529419, \"min\": 1061.682939529419}}, \"EndTime\": 1554919339.511456, \"Dimensions\": {\"Host\": \"algo-1\", \"Operation\": \"training\", \"Algorithm\": \"AWS/DeepAR\"}, \"StartTime\": 1554919338.449504}\n",
      "\u001b[0m\n",
      "\u001b[31m[04/10/2019 18:02:19 INFO 140054916126528] #throughput_metric: host=algo-1, train throughput=259.944303739 records/second\u001b[0m\n",
      "\u001b[31m[04/10/2019 18:02:19 INFO 140054916126528] #progress_metric: host=algo-1, completed 4 % of epochs\u001b[0m\n",
      "\u001b[31m[04/10/2019 18:02:19 INFO 140054916126528] best epoch loss so far\u001b[0m\n",
      "\u001b[31m[04/10/2019 18:02:19 INFO 140054916126528] Saved checkpoint to \"/opt/ml/model/state_813f34b7-262b-45f8-ba37-18b860ded563-0000.params\"\u001b[0m\n",
      "\u001b[31m#metrics {\"Metrics\": {\"state.serialize.time\": {\"count\": 1, \"max\": 17.069101333618164, \"sum\": 17.069101333618164, \"min\": 17.069101333618164}}, \"EndTime\": 1554919339.528874, \"Dimensions\": {\"Host\": \"algo-1\", \"Operation\": \"training\", \"Algorithm\": \"AWS/DeepAR\"}, \"StartTime\": 1554919339.511511}\n",
      "\u001b[0m\n",
      "\u001b[31m[04/10/2019 18:02:19 INFO 140054916126528] Epoch[12] Batch[0] avg_epoch_loss=8.938682\u001b[0m\n",
      "\u001b[31m[04/10/2019 18:02:20 INFO 140054916126528] Epoch[12] Batch[5] avg_epoch_loss=23.479432\u001b[0m\n",
      "\u001b[31m[04/10/2019 18:02:20 INFO 140054916126528] Epoch[12] Batch [5]#011Speed: 428.41 samples/sec#011loss=23.479432\u001b[0m\n",
      "\u001b[31m[04/10/2019 18:02:20 INFO 140054916126528] processed a total of 293 examples\u001b[0m\n",
      "\u001b[31m#metrics {\"Metrics\": {\"update.time\": {\"count\": 1, \"max\": 1146.592140197754, \"sum\": 1146.592140197754, \"min\": 1146.592140197754}}, \"EndTime\": 1554919340.675548, \"Dimensions\": {\"Host\": \"algo-1\", \"Operation\": \"training\", \"Algorithm\": \"AWS/DeepAR\"}, \"StartTime\": 1554919339.528914}\n",
      "\u001b[0m\n",
      "\u001b[31m[04/10/2019 18:02:20 INFO 140054916126528] #throughput_metric: host=algo-1, train throughput=255.522277532 records/second\u001b[0m\n",
      "\u001b[31m[04/10/2019 18:02:20 INFO 140054916126528] #progress_metric: host=algo-1, completed 5 % of epochs\u001b[0m\n",
      "\u001b[31m[04/10/2019 18:02:20 INFO 140054916126528] loss did not improve\u001b[0m\n",
      "\u001b[31m[04/10/2019 18:02:21 INFO 140054916126528] Epoch[13] Batch[0] avg_epoch_loss=12.708245\u001b[0m\n",
      "\u001b[31m[04/10/2019 18:02:21 INFO 140054916126528] Epoch[13] Batch[5] avg_epoch_loss=487.153781\u001b[0m\n",
      "\u001b[31m[04/10/2019 18:02:21 INFO 140054916126528] Epoch[13] Batch [5]#011Speed: 490.75 samples/sec#011loss=487.153781\u001b[0m\n",
      "\u001b[31m[04/10/2019 18:02:21 INFO 140054916126528] processed a total of 292 examples\u001b[0m\n",
      "\u001b[31m#metrics {\"Metrics\": {\"update.time\": {\"count\": 1, \"max\": 1091.4289951324463, \"sum\": 1091.4289951324463, \"min\": 1091.4289951324463}}, \"EndTime\": 1554919341.767274, \"Dimensions\": {\"Host\": \"algo-1\", \"Operation\": \"training\", \"Algorithm\": \"AWS/DeepAR\"}, \"StartTime\": 1554919340.6756}\n",
      "\u001b[0m\n",
      "\u001b[31m[04/10/2019 18:02:21 INFO 140054916126528] #throughput_metric: host=algo-1, train throughput=267.519060297 records/second\u001b[0m\n",
      "\u001b[31m[04/10/2019 18:02:21 INFO 140054916126528] #progress_metric: host=algo-1, completed 5 % of epochs\u001b[0m\n",
      "\u001b[31m[04/10/2019 18:02:21 INFO 140054916126528] loss did not improve\u001b[0m\n",
      "\u001b[31m[04/10/2019 18:02:22 INFO 140054916126528] Epoch[14] Batch[0] avg_epoch_loss=40.009739\u001b[0m\n",
      "\u001b[31m[04/10/2019 18:02:22 INFO 140054916126528] Epoch[14] Batch[5] avg_epoch_loss=29.356419\u001b[0m\n",
      "\u001b[31m[04/10/2019 18:02:22 INFO 140054916126528] Epoch[14] Batch [5]#011Speed: 430.91 samples/sec#011loss=29.356419\u001b[0m\n",
      "\u001b[31m[04/10/2019 18:02:23 INFO 140054916126528] Epoch[14] Batch[10] avg_epoch_loss=58.960557\u001b[0m\n",
      "\u001b[31m[04/10/2019 18:02:23 INFO 140054916126528] Epoch[14] Batch [10]#011Speed: 432.97 samples/sec#011loss=94.485523\u001b[0m\n",
      "\u001b[31m[04/10/2019 18:02:23 INFO 140054916126528] processed a total of 356 examples\u001b[0m\n",
      "\u001b[31m#metrics {\"Metrics\": {\"update.time\": {\"count\": 1, \"max\": 1353.5668849945068, \"sum\": 1353.5668849945068, \"min\": 1353.5668849945068}}, \"EndTime\": 1554919343.12114, \"Dimensions\": {\"Host\": \"algo-1\", \"Operation\": \"training\", \"Algorithm\": \"AWS/DeepAR\"}, \"StartTime\": 1554919341.767328}\n",
      "\u001b[0m\n",
      "\u001b[31m[04/10/2019 18:02:23 INFO 140054916126528] #throughput_metric: host=algo-1, train throughput=262.992863024 records/second\u001b[0m\n",
      "\u001b[31m[04/10/2019 18:02:23 INFO 140054916126528] #progress_metric: host=algo-1, completed 6 % of epochs\u001b[0m\n",
      "\u001b[31m[04/10/2019 18:02:23 INFO 140054916126528] loss did not improve\u001b[0m\n",
      "\u001b[31m[04/10/2019 18:02:23 INFO 140054916126528] Epoch[15] Batch[0] avg_epoch_loss=15.532657\u001b[0m\n",
      "\u001b[31m[04/10/2019 18:02:23 INFO 140054916126528] Epoch[15] Batch[5] avg_epoch_loss=25.822563\u001b[0m\n",
      "\u001b[31m[04/10/2019 18:02:23 INFO 140054916126528] Epoch[15] Batch [5]#011Speed: 433.14 samples/sec#011loss=25.822563\u001b[0m\n",
      "\u001b[31m[04/10/2019 18:02:24 INFO 140054916126528] processed a total of 311 examples\u001b[0m\n",
      "\u001b[31m#metrics {\"Metrics\": {\"update.time\": {\"count\": 1, \"max\": 1117.9840564727783, \"sum\": 1117.9840564727783, \"min\": 1117.9840564727783}}, \"EndTime\": 1554919344.23943, \"Dimensions\": {\"Host\": \"algo-1\", \"Operation\": \"training\", \"Algorithm\": \"AWS/DeepAR\"}, \"StartTime\": 1554919343.121194}\n",
      "\u001b[0m\n",
      "\u001b[31m[04/10/2019 18:02:24 INFO 140054916126528] #throughput_metric: host=algo-1, train throughput=278.159170778 records/second\u001b[0m\n",
      "\u001b[31m[04/10/2019 18:02:24 INFO 140054916126528] #progress_metric: host=algo-1, completed 6 % of epochs\u001b[0m\n",
      "\u001b[31m[04/10/2019 18:02:24 INFO 140054916126528] loss did not improve\u001b[0m\n",
      "\u001b[31m[04/10/2019 18:02:24 INFO 140054916126528] Epoch[16] Batch[0] avg_epoch_loss=25.019415\u001b[0m\n",
      "\u001b[31m[04/10/2019 18:02:25 INFO 140054916126528] Epoch[16] Batch[5] avg_epoch_loss=16.619255\u001b[0m\n",
      "\u001b[31m[04/10/2019 18:02:25 INFO 140054916126528] Epoch[16] Batch [5]#011Speed: 543.84 samples/sec#011loss=16.619255\u001b[0m\n",
      "\u001b[31m[04/10/2019 18:02:25 INFO 140054916126528] processed a total of 309 examples\u001b[0m\n",
      "\u001b[31m#metrics {\"Metrics\": {\"update.time\": {\"count\": 1, \"max\": 1025.1379013061523, \"sum\": 1025.1379013061523, \"min\": 1025.1379013061523}}, \"EndTime\": 1554919345.264858, \"Dimensions\": {\"Host\": \"algo-1\", \"Operation\": \"training\", \"Algorithm\": \"AWS/DeepAR\"}, \"StartTime\": 1554919344.239483}\n",
      "\u001b[0m\n",
      "\u001b[31m[04/10/2019 18:02:25 INFO 140054916126528] #throughput_metric: host=algo-1, train throughput=301.399309222 records/second\u001b[0m\n",
      "\u001b[31m[04/10/2019 18:02:25 INFO 140054916126528] #progress_metric: host=algo-1, completed 6 % of epochs\u001b[0m\n",
      "\u001b[31m[04/10/2019 18:02:25 INFO 140054916126528] loss did not improve\u001b[0m\n",
      "\u001b[31m[04/10/2019 18:02:25 INFO 140054916126528] Epoch[17] Batch[0] avg_epoch_loss=24.860243\u001b[0m\n",
      "\u001b[31m[04/10/2019 18:02:26 INFO 140054916126528] Epoch[17] Batch[5] avg_epoch_loss=313.334902\u001b[0m\n",
      "\u001b[31m[04/10/2019 18:02:26 INFO 140054916126528] Epoch[17] Batch [5]#011Speed: 542.91 samples/sec#011loss=313.334902\u001b[0m\n",
      "\u001b[31m[04/10/2019 18:02:26 INFO 140054916126528] processed a total of 317 examples\u001b[0m\n",
      "\u001b[31m#metrics {\"Metrics\": {\"update.time\": {\"count\": 1, \"max\": 1022.4020481109619, \"sum\": 1022.4020481109619, \"min\": 1022.4020481109619}}, \"EndTime\": 1554919346.28755, \"Dimensions\": {\"Host\": \"algo-1\", \"Operation\": \"training\", \"Algorithm\": \"AWS/DeepAR\"}, \"StartTime\": 1554919345.264912}\n",
      "\u001b[0m\n",
      "\u001b[31m[04/10/2019 18:02:26 INFO 140054916126528] #throughput_metric: host=algo-1, train throughput=310.030221546 records/second\u001b[0m\n",
      "\u001b[31m[04/10/2019 18:02:26 INFO 140054916126528] #progress_metric: host=algo-1, completed 7 % of epochs\u001b[0m\n",
      "\u001b[31m[04/10/2019 18:02:26 INFO 140054916126528] loss did not improve\u001b[0m\n",
      "\u001b[31m[04/10/2019 18:02:26 INFO 140054916126528] Epoch[18] Batch[0] avg_epoch_loss=7.499269\u001b[0m\n",
      "\u001b[31m[04/10/2019 18:02:27 INFO 140054916126528] Epoch[18] Batch[5] avg_epoch_loss=15.364373\u001b[0m\n",
      "\u001b[31m[04/10/2019 18:02:27 INFO 140054916126528] Epoch[18] Batch [5]#011Speed: 540.02 samples/sec#011loss=15.364373\u001b[0m\n",
      "\u001b[31m[04/10/2019 18:02:27 INFO 140054916126528] processed a total of 284 examples\u001b[0m\n",
      "\u001b[31m#metrics {\"Metrics\": {\"update.time\": {\"count\": 1, \"max\": 921.6768741607666, \"sum\": 921.6768741607666, \"min\": 921.6768741607666}}, \"EndTime\": 1554919347.209557, \"Dimensions\": {\"Host\": \"algo-1\", \"Operation\": \"training\", \"Algorithm\": \"AWS/DeepAR\"}, \"StartTime\": 1554919346.287603}\n",
      "\u001b[0m\n",
      "\u001b[31m[04/10/2019 18:02:27 INFO 140054916126528] #throughput_metric: host=algo-1, train throughput=308.107558861 records/second\u001b[0m\n",
      "\u001b[31m[04/10/2019 18:02:27 INFO 140054916126528] #progress_metric: host=algo-1, completed 7 % of epochs\u001b[0m\n",
      "\u001b[31m[04/10/2019 18:02:27 INFO 140054916126528] loss did not improve\u001b[0m\n",
      "\u001b[31m[04/10/2019 18:02:27 INFO 140054916126528] Epoch[19] Batch[0] avg_epoch_loss=9.525711\u001b[0m\n"
     ]
    },
    {
     "name": "stdout",
     "output_type": "stream",
     "text": [
      "\u001b[31m[04/10/2019 18:02:27 INFO 140054916126528] Epoch[19] Batch[5] avg_epoch_loss=13.163821\u001b[0m\n",
      "\u001b[31m[04/10/2019 18:02:27 INFO 140054916126528] Epoch[19] Batch [5]#011Speed: 542.52 samples/sec#011loss=13.163821\u001b[0m\n",
      "\u001b[31m[04/10/2019 18:02:28 INFO 140054916126528] Epoch[19] Batch[10] avg_epoch_loss=14.028047\u001b[0m\n",
      "\u001b[31m[04/10/2019 18:02:28 INFO 140054916126528] Epoch[19] Batch [10]#011Speed: 500.50 samples/sec#011loss=15.065118\u001b[0m\n",
      "\u001b[31m[04/10/2019 18:02:28 INFO 140054916126528] processed a total of 322 examples\u001b[0m\n",
      "\u001b[31m#metrics {\"Metrics\": {\"update.time\": {\"count\": 1, \"max\": 1094.552993774414, \"sum\": 1094.552993774414, \"min\": 1094.552993774414}}, \"EndTime\": 1554919348.304388, \"Dimensions\": {\"Host\": \"algo-1\", \"Operation\": \"training\", \"Algorithm\": \"AWS/DeepAR\"}, \"StartTime\": 1554919347.209609}\n",
      "\u001b[0m\n",
      "\u001b[31m[04/10/2019 18:02:28 INFO 140054916126528] #throughput_metric: host=algo-1, train throughput=294.161722029 records/second\u001b[0m\n",
      "\u001b[31m[04/10/2019 18:02:28 INFO 140054916126528] #progress_metric: host=algo-1, completed 8 % of epochs\u001b[0m\n",
      "\u001b[31m[04/10/2019 18:02:28 INFO 140054916126528] best epoch loss so far\u001b[0m\n",
      "\u001b[31m[04/10/2019 18:02:28 INFO 140054916126528] Saved checkpoint to \"/opt/ml/model/state_0ae12ad8-90a7-4942-b0d1-714c9ca0d226-0000.params\"\u001b[0m\n",
      "\u001b[31m#metrics {\"Metrics\": {\"state.serialize.time\": {\"count\": 1, \"max\": 17.82989501953125, \"sum\": 17.82989501953125, \"min\": 17.82989501953125}}, \"EndTime\": 1554919348.322531, \"Dimensions\": {\"Host\": \"algo-1\", \"Operation\": \"training\", \"Algorithm\": \"AWS/DeepAR\"}, \"StartTime\": 1554919348.304439}\n",
      "\u001b[0m\n",
      "\u001b[31m[04/10/2019 18:02:28 INFO 140054916126528] Epoch[20] Batch[0] avg_epoch_loss=11.329670\u001b[0m\n",
      "\u001b[31m[04/10/2019 18:02:29 INFO 140054916126528] Epoch[20] Batch[5] avg_epoch_loss=22.756770\u001b[0m\n",
      "\u001b[31m[04/10/2019 18:02:29 INFO 140054916126528] Epoch[20] Batch [5]#011Speed: 543.51 samples/sec#011loss=22.756770\u001b[0m\n",
      "\u001b[31m[04/10/2019 18:02:29 INFO 140054916126528] processed a total of 301 examples\u001b[0m\n",
      "\u001b[31m#metrics {\"Metrics\": {\"update.time\": {\"count\": 1, \"max\": 1021.6941833496094, \"sum\": 1021.6941833496094, \"min\": 1021.6941833496094}}, \"EndTime\": 1554919349.344312, \"Dimensions\": {\"Host\": \"algo-1\", \"Operation\": \"training\", \"Algorithm\": \"AWS/DeepAR\"}, \"StartTime\": 1554919348.322577}\n",
      "\u001b[0m\n",
      "\u001b[31m[04/10/2019 18:02:29 INFO 140054916126528] #throughput_metric: host=algo-1, train throughput=294.586294358 records/second\u001b[0m\n",
      "\u001b[31m[04/10/2019 18:02:29 INFO 140054916126528] #progress_metric: host=algo-1, completed 8 % of epochs\u001b[0m\n",
      "\u001b[31m[04/10/2019 18:02:29 INFO 140054916126528] loss did not improve\u001b[0m\n",
      "\u001b[31m[04/10/2019 18:02:29 INFO 140054916126528] Epoch[21] Batch[0] avg_epoch_loss=209.105713\u001b[0m\n",
      "\u001b[31m[04/10/2019 18:02:30 INFO 140054916126528] Epoch[21] Batch[5] avg_epoch_loss=98.925126\u001b[0m\n",
      "\u001b[31m[04/10/2019 18:02:30 INFO 140054916126528] Epoch[21] Batch [5]#011Speed: 542.43 samples/sec#011loss=98.925126\u001b[0m\n",
      "\u001b[31m[04/10/2019 18:02:30 INFO 140054916126528] processed a total of 310 examples\u001b[0m\n",
      "\u001b[31m#metrics {\"Metrics\": {\"update.time\": {\"count\": 1, \"max\": 1019.8078155517578, \"sum\": 1019.8078155517578, \"min\": 1019.8078155517578}}, \"EndTime\": 1554919350.364393, \"Dimensions\": {\"Host\": \"algo-1\", \"Operation\": \"training\", \"Algorithm\": \"AWS/DeepAR\"}, \"StartTime\": 1554919349.344364}\n",
      "\u001b[0m\n",
      "\u001b[31m[04/10/2019 18:02:30 INFO 140054916126528] #throughput_metric: host=algo-1, train throughput=303.954966664 records/second\u001b[0m\n",
      "\u001b[31m[04/10/2019 18:02:30 INFO 140054916126528] #progress_metric: host=algo-1, completed 8 % of epochs\u001b[0m\n",
      "\u001b[31m[04/10/2019 18:02:30 INFO 140054916126528] loss did not improve\u001b[0m\n",
      "\u001b[31m[04/10/2019 18:02:30 INFO 140054916126528] Epoch[22] Batch[0] avg_epoch_loss=16.124359\u001b[0m\n",
      "\u001b[31m[04/10/2019 18:02:31 INFO 140054916126528] Epoch[22] Batch[5] avg_epoch_loss=123.718962\u001b[0m\n",
      "\u001b[31m[04/10/2019 18:02:31 INFO 140054916126528] Epoch[22] Batch [5]#011Speed: 536.80 samples/sec#011loss=123.718962\u001b[0m\n",
      "\u001b[31m[04/10/2019 18:02:31 INFO 140054916126528] processed a total of 293 examples\u001b[0m\n",
      "\u001b[31m#metrics {\"Metrics\": {\"update.time\": {\"count\": 1, \"max\": 1024.1870880126953, \"sum\": 1024.1870880126953, \"min\": 1024.1870880126953}}, \"EndTime\": 1554919351.388852, \"Dimensions\": {\"Host\": \"algo-1\", \"Operation\": \"training\", \"Algorithm\": \"AWS/DeepAR\"}, \"StartTime\": 1554919350.364445}\n",
      "\u001b[0m\n",
      "\u001b[31m[04/10/2019 18:02:31 INFO 140054916126528] #throughput_metric: host=algo-1, train throughput=286.057970374 records/second\u001b[0m\n",
      "\u001b[31m[04/10/2019 18:02:31 INFO 140054916126528] #progress_metric: host=algo-1, completed 9 % of epochs\u001b[0m\n",
      "\u001b[31m[04/10/2019 18:02:31 INFO 140054916126528] loss did not improve\u001b[0m\n",
      "\u001b[31m[04/10/2019 18:02:31 INFO 140054916126528] Epoch[23] Batch[0] avg_epoch_loss=18.158220\u001b[0m\n",
      "\u001b[31m[04/10/2019 18:02:32 INFO 140054916126528] Epoch[23] Batch[5] avg_epoch_loss=25.609597\u001b[0m\n",
      "\u001b[31m[04/10/2019 18:02:32 INFO 140054916126528] Epoch[23] Batch [5]#011Speed: 544.11 samples/sec#011loss=25.609597\u001b[0m\n",
      "\u001b[31m[04/10/2019 18:02:32 INFO 140054916126528] processed a total of 297 examples\u001b[0m\n",
      "\u001b[31m#metrics {\"Metrics\": {\"update.time\": {\"count\": 1, \"max\": 1022.5231647491455, \"sum\": 1022.5231647491455, \"min\": 1022.5231647491455}}, \"EndTime\": 1554919352.411666, \"Dimensions\": {\"Host\": \"algo-1\", \"Operation\": \"training\", \"Algorithm\": \"AWS/DeepAR\"}, \"StartTime\": 1554919351.388907}\n",
      "\u001b[0m\n",
      "\u001b[31m[04/10/2019 18:02:32 INFO 140054916126528] #throughput_metric: host=algo-1, train throughput=290.435348897 records/second\u001b[0m\n",
      "\u001b[31m[04/10/2019 18:02:32 INFO 140054916126528] #progress_metric: host=algo-1, completed 9 % of epochs\u001b[0m\n",
      "\u001b[31m[04/10/2019 18:02:32 INFO 140054916126528] loss did not improve\u001b[0m\n",
      "\u001b[31m[04/10/2019 18:02:32 INFO 140054916126528] Epoch[24] Batch[0] avg_epoch_loss=18.587378\u001b[0m\n",
      "\u001b[31m[04/10/2019 18:02:33 INFO 140054916126528] Epoch[24] Batch[5] avg_epoch_loss=12.971363\u001b[0m\n",
      "\u001b[31m[04/10/2019 18:02:33 INFO 140054916126528] Epoch[24] Batch [5]#011Speed: 544.47 samples/sec#011loss=12.971363\u001b[0m\n",
      "\u001b[31m[04/10/2019 18:02:33 INFO 140054916126528] processed a total of 311 examples\u001b[0m\n",
      "\u001b[31m#metrics {\"Metrics\": {\"update.time\": {\"count\": 1, \"max\": 1019.7110176086426, \"sum\": 1019.7110176086426, \"min\": 1019.7110176086426}}, \"EndTime\": 1554919353.431699, \"Dimensions\": {\"Host\": \"algo-1\", \"Operation\": \"training\", \"Algorithm\": \"AWS/DeepAR\"}, \"StartTime\": 1554919352.411718}\n",
      "\u001b[0m\n",
      "\u001b[31m[04/10/2019 18:02:33 INFO 140054916126528] #throughput_metric: host=algo-1, train throughput=304.963840459 records/second\u001b[0m\n",
      "\u001b[31m[04/10/2019 18:02:33 INFO 140054916126528] #progress_metric: host=algo-1, completed 10 % of epochs\u001b[0m\n",
      "\u001b[31m[04/10/2019 18:02:33 INFO 140054916126528] loss did not improve\u001b[0m\n",
      "\u001b[31m[04/10/2019 18:02:33 INFO 140054916126528] Epoch[25] Batch[0] avg_epoch_loss=14.317915\u001b[0m\n",
      "\u001b[31m[04/10/2019 18:02:34 INFO 140054916126528] Epoch[25] Batch[5] avg_epoch_loss=155.996474\u001b[0m\n",
      "\u001b[31m[04/10/2019 18:02:34 INFO 140054916126528] Epoch[25] Batch [5]#011Speed: 544.09 samples/sec#011loss=155.996474\u001b[0m\n",
      "\u001b[31m[04/10/2019 18:02:34 INFO 140054916126528] processed a total of 277 examples\u001b[0m\n",
      "\u001b[31m#metrics {\"Metrics\": {\"update.time\": {\"count\": 1, \"max\": 943.6240196228027, \"sum\": 943.6240196228027, \"min\": 943.6240196228027}}, \"EndTime\": 1554919354.375613, \"Dimensions\": {\"Host\": \"algo-1\", \"Operation\": \"training\", \"Algorithm\": \"AWS/DeepAR\"}, \"StartTime\": 1554919353.431752}\n",
      "\u001b[0m\n",
      "\u001b[31m[04/10/2019 18:02:34 INFO 140054916126528] #throughput_metric: host=algo-1, train throughput=293.523904132 records/second\u001b[0m\n",
      "\u001b[31m[04/10/2019 18:02:34 INFO 140054916126528] #progress_metric: host=algo-1, completed 10 % of epochs\u001b[0m\n",
      "\u001b[31m[04/10/2019 18:02:34 INFO 140054916126528] loss did not improve\u001b[0m\n",
      "\u001b[31m[04/10/2019 18:02:34 INFO 140054916126528] Epoch[26] Batch[0] avg_epoch_loss=12.467363\u001b[0m\n",
      "\u001b[31m[04/10/2019 18:02:35 INFO 140054916126528] Epoch[26] Batch[5] avg_epoch_loss=35.688381\u001b[0m\n",
      "\u001b[31m[04/10/2019 18:02:35 INFO 140054916126528] Epoch[26] Batch [5]#011Speed: 544.82 samples/sec#011loss=35.688381\u001b[0m\n",
      "\u001b[31m[04/10/2019 18:02:35 INFO 140054916126528] processed a total of 302 examples\u001b[0m\n",
      "\u001b[31m#metrics {\"Metrics\": {\"update.time\": {\"count\": 1, \"max\": 1048.7470626831055, \"sum\": 1048.7470626831055, \"min\": 1048.7470626831055}}, \"EndTime\": 1554919355.424698, \"Dimensions\": {\"Host\": \"algo-1\", \"Operation\": \"training\", \"Algorithm\": \"AWS/DeepAR\"}, \"StartTime\": 1554919354.375667}\n",
      "\u001b[0m\n",
      "\u001b[31m[04/10/2019 18:02:35 INFO 140054916126528] #throughput_metric: host=algo-1, train throughput=287.933537143 records/second\u001b[0m\n",
      "\u001b[31m[04/10/2019 18:02:35 INFO 140054916126528] #progress_metric: host=algo-1, completed 10 % of epochs\u001b[0m\n",
      "\u001b[31m[04/10/2019 18:02:35 INFO 140054916126528] loss did not improve\u001b[0m\n",
      "\u001b[31m[04/10/2019 18:02:35 INFO 140054916126528] Epoch[27] Batch[0] avg_epoch_loss=62.514614\u001b[0m\n",
      "\u001b[31m[04/10/2019 18:02:36 INFO 140054916126528] Epoch[27] Batch[5] avg_epoch_loss=40.265544\u001b[0m\n",
      "\u001b[31m[04/10/2019 18:02:36 INFO 140054916126528] Epoch[27] Batch [5]#011Speed: 492.24 samples/sec#011loss=40.265544\u001b[0m\n",
      "\u001b[31m[04/10/2019 18:02:36 INFO 140054916126528] processed a total of 286 examples\u001b[0m\n",
      "\u001b[31m#metrics {\"Metrics\": {\"update.time\": {\"count\": 1, \"max\": 1028.3279418945312, \"sum\": 1028.3279418945312, \"min\": 1028.3279418945312}}, \"EndTime\": 1554919356.45339, \"Dimensions\": {\"Host\": \"algo-1\", \"Operation\": \"training\", \"Algorithm\": \"AWS/DeepAR\"}, \"StartTime\": 1554919355.42477}\n",
      "\u001b[0m\n",
      "\u001b[31m[04/10/2019 18:02:36 INFO 140054916126528] #throughput_metric: host=algo-1, train throughput=278.098890707 records/second\u001b[0m\n",
      "\u001b[31m[04/10/2019 18:02:36 INFO 140054916126528] #progress_metric: host=algo-1, completed 11 % of epochs\u001b[0m\n",
      "\u001b[31m[04/10/2019 18:02:36 INFO 140054916126528] loss did not improve\u001b[0m\n",
      "\u001b[31m[04/10/2019 18:02:36 INFO 140054916126528] Epoch[28] Batch[0] avg_epoch_loss=41.649933\u001b[0m\n",
      "\u001b[31m[04/10/2019 18:02:37 INFO 140054916126528] Epoch[28] Batch[5] avg_epoch_loss=41.123877\u001b[0m\n",
      "\u001b[31m[04/10/2019 18:02:37 INFO 140054916126528] Epoch[28] Batch [5]#011Speed: 493.07 samples/sec#011loss=41.123877\u001b[0m\n",
      "\u001b[31m[04/10/2019 18:02:37 INFO 140054916126528] processed a total of 279 examples\u001b[0m\n",
      "\u001b[31m#metrics {\"Metrics\": {\"update.time\": {\"count\": 1, \"max\": 1025.9020328521729, \"sum\": 1025.9020328521729, \"min\": 1025.9020328521729}}, \"EndTime\": 1554919357.479629, \"Dimensions\": {\"Host\": \"algo-1\", \"Operation\": \"training\", \"Algorithm\": \"AWS/DeepAR\"}, \"StartTime\": 1554919356.453444}\n",
      "\u001b[0m\n",
      "\u001b[31m[04/10/2019 18:02:37 INFO 140054916126528] #throughput_metric: host=algo-1, train throughput=271.921856766 records/second\u001b[0m\n",
      "\u001b[31m[04/10/2019 18:02:37 INFO 140054916126528] #progress_metric: host=algo-1, completed 11 % of epochs\u001b[0m\n",
      "\u001b[31m[04/10/2019 18:02:37 INFO 140054916126528] loss did not improve\u001b[0m\n"
     ]
    },
    {
     "name": "stdout",
     "output_type": "stream",
     "text": [
      "\u001b[31m[04/10/2019 18:02:37 INFO 140054916126528] Epoch[29] Batch[0] avg_epoch_loss=8.664924\u001b[0m\n",
      "\u001b[31m[04/10/2019 18:02:38 INFO 140054916126528] Epoch[29] Batch[5] avg_epoch_loss=23885.497210\u001b[0m\n",
      "\u001b[31m[04/10/2019 18:02:38 INFO 140054916126528] Epoch[29] Batch [5]#011Speed: 480.98 samples/sec#011loss=23885.497210\u001b[0m\n",
      "\u001b[31m[04/10/2019 18:02:38 INFO 140054916126528] processed a total of 299 examples\u001b[0m\n",
      "\u001b[31m#metrics {\"Metrics\": {\"update.time\": {\"count\": 1, \"max\": 1132.4779987335205, \"sum\": 1132.4779987335205, \"min\": 1132.4779987335205}}, \"EndTime\": 1554919358.612521, \"Dimensions\": {\"Host\": \"algo-1\", \"Operation\": \"training\", \"Algorithm\": \"AWS/DeepAR\"}, \"StartTime\": 1554919357.479716}\n",
      "\u001b[0m\n",
      "\u001b[31m[04/10/2019 18:02:38 INFO 140054916126528] #throughput_metric: host=algo-1, train throughput=263.992221462 records/second\u001b[0m\n",
      "\u001b[31m[04/10/2019 18:02:38 INFO 140054916126528] #progress_metric: host=algo-1, completed 12 % of epochs\u001b[0m\n",
      "\u001b[31m[04/10/2019 18:02:38 INFO 140054916126528] loss did not improve\u001b[0m\n",
      "\u001b[31m[04/10/2019 18:02:38 INFO 140054916126528] Loading parameters from best epoch (19)\u001b[0m\n",
      "\u001b[31m#metrics {\"Metrics\": {\"state.deserialize.time\": {\"count\": 1, \"max\": 11.230945587158203, \"sum\": 11.230945587158203, \"min\": 11.230945587158203}}, \"EndTime\": 1554919358.624204, \"Dimensions\": {\"Host\": \"algo-1\", \"Operation\": \"training\", \"Algorithm\": \"AWS/DeepAR\"}, \"StartTime\": 1554919358.612608}\n",
      "\u001b[0m\n",
      "\u001b[31m[04/10/2019 18:02:38 INFO 140054916126528] stopping training now\u001b[0m\n",
      "\u001b[31m[04/10/2019 18:02:38 INFO 140054916126528] #progress_metric: host=algo-1, completed 100 % of epochs\u001b[0m\n",
      "\u001b[31m[04/10/2019 18:02:38 INFO 140054916126528] Final loss: 14.0280472149 (occurred at epoch 19)\u001b[0m\n",
      "\u001b[31m[04/10/2019 18:02:38 INFO 140054916126528] #quality_metric: host=algo-1, train final_loss <loss>=14.0280472149\u001b[0m\n",
      "\u001b[31m[04/10/2019 18:02:38 INFO 140054916126528] Worker algo-1 finished training.\u001b[0m\n",
      "\u001b[31m[04/10/2019 18:02:38 WARNING 140054916126528] wait_for_all_workers will not sync workers since the kv store is not running distributed\u001b[0m\n",
      "\u001b[31m[04/10/2019 18:02:38 INFO 140054916126528] All workers finished. Serializing model for prediction.\u001b[0m\n",
      "\u001b[31m#metrics {\"Metrics\": {\"get_graph.time\": {\"count\": 1, \"max\": 731.9309711456299, \"sum\": 731.9309711456299, \"min\": 731.9309711456299}}, \"EndTime\": 1554919359.356802, \"Dimensions\": {\"Host\": \"algo-1\", \"Operation\": \"training\", \"Algorithm\": \"AWS/DeepAR\"}, \"StartTime\": 1554919358.624263}\n",
      "\u001b[0m\n",
      "\u001b[31m[04/10/2019 18:02:39 INFO 140054916126528] Number of GPUs being used: 0\u001b[0m\n",
      "\u001b[31m#metrics {\"Metrics\": {\"finalize.time\": {\"count\": 1, \"max\": 845.0798988342285, \"sum\": 845.0798988342285, \"min\": 845.0798988342285}}, \"EndTime\": 1554919359.469897, \"Dimensions\": {\"Host\": \"algo-1\", \"Operation\": \"training\", \"Algorithm\": \"AWS/DeepAR\"}, \"StartTime\": 1554919359.356885}\n",
      "\u001b[0m\n",
      "\u001b[31m[04/10/2019 18:02:39 INFO 140054916126528] Serializing to /opt/ml/model/model_algo-1\u001b[0m\n",
      "\u001b[31m[04/10/2019 18:02:39 INFO 140054916126528] Saved checkpoint to \"/opt/ml/model/model_algo-1-0000.params\"\u001b[0m\n",
      "\u001b[31m#metrics {\"Metrics\": {\"model.serialize.time\": {\"count\": 1, \"max\": 12.045145034790039, \"sum\": 12.045145034790039, \"min\": 12.045145034790039}}, \"EndTime\": 1554919359.482053, \"Dimensions\": {\"Host\": \"algo-1\", \"Operation\": \"training\", \"Algorithm\": \"AWS/DeepAR\"}, \"StartTime\": 1554919359.469956}\n",
      "\u001b[0m\n",
      "\u001b[31m[04/10/2019 18:02:39 INFO 140054916126528] Successfully serialized the model for prediction.\u001b[0m\n",
      "\u001b[31m[04/10/2019 18:02:39 INFO 140054916126528] Evaluating model accuracy on testset using 100 samples\u001b[0m\n",
      "\u001b[31m#metrics {\"Metrics\": {\"model.bind.time\": {\"count\": 1, \"max\": 0.026941299438476562, \"sum\": 0.026941299438476562, \"min\": 0.026941299438476562}}, \"EndTime\": 1554919359.482765, \"Dimensions\": {\"Host\": \"algo-1\", \"Operation\": \"training\", \"Algorithm\": \"AWS/DeepAR\"}, \"StartTime\": 1554919359.482098}\n",
      "\u001b[0m\n",
      "\u001b[31m#metrics {\"Metrics\": {\"model.score.time\": {\"count\": 1, \"max\": 1668.1268215179443, \"sum\": 1668.1268215179443, \"min\": 1668.1268215179443}}, \"EndTime\": 1554919361.150876, \"Dimensions\": {\"Host\": \"algo-1\", \"Operation\": \"training\", \"Algorithm\": \"AWS/DeepAR\"}, \"StartTime\": 1554919359.482798}\n",
      "\u001b[0m\n",
      "\u001b[31m[04/10/2019 18:02:41 INFO 140054916126528] #test_score (algo-1, RMSE): 512.498475607\u001b[0m\n",
      "\u001b[31m[04/10/2019 18:02:41 INFO 140054916126528] #test_score (algo-1, mean_wQuantileLoss): 0.943108\u001b[0m\n",
      "\u001b[31m[04/10/2019 18:02:41 INFO 140054916126528] #test_score (algo-1, wQuantileLoss[0.1]): 0.415516\u001b[0m\n",
      "\u001b[31m[04/10/2019 18:02:41 INFO 140054916126528] #test_score (algo-1, wQuantileLoss[0.2]): 0.700269\u001b[0m\n",
      "\u001b[31m[04/10/2019 18:02:41 INFO 140054916126528] #test_score (algo-1, wQuantileLoss[0.3]): 0.911354\u001b[0m\n",
      "\u001b[31m[04/10/2019 18:02:41 INFO 140054916126528] #test_score (algo-1, wQuantileLoss[0.4]): 1.05462\u001b[0m\n",
      "\u001b[31m[04/10/2019 18:02:41 INFO 140054916126528] #test_score (algo-1, wQuantileLoss[0.5]): 1.13844\u001b[0m\n",
      "\u001b[31m[04/10/2019 18:02:41 INFO 140054916126528] #test_score (algo-1, wQuantileLoss[0.6]): 1.16325\u001b[0m\n",
      "\u001b[31m[04/10/2019 18:02:41 INFO 140054916126528] #test_score (algo-1, wQuantileLoss[0.7]): 1.13373\u001b[0m\n",
      "\u001b[31m[04/10/2019 18:02:41 INFO 140054916126528] #test_score (algo-1, wQuantileLoss[0.8]): 1.06138\u001b[0m\n",
      "\u001b[31m[04/10/2019 18:02:41 INFO 140054916126528] #test_score (algo-1, wQuantileLoss[0.9]): 0.909407\u001b[0m\n",
      "\u001b[31m[04/10/2019 18:02:41 INFO 140054916126528] #quality_metric: host=algo-1, test RMSE <loss>=512.498475607\u001b[0m\n",
      "\u001b[31m[04/10/2019 18:02:41 INFO 140054916126528] #quality_metric: host=algo-1, test mean_wQuantileLoss <loss>=0.943108320236\u001b[0m\n",
      "\u001b[31m#metrics {\"Metrics\": {\"totaltime\": {\"count\": 1, \"max\": 37960.137128829956, \"sum\": 37960.137128829956, \"min\": 37960.137128829956}, \"setuptime\": {\"count\": 1, \"max\": 9.645938873291016, \"sum\": 9.645938873291016, \"min\": 9.645938873291016}}, \"EndTime\": 1554919361.197715, \"Dimensions\": {\"Host\": \"algo-1\", \"Operation\": \"training\", \"Algorithm\": \"AWS/DeepAR\"}, \"StartTime\": 1554919361.150942}\n",
      "\u001b[0m\n",
      "\n",
      "2019-04-10 18:02:48 Uploading - Uploading generated training model\n",
      "2019-04-10 18:02:48 Completed - Training job completed\n",
      "Billable seconds: 76\n",
      "CPU times: user 582 ms, sys: 42.9 ms, total: 625 ms\n",
      "Wall time: 4min 12s\n"
     ]
    }
   ],
   "source": [
    "%%time\n",
    "\n",
    "estimator.fit(inputs=data_channels)"
   ]
  },
  {
   "cell_type": "markdown",
   "metadata": {},
   "source": [
    "### Deploy model"
   ]
  },
  {
   "cell_type": "code",
   "execution_count": 34,
   "metadata": {},
   "outputs": [
    {
     "name": "stderr",
     "output_type": "stream",
     "text": [
      "INFO:sagemaker:Creating model with name: bainbridge-departures-predictor-2019-04-10-17-58-57-334\n",
      "INFO:sagemaker:Creating endpoint-config with name bainbridge-departures-predictor-2019-04-10-17-58-57-334\n",
      "INFO:sagemaker:Creating endpoint with name bainbridge-departures-predictor-2019-04-10-17-58-57-334\n"
     ]
    },
    {
     "name": "stdout",
     "output_type": "stream",
     "text": [
      "---------------------------------------------------------------------------!CPU times: user 447 ms, sys: 11.1 ms, total: 458 ms\n",
      "Wall time: 6min 20s\n"
     ]
    }
   ],
   "source": [
    "%%time\n",
    "\n",
    "job_name = estimator.latest_training_job.name\n",
    "\n",
    "endpoint_name = sagemaker_session.endpoint_from_job(\n",
    "    job_name=job_name,\n",
    "    initial_instance_count=1,\n",
    "    #instance_type='ml.m4.xlarge',\n",
    "    instance_type='ml.t2.medium',\n",
    "    deployment_image=image_name,\n",
    "    role=role\n",
    ")"
   ]
  },
  {
   "cell_type": "code",
   "execution_count": 72,
   "metadata": {},
   "outputs": [],
   "source": [
    "predictor = sagemaker.predictor.RealTimePredictor(\n",
    "    endpoint_name,\n",
    "    sagemaker_session=sagemaker_session, \n",
    "    content_type=\"application/json\")"
   ]
  },
  {
   "cell_type": "code",
   "execution_count": 36,
   "metadata": {},
   "outputs": [],
   "source": [
    "q1 = '0.1'         # compute p10 quantile\n",
    "q2 = '0.9'         # compute p90 quantile\n",
    "num_samples = 100  # predict 100 sample series\n",
    "    \n",
    "def buildPredictionData(month, year, data):\n",
    "    month_delays = dataset[\"{} {}\".format(month, year)]\n",
    "    s = {\"start\": \"{}-{}-01 00:00:00\".format(year, months_to_number[month]), \"target\": month_delays}\n",
    "    series = []\n",
    "    series.append(s)\n",
    "    configuration = {\n",
    "        \"output_types\": [\"mean\", \"quantiles\", \"samples\"],\n",
    "        \"num_samples\": num_samples,\n",
    "        \"quantiles\": [q1, q2]\n",
    "    }\n",
    "    http_data = {\n",
    "        \"instances\": series, \n",
    "        \"configuration\": configuration\n",
    "    }\n",
    "    return json.dumps(http_data)"
   ]
  },
  {
   "cell_type": "markdown",
   "metadata": {},
   "source": [
    "### Get predicted series from response"
   ]
  },
  {
   "cell_type": "code",
   "execution_count": 38,
   "metadata": {},
   "outputs": [],
   "source": [
    "def getPredictedSeries(result):\n",
    "    import random\n",
    "    json_result = json.loads(result)\n",
    "    y_data      = json_result['predictions'][0]\n",
    "    y_mean      = y_data['mean']\n",
    "    y_q1        = y_data['quantiles'][q1]\n",
    "    y_q2        = y_data['quantiles'][q2]\n",
    "    y_sample    = y_data['samples'][random.randint(0, num_samples)]\n",
    "\n",
    "    #print(\"Mean: %s\\n\" % y_mean)\n",
    "    #print(\"Quartile %s: %s\\n\" % (q1, y_q1))\n",
    "    #print(\"Quartile %s: %s\\n\" % (q2, y_q2))\n",
    "    return y_mean, y_q1, y_q2, y_sample"
   ]
  },
  {
   "cell_type": "markdown",
   "metadata": {},
   "source": [
    "### Plot predicted series and ground truth"
   ]
  },
  {
   "cell_type": "code",
   "execution_count": 73,
   "metadata": {},
   "outputs": [],
   "source": [
    "def plotSeries(result, truth=False, truth_data=None, truth_label=None):\n",
    "    x = range(0,prediction_length)\n",
    "    y_mean, y_q1, y_q2, y_sample = getPredictedSeries(result)\n",
    "    plt.gcf().clear()\n",
    "    mean_label,   = plt.plot(x, y_mean, label='mean')\n",
    "    q1_label,     = plt.plot(x, y_q1, label=q1)\n",
    "    q2_label,     = plt.plot(x, y_q2, label=q2)\n",
    "    sample_label, = plt.plot(x, y_sample, label='sample')\n",
    "\n",
    "    if truth:\n",
    "        ground_truth, = plt.plot(x, truth_data, label=truth_label)\n",
    "        plt.legend(handles=[ground_truth, q2_label, mean_label, q1_label, sample_label])\n",
    "    else:\n",
    "        plt.legend(handles=[q2_label, mean_label, q1_label, sample_label])\n",
    "    plt.yticks(np.arange(5.0, 12.0, 0.5))\n",
    "    plt.show()"
   ]
  },
  {
   "cell_type": "markdown",
   "metadata": {},
   "source": [
    "### Example: predict temperature for the last 'prediction_length' days and compare to ground truth"
   ]
  },
  {
   "cell_type": "code",
   "execution_count": 75,
   "metadata": {},
   "outputs": [
    {
     "data": {
      "image/png": "[encoded data removed]",
      "text/plain": [
       "<Figure size 432x288 with 1 Axes>"
      ]
     },
     "metadata": {},
     "output_type": "display_data"
    }
   ],
   "source": [
    "import matplotlib.pyplot as plt\n",
    "\n",
    "month = 'March' # “He who controls the past controls the future. He who controls the present controls the past.”\n",
    "year = 2013\n",
    "\n",
    "prediction_data = buildPredictionData(month, year, trainingSet)\n",
    "\n",
    "result = predictor.predict(prediction_data).encode('utf-8')\n",
    "\n",
    "plotSeries(result, \n",
    "           truth=True, \n",
    "           truth_data=testSet[\"{} {}\".format(month, year)][-prediction_length:], \n",
    "           truth_label='truth')"
   ]
  }
 ],
 "metadata": {
  "kernelspec": {
   "display_name": "conda_python2",
   "language": "python",
   "name": "conda_python2"
  },
  "language_info": {
   "codemirror_mode": {
    "name": "ipython",
    "version": 2
   },
   "file_extension": ".py",
   "mimetype": "text/x-python",
   "name": "python",
   "nbconvert_exporter": "python",
   "pygments_lexer": "ipython2",
   "version": "2.7.15"
  }
 },
 "nbformat": 4,
 "nbformat_minor": 2
}
