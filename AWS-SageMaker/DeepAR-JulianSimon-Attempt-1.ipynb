{
 "cells": [
  {
   "cell_type": "markdown",
   "metadata": {},
   "source": [
    "This is my attempt at following <a href = \"https://medium.com/@julsimon/predicting-world-temperature-with-time-series-and-deepar-on-amazon-sagemaker-e371cf94ddb5\">this tutorial</a> that I found online. Thanks Julien Simon! Here is a link to <a href = \"https://github.com/juliensimon/dlnotebooks/blob/master/sagemaker/04-DeepAR-temperatures.ipynb\">his original notebook</a> on his GitHub page."
   ]
  },
  {
   "cell_type": "markdown",
   "metadata": {},
   "source": [
    "My goal is to plug my ferry data into this."
   ]
  },
  {
   "cell_type": "code",
   "execution_count": 3,
   "metadata": {},
   "outputs": [],
   "source": [
    "# Our model will predict temperature for the next 'prediction_length' days\n",
    "prediction_length = 30\n",
    "bucket = '######'"
   ]
  },
  {
   "cell_type": "code",
   "execution_count": 6,
   "metadata": {},
   "outputs": [],
   "source": [
    "import csv, boto3, json, sagemaker\n",
    "import numpy as np\n",
    "import pandas as pd"
   ]
  },
  {
   "cell_type": "code",
   "execution_count": 7,
   "metadata": {},
   "outputs": [],
   "source": [
    "data_key = 'Bainbridge_Departures_2013_Interpolated.csv'\n",
    "data_location = 's3://{}/{}'.format(bucket, data_key)\n",
    "df = pd.read_csv(data_location, parse_dates = [\"timestamps\"], index_col = \"timestamps\")"
   ]
  },
  {
   "cell_type": "markdown",
   "metadata": {},
   "source": [
    "Going to split that data up by month into a dictionary."
   ]
  },
  {
   "cell_type": "markdown",
   "metadata": {},
   "source": [
    "<a href = \"https://stackoverflow.com/questions/6557553/get-month-name-from-number\">Get month name from number</a>"
   ]
  },
  {
   "cell_type": "code",
   "execution_count": 119,
   "metadata": {},
   "outputs": [],
   "source": [
    "import calendar\n",
    "\n",
    "dataset = {}\n",
    "\n",
    "year = 2013\n",
    "\n",
    "for i in range(1,13):\n",
    "    index = \"2013-{}\".format(i)\n",
    "    key = \"{} {}\".format(calendar.month_name[i], year)\n",
    "    dataset[key] = list(df[index][\"seconds_late\"])"
   ]
  },
  {
   "cell_type": "markdown",
   "metadata": {},
   "source": [
    "## Plot data set"
   ]
  },
  {
   "cell_type": "code",
   "execution_count": 122,
   "metadata": {},
   "outputs": [],
   "source": [
    "x = df[\"seconds_late\"].index\n",
    "y = df[\"seconds_late\"].values"
   ]
  },
  {
   "cell_type": "code",
   "execution_count": 123,
   "metadata": {},
   "outputs": [
    {
     "name": "stdout",
     "output_type": "stream",
     "text": [
      "Number of samples: 105109\n"
     ]
    },
    {
     "data": {
      "image/png": "[encoded data removed]",
      "text/plain": [
       "<Figure size 432x288 with 1 Axes>"
      ]
     },
     "metadata": {},
     "output_type": "display_data"
    }
   ],
   "source": [
    "import matplotlib.pyplot as plt\n",
    "\n",
    "nbSamples = len(x)\n",
    "print('Number of samples: %d' % nbSamples)\n",
    "\n",
    "#fig=plt.figure(figsize=(64, 16))\n",
    "plt.plot(x,y)\n",
    "plt.show()"
   ]
  },
  {
   "cell_type": "markdown",
   "metadata": {},
   "source": [
    "## Prepare training set and test set"
   ]
  },
  {
   "cell_type": "code",
   "execution_count": 124,
   "metadata": {},
   "outputs": [],
   "source": [
    "# According to https://docs.aws.amazon.com/sagemaker/latest/dg/deepar.html\n",
    "# - remove the last 'prediction_length' points from each time series\n",
    "# - use the full data set for testing\n",
    "# - no need to shuffle the training set: dictionaries are not ordered :)\n",
    "\n",
    "trainingSet = dataset.copy()\n",
    "trainingSet[year] = { year: dataset[year][:-prediction_length] for year in dataset.keys() }\n",
    "\n",
    "testSet = dataset.copy()"
   ]
  },
  {
   "cell_type": "code",
   "execution_count": 88,
   "metadata": {},
   "outputs": [
    {
     "data": {
      "text/html": [
       "<div>\n",
       "<style scoped>\n",
       "    .dataframe tbody tr th:only-of-type {\n",
       "        vertical-align: middle;\n",
       "    }\n",
       "\n",
       "    .dataframe tbody tr th {\n",
       "        vertical-align: top;\n",
       "    }\n",
       "\n",
       "    .dataframe thead th {\n",
       "        text-align: right;\n",
       "    }\n",
       "</style>\n",
       "<table border=\"1\" class=\"dataframe\">\n",
       "  <thead>\n",
       "    <tr style=\"text-align: right;\">\n",
       "      <th></th>\n",
       "      <th>departure_terminal</th>\n",
       "      <th>arrival_terminal</th>\n",
       "      <th>scheduled_departure</th>\n",
       "      <th>actual_departure</th>\n",
       "      <th>Actual_Arrival</th>\n",
       "      <th>TransitTime</th>\n",
       "      <th>seconds_late</th>\n",
       "    </tr>\n",
       "    <tr>\n",
       "      <th>timestamps</th>\n",
       "      <th></th>\n",
       "      <th></th>\n",
       "      <th></th>\n",
       "      <th></th>\n",
       "      <th></th>\n",
       "      <th></th>\n",
       "      <th></th>\n",
       "    </tr>\n",
       "  </thead>\n",
       "  <tbody>\n",
       "    <tr>\n",
       "      <th>2013-12-31 23:35:00</th>\n",
       "      <td>Bainbridge</td>\n",
       "      <td>Colman</td>\n",
       "      <td>NaN</td>\n",
       "      <td>NaN</td>\n",
       "      <td>NaN</td>\n",
       "      <td>NaN</td>\n",
       "      <td>225.0</td>\n",
       "    </tr>\n",
       "    <tr>\n",
       "      <th>2013-12-31 23:40:00</th>\n",
       "      <td>Bainbridge</td>\n",
       "      <td>Colman</td>\n",
       "      <td>NaN</td>\n",
       "      <td>NaN</td>\n",
       "      <td>NaN</td>\n",
       "      <td>NaN</td>\n",
       "      <td>225.0</td>\n",
       "    </tr>\n",
       "    <tr>\n",
       "      <th>2013-12-31 23:45:00</th>\n",
       "      <td>Bainbridge</td>\n",
       "      <td>Colman</td>\n",
       "      <td>NaN</td>\n",
       "      <td>NaN</td>\n",
       "      <td>NaN</td>\n",
       "      <td>NaN</td>\n",
       "      <td>225.0</td>\n",
       "    </tr>\n",
       "    <tr>\n",
       "      <th>2013-12-31 23:50:00</th>\n",
       "      <td>Bainbridge</td>\n",
       "      <td>Colman</td>\n",
       "      <td>NaN</td>\n",
       "      <td>NaN</td>\n",
       "      <td>NaN</td>\n",
       "      <td>NaN</td>\n",
       "      <td>225.0</td>\n",
       "    </tr>\n",
       "    <tr>\n",
       "      <th>2013-12-31 23:55:00</th>\n",
       "      <td>Bainbridge</td>\n",
       "      <td>Colman</td>\n",
       "      <td>NaN</td>\n",
       "      <td>NaN</td>\n",
       "      <td>NaN</td>\n",
       "      <td>NaN</td>\n",
       "      <td>225.0</td>\n",
       "    </tr>\n",
       "  </tbody>\n",
       "</table>\n",
       "</div>"
      ],
      "text/plain": [
       "                    departure_terminal arrival_terminal scheduled_departure  \\\n",
       "timestamps                                                                    \n",
       "2013-12-31 23:35:00         Bainbridge           Colman                 NaN   \n",
       "2013-12-31 23:40:00         Bainbridge           Colman                 NaN   \n",
       "2013-12-31 23:45:00         Bainbridge           Colman                 NaN   \n",
       "2013-12-31 23:50:00         Bainbridge           Colman                 NaN   \n",
       "2013-12-31 23:55:00         Bainbridge           Colman                 NaN   \n",
       "\n",
       "                    actual_departure Actual_Arrival  TransitTime  seconds_late  \n",
       "timestamps                                                                      \n",
       "2013-12-31 23:35:00              NaN            NaN          NaN         225.0  \n",
       "2013-12-31 23:40:00              NaN            NaN          NaN         225.0  \n",
       "2013-12-31 23:45:00              NaN            NaN          NaN         225.0  \n",
       "2013-12-31 23:50:00              NaN            NaN          NaN         225.0  \n",
       "2013-12-31 23:55:00              NaN            NaN          NaN         225.0  "
      ]
     },
     "execution_count": 88,
     "metadata": {},
     "output_type": "execute_result"
    }
   ],
   "source": [
    "df.tail(5)"
   ]
  },
  {
   "cell_type": "markdown",
   "metadata": {},
   "source": [
    "<a href = \"https://stackoverflow.com/questions/3418050/month-name-to-month-number-and-vice-versa-in-python\">month name to month number and vice versa in python</a>"
   ]
  },
  {
   "cell_type": "code",
   "execution_count": 125,
   "metadata": {},
   "outputs": [],
   "source": [
    "months_to_number = {v: k for k,v in enumerate(calendar.month_name)}"
   ]
  },
  {
   "cell_type": "code",
   "execution_count": 128,
   "metadata": {},
   "outputs": [],
   "source": [
    "train_key      = 'bainbridge_2013_deepar_training.json'\n",
    "test_key       = 'bainbridge_2013_deepar_test.json'\n",
    "\n",
    "def writeDataset(filename, data):\n",
    "    file=open(filename,'w')\n",
    "    for key in dataset.keys():\n",
    "        # One JSON sample per line\n",
    "        month, year = key.split(\" \")\n",
    "        line = \"\\\"start\\\":\\\"{}-{}-01 00:00:00\\\",\\\"target\\\":{}\".format(year, months_to_number[month],dataset[key])\n",
    "        file.write('{'+line+'}\\n')"
   ]
  },
  {
   "cell_type": "code",
   "execution_count": 129,
   "metadata": {},
   "outputs": [],
   "source": [
    "writeDataset(train_key, trainingSet)        \n",
    "writeDataset(test_key, testSet)"
   ]
  },
  {
   "cell_type": "code",
   "execution_count": 131,
   "metadata": {},
   "outputs": [],
   "source": [
    "#!head -20 bainbridge_2013_deepar_training.json"
   ]
  },
  {
   "cell_type": "markdown",
   "metadata": {},
   "source": [
    "## Upload training set and test set to S3"
   ]
  },
  {
   "cell_type": "code",
   "execution_count": 132,
   "metadata": {},
   "outputs": [],
   "source": [
    "prefix         = 'sagemaker/ferry-deepar-julian'\n",
    "\n",
    "train_prefix   = '{}/{}'.format(prefix, 'train')\n",
    "test_prefix    = '{}/{}'.format(prefix, 'test')\n",
    "output_prefix  = '{}/{}'.format(prefix, 'output')"
   ]
  },
  {
   "cell_type": "code",
   "execution_count": 133,
   "metadata": {},
   "outputs": [
    {
     "name": "stdout",
     "output_type": "stream",
     "text": [
      "s3://example-bucket-99/sagemaker/ferry-deepar-julian/train/bainbridge_2013_deepar_training.json\n",
      "s3://example-bucket-99/sagemaker/ferry-deepar-julian/test/bainbridge_2013_deepar_test.json\n",
      "s3://example-bucket-99/sagemaker/ferry-deepar-julian/output\n"
     ]
    }
   ],
   "source": [
    "sagemaker_session = sagemaker.Session()\n",
    "role              = sagemaker.get_execution_role()\n",
    "region            = boto3.Session().region_name\n",
    "\n",
    "train_path  = sagemaker_session.upload_data(train_key, bucket=bucket, key_prefix=train_prefix)\n",
    "test_path   = sagemaker_session.upload_data(test_key,  bucket=bucket, key_prefix=test_prefix)\n",
    "output_path = 's3://{}/{}'.format(bucket, output_prefix)\n",
    "\n",
    "print(train_path)\n",
    "print(test_path)\n",
    "print(output_path)"
   ]
  },
  {
   "cell_type": "markdown",
   "metadata": {},
   "source": [
    "## Configure training job"
   ]
  },
  {
   "cell_type": "code",
   "execution_count": 134,
   "metadata": {},
   "outputs": [],
   "source": [
    "containers = {\n",
    "    'us-east-1': '522234722520.dkr.ecr.us-east-1.amazonaws.com/forecasting-deepar:latest',\n",
    "    'us-east-2': '566113047672.dkr.ecr.us-east-2.amazonaws.com/forecasting-deepar:latest',\n",
    "    'us-west-2': '156387875391.dkr.ecr.us-west-2.amazonaws.com/forecasting-deepar:latest',\n",
    "    'eu-west-1': '224300973850.dkr.ecr.eu-west-1.amazonaws.com/forecasting-deepar:latest'\n",
    "}\n",
    "\n",
    "image_name = containers[region]"
   ]
  },
  {
   "cell_type": "code",
   "execution_count": 147,
   "metadata": {},
   "outputs": [],
   "source": [
    "estimator = sagemaker.estimator.Estimator(\n",
    "    sagemaker_session=sagemaker_session,\n",
    "    image_name=image_name,\n",
    "    role=role,\n",
    "    train_instance_count=1,\n",
    "    train_instance_type='ml.c4.8xlarge',\n",
    "    base_job_name='ferry-predictor',\n",
    "    output_path=output_path\n",
    ")"
   ]
  },
  {
   "cell_type": "code",
   "execution_count": 148,
   "metadata": {},
   "outputs": [],
   "source": [
    "# https://docs.aws.amazon.com/sagemaker/latest/dg/deepar_hyperparameters.html\n",
    "\n",
    "hyperparameters = {\n",
    "    \"time_freq\": '5min',\n",
    "    \"context_length\": prediction_length,\n",
    "    \"prediction_length\": prediction_length, # number of data points to predict\n",
    "    \"num_cells\": \"40\",\n",
    "    \"num_layers\": \"2\",\n",
    "    \"likelihood\": \"gaussian\",\n",
    "    \"epochs\": \"250\",\n",
    "    \"mini_batch_size\": \"32\",\n",
    "    \"learning_rate\": \"0.00001\",\n",
    "    \"dropout_rate\": \"0.05\",\n",
    "    \"early_stopping_patience\": \"10\" # stop if loss hasn't improved in 10 epochs\n",
    "}\n",
    "\n",
    "estimator.set_hyperparameters(**hyperparameters)"
   ]
  },
  {
   "cell_type": "markdown",
   "metadata": {},
   "source": [
    "## Run training job"
   ]
  },
  {
   "cell_type": "code",
   "execution_count": 149,
   "metadata": {},
   "outputs": [
    {
     "name": "stdout",
     "output_type": "stream",
     "text": [
      "s3://example-bucket-99/sagemaker/ferry-deepar-julian/train/bainbridge_2013_deepar_training.json\n",
      "s3://example-bucket-99/sagemaker/ferry-deepar-julian/test/bainbridge_2013_deepar_test.json\n",
      "s3://example-bucket-99/sagemaker/ferry-deepar-julian/output\n"
     ]
    }
   ],
   "source": [
    "print(train_path)\n",
    "print(test_path)\n",
    "print(output_path)\n",
    "\n",
    "data_channels = {\"train\": train_path, \"test\": test_path}"
   ]
  },
  {
   "cell_type": "code",
   "execution_count": 150,
   "metadata": {
    "scrolled": true
   },
   "outputs": [
    {
     "name": "stderr",
     "output_type": "stream",
     "text": [
      "INFO:sagemaker:Creating training-job with name: ferry-predictor-2019-03-29-16-19-13-161\n"
     ]
    },
    {
     "name": "stdout",
     "output_type": "stream",
     "text": [
      "2019-03-29 16:19:13 Starting - Starting the training job...\n",
      "2019-03-29 16:19:14 Starting - Launching requested ML instances......\n",
      "2019-03-29 16:20:24 Starting - Preparing the instances for training......\n",
      "2019-03-29 16:21:21 Downloading - Downloading input data...\n",
      "2019-03-29 16:21:56 Training - Training image download completed. Training in progress.\n",
      "\u001b[31mArguments: train\u001b[0m\n",
      "\u001b[31m[03/29/2019 16:21:59 INFO 140545655179072] Reading default configuration from /opt/amazon/lib/python2.7/site-packages/algorithm/default-input.json: {u'num_dynamic_feat': u'auto', u'dropout_rate': u'0.10', u'mini_batch_size': u'128', u'test_quantiles': u'[0.1, 0.2, 0.3, 0.4, 0.5, 0.6, 0.7, 0.8, 0.9]', u'_tuning_objective_metric': u'', u'_num_gpus': u'auto', u'num_eval_samples': u'100', u'learning_rate': u'0.001', u'num_cells': u'40', u'num_layers': u'2', u'embedding_dimension': u'10', u'_kvstore': u'auto', u'_num_kv_servers': u'auto', u'cardinality': u'auto', u'likelihood': u'student-t', u'early_stopping_patience': u''}\u001b[0m\n",
      "\u001b[31m[03/29/2019 16:21:59 INFO 140545655179072] Reading provided configuration from /opt/ml/input/config/hyperparameters.json: {u'dropout_rate': u'0.05', u'learning_rate': u'0.00001', u'num_cells': u'40', u'prediction_length': u'30', u'epochs': u'250', u'time_freq': u'5min', u'context_length': u'30', u'num_layers': u'2', u'mini_batch_size': u'32', u'likelihood': u'gaussian', u'early_stopping_patience': u'10'}\u001b[0m\n",
      "\u001b[31m[03/29/2019 16:21:59 INFO 140545655179072] Final configuration: {u'dropout_rate': u'0.05', u'test_quantiles': u'[0.1, 0.2, 0.3, 0.4, 0.5, 0.6, 0.7, 0.8, 0.9]', u'_tuning_objective_metric': u'', u'num_eval_samples': u'100', u'learning_rate': u'0.00001', u'num_layers': u'2', u'epochs': u'250', u'embedding_dimension': u'10', u'num_cells': u'40', u'_num_kv_servers': u'auto', u'mini_batch_size': u'32', u'likelihood': u'gaussian', u'num_dynamic_feat': u'auto', u'cardinality': u'auto', u'_num_gpus': u'auto', u'prediction_length': u'30', u'time_freq': u'5min', u'context_length': u'30', u'_kvstore': u'auto', u'early_stopping_patience': u'10'}\u001b[0m\n",
      "\u001b[31mProcess 1 is a worker.\u001b[0m\n",
      "\u001b[31m[03/29/2019 16:21:59 INFO 140545655179072] Detected entry point for worker worker\u001b[0m\n",
      "\u001b[31m[03/29/2019 16:21:59 INFO 140545655179072] Using early stopping with patience 10\u001b[0m\n",
      "\u001b[31m[03/29/2019 16:21:59 INFO 140545655179072] [cardinality=auto] `cat` field was NOT found in the file `/opt/ml/input/data/train/bainbridge_2013_deepar_training.json` and will NOT be used for training.\u001b[0m\n",
      "\u001b[31m[03/29/2019 16:21:59 INFO 140545655179072] [num_dynamic_feat=auto] `dynamic_feat` field was NOT found in the file `/opt/ml/input/data/train/bainbridge_2013_deepar_training.json` and will NOT be used for training.\u001b[0m\n",
      "\u001b[31m[03/29/2019 16:21:59 INFO 140545655179072] Training set statistics:\u001b[0m\n",
      "\u001b[31m[03/29/2019 16:21:59 INFO 140545655179072] Real time series\u001b[0m\n",
      "\u001b[31m[03/29/2019 16:21:59 INFO 140545655179072] number of time series: 12\u001b[0m\n",
      "\u001b[31m[03/29/2019 16:21:59 INFO 140545655179072] number of observations: 105109\u001b[0m\n",
      "\u001b[31m[03/29/2019 16:21:59 INFO 140545655179072] mean target length: 8759\u001b[0m\n",
      "\u001b[31m[03/29/2019 16:21:59 INFO 140545655179072] min/mean/max target: -291.0/145.752363023/3584.0\u001b[0m\n",
      "\u001b[31m[03/29/2019 16:21:59 INFO 140545655179072] mean abs(target): 147.425686074\u001b[0m\n",
      "\u001b[31m[03/29/2019 16:21:59 INFO 140545655179072] contains missing values: no\u001b[0m\n",
      "\u001b[31m[03/29/2019 16:21:59 INFO 140545655179072] Small number of time series. Doing 10 number of passes over dataset per epoch.\u001b[0m\n",
      "\u001b[31m[03/29/2019 16:21:59 INFO 140545655179072] Test set statistics:\u001b[0m\n",
      "\u001b[31m[03/29/2019 16:21:59 INFO 140545655179072] Real time series\u001b[0m\n",
      "\u001b[31m[03/29/2019 16:21:59 INFO 140545655179072] number of time series: 12\u001b[0m\n",
      "\u001b[31m[03/29/2019 16:21:59 INFO 140545655179072] number of observations: 105109\u001b[0m\n",
      "\u001b[31m[03/29/2019 16:21:59 INFO 140545655179072] mean target length: 8759\u001b[0m\n",
      "\u001b[31m[03/29/2019 16:21:59 INFO 140545655179072] min/mean/max target: -291.0/145.752363023/3584.0\u001b[0m\n",
      "\u001b[31m[03/29/2019 16:21:59 INFO 140545655179072] mean abs(target): 147.425686074\u001b[0m\n",
      "\u001b[31m[03/29/2019 16:21:59 INFO 140545655179072] contains missing values: no\u001b[0m\n",
      "\u001b[31m[03/29/2019 16:21:59 INFO 140545655179072] nvidia-smi took: 0.0251688957214 secs to identify 0 gpus\u001b[0m\n",
      "\u001b[31m[03/29/2019 16:21:59 INFO 140545655179072] Number of GPUs being used: 0\u001b[0m\n",
      "\u001b[31m[03/29/2019 16:21:59 INFO 140545655179072] Create Store: local\u001b[0m\n",
      "\u001b[31m#metrics {\"Metrics\": {\"get_graph.time\": {\"count\": 1, \"max\": 483.1280708312988, \"sum\": 483.1280708312988, \"min\": 483.1280708312988}}, \"EndTime\": 1553876520.397374, \"Dimensions\": {\"Host\": \"algo-1\", \"Operation\": \"training\", \"Algorithm\": \"AWS/DeepAR\"}, \"StartTime\": 1553876519.913471}\n",
      "\u001b[0m\n",
      "\u001b[31m[03/29/2019 16:22:00 INFO 140545655179072] Number of GPUs being used: 0\u001b[0m\n",
      "\u001b[31m#metrics {\"Metrics\": {\"initialize.time\": {\"count\": 1, \"max\": 740.3280735015869, \"sum\": 740.3280735015869, \"min\": 740.3280735015869}}, \"EndTime\": 1553876520.653895, \"Dimensions\": {\"Host\": \"algo-1\", \"Operation\": \"training\", \"Algorithm\": \"AWS/DeepAR\"}, \"StartTime\": 1553876520.397469}\n",
      "\u001b[0m\n",
      "\u001b[31m[03/29/2019 16:22:01 INFO 140545655179072] Epoch[0] Batch[0] avg_epoch_loss=9.381785\u001b[0m\n",
      "\u001b[31m[03/29/2019 16:22:01 INFO 140545655179072] Epoch[0] Batch[5] avg_epoch_loss=37.405829\u001b[0m\n",
      "\u001b[31m[03/29/2019 16:22:01 INFO 140545655179072] Epoch[0] Batch [5]#011Speed: 516.12 samples/sec#011loss=37.405829\u001b[0m\n",
      "\u001b[31m[03/29/2019 16:22:01 INFO 140545655179072] Epoch[0] Batch[10] avg_epoch_loss=29.854048\u001b[0m\n",
      "\u001b[31m[03/29/2019 16:22:01 INFO 140545655179072] Epoch[0] Batch [10]#011Speed: 491.31 samples/sec#011loss=20.791909\u001b[0m\n",
      "\u001b[31m[03/29/2019 16:22:01 INFO 140545655179072] processed a total of 329 examples\u001b[0m\n",
      "\u001b[31m#metrics {\"Metrics\": {\"epochs\": {\"count\": 1, \"max\": 250, \"sum\": 250.0, \"min\": 250}, \"update.time\": {\"count\": 1, \"max\": 1295.0551509857178, \"sum\": 1295.0551509857178, \"min\": 1295.0551509857178}}, \"EndTime\": 1553876521.949102, \"Dimensions\": {\"Host\": \"algo-1\", \"Operation\": \"training\", \"Algorithm\": \"AWS/DeepAR\"}, \"StartTime\": 1553876520.65395}\n",
      "\u001b[0m\n",
      "\u001b[31m[03/29/2019 16:22:01 INFO 140545655179072] #throughput_metric: host=algo-1, train throughput=254.02677328 records/second\u001b[0m\n",
      "\u001b[31m[03/29/2019 16:22:01 INFO 140545655179072] #progress_metric: host=algo-1, completed 0 % of epochs\u001b[0m\n",
      "\u001b[31m[03/29/2019 16:22:01 INFO 140545655179072] best epoch loss so far\u001b[0m\n",
      "\u001b[31m[03/29/2019 16:22:01 INFO 140545655179072] Saved checkpoint to \"/opt/ml/model/state_c0227718-abba-4b03-91b1-85166e37bbc0-0000.params\"\u001b[0m\n",
      "\u001b[31m#metrics {\"Metrics\": {\"state.serialize.time\": {\"count\": 1, \"max\": 18.7227725982666, \"sum\": 18.7227725982666, \"min\": 18.7227725982666}}, \"EndTime\": 1553876521.968155, \"Dimensions\": {\"Host\": \"algo-1\", \"Operation\": \"training\", \"Algorithm\": \"AWS/DeepAR\"}, \"StartTime\": 1553876521.949159}\n",
      "\u001b[0m\n",
      "\u001b[31m[03/29/2019 16:22:02 INFO 140545655179072] Epoch[1] Batch[0] avg_epoch_loss=110.638359\u001b[0m\n",
      "\u001b[31m[03/29/2019 16:22:02 INFO 140545655179072] Epoch[1] Batch[5] avg_epoch_loss=60.003254\u001b[0m\n",
      "\u001b[31m[03/29/2019 16:22:02 INFO 140545655179072] Epoch[1] Batch [5]#011Speed: 493.29 samples/sec#011loss=60.003254\u001b[0m\n",
      "\u001b[31m[03/29/2019 16:22:02 INFO 140545655179072] processed a total of 300 examples\u001b[0m\n",
      "\u001b[31m#metrics {\"Metrics\": {\"update.time\": {\"count\": 1, \"max\": 950.8109092712402, \"sum\": 950.8109092712402, \"min\": 950.8109092712402}}, \"EndTime\": 1553876522.919053, \"Dimensions\": {\"Host\": \"algo-1\", \"Operation\": \"training\", \"Algorithm\": \"AWS/DeepAR\"}, \"StartTime\": 1553876521.968198}\n",
      "\u001b[0m\n",
      "\u001b[31m[03/29/2019 16:22:02 INFO 140545655179072] #throughput_metric: host=algo-1, train throughput=315.493567978 records/second\u001b[0m\n",
      "\u001b[31m[03/29/2019 16:22:02 INFO 140545655179072] #progress_metric: host=algo-1, completed 0 % of epochs\u001b[0m\n",
      "\u001b[31m[03/29/2019 16:22:02 INFO 140545655179072] loss did not improve\u001b[0m\n",
      "\u001b[31m[03/29/2019 16:22:03 INFO 140545655179072] Epoch[2] Batch[0] avg_epoch_loss=18.927080\u001b[0m\n",
      "\u001b[31m[03/29/2019 16:22:03 INFO 140545655179072] Epoch[2] Batch[5] avg_epoch_loss=21.538388\u001b[0m\n",
      "\u001b[31m[03/29/2019 16:22:03 INFO 140545655179072] Epoch[2] Batch [5]#011Speed: 444.11 samples/sec#011loss=21.538388\u001b[0m\n",
      "\u001b[31m[03/29/2019 16:22:03 INFO 140545655179072] processed a total of 320 examples\u001b[0m\n",
      "\u001b[31m#metrics {\"Metrics\": {\"update.time\": {\"count\": 1, \"max\": 1021.6968059539795, \"sum\": 1021.6968059539795, \"min\": 1021.6968059539795}}, \"EndTime\": 1553876523.941036, \"Dimensions\": {\"Host\": \"algo-1\", \"Operation\": \"training\", \"Algorithm\": \"AWS/DeepAR\"}, \"StartTime\": 1553876522.919106}\n",
      "\u001b[0m\n",
      "\u001b[31m[03/29/2019 16:22:03 INFO 140545655179072] #throughput_metric: host=algo-1, train throughput=313.17281963 records/second\u001b[0m\n",
      "\u001b[31m[03/29/2019 16:22:03 INFO 140545655179072] #progress_metric: host=algo-1, completed 1 % of epochs\u001b[0m\n",
      "\u001b[31m[03/29/2019 16:22:03 INFO 140545655179072] loss did not improve\u001b[0m\n",
      "\u001b[31m[03/29/2019 16:22:04 INFO 140545655179072] Epoch[3] Batch[0] avg_epoch_loss=1843.422729\u001b[0m\n",
      "\u001b[31m[03/29/2019 16:22:04 INFO 140545655179072] Epoch[3] Batch[5] avg_epoch_loss=357.437092\u001b[0m\n",
      "\u001b[31m[03/29/2019 16:22:04 INFO 140545655179072] Epoch[3] Batch [5]#011Speed: 494.48 samples/sec#011loss=357.437092\u001b[0m\n",
      "\u001b[31m[03/29/2019 16:22:04 INFO 140545655179072] processed a total of 309 examples\u001b[0m\n",
      "\u001b[31m#metrics {\"Metrics\": {\"update.time\": {\"count\": 1, \"max\": 947.991132736206, \"sum\": 947.991132736206, \"min\": 947.991132736206}}, \"EndTime\": 1553876524.889391, \"Dimensions\": {\"Host\": \"algo-1\", \"Operation\": \"training\", \"Algorithm\": \"AWS/DeepAR\"}, \"StartTime\": 1553876523.941106}\n",
      "\u001b[0m\n",
      "\u001b[31m[03/29/2019 16:22:04 INFO 140545655179072] #throughput_metric: host=algo-1, train throughput=325.922579175 records/second\u001b[0m\n",
      "\u001b[31m[03/29/2019 16:22:04 INFO 140545655179072] #progress_metric: host=algo-1, completed 1 % of epochs\u001b[0m\n",
      "\u001b[31m[03/29/2019 16:22:04 INFO 140545655179072] loss did not improve\u001b[0m\n",
      "\u001b[31m[03/29/2019 16:22:05 INFO 140545655179072] Epoch[4] Batch[0] avg_epoch_loss=79.187889\u001b[0m\n",
      "\u001b[31m[03/29/2019 16:22:05 INFO 140545655179072] Epoch[4] Batch[5] avg_epoch_loss=64.856506\u001b[0m\n",
      "\u001b[31m[03/29/2019 16:22:05 INFO 140545655179072] Epoch[4] Batch [5]#011Speed: 507.63 samples/sec#011loss=64.856506\u001b[0m\n",
      "\u001b[31m[03/29/2019 16:22:05 INFO 140545655179072] Epoch[4] Batch[10] avg_epoch_loss=42.308645\u001b[0m\n",
      "\u001b[31m[03/29/2019 16:22:05 INFO 140545655179072] Epoch[4] Batch [10]#011Speed: 526.40 samples/sec#011loss=15.251213\u001b[0m\n",
      "\u001b[31m[03/29/2019 16:22:05 INFO 140545655179072] processed a total of 357 examples\u001b[0m\n",
      "\u001b[31m#metrics {\"Metrics\": {\"update.time\": {\"count\": 1, \"max\": 1072.9961395263672, \"sum\": 1072.9961395263672, \"min\": 1072.9961395263672}}, \"EndTime\": 1553876525.962658, \"Dimensions\": {\"Host\": \"algo-1\", \"Operation\": \"training\", \"Algorithm\": \"AWS/DeepAR\"}, \"StartTime\": 1553876524.889444}\n",
      "\u001b[0m\n",
      "\u001b[31m[03/29/2019 16:22:05 INFO 140545655179072] #throughput_metric: host=algo-1, train throughput=332.688455204 records/second\u001b[0m\n",
      "\u001b[31m[03/29/2019 16:22:05 INFO 140545655179072] #progress_metric: host=algo-1, completed 2 % of epochs\u001b[0m\n",
      "\u001b[31m[03/29/2019 16:22:05 INFO 140545655179072] loss did not improve\u001b[0m\n",
      "\u001b[31m[03/29/2019 16:22:06 INFO 140545655179072] Epoch[5] Batch[0] avg_epoch_loss=315.244965\u001b[0m\n",
      "\u001b[31m[03/29/2019 16:22:06 INFO 140545655179072] Epoch[5] Batch[5] avg_epoch_loss=64.602424\u001b[0m\n",
      "\u001b[31m[03/29/2019 16:22:06 INFO 140545655179072] Epoch[5] Batch [5]#011Speed: 430.30 samples/sec#011loss=64.602424\u001b[0m\n",
      "\u001b[31m[03/29/2019 16:22:07 INFO 140545655179072] Epoch[5] Batch[10] avg_epoch_loss=60.715045\u001b[0m\n",
      "\u001b[31m[03/29/2019 16:22:07 INFO 140545655179072] Epoch[5] Batch [10]#011Speed: 444.00 samples/sec#011loss=56.050191\u001b[0m\n",
      "\u001b[31m[03/29/2019 16:22:07 INFO 140545655179072] processed a total of 325 examples\u001b[0m\n",
      "\u001b[31m#metrics {\"Metrics\": {\"update.time\": {\"count\": 1, \"max\": 1061.5861415863037, \"sum\": 1061.5861415863037, \"min\": 1061.5861415863037}}, \"EndTime\": 1553876527.024513, \"Dimensions\": {\"Host\": \"algo-1\", \"Operation\": \"training\", \"Algorithm\": \"AWS/DeepAR\"}, \"StartTime\": 1553876525.962712}\n",
      "\u001b[0m\n",
      "\u001b[31m[03/29/2019 16:22:07 INFO 140545655179072] #throughput_metric: host=algo-1, train throughput=306.123531503 records/second\u001b[0m\n",
      "\u001b[31m[03/29/2019 16:22:07 INFO 140545655179072] #progress_metric: host=algo-1, completed 2 % of epochs\u001b[0m\n",
      "\u001b[31m[03/29/2019 16:22:07 INFO 140545655179072] loss did not improve\u001b[0m\n",
      "\u001b[31m[03/29/2019 16:22:07 INFO 140545655179072] Epoch[6] Batch[0] avg_epoch_loss=442.275116\u001b[0m\n",
      "\u001b[31m[03/29/2019 16:22:07 INFO 140545655179072] Epoch[6] Batch[5] avg_epoch_loss=117.833351\u001b[0m\n",
      "\u001b[31m[03/29/2019 16:22:07 INFO 140545655179072] Epoch[6] Batch [5]#011Speed: 410.20 samples/sec#011loss=117.833351\u001b[0m\n",
      "\u001b[31m[03/29/2019 16:22:08 INFO 140545655179072] Epoch[6] Batch[10] avg_epoch_loss=80.956779\u001b[0m\n",
      "\u001b[31m[03/29/2019 16:22:08 INFO 140545655179072] Epoch[6] Batch [10]#011Speed: 378.19 samples/sec#011loss=36.704892\u001b[0m\n",
      "\u001b[31m[03/29/2019 16:22:08 INFO 140545655179072] processed a total of 321 examples\u001b[0m\n",
      "\u001b[31m#metrics {\"Metrics\": {\"update.time\": {\"count\": 1, \"max\": 1157.5500965118408, \"sum\": 1157.5500965118408, \"min\": 1157.5500965118408}}, \"EndTime\": 1553876528.182329, \"Dimensions\": {\"Host\": \"algo-1\", \"Operation\": \"training\", \"Algorithm\": \"AWS/DeepAR\"}, \"StartTime\": 1553876527.024566}\n",
      "\u001b[0m\n",
      "\u001b[31m[03/29/2019 16:22:08 INFO 140545655179072] #throughput_metric: host=algo-1, train throughput=277.290679426 records/second\u001b[0m\n",
      "\u001b[31m[03/29/2019 16:22:08 INFO 140545655179072] #progress_metric: host=algo-1, completed 2 % of epochs\u001b[0m\n",
      "\u001b[31m[03/29/2019 16:22:08 INFO 140545655179072] loss did not improve\u001b[0m\n",
      "\u001b[31m[03/29/2019 16:22:08 INFO 140545655179072] Epoch[7] Batch[0] avg_epoch_loss=44.555012\u001b[0m\n",
      "\u001b[31m[03/29/2019 16:22:08 INFO 140545655179072] Epoch[7] Batch[5] avg_epoch_loss=6896.418031\u001b[0m\n",
      "\u001b[31m[03/29/2019 16:22:08 INFO 140545655179072] Epoch[7] Batch [5]#011Speed: 411.71 samples/sec#011loss=6896.418031\u001b[0m\n",
      "\u001b[31m[03/29/2019 16:22:09 INFO 140545655179072] Epoch[7] Batch[10] avg_epoch_loss=3797.988516\u001b[0m\n",
      "\u001b[31m[03/29/2019 16:22:09 INFO 140545655179072] Epoch[7] Batch [10]#011Speed: 423.54 samples/sec#011loss=79.873099\u001b[0m\n",
      "\u001b[31m[03/29/2019 16:22:09 INFO 140545655179072] processed a total of 347 examples\u001b[0m\n",
      "\u001b[31m#metrics {\"Metrics\": {\"update.time\": {\"count\": 1, \"max\": 1123.548984527588, \"sum\": 1123.548984527588, \"min\": 1123.548984527588}}, \"EndTime\": 1553876529.306161, \"Dimensions\": {\"Host\": \"algo-1\", \"Operation\": \"training\", \"Algorithm\": \"AWS/DeepAR\"}, \"StartTime\": 1553876528.182382}\n",
      "\u001b[0m\n",
      "\u001b[31m[03/29/2019 16:22:09 INFO 140545655179072] #throughput_metric: host=algo-1, train throughput=308.816116062 records/second\u001b[0m\n",
      "\u001b[31m[03/29/2019 16:22:09 INFO 140545655179072] #progress_metric: host=algo-1, completed 3 % of epochs\u001b[0m\n",
      "\u001b[31m[03/29/2019 16:22:09 INFO 140545655179072] loss did not improve\u001b[0m\n",
      "\u001b[31m[03/29/2019 16:22:09 INFO 140545655179072] Epoch[8] Batch[0] avg_epoch_loss=264.032104\u001b[0m\n",
      "\u001b[31m[03/29/2019 16:22:09 INFO 140545655179072] Epoch[8] Batch[5] avg_epoch_loss=10713.114228\u001b[0m\n",
      "\u001b[31m[03/29/2019 16:22:09 INFO 140545655179072] Epoch[8] Batch [5]#011Speed: 512.65 samples/sec#011loss=10713.114228\u001b[0m\n",
      "\u001b[31m[03/29/2019 16:22:10 INFO 140545655179072] processed a total of 304 examples\u001b[0m\n",
      "\u001b[31m#metrics {\"Metrics\": {\"update.time\": {\"count\": 1, \"max\": 928.076982498169, \"sum\": 928.076982498169, \"min\": 928.076982498169}}, \"EndTime\": 1553876530.234585, \"Dimensions\": {\"Host\": \"algo-1\", \"Operation\": \"training\", \"Algorithm\": \"AWS/DeepAR\"}, \"StartTime\": 1553876529.306227}\n",
      "\u001b[0m\n",
      "\u001b[31m[03/29/2019 16:22:10 INFO 140545655179072] #throughput_metric: host=algo-1, train throughput=327.529753133 records/second\u001b[0m\n",
      "\u001b[31m[03/29/2019 16:22:10 INFO 140545655179072] #progress_metric: host=algo-1, completed 3 % of epochs\u001b[0m\n",
      "\u001b[31m[03/29/2019 16:22:10 INFO 140545655179072] loss did not improve\u001b[0m\n"
     ]
    },
    {
     "name": "stdout",
     "output_type": "stream",
     "text": [
      "\u001b[31m[03/29/2019 16:22:10 INFO 140545655179072] Epoch[9] Batch[0] avg_epoch_loss=8.071934\u001b[0m\n",
      "\u001b[31m[03/29/2019 16:22:10 INFO 140545655179072] Epoch[9] Batch[5] avg_epoch_loss=24.106121\u001b[0m\n",
      "\u001b[31m[03/29/2019 16:22:10 INFO 140545655179072] Epoch[9] Batch [5]#011Speed: 492.42 samples/sec#011loss=24.106121\u001b[0m\n",
      "\u001b[31m[03/29/2019 16:22:11 INFO 140545655179072] Epoch[9] Batch[10] avg_epoch_loss=689.914242\u001b[0m\n",
      "\u001b[31m[03/29/2019 16:22:11 INFO 140545655179072] Epoch[9] Batch [10]#011Speed: 405.55 samples/sec#011loss=1488.883986\u001b[0m\n",
      "\u001b[31m[03/29/2019 16:22:11 INFO 140545655179072] processed a total of 334 examples\u001b[0m\n",
      "\u001b[31m#metrics {\"Metrics\": {\"update.time\": {\"count\": 1, \"max\": 1051.5401363372803, \"sum\": 1051.5401363372803, \"min\": 1051.5401363372803}}, \"EndTime\": 1553876531.286494, \"Dimensions\": {\"Host\": \"algo-1\", \"Operation\": \"training\", \"Algorithm\": \"AWS/DeepAR\"}, \"StartTime\": 1553876530.234639}\n",
      "\u001b[0m\n",
      "\u001b[31m[03/29/2019 16:22:11 INFO 140545655179072] #throughput_metric: host=algo-1, train throughput=317.599168242 records/second\u001b[0m\n",
      "\u001b[31m[03/29/2019 16:22:11 INFO 140545655179072] #progress_metric: host=algo-1, completed 4 % of epochs\u001b[0m\n",
      "\u001b[31m[03/29/2019 16:22:11 INFO 140545655179072] loss did not improve\u001b[0m\n",
      "\u001b[31m[03/29/2019 16:22:11 INFO 140545655179072] Epoch[10] Batch[0] avg_epoch_loss=1461.293579\u001b[0m\n",
      "\u001b[31m[03/29/2019 16:22:11 INFO 140545655179072] Epoch[10] Batch[5] avg_epoch_loss=282.415010\u001b[0m\n",
      "\u001b[31m[03/29/2019 16:22:11 INFO 140545655179072] Epoch[10] Batch [5]#011Speed: 521.14 samples/sec#011loss=282.415010\u001b[0m\n",
      "\u001b[31m[03/29/2019 16:22:12 INFO 140545655179072] processed a total of 313 examples\u001b[0m\n",
      "\u001b[31m#metrics {\"Metrics\": {\"update.time\": {\"count\": 1, \"max\": 904.7451019287109, \"sum\": 904.7451019287109, \"min\": 904.7451019287109}}, \"EndTime\": 1553876532.191581, \"Dimensions\": {\"Host\": \"algo-1\", \"Operation\": \"training\", \"Algorithm\": \"AWS/DeepAR\"}, \"StartTime\": 1553876531.286562}\n",
      "\u001b[0m\n",
      "\u001b[31m[03/29/2019 16:22:12 INFO 140545655179072] #throughput_metric: host=algo-1, train throughput=345.92216168 records/second\u001b[0m\n",
      "\u001b[31m[03/29/2019 16:22:12 INFO 140545655179072] #progress_metric: host=algo-1, completed 4 % of epochs\u001b[0m\n",
      "\u001b[31m[03/29/2019 16:22:12 INFO 140545655179072] loss did not improve\u001b[0m\n",
      "\u001b[31m[03/29/2019 16:22:12 INFO 140545655179072] Loading parameters from best epoch (0)\u001b[0m\n",
      "\u001b[31m#metrics {\"Metrics\": {\"state.deserialize.time\": {\"count\": 1, \"max\": 7.482051849365234, \"sum\": 7.482051849365234, \"min\": 7.482051849365234}}, \"EndTime\": 1553876532.199399, \"Dimensions\": {\"Host\": \"algo-1\", \"Operation\": \"training\", \"Algorithm\": \"AWS/DeepAR\"}, \"StartTime\": 1553876532.191634}\n",
      "\u001b[0m\n",
      "\u001b[31m[03/29/2019 16:22:12 INFO 140545655179072] stopping training now\u001b[0m\n",
      "\u001b[31m[03/29/2019 16:22:12 INFO 140545655179072] #progress_metric: host=algo-1, completed 100 % of epochs\u001b[0m\n",
      "\u001b[31m[03/29/2019 16:22:12 INFO 140545655179072] Final loss: 29.8540475152 (occurred at epoch 0)\u001b[0m\n",
      "\u001b[31m[03/29/2019 16:22:12 INFO 140545655179072] #quality_metric: host=algo-1, train final_loss <loss>=29.8540475152\u001b[0m\n",
      "\u001b[31m[03/29/2019 16:22:12 INFO 140545655179072] Worker algo-1 finished training.\u001b[0m\n",
      "\u001b[31m[03/29/2019 16:22:12 WARNING 140545655179072] wait_for_all_workers will not sync workers since the kv store is not running distributed\u001b[0m\n",
      "\u001b[31m[03/29/2019 16:22:12 INFO 140545655179072] All workers finished. Serializing model for prediction.\u001b[0m\n",
      "\u001b[31m#metrics {\"Metrics\": {\"get_graph.time\": {\"count\": 1, \"max\": 712.3901844024658, \"sum\": 712.3901844024658, \"min\": 712.3901844024658}}, \"EndTime\": 1553876532.912291, \"Dimensions\": {\"Host\": \"algo-1\", \"Operation\": \"training\", \"Algorithm\": \"AWS/DeepAR\"}, \"StartTime\": 1553876532.199438}\n",
      "\u001b[0m\n",
      "\u001b[31m[03/29/2019 16:22:13 INFO 140545655179072] Number of GPUs being used: 0\u001b[0m\n",
      "\u001b[31m#metrics {\"Metrics\": {\"finalize.time\": {\"count\": 1, \"max\": 821.4921951293945, \"sum\": 821.4921951293945, \"min\": 821.4921951293945}}, \"EndTime\": 1553876533.021361, \"Dimensions\": {\"Host\": \"algo-1\", \"Operation\": \"training\", \"Algorithm\": \"AWS/DeepAR\"}, \"StartTime\": 1553876532.912364}\n",
      "\u001b[0m\n",
      "\u001b[31m[03/29/2019 16:22:13 INFO 140545655179072] Serializing to /opt/ml/model/model_algo-1\u001b[0m\n",
      "\u001b[31m[03/29/2019 16:22:13 INFO 140545655179072] Saved checkpoint to \"/opt/ml/model/model_algo-1-0000.params\"\u001b[0m\n",
      "\u001b[31m#metrics {\"Metrics\": {\"model.serialize.time\": {\"count\": 1, \"max\": 11.20305061340332, \"sum\": 11.20305061340332, \"min\": 11.20305061340332}}, \"EndTime\": 1553876533.032642, \"Dimensions\": {\"Host\": \"algo-1\", \"Operation\": \"training\", \"Algorithm\": \"AWS/DeepAR\"}, \"StartTime\": 1553876533.02141}\n",
      "\u001b[0m\n",
      "\u001b[31m[03/29/2019 16:22:13 INFO 140545655179072] Successfully serialized the model for prediction.\u001b[0m\n",
      "\u001b[31m[03/29/2019 16:22:13 INFO 140545655179072] Evaluating model accuracy on testset using 100 samples\u001b[0m\n",
      "\u001b[31m#metrics {\"Metrics\": {\"model.bind.time\": {\"count\": 1, \"max\": 0.027894973754882812, \"sum\": 0.027894973754882812, \"min\": 0.027894973754882812}}, \"EndTime\": 1553876533.033304, \"Dimensions\": {\"Host\": \"algo-1\", \"Operation\": \"training\", \"Algorithm\": \"AWS/DeepAR\"}, \"StartTime\": 1553876533.032678}\n",
      "\u001b[0m\n",
      "\u001b[31m#metrics {\"Metrics\": {\"model.score.time\": {\"count\": 1, \"max\": 573.502779006958, \"sum\": 573.502779006958, \"min\": 573.502779006958}}, \"EndTime\": 1553876533.606785, \"Dimensions\": {\"Host\": \"algo-1\", \"Operation\": \"training\", \"Algorithm\": \"AWS/DeepAR\"}, \"StartTime\": 1553876533.033339}\n",
      "\u001b[0m\n",
      "\u001b[31m[03/29/2019 16:22:13 INFO 140545655179072] #test_score (algo-1, RMSE): 391.888715868\u001b[0m\n",
      "\u001b[31m[03/29/2019 16:22:13 INFO 140545655179072] #test_score (algo-1, mean_wQuantileLoss): 0.917467\u001b[0m\n",
      "\u001b[31m[03/29/2019 16:22:13 INFO 140545655179072] #test_score (algo-1, wQuantileLoss[0.1]): 0.307212\u001b[0m\n",
      "\u001b[31m[03/29/2019 16:22:13 INFO 140545655179072] #test_score (algo-1, wQuantileLoss[0.2]): 0.540987\u001b[0m\n",
      "\u001b[31m[03/29/2019 16:22:13 INFO 140545655179072] #test_score (algo-1, wQuantileLoss[0.3]): 0.735862\u001b[0m\n",
      "\u001b[31m[03/29/2019 16:22:13 INFO 140545655179072] #test_score (algo-1, wQuantileLoss[0.4]): 0.891826\u001b[0m\n",
      "\u001b[31m[03/29/2019 16:22:13 INFO 140545655179072] #test_score (algo-1, wQuantileLoss[0.5]): 1.01658\u001b[0m\n",
      "\u001b[31m[03/29/2019 16:22:13 INFO 140545655179072] #test_score (algo-1, wQuantileLoss[0.6]): 1.11019\u001b[0m\n",
      "\u001b[31m[03/29/2019 16:22:13 INFO 140545655179072] #test_score (algo-1, wQuantileLoss[0.7]): 1.17956\u001b[0m\n",
      "\u001b[31m[03/29/2019 16:22:13 INFO 140545655179072] #test_score (algo-1, wQuantileLoss[0.8]): 1.23282\u001b[0m\n",
      "\u001b[31m[03/29/2019 16:22:13 INFO 140545655179072] #test_score (algo-1, wQuantileLoss[0.9]): 1.24217\u001b[0m\n",
      "\u001b[31m[03/29/2019 16:22:13 INFO 140545655179072] #quality_metric: host=algo-1, test RMSE <loss>=391.888715868\u001b[0m\n",
      "\u001b[31m[03/29/2019 16:22:13 INFO 140545655179072] #quality_metric: host=algo-1, test mean_wQuantileLoss <loss>=0.91746711731\u001b[0m\n",
      "\u001b[31m#metrics {\"Metrics\": {\"totaltime\": {\"count\": 1, \"max\": 13957.356929779053, \"sum\": 13957.356929779053, \"min\": 13957.356929779053}, \"setuptime\": {\"count\": 1, \"max\": 8.836984634399414, \"sum\": 8.836984634399414, \"min\": 8.836984634399414}}, \"EndTime\": 1553876533.646026, \"Dimensions\": {\"Host\": \"algo-1\", \"Operation\": \"training\", \"Algorithm\": \"AWS/DeepAR\"}, \"StartTime\": 1553876533.606838}\n",
      "\u001b[0m\n",
      "\n",
      "2019-03-29 16:22:24 Uploading - Uploading generated training model\n",
      "2019-03-29 16:22:24 Completed - Training job completed\n",
      "Billable seconds: 63\n",
      "CPU times: user 469 ms, sys: 40.5 ms, total: 509 ms\n",
      "Wall time: 3min 42s\n"
     ]
    }
   ],
   "source": [
    "%%time\n",
    "\n",
    "estimator.fit(inputs=data_channels)"
   ]
  },
  {
   "cell_type": "markdown",
   "metadata": {},
   "source": [
    "## Deploy model"
   ]
  },
  {
   "cell_type": "code",
   "execution_count": 151,
   "metadata": {},
   "outputs": [
    {
     "name": "stderr",
     "output_type": "stream",
     "text": [
      "INFO:sagemaker:Creating model with name: ferry-predictor-2019-03-29-16-19-13-161\n",
      "INFO:sagemaker:Creating endpoint-config with name ferry-predictor-2019-03-29-16-19-13-161\n",
      "INFO:sagemaker:Creating endpoint with name ferry-predictor-2019-03-29-16-19-13-161\n"
     ]
    },
    {
     "name": "stdout",
     "output_type": "stream",
     "text": [
      "--------------------------------------------------------------------------!CPU times: user 440 ms, sys: 14.4 ms, total: 455 ms\n",
      "Wall time: 6min 15s\n"
     ]
    }
   ],
   "source": [
    "%%time\n",
    "\n",
    "job_name = estimator.latest_training_job.name\n",
    "\n",
    "endpoint_name = sagemaker_session.endpoint_from_job(\n",
    "    job_name=job_name,\n",
    "    initial_instance_count=1,\n",
    "    #instance_type='ml.m4.xlarge',\n",
    "    instance_type='ml.t2.medium',\n",
    "    deployment_image=image_name,\n",
    "    role=role\n",
    ")\n",
    "\n",
    "predictor = sagemaker.predictor.RealTimePredictor(\n",
    "    endpoint_name, \n",
    "    sagemaker_session=sagemaker_session, \n",
    "    content_type=\"application/json\")"
   ]
  },
  {
   "cell_type": "markdown",
   "metadata": {},
   "source": [
    "## Build JSON-formatted prediction request"
   ]
  },
  {
   "cell_type": "code",
   "execution_count": 158,
   "metadata": {},
   "outputs": [],
   "source": [
    "q1 = '0.1'         # compute p10 quantile\n",
    "q2 = '0.9'         # compute p90 quantile\n",
    "num_samples = 100  # predict 100 sample series\n",
    "    \n",
    "def buildPredictionData(month, year, data):\n",
    "    #pdb.set_trace()\n",
    "    month_delays = dataset[\"{} {}\".format(month, year)]\n",
    "    s = {\"start\": \"{}-{}-01 00:00:00\".format(year, months_to_number[month]), \"target\": month_delays}\n",
    "    series = []\n",
    "    series.append(s)\n",
    "    configuration = {\n",
    "        \"output_types\": [\"mean\", \"quantiles\", \"samples\"],\n",
    "        \"num_samples\": num_samples,\n",
    "        \"quantiles\": [q1, q2]\n",
    "    }\n",
    "    http_data = {\n",
    "        \"instances\": series, \n",
    "        \"configuration\": configuration\n",
    "    }\n",
    "    return json.dumps(http_data)"
   ]
  },
  {
   "cell_type": "markdown",
   "metadata": {},
   "source": [
    "## Get predicted series from response"
   ]
  },
  {
   "cell_type": "code",
   "execution_count": 153,
   "metadata": {
    "scrolled": true
   },
   "outputs": [],
   "source": [
    "def getPredictedSeries(result):\n",
    "    import random\n",
    "    json_result = json.loads(result)\n",
    "    y_data      = json_result['predictions'][0]\n",
    "    y_mean      = y_data['mean']\n",
    "    y_q1        = y_data['quantiles'][q1]\n",
    "    y_q2        = y_data['quantiles'][q2]\n",
    "    y_sample    = y_data['samples'][random.randint(0, num_samples)]\n",
    "\n",
    "    #print(\"Mean: %s\\n\" % y_mean)\n",
    "    #print(\"Quartile %s: %s\\n\" % (q1, y_q1))\n",
    "    #print(\"Quartile %s: %s\\n\" % (q2, y_q2))\n",
    "    return y_mean, y_q1, y_q2, y_sample"
   ]
  },
  {
   "cell_type": "markdown",
   "metadata": {},
   "source": [
    "## Plot predicted series and ground truth"
   ]
  },
  {
   "cell_type": "code",
   "execution_count": 154,
   "metadata": {},
   "outputs": [],
   "source": [
    "def plotSeries(result, truth=False, truth_data=None, truth_label=None):\n",
    "    x = range(0,prediction_length)\n",
    "    y_mean, y_q1, y_q2, y_sample = getPredictedSeries(result)\n",
    "    plt.gcf().clear()\n",
    "    mean_label,   = plt.plot(x, y_mean, label='mean')\n",
    "    q1_label,     = plt.plot(x, y_q1, label=q1)\n",
    "    q2_label,     = plt.plot(x, y_q2, label=q2)\n",
    "    sample_label, = plt.plot(x, y_sample, label='sample')\n",
    "\n",
    "    if truth:\n",
    "        ground_truth, = plt.plot(x, truth_data, label=truth_label)\n",
    "        plt.legend(handles=[ground_truth, q2_label, mean_label, q1_label, sample_label])\n",
    "    else:\n",
    "        plt.legend(handles=[q2_label, mean_label, q1_label, sample_label])\n",
    "    plt.yticks(np.arange(5.0, 12.0, 0.5))\n",
    "    plt.show()"
   ]
  },
  {
   "cell_type": "markdown",
   "metadata": {},
   "source": [
    "## Example: predict temperature for the last 'prediction_length' days and compare to ground truth"
   ]
  },
  {
   "cell_type": "code",
   "execution_count": 162,
   "metadata": {
    "scrolled": true
   },
   "outputs": [
    {
     "data": {
      "image/png": "[encoded data removed]",
      "text/plain": [
       "<Figure size 432x288 with 1 Axes>"
      ]
     },
     "metadata": {},
     "output_type": "display_data"
    }
   ],
   "source": [
    "month = 'March' # “He who controls the past controls the future. He who controls the present controls the past.”\n",
    "year = 2013\n",
    "\n",
    "prediction_data = buildPredictionData(month, year, trainingSet)\n",
    "\n",
    "result = predictor.predict(prediction_data).encode('utf-8')\n",
    "\n",
    "plotSeries(result, \n",
    "           truth=True, \n",
    "           truth_data=testSet[\"{} {}\".format(month, year)][-prediction_length:], \n",
    "           truth_label='truth')"
   ]
  },
  {
   "cell_type": "code",
   "execution_count": 168,
   "metadata": {},
   "outputs": [],
   "source": [
    "y_mean, y_q1, y_q2, y_sample = getPredictedSeries(result)"
   ]
  },
  {
   "cell_type": "code",
   "execution_count": 170,
   "metadata": {},
   "outputs": [],
   "source": [
    "truth_data=testSet[\"{} {}\".format(month, year)][-prediction_length:]"
   ]
  },
  {
   "cell_type": "markdown",
   "metadata": {},
   "source": [
    "# Left off"
   ]
  },
  {
   "cell_type": "code",
   "execution_count": 171,
   "metadata": {},
   "outputs": [
    {
     "data": {
      "text/plain": [
       "[188.0,\n",
       " 154.0,\n",
       " 120.0,\n",
       " 86.0,\n",
       " 123.22222222222223,\n",
       " 160.44444444444446,\n",
       " 197.66666666666663,\n",
       " 234.88888888888889,\n",
       " 272.1111111111111,\n",
       " 309.3333333333333,\n",
       " 346.5555555555556,\n",
       " 383.77777777777777,\n",
       " 421.0,\n",
       " 398.38888888888886,\n",
       " 375.77777777777777,\n",
       " 353.16666666666674,\n",
       " 330.5555555555556,\n",
       " 307.9444444444445,\n",
       " 285.33333333333337,\n",
       " 262.72222222222223,\n",
       " 240.11111111111111,\n",
       " 217.5,\n",
       " 194.88888888888889,\n",
       " 172.27777777777774,\n",
       " 149.66666666666669,\n",
       " 127.05555555555556,\n",
       " 104.44444444444444,\n",
       " 81.83333333333331,\n",
       " 59.22222222222222,\n",
       " 36.61111111111114]"
      ]
     },
     "execution_count": 171,
     "metadata": {},
     "output_type": "execute_result"
    }
   ],
   "source": [
    "truth_data"
   ]
  },
  {
   "cell_type": "markdown",
   "metadata": {},
   "source": [
    "## Example: predict temperature for the next 'prediction_length' days"
   ]
  },
  {
   "cell_type": "code",
   "execution_count": null,
   "metadata": {},
   "outputs": [],
   "source": [
    "# Predict temperature for the next 'prediction_length' days of 2018\n",
    "year = 2018\n",
    "year_temps={}\n",
    "year_temps[str(year)] = np.random.normal(9, 1.5, 90).tolist()\n",
    "\n",
    "prediction_data = buildPredictionData(year, year_temps)\n",
    "result = predictor.predict(prediction_data).encode('utf-8')\n",
    "plotSeries(result)"
   ]
  },
  {
   "cell_type": "markdown",
   "metadata": {},
   "source": [
    "## Clean up"
   ]
  },
  {
   "cell_type": "code",
   "execution_count": null,
   "metadata": {},
   "outputs": [],
   "source": [
    "print(job_name)\n",
    "sm = boto3.client('sagemaker')\n",
    "sm.delete_endpoint(EndpointName=job_name)\n",
    "sm.delete_endpoint_config(EndpointConfigName=job_name)\n",
    "sm.delete_model(ModelName=job_name)"
   ]
  },
  {
   "cell_type": "code",
   "execution_count": null,
   "metadata": {
    "collapsed": true
   },
   "outputs": [],
   "source": []
  }
 ],
 "metadata": {
  "kernelspec": {
   "display_name": "conda_python2",
   "language": "python",
   "name": "conda_python2"
  },
  "language_info": {
   "codemirror_mode": {
    "name": "ipython",
    "version": 2
   },
   "file_extension": ".py",
   "mimetype": "text/x-python",
   "name": "python",
   "nbconvert_exporter": "python",
   "pygments_lexer": "ipython2",
   "version": "2.7.15"
  }
 },
 "nbformat": 4,
 "nbformat_minor": 2
}
