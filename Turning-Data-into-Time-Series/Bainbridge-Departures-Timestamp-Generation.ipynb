{
 "cells": [
  {
   "cell_type": "markdown",
   "metadata": {},
   "source": [
    "Starting with the file most recent file (2013 - September 10, 2018). Working with Bainbridge departures only."
   ]
  },
  {
   "cell_type": "markdown",
   "metadata": {},
   "source": [
    "# Generating 2013"
   ]
  },
  {
   "cell_type": "code",
   "execution_count": 1,
   "metadata": {
    "collapsed": true
   },
   "outputs": [],
   "source": [
    "import pandas as pd\n",
    "import numpy as np\n",
    "\n",
    "laptop_file_path = 'C:/Users/Keith/Google Drive/H Drive Full Backup/Fall 2018/CS 495 - Senior Seminar/Ferry Data/P000413-090518_2013-2018-09-10.csv'\n",
    "pc_file_path = \"../../Ferry Data/P000413-090518_2013-2018-09-10.csv\"\n",
    "dataset = pd.read_csv(pc_file_path)\n",
    "\n",
    "bainbridge_departures = dataset.loc[dataset['departure_terminal'] == 'Bainbridge'].reset_index()\n",
    "bainbridge_departures = bainbridge_departures.drop('index', axis=1)"
   ]
  },
  {
   "cell_type": "code",
   "execution_count": 2,
   "metadata": {},
   "outputs": [
    {
     "data": {
      "text/html": [
       "<div>\n",
       "<style scoped>\n",
       "    .dataframe tbody tr th:only-of-type {\n",
       "        vertical-align: middle;\n",
       "    }\n",
       "\n",
       "    .dataframe tbody tr th {\n",
       "        vertical-align: top;\n",
       "    }\n",
       "\n",
       "    .dataframe thead th {\n",
       "        text-align: right;\n",
       "    }\n",
       "</style>\n",
       "<table border=\"1\" class=\"dataframe\">\n",
       "  <thead>\n",
       "    <tr style=\"text-align: right;\">\n",
       "      <th></th>\n",
       "      <th>departure_terminal</th>\n",
       "      <th>arrival_terminal</th>\n",
       "      <th>scheduled_departure</th>\n",
       "      <th>actual_departure</th>\n",
       "      <th>Actual_Arrival</th>\n",
       "      <th>TransitTime</th>\n",
       "    </tr>\n",
       "  </thead>\n",
       "  <tbody>\n",
       "    <tr>\n",
       "      <th>0</th>\n",
       "      <td>Bainbridge</td>\n",
       "      <td>Colman</td>\n",
       "      <td>55:00.0</td>\n",
       "      <td>05:56.0</td>\n",
       "      <td>37:37.0</td>\n",
       "      <td>32.0</td>\n",
       "    </tr>\n",
       "    <tr>\n",
       "      <th>1</th>\n",
       "      <td>Bainbridge</td>\n",
       "      <td>NaN</td>\n",
       "      <td>45:00.0</td>\n",
       "      <td>NaN</td>\n",
       "      <td>NaN</td>\n",
       "      <td>NaN</td>\n",
       "    </tr>\n",
       "    <tr>\n",
       "      <th>2</th>\n",
       "      <td>Bainbridge</td>\n",
       "      <td>Colman</td>\n",
       "      <td>20:00.0</td>\n",
       "      <td>19:01.0</td>\n",
       "      <td>49:40.0</td>\n",
       "      <td>30.0</td>\n",
       "    </tr>\n",
       "    <tr>\n",
       "      <th>3</th>\n",
       "      <td>Bainbridge</td>\n",
       "      <td>NaN</td>\n",
       "      <td>20:00.0</td>\n",
       "      <td>NaN</td>\n",
       "      <td>NaN</td>\n",
       "      <td>NaN</td>\n",
       "    </tr>\n",
       "    <tr>\n",
       "      <th>4</th>\n",
       "      <td>Bainbridge</td>\n",
       "      <td>NaN</td>\n",
       "      <td>05:00.0</td>\n",
       "      <td>06:16.0</td>\n",
       "      <td>NaN</td>\n",
       "      <td>NaN</td>\n",
       "    </tr>\n",
       "  </tbody>\n",
       "</table>\n",
       "</div>"
      ],
      "text/plain": [
       "  departure_terminal arrival_terminal scheduled_departure actual_departure  \\\n",
       "0         Bainbridge           Colman             55:00.0          05:56.0   \n",
       "1         Bainbridge              NaN             45:00.0              NaN   \n",
       "2         Bainbridge           Colman             20:00.0          19:01.0   \n",
       "3         Bainbridge              NaN             20:00.0              NaN   \n",
       "4         Bainbridge              NaN             05:00.0          06:16.0   \n",
       "\n",
       "  Actual_Arrival  TransitTime  \n",
       "0        37:37.0         32.0  \n",
       "1            NaN          NaN  \n",
       "2        49:40.0         30.0  \n",
       "3            NaN          NaN  \n",
       "4            NaN          NaN  "
      ]
     },
     "execution_count": 2,
     "metadata": {},
     "output_type": "execute_result"
    }
   ],
   "source": [
    "bainbridge_departures.head()"
   ]
  },
  {
   "cell_type": "markdown",
   "metadata": {},
   "source": [
    "<a href = \"https://web.archive.org/web/20130123233819/http:/www.wsdot.wa.gov/ferries/pdf/2013winter.pdf\"> Winter 2013 Schedule </a>"
   ]
  },
  {
   "cell_type": "code",
   "execution_count": 3,
   "metadata": {
    "collapsed": true
   },
   "outputs": [],
   "source": [
    "# Monday-Friday leave Bainbridge Island Winter 2013\n",
    "# mfw13 means Monday-Friday Winter 2013\n",
    "mfw13_scheduled_departures_24h = [\"0:55:00\", \"4:45:00\", \"5:20:00\", \"6:20:00\", \"7:05:00\", \"7:55:00\",\"8:45:00\", \"9:40:00\", \n",
    "                            \"10:25:00\", \"11:30:00\", \"12:20:00\", \"13:10:00\", \"14:05:00\", \"14:55:00\", \"15:50:00\", \"16:35:00\", \n",
    "                            \"17:30:00\", \"18:30:00\", \"19:10:00\", \"20:10:00\", \"20:55:00\", \"21:45:00\", \"22:35:00\"]\n",
    "\n",
    "# satw13 means Saturday Winter 2013\n",
    "satw13_scheduled_departures_24h = [\"0:55:00\",\"05:20:00\",\"07:05:00\",\"07:55:00\",\"08:45:00\",\"9:35:00\", \"10:25:00\",\n",
    "                                  \"11:30:00\",\"12:20:00\",\"13:10:00\",\"14:05:00\",\"14:55:00\",\"15:50:00\",\n",
    "                                  \"16:35:00\",\"17:30:00\",\"18:30:00\",\"19:10:00\",\"20:10:00\",\"20:55:00\",\n",
    "                                  \"21:45:00\",\"22:30:00\",\"0:00:00\",\"1:25:00\"]\n",
    "\n",
    "# sunw13 means Sunday Winter 2013\n",
    "sunw13_scheduled_departures_24h = [\"05:20:00\",\"07:05:00\",\"08:45:00\",\"9:35:00\", \"10:25:00\",\n",
    "                                  \"11:30:00\",\"12:20:00\",\"13:10:00\",\"14:05:00\",\"14:55:00\",\"15:50:00\",\n",
    "                                  \"16:35:00\",\"17:30:00\",\"18:30:00\",\"19:10:00\",\"20:10:00\",\"20:55:00\",\n",
    "                                  \"21:45:00\",\"22:30:00\",\"0:00:00\",\"1:25:00\"]\n",
    "\n",
    "#wkw13 means Week Winder 2013\n",
    "wkw13_scheduled_departures_24h = (5*mfw13_scheduled_departures_24h) + satw13_scheduled_departures_24h + sunw13_scheduled_departures_24h"
   ]
  },
  {
   "cell_type": "code",
   "execution_count": 4,
   "metadata": {
    "collapsed": true
   },
   "outputs": [],
   "source": [
    "def extractMinutesPastHour(time):\n",
    "    \"\"\"This takes in a String representing a time in the format 00:mm:ss and returns the int representing mm\"\"\"\n",
    "    m = time.split(':')\n",
    "    return int(float(m[0]))\n",
    "\n",
    "def extractMinutes24h(time):\n",
    "    \"\"\"This takes in a String representing a time in the format hh:mm:ss and returns the int representing mm\"\"\"\n",
    "    m = time.split(':')\n",
    "    return int(m[1])"
   ]
  },
  {
   "cell_type": "code",
   "execution_count": 5,
   "metadata": {
    "collapsed": true
   },
   "outputs": [],
   "source": [
    "import datetime\n",
    "\n",
    "def generate_timestamps(dataset, scheduled_departures_24h, starting_point, year, month, day):\n",
    "    \"\"\"This method loops through the dataset and matches as many timesamps as it can. Stops and prints \n",
    "    an error message if it encounters something odd.\n",
    "\n",
    "    Keyword arguments:\n",
    "    dataset -- dataframe with ferry data\n",
    "    scheduled_departures_24h -- list of all of the departures (represented as strings) for a week\n",
    "    starting_point -- a pointer to where we should start in the scheduled_departures_24h list\n",
    "    year -- year of the departure on the top of the dataset\n",
    "    month -- month of the departure on the top of the dataset\n",
    "    day -- day of the departure on the top of the dataset\n",
    "    \"\"\"\n",
    "\n",
    "    tdelta = datetime.timedelta(days = 1)\n",
    "\n",
    "    prevHour = 0\n",
    "\n",
    "    departure_times = []\n",
    "    timestamps = []\n",
    "    weekdays = []\n",
    "\n",
    "    i = starting_point\n",
    "\n",
    "    for index, row in dataset.iterrows():\n",
    "        departure24h = scheduled_departures_24h[i % len(scheduled_departures_24h)]\n",
    "        hour, minute, seconds = departure24h.split(\":\")\n",
    "        scheduled_departure_minutes = extractMinutesPastHour(row.iloc[2])\n",
    "        scheduled_departure_24h = extractMinutes24h(departure24h)\n",
    "\n",
    "        if(int(prevHour) > int(hour)):\n",
    "            d = d + tdelta\n",
    "            year = d.year\n",
    "            month = d.month\n",
    "            day = d.day\n",
    "\n",
    "        if (not scheduled_departure_minutes == scheduled_departure_24h):\n",
    "            if(d.weekday() == 1):\n",
    "                # --- this is a quick fix not sure why this works ----\n",
    "                d = d - tdelta\n",
    "                year = d.year\n",
    "                month = d.month\n",
    "                day = d.day\n",
    "                # ------------------------------------\n",
    "\n",
    "                i = i + 1\n",
    "\n",
    "                departure24h = scheduled_departures_24h[i % len(scheduled_departures_24h)]\n",
    "                scheduled_hour, scheduled_minutes, scheduled_seconds = departure24h.split(\":\")\n",
    "                scheduled_departure_minutes = extractMinutesPastHour(row.iloc[2])\n",
    "\n",
    "                departure_times.append(departure24h)\n",
    "                d = datetime.date(year, month, day)\n",
    "                timestamps.append(\"%s %02d:%02d:%02d\" % (d, int(scheduled_hour), int(scheduled_minutes), int(scheduled_seconds)))\n",
    "                weekdays.append(d.weekday())\n",
    "\n",
    "                prevHour = hour  \n",
    "                i = i + 1\n",
    "                continue\n",
    "                if (not scheduled_departure_minutes == scheduled_minutes):\n",
    "                    print(\"ERROR\")\n",
    "                    break\n",
    "\n",
    "            print(\"\"\"Was able to match departure times up until this row at index %d:\\n%s\\n\n",
    "                    Was trying to insert this timestamp: %s\"\"\" % \n",
    "                                              (index, row,(\"%s %02d:%02d:%02d\" % (d, int(hour), int(minute), int(seconds)))))\n",
    "            break\n",
    "\n",
    "        departure_times.append(departure24h)\n",
    "        d = datetime.date(year, month, day)\n",
    "        timestamps.append(\"%s %02d:%02d:%02d\" % (d, int(hour), int(minute), int(seconds)))\n",
    "        weekdays.append(d.weekday())\n",
    "\n",
    "        prevHour = hour\n",
    "        i = i + 1\n",
    "        \n",
    "    return timestamps"
   ]
  },
  {
   "cell_type": "code",
   "execution_count": 6,
   "metadata": {
    "collapsed": true
   },
   "outputs": [],
   "source": [
    "def verify_timestamps(dataset):\n",
    "    \"\"\"Loops through the dataset and checks the the minuts past the hour on the timestamp matches \n",
    "    minutes past the hour of the scheduled_departure value.\n",
    "\n",
    "    Keyword arguments:\n",
    "    dataset - DataFrame with ferry data indexed with timestamps\n",
    "    \"\"\"\n",
    "    for index, row in dataset.iterrows():\n",
    "        scheduled_minute = index.minute\n",
    "        dataset_minute = extractMinutesPastHour(row.iloc[2])\n",
    "        \n",
    "        if(not scheduled_minute == dataset_minute):    \n",
    "            print(\"\"\"Was able to match departure times up until this row at index %s:\\n%s\"\"\" % \n",
    "                                              (index, row))\n",
    "            return\n",
    "            \n",
    "    print(\"Success!\")\n",
    "    \n",
    "def verify_arrival_terminals(dataset):\n",
    "    \"\"\"The only passenger sailing departing Bainbridge goes to Seattle. I was noticing that there were\n",
    "    some other odd arrival terminals (seems like maintence stuff). This finds those terminals and creates\n",
    "    a with the row entries that have odd arrival terminals. This is so the user can visually see the odd terminals.\n",
    "\n",
    "    Keyword arguments:\n",
    "    dataset - DataFrame with ferry data indexed with timestamps\n",
    "    \"\"\"\n",
    "    odd_terminals = []\n",
    "    \n",
    "    for index, row in dataset.iterrows():\n",
    "        arrival_terminal = str(row.iloc[1])\n",
    "        \n",
    "        if(not (arrival_terminal == \"Colman\")):\n",
    "            if(not arrival_terminal == \"nan\"):\n",
    "                odd_terminals.append(row)\n",
    "    \n",
    "    return pd.DataFrame(odd_terminals)"
   ]
  },
  {
   "cell_type": "code",
   "execution_count": 7,
   "metadata": {
    "collapsed": true
   },
   "outputs": [],
   "source": [
    "def remove_odd_terminals(dataset, odd_terminals):\n",
    "    \"\"\"Removes the odd_terminals (arrival terminals) from the main dataset.\n",
    "\n",
    "    Keyword arguments:\n",
    "    dataset - DataFrame with ferry data indexed by timestamps\n",
    "    odd_terminals - DataFrame with all the entires that have odd arrival terminals.\n",
    "    \"\"\"\n",
    "    return dataset[~dataset.index.isin(odd_terminals.index)]"
   ]
  },
  {
   "cell_type": "code",
   "execution_count": 8,
   "metadata": {},
   "outputs": [
    {
     "name": "stdout",
     "output_type": "stream",
     "text": [
      "Was able to match departure times up until this row at index 3297:\n",
      "departure_terminal     Bainbridge\n",
      "arrival_terminal           Colman\n",
      "scheduled_departure       05:00.0\n",
      "actual_departure          05:30.0\n",
      "Actual_Arrival            36:59.0\n",
      "TransitTime                    31\n",
      "Name: 3297, dtype: object\n",
      "\n",
      "                    Was trying to insert this timestamp: 2013-05-27 05:20:00\n"
     ]
    }
   ],
   "source": [
    "timestamps = generate_timestamps(bainbridge_departures, wkw13_scheduled_departures_24h, 23, 2013, 1, 1)"
   ]
  },
  {
   "cell_type": "code",
   "execution_count": 9,
   "metadata": {},
   "outputs": [
    {
     "data": {
      "text/plain": [
       "3297"
      ]
     },
     "execution_count": 9,
     "metadata": {},
     "output_type": "execute_result"
    }
   ],
   "source": [
    "len(timestamps)"
   ]
  },
  {
   "cell_type": "code",
   "execution_count": 10,
   "metadata": {},
   "outputs": [
    {
     "data": {
      "text/plain": [
       "['2013-05-26 20:10:00',\n",
       " '2013-05-26 20:55:00',\n",
       " '2013-05-26 21:45:00',\n",
       " '2013-05-26 22:30:00',\n",
       " '2013-05-27 00:00:00',\n",
       " '2013-05-27 01:25:00',\n",
       " '2013-05-27 04:45:00']"
      ]
     },
     "execution_count": 10,
     "metadata": {},
     "output_type": "execute_result"
    }
   ],
   "source": [
    "timestamps[3290:]"
   ]
  },
  {
   "cell_type": "markdown",
   "metadata": {},
   "source": [
    "Want to git rid of those last three dates."
   ]
  },
  {
   "cell_type": "code",
   "execution_count": 11,
   "metadata": {
    "collapsed": true
   },
   "outputs": [],
   "source": [
    "timestamps = timestamps[:3296]"
   ]
  },
  {
   "cell_type": "code",
   "execution_count": 12,
   "metadata": {},
   "outputs": [
    {
     "data": {
      "text/plain": [
       "3296"
      ]
     },
     "execution_count": 12,
     "metadata": {},
     "output_type": "execute_result"
    }
   ],
   "source": [
    "len(timestamps)"
   ]
  },
  {
   "cell_type": "markdown",
   "metadata": {},
   "source": [
    "May 27, 2013 Starts at index 3296 in `bainbridge_departures`"
   ]
  },
  {
   "cell_type": "code",
   "execution_count": 13,
   "metadata": {},
   "outputs": [
    {
     "data": {
      "text/html": [
       "<div>\n",
       "<style scoped>\n",
       "    .dataframe tbody tr th:only-of-type {\n",
       "        vertical-align: middle;\n",
       "    }\n",
       "\n",
       "    .dataframe tbody tr th {\n",
       "        vertical-align: top;\n",
       "    }\n",
       "\n",
       "    .dataframe thead th {\n",
       "        text-align: right;\n",
       "    }\n",
       "</style>\n",
       "<table border=\"1\" class=\"dataframe\">\n",
       "  <thead>\n",
       "    <tr style=\"text-align: right;\">\n",
       "      <th></th>\n",
       "      <th>departure_terminal</th>\n",
       "      <th>arrival_terminal</th>\n",
       "      <th>scheduled_departure</th>\n",
       "      <th>actual_departure</th>\n",
       "      <th>Actual_Arrival</th>\n",
       "      <th>TransitTime</th>\n",
       "    </tr>\n",
       "  </thead>\n",
       "  <tbody>\n",
       "    <tr>\n",
       "      <th>3296</th>\n",
       "      <td>Bainbridge</td>\n",
       "      <td>Colman</td>\n",
       "      <td>20:00.0</td>\n",
       "      <td>20:11.0</td>\n",
       "      <td>51:37.0</td>\n",
       "      <td>31.0</td>\n",
       "    </tr>\n",
       "    <tr>\n",
       "      <th>3297</th>\n",
       "      <td>Bainbridge</td>\n",
       "      <td>Colman</td>\n",
       "      <td>05:00.0</td>\n",
       "      <td>05:30.0</td>\n",
       "      <td>36:59.0</td>\n",
       "      <td>31.0</td>\n",
       "    </tr>\n",
       "    <tr>\n",
       "      <th>3298</th>\n",
       "      <td>Bainbridge</td>\n",
       "      <td>Colman</td>\n",
       "      <td>55:00.0</td>\n",
       "      <td>56:22.0</td>\n",
       "      <td>26:55.0</td>\n",
       "      <td>30.0</td>\n",
       "    </tr>\n",
       "    <tr>\n",
       "      <th>3299</th>\n",
       "      <td>Bainbridge</td>\n",
       "      <td>Colman</td>\n",
       "      <td>45:00.0</td>\n",
       "      <td>45:00.0</td>\n",
       "      <td>16:17.0</td>\n",
       "      <td>31.0</td>\n",
       "    </tr>\n",
       "  </tbody>\n",
       "</table>\n",
       "</div>"
      ],
      "text/plain": [
       "     departure_terminal arrival_terminal scheduled_departure actual_departure  \\\n",
       "3296         Bainbridge           Colman             20:00.0          20:11.0   \n",
       "3297         Bainbridge           Colman             05:00.0          05:30.0   \n",
       "3298         Bainbridge           Colman             55:00.0          56:22.0   \n",
       "3299         Bainbridge           Colman             45:00.0          45:00.0   \n",
       "\n",
       "     Actual_Arrival  TransitTime  \n",
       "3296        51:37.0         31.0  \n",
       "3297        36:59.0         31.0  \n",
       "3298        26:55.0         30.0  \n",
       "3299        16:17.0         31.0  "
      ]
     },
     "execution_count": 13,
     "metadata": {},
     "output_type": "execute_result"
    }
   ],
   "source": [
    "bainbridge_departures.iloc[3296:3300]"
   ]
  },
  {
   "cell_type": "markdown",
   "metadata": {},
   "source": [
    "The only difference between the <a href = \"https://web.archive.org/web/20130123233819/http:/www.wsdot.wa.gov/ferries/pdf/2013winter.pdf\"> Winter 2013 Schedule</a> and the <a href = \"https://web.archive.org/web/20130624071202/http:/www.wsdot.wa.gov/ferries/pdf/2013Spring.pdf\"> Spring 2013 Schedule</a> happend on May 27, 2013"
   ]
  },
  {
   "cell_type": "code",
   "execution_count": 14,
   "metadata": {
    "collapsed": true
   },
   "outputs": [],
   "source": [
    "# May 27, 2013\n",
    "may2713 = [\"05:20:00\",\"07:05:00\",\"07:55:00\",\"08:45:00\",\"9:35:00\", \"10:25:00\",\"11:30:00\",\"12:20:00\",\"13:10:00\",\n",
    "           \"14:05:00\",\"14:55:00\",\"15:50:00\",\"16:35:00\",\"17:30:00\",\"18:30:00\",\"19:10:00\",\"20:10:00\",\"20:55:00\",\n",
    "           \"21:45:00\",\"22:30:00\",\"0:00:00\",\"1:25:00\"]"
   ]
  },
  {
   "cell_type": "code",
   "execution_count": 15,
   "metadata": {},
   "outputs": [
    {
     "name": "stdout",
     "output_type": "stream",
     "text": [
      "Was able to match departure times up until this row at index 3319:\n",
      "departure_terminal     Bainbridge\n",
      "arrival_terminal           Colman\n",
      "scheduled_departure       20:00.0\n",
      "actual_departure          20:00.0\n",
      "Actual_Arrival            51:12.0\n",
      "TransitTime                    31\n",
      "Name: 3319, dtype: object\n",
      "\n",
      "                    Was trying to insert this timestamp: 2013-05-27 07:55:00\n"
     ]
    }
   ],
   "source": [
    "may2713timestamps = generate_timestamps(bainbridge_departures.iloc[3296:], may2713, 0, 2013, 5, 27)"
   ]
  },
  {
   "cell_type": "code",
   "execution_count": 16,
   "metadata": {
    "collapsed": true
   },
   "outputs": [],
   "source": [
    "may2713timestamps = may2713timestamps[:22]"
   ]
  },
  {
   "cell_type": "code",
   "execution_count": 17,
   "metadata": {
    "collapsed": true
   },
   "outputs": [],
   "source": [
    "timestamps = timestamps + may2713timestamps"
   ]
  },
  {
   "cell_type": "markdown",
   "metadata": {},
   "source": [
    "This below is the beginning of Tuesday, May 28, 2013"
   ]
  },
  {
   "cell_type": "code",
   "execution_count": 18,
   "metadata": {},
   "outputs": [
    {
     "data": {
      "text/html": [
       "<div>\n",
       "<style scoped>\n",
       "    .dataframe tbody tr th:only-of-type {\n",
       "        vertical-align: middle;\n",
       "    }\n",
       "\n",
       "    .dataframe tbody tr th {\n",
       "        vertical-align: top;\n",
       "    }\n",
       "\n",
       "    .dataframe thead th {\n",
       "        text-align: right;\n",
       "    }\n",
       "</style>\n",
       "<table border=\"1\" class=\"dataframe\">\n",
       "  <thead>\n",
       "    <tr style=\"text-align: right;\">\n",
       "      <th></th>\n",
       "      <th>departure_terminal</th>\n",
       "      <th>arrival_terminal</th>\n",
       "      <th>scheduled_departure</th>\n",
       "      <th>actual_departure</th>\n",
       "      <th>Actual_Arrival</th>\n",
       "      <th>TransitTime</th>\n",
       "    </tr>\n",
       "  </thead>\n",
       "  <tbody>\n",
       "    <tr>\n",
       "      <th>3318</th>\n",
       "      <td>Bainbridge</td>\n",
       "      <td>Colman</td>\n",
       "      <td>45:00.0</td>\n",
       "      <td>45:56.0</td>\n",
       "      <td>16:44.0</td>\n",
       "      <td>31.0</td>\n",
       "    </tr>\n",
       "    <tr>\n",
       "      <th>3319</th>\n",
       "      <td>Bainbridge</td>\n",
       "      <td>Colman</td>\n",
       "      <td>20:00.0</td>\n",
       "      <td>20:00.0</td>\n",
       "      <td>51:12.0</td>\n",
       "      <td>31.0</td>\n",
       "    </tr>\n",
       "    <tr>\n",
       "      <th>3320</th>\n",
       "      <td>Bainbridge</td>\n",
       "      <td>Colman</td>\n",
       "      <td>20:00.0</td>\n",
       "      <td>23:59.0</td>\n",
       "      <td>51:35.0</td>\n",
       "      <td>28.0</td>\n",
       "    </tr>\n",
       "    <tr>\n",
       "      <th>3321</th>\n",
       "      <td>Bainbridge</td>\n",
       "      <td>Colman</td>\n",
       "      <td>05:00.0</td>\n",
       "      <td>06:51.0</td>\n",
       "      <td>40:22.0</td>\n",
       "      <td>34.0</td>\n",
       "    </tr>\n",
       "  </tbody>\n",
       "</table>\n",
       "</div>"
      ],
      "text/plain": [
       "     departure_terminal arrival_terminal scheduled_departure actual_departure  \\\n",
       "3318         Bainbridge           Colman             45:00.0          45:56.0   \n",
       "3319         Bainbridge           Colman             20:00.0          20:00.0   \n",
       "3320         Bainbridge           Colman             20:00.0          23:59.0   \n",
       "3321         Bainbridge           Colman             05:00.0          06:51.0   \n",
       "\n",
       "     Actual_Arrival  TransitTime  \n",
       "3318        16:44.0         31.0  \n",
       "3319        51:12.0         31.0  \n",
       "3320        51:35.0         28.0  \n",
       "3321        40:22.0         34.0  "
      ]
     },
     "execution_count": 18,
     "metadata": {},
     "output_type": "execute_result"
    }
   ],
   "source": [
    "bainbridge_departures.iloc[3318:3322]"
   ]
  },
  {
   "cell_type": "code",
   "execution_count": 19,
   "metadata": {},
   "outputs": [
    {
     "data": {
      "text/plain": [
       "23"
      ]
     },
     "execution_count": 19,
     "metadata": {},
     "output_type": "execute_result"
    }
   ],
   "source": [
    "len(mfw13_scheduled_departures_24h)"
   ]
  },
  {
   "cell_type": "code",
   "execution_count": 20,
   "metadata": {},
   "outputs": [
    {
     "name": "stdout",
     "output_type": "stream",
     "text": [
      "Was able to match departure times up until this row at index 4154:\n",
      "departure_terminal     Bainbridge\n",
      "arrival_terminal           Colman\n",
      "scheduled_departure       20:00.0\n",
      "actual_departure          19:33.0\n",
      "Actual_Arrival            49:12.0\n",
      "TransitTime                    30\n",
      "Name: 4154, dtype: object\n",
      "\n",
      "                    Was trying to insert this timestamp: 2013-07-04 04:45:00\n"
     ]
    }
   ],
   "source": [
    "timestamps_2 = generate_timestamps(bainbridge_departures.iloc[3318:], wkw13_scheduled_departures_24h, 24, 2013, 5, 28)"
   ]
  },
  {
   "cell_type": "code",
   "execution_count": 21,
   "metadata": {
    "collapsed": true
   },
   "outputs": [],
   "source": [
    "timestamps = timestamps + timestamps_2"
   ]
  },
  {
   "cell_type": "code",
   "execution_count": 22,
   "metadata": {},
   "outputs": [
    {
     "data": {
      "text/plain": [
       "4154"
      ]
     },
     "execution_count": 22,
     "metadata": {},
     "output_type": "execute_result"
    }
   ],
   "source": [
    "len(timestamps)"
   ]
  },
  {
   "cell_type": "code",
   "execution_count": 23,
   "metadata": {},
   "outputs": [
    {
     "data": {
      "text/plain": [
       "['2013-07-03 20:55:00',\n",
       " '2013-07-03 21:45:00',\n",
       " '2013-07-03 22:35:00',\n",
       " '2013-07-04 00:55:00']"
      ]
     },
     "execution_count": 23,
     "metadata": {},
     "output_type": "execute_result"
    }
   ],
   "source": [
    "timestamps[4150:]"
   ]
  },
  {
   "cell_type": "markdown",
   "metadata": {},
   "source": [
    "The fourth of July schedule is the same as the May 27, 2013 schedule."
   ]
  },
  {
   "cell_type": "markdown",
   "metadata": {},
   "source": [
    "Thursday, July 4, 2013"
   ]
  },
  {
   "cell_type": "code",
   "execution_count": 24,
   "metadata": {},
   "outputs": [
    {
     "name": "stdout",
     "output_type": "stream",
     "text": [
      "Was able to match departure times up until this row at index 4176:\n",
      "departure_terminal     Bainbridge\n",
      "arrival_terminal           Colman\n",
      "scheduled_departure       45:00.0\n",
      "actual_departure          44:36.0\n",
      "Actual_Arrival            13:56.0\n",
      "TransitTime                    29\n",
      "Name: 4176, dtype: object\n",
      "\n",
      "                    Was trying to insert this timestamp: 2013-07-05 05:20:00\n"
     ]
    }
   ],
   "source": [
    "july0413timestamps = generate_timestamps(bainbridge_departures[4154:], may2713, 0, 2013, 7, 4)"
   ]
  },
  {
   "cell_type": "code",
   "execution_count": 25,
   "metadata": {
    "collapsed": true
   },
   "outputs": [],
   "source": [
    "timestamps = timestamps + july0413timestamps"
   ]
  },
  {
   "cell_type": "code",
   "execution_count": 26,
   "metadata": {},
   "outputs": [
    {
     "data": {
      "text/plain": [
       "4176"
      ]
     },
     "execution_count": 26,
     "metadata": {},
     "output_type": "execute_result"
    }
   ],
   "source": [
    "len(timestamps)"
   ]
  },
  {
   "cell_type": "markdown",
   "metadata": {},
   "source": [
    "Need to start again this time from Thursday"
   ]
  },
  {
   "cell_type": "code",
   "execution_count": 27,
   "metadata": {},
   "outputs": [
    {
     "name": "stdout",
     "output_type": "stream",
     "text": [
      "Was able to match departure times up until this row at index 5507:\n",
      "departure_terminal     Bainbridge\n",
      "arrival_terminal           Colman\n",
      "scheduled_departure       05:00.0\n",
      "actual_departure          05:06.0\n",
      "Actual_Arrival            32:58.0\n",
      "TransitTime                    27\n",
      "Name: 5507, dtype: object\n",
      "\n",
      "                    Was trying to insert this timestamp: 2013-09-02 05:20:00\n"
     ]
    }
   ],
   "source": [
    "timestamps_2 = generate_timestamps(bainbridge_departures[4176:], wkw13_scheduled_departures_24h, (23*4) + 1, 2013, 7, 5)"
   ]
  },
  {
   "cell_type": "code",
   "execution_count": 28,
   "metadata": {
    "collapsed": true
   },
   "outputs": [],
   "source": [
    "timestamps = timestamps + timestamps_2"
   ]
  },
  {
   "cell_type": "markdown",
   "metadata": {},
   "source": [
    "Monday, September 2, 2013 was a holiday."
   ]
  },
  {
   "cell_type": "code",
   "execution_count": 29,
   "metadata": {
    "collapsed": true
   },
   "outputs": [],
   "source": [
    "timestamps = timestamps[:5506]"
   ]
  },
  {
   "cell_type": "code",
   "execution_count": 30,
   "metadata": {},
   "outputs": [
    {
     "data": {
      "text/plain": [
       "5506"
      ]
     },
     "execution_count": 30,
     "metadata": {},
     "output_type": "execute_result"
    }
   ],
   "source": [
    "len(timestamps)"
   ]
  },
  {
   "cell_type": "code",
   "execution_count": 31,
   "metadata": {},
   "outputs": [
    {
     "data": {
      "text/plain": [
       "['2013-09-01 20:10:00',\n",
       " '2013-09-01 20:55:00',\n",
       " '2013-09-01 21:45:00',\n",
       " '2013-09-01 22:30:00',\n",
       " '2013-09-02 00:00:00',\n",
       " '2013-09-02 01:25:00']"
      ]
     },
     "execution_count": 31,
     "metadata": {},
     "output_type": "execute_result"
    }
   ],
   "source": [
    "timestamps[5500:]"
   ]
  },
  {
   "cell_type": "code",
   "execution_count": 32,
   "metadata": {},
   "outputs": [
    {
     "data": {
      "text/html": [
       "<div>\n",
       "<style scoped>\n",
       "    .dataframe tbody tr th:only-of-type {\n",
       "        vertical-align: middle;\n",
       "    }\n",
       "\n",
       "    .dataframe tbody tr th {\n",
       "        vertical-align: top;\n",
       "    }\n",
       "\n",
       "    .dataframe thead th {\n",
       "        text-align: right;\n",
       "    }\n",
       "</style>\n",
       "<table border=\"1\" class=\"dataframe\">\n",
       "  <thead>\n",
       "    <tr style=\"text-align: right;\">\n",
       "      <th></th>\n",
       "      <th>departure_terminal</th>\n",
       "      <th>arrival_terminal</th>\n",
       "      <th>scheduled_departure</th>\n",
       "      <th>actual_departure</th>\n",
       "      <th>Actual_Arrival</th>\n",
       "      <th>TransitTime</th>\n",
       "    </tr>\n",
       "  </thead>\n",
       "  <tbody>\n",
       "    <tr>\n",
       "      <th>5506</th>\n",
       "      <td>Bainbridge</td>\n",
       "      <td>Colman</td>\n",
       "      <td>20:00.0</td>\n",
       "      <td>20:16.0</td>\n",
       "      <td>49:50.0</td>\n",
       "      <td>29.0</td>\n",
       "    </tr>\n",
       "    <tr>\n",
       "      <th>5507</th>\n",
       "      <td>Bainbridge</td>\n",
       "      <td>Colman</td>\n",
       "      <td>05:00.0</td>\n",
       "      <td>05:06.0</td>\n",
       "      <td>32:58.0</td>\n",
       "      <td>27.0</td>\n",
       "    </tr>\n",
       "    <tr>\n",
       "      <th>5508</th>\n",
       "      <td>Bainbridge</td>\n",
       "      <td>Colman</td>\n",
       "      <td>55:00.0</td>\n",
       "      <td>55:00.0</td>\n",
       "      <td>26:35.0</td>\n",
       "      <td>31.0</td>\n",
       "    </tr>\n",
       "    <tr>\n",
       "      <th>5509</th>\n",
       "      <td>Bainbridge</td>\n",
       "      <td>Colman</td>\n",
       "      <td>45:00.0</td>\n",
       "      <td>45:06.0</td>\n",
       "      <td>14:50.0</td>\n",
       "      <td>29.0</td>\n",
       "    </tr>\n",
       "    <tr>\n",
       "      <th>5510</th>\n",
       "      <td>Bainbridge</td>\n",
       "      <td>Colman</td>\n",
       "      <td>35:00.0</td>\n",
       "      <td>35:36.0</td>\n",
       "      <td>06:01.0</td>\n",
       "      <td>31.0</td>\n",
       "    </tr>\n",
       "  </tbody>\n",
       "</table>\n",
       "</div>"
      ],
      "text/plain": [
       "     departure_terminal arrival_terminal scheduled_departure actual_departure  \\\n",
       "5506         Bainbridge           Colman             20:00.0          20:16.0   \n",
       "5507         Bainbridge           Colman             05:00.0          05:06.0   \n",
       "5508         Bainbridge           Colman             55:00.0          55:00.0   \n",
       "5509         Bainbridge           Colman             45:00.0          45:06.0   \n",
       "5510         Bainbridge           Colman             35:00.0          35:36.0   \n",
       "\n",
       "     Actual_Arrival  TransitTime  \n",
       "5506        49:50.0         29.0  \n",
       "5507        32:58.0         27.0  \n",
       "5508        26:35.0         31.0  \n",
       "5509        14:50.0         29.0  \n",
       "5510        06:01.0         31.0  "
      ]
     },
     "execution_count": 32,
     "metadata": {},
     "output_type": "execute_result"
    }
   ],
   "source": [
    "bainbridge_departures.iloc[5506:].head()"
   ]
  },
  {
   "cell_type": "code",
   "execution_count": 33,
   "metadata": {},
   "outputs": [
    {
     "name": "stdout",
     "output_type": "stream",
     "text": [
      "Was able to match departure times up until this row at index 5529:\n",
      "departure_terminal     Bainbridge\n",
      "arrival_terminal           Colman\n",
      "scheduled_departure       20:00.0\n",
      "actual_departure          20:05.0\n",
      "Actual_Arrival            53:03.0\n",
      "TransitTime                    33\n",
      "Name: 5529, dtype: object\n",
      "\n",
      "                    Was trying to insert this timestamp: 2013-09-02 07:55:00\n"
     ]
    }
   ],
   "source": [
    "sept0213timestamps = generate_timestamps(bainbridge_departures[5506:], may2713, 0, 2013, 9, 2)"
   ]
  },
  {
   "cell_type": "code",
   "execution_count": 34,
   "metadata": {
    "collapsed": true
   },
   "outputs": [],
   "source": [
    "sept0213timestamps = sept0213timestamps[:22]"
   ]
  },
  {
   "cell_type": "code",
   "execution_count": 35,
   "metadata": {
    "collapsed": true
   },
   "outputs": [],
   "source": [
    "timestamps = timestamps + sept0213timestamps"
   ]
  },
  {
   "cell_type": "code",
   "execution_count": 36,
   "metadata": {},
   "outputs": [
    {
     "data": {
      "text/plain": [
       "5528"
      ]
     },
     "execution_count": 36,
     "metadata": {},
     "output_type": "execute_result"
    }
   ],
   "source": [
    "len(timestamps)"
   ]
  },
  {
   "cell_type": "code",
   "execution_count": 37,
   "metadata": {},
   "outputs": [
    {
     "data": {
      "text/plain": [
       "['2013-09-02 18:30:00',\n",
       " '2013-09-02 19:10:00',\n",
       " '2013-09-02 20:10:00',\n",
       " '2013-09-02 20:55:00',\n",
       " '2013-09-02 21:45:00',\n",
       " '2013-09-02 22:30:00',\n",
       " '2013-09-03 00:00:00',\n",
       " '2013-09-03 01:25:00']"
      ]
     },
     "execution_count": 37,
     "metadata": {},
     "output_type": "execute_result"
    }
   ],
   "source": [
    "timestamps[5520:]"
   ]
  },
  {
   "cell_type": "code",
   "execution_count": 38,
   "metadata": {},
   "outputs": [
    {
     "data": {
      "text/html": [
       "<div>\n",
       "<style scoped>\n",
       "    .dataframe tbody tr th:only-of-type {\n",
       "        vertical-align: middle;\n",
       "    }\n",
       "\n",
       "    .dataframe tbody tr th {\n",
       "        vertical-align: top;\n",
       "    }\n",
       "\n",
       "    .dataframe thead th {\n",
       "        text-align: right;\n",
       "    }\n",
       "</style>\n",
       "<table border=\"1\" class=\"dataframe\">\n",
       "  <thead>\n",
       "    <tr style=\"text-align: right;\">\n",
       "      <th></th>\n",
       "      <th>departure_terminal</th>\n",
       "      <th>arrival_terminal</th>\n",
       "      <th>scheduled_departure</th>\n",
       "      <th>actual_departure</th>\n",
       "      <th>Actual_Arrival</th>\n",
       "      <th>TransitTime</th>\n",
       "    </tr>\n",
       "  </thead>\n",
       "  <tbody>\n",
       "    <tr>\n",
       "      <th>5528</th>\n",
       "      <td>Bainbridge</td>\n",
       "      <td>Colman</td>\n",
       "      <td>45:00.0</td>\n",
       "      <td>45:07.0</td>\n",
       "      <td>12:15.0</td>\n",
       "      <td>27.0</td>\n",
       "    </tr>\n",
       "    <tr>\n",
       "      <th>5529</th>\n",
       "      <td>Bainbridge</td>\n",
       "      <td>Colman</td>\n",
       "      <td>20:00.0</td>\n",
       "      <td>20:05.0</td>\n",
       "      <td>53:03.0</td>\n",
       "      <td>33.0</td>\n",
       "    </tr>\n",
       "    <tr>\n",
       "      <th>5530</th>\n",
       "      <td>Bainbridge</td>\n",
       "      <td>Colman</td>\n",
       "      <td>20:00.0</td>\n",
       "      <td>20:00.0</td>\n",
       "      <td>49:57.0</td>\n",
       "      <td>29.0</td>\n",
       "    </tr>\n",
       "    <tr>\n",
       "      <th>5531</th>\n",
       "      <td>Bainbridge</td>\n",
       "      <td>Colman</td>\n",
       "      <td>05:00.0</td>\n",
       "      <td>06:03.0</td>\n",
       "      <td>36:39.0</td>\n",
       "      <td>30.0</td>\n",
       "    </tr>\n",
       "    <tr>\n",
       "      <th>5532</th>\n",
       "      <td>Bainbridge</td>\n",
       "      <td>Colman</td>\n",
       "      <td>55:00.0</td>\n",
       "      <td>56:43.0</td>\n",
       "      <td>26:53.0</td>\n",
       "      <td>30.0</td>\n",
       "    </tr>\n",
       "  </tbody>\n",
       "</table>\n",
       "</div>"
      ],
      "text/plain": [
       "     departure_terminal arrival_terminal scheduled_departure actual_departure  \\\n",
       "5528         Bainbridge           Colman             45:00.0          45:07.0   \n",
       "5529         Bainbridge           Colman             20:00.0          20:05.0   \n",
       "5530         Bainbridge           Colman             20:00.0          20:00.0   \n",
       "5531         Bainbridge           Colman             05:00.0          06:03.0   \n",
       "5532         Bainbridge           Colman             55:00.0          56:43.0   \n",
       "\n",
       "     Actual_Arrival  TransitTime  \n",
       "5528        12:15.0         27.0  \n",
       "5529        53:03.0         33.0  \n",
       "5530        49:57.0         29.0  \n",
       "5531        36:39.0         30.0  \n",
       "5532        26:53.0         30.0  "
      ]
     },
     "execution_count": 38,
     "metadata": {},
     "output_type": "execute_result"
    }
   ],
   "source": [
    "bainbridge_departures.iloc[5528:].head()"
   ]
  },
  {
   "cell_type": "markdown",
   "metadata": {},
   "source": [
    "Tuesday, September 3, 2013 (is the start of whats above)"
   ]
  },
  {
   "cell_type": "code",
   "execution_count": 39,
   "metadata": {
    "collapsed": true
   },
   "outputs": [],
   "source": [
    "bainbridge_departures = bainbridge_departures.drop(7185)"
   ]
  },
  {
   "cell_type": "code",
   "execution_count": 40,
   "metadata": {},
   "outputs": [
    {
     "name": "stdout",
     "output_type": "stream",
     "text": [
      "Was able to match departure times up until this row at index 7471:\n",
      "departure_terminal     Bainbridge\n",
      "arrival_terminal           Colman\n",
      "scheduled_departure       20:00.0\n",
      "actual_departure          21:09.0\n",
      "Actual_Arrival            52:53.0\n",
      "TransitTime                    31\n",
      "Name: 7471, dtype: object\n",
      "\n",
      "                    Was trying to insert this timestamp: 2013-11-28 04:45:00\n"
     ]
    }
   ],
   "source": [
    "timestamps_2 = generate_timestamps(bainbridge_departures[5528:], wkw13_scheduled_departures_24h, (23*1) + 1, 2013, 9, 3)"
   ]
  },
  {
   "cell_type": "code",
   "execution_count": 41,
   "metadata": {},
   "outputs": [
    {
     "data": {
      "text/plain": [
       "1942"
      ]
     },
     "execution_count": 41,
     "metadata": {},
     "output_type": "execute_result"
    }
   ],
   "source": [
    "len(timestamps_2)"
   ]
  },
  {
   "cell_type": "code",
   "execution_count": 42,
   "metadata": {
    "collapsed": true
   },
   "outputs": [],
   "source": [
    "timestamps = timestamps + timestamps_2"
   ]
  },
  {
   "cell_type": "code",
   "execution_count": 43,
   "metadata": {},
   "outputs": [
    {
     "data": {
      "text/plain": [
       "['2013-11-27 18:30:00',\n",
       " '2013-11-27 19:10:00',\n",
       " '2013-11-27 20:10:00',\n",
       " '2013-11-27 20:55:00',\n",
       " '2013-11-27 21:45:00',\n",
       " '2013-11-27 22:35:00',\n",
       " '2013-11-28 00:55:00']"
      ]
     },
     "execution_count": 43,
     "metadata": {},
     "output_type": "execute_result"
    }
   ],
   "source": [
    "timestamps_2[1935:]"
   ]
  },
  {
   "cell_type": "code",
   "execution_count": 44,
   "metadata": {},
   "outputs": [
    {
     "data": {
      "text/html": [
       "<div>\n",
       "<style scoped>\n",
       "    .dataframe tbody tr th:only-of-type {\n",
       "        vertical-align: middle;\n",
       "    }\n",
       "\n",
       "    .dataframe tbody tr th {\n",
       "        vertical-align: top;\n",
       "    }\n",
       "\n",
       "    .dataframe thead th {\n",
       "        text-align: right;\n",
       "    }\n",
       "</style>\n",
       "<table border=\"1\" class=\"dataframe\">\n",
       "  <thead>\n",
       "    <tr style=\"text-align: right;\">\n",
       "      <th></th>\n",
       "      <th>departure_terminal</th>\n",
       "      <th>arrival_terminal</th>\n",
       "      <th>scheduled_departure</th>\n",
       "      <th>actual_departure</th>\n",
       "      <th>Actual_Arrival</th>\n",
       "      <th>TransitTime</th>\n",
       "    </tr>\n",
       "  </thead>\n",
       "  <tbody>\n",
       "    <tr>\n",
       "      <th>7471</th>\n",
       "      <td>Bainbridge</td>\n",
       "      <td>Colman</td>\n",
       "      <td>20:00.0</td>\n",
       "      <td>21:09.0</td>\n",
       "      <td>52:53.0</td>\n",
       "      <td>31.0</td>\n",
       "    </tr>\n",
       "    <tr>\n",
       "      <th>7472</th>\n",
       "      <td>Bainbridge</td>\n",
       "      <td>Colman</td>\n",
       "      <td>05:00.0</td>\n",
       "      <td>04:41.0</td>\n",
       "      <td>41:21.0</td>\n",
       "      <td>37.0</td>\n",
       "    </tr>\n",
       "    <tr>\n",
       "      <th>7473</th>\n",
       "      <td>Bainbridge</td>\n",
       "      <td>Colman</td>\n",
       "      <td>55:00.0</td>\n",
       "      <td>54:33.0</td>\n",
       "      <td>25:12.0</td>\n",
       "      <td>31.0</td>\n",
       "    </tr>\n",
       "    <tr>\n",
       "      <th>7474</th>\n",
       "      <td>Bainbridge</td>\n",
       "      <td>Colman</td>\n",
       "      <td>45:00.0</td>\n",
       "      <td>44:43.0</td>\n",
       "      <td>20:07.0</td>\n",
       "      <td>36.0</td>\n",
       "    </tr>\n",
       "    <tr>\n",
       "      <th>7475</th>\n",
       "      <td>Bainbridge</td>\n",
       "      <td>Colman</td>\n",
       "      <td>35:00.0</td>\n",
       "      <td>35:00.0</td>\n",
       "      <td>04:01.0</td>\n",
       "      <td>29.0</td>\n",
       "    </tr>\n",
       "  </tbody>\n",
       "</table>\n",
       "</div>"
      ],
      "text/plain": [
       "     departure_terminal arrival_terminal scheduled_departure actual_departure  \\\n",
       "7471         Bainbridge           Colman             20:00.0          21:09.0   \n",
       "7472         Bainbridge           Colman             05:00.0          04:41.0   \n",
       "7473         Bainbridge           Colman             55:00.0          54:33.0   \n",
       "7474         Bainbridge           Colman             45:00.0          44:43.0   \n",
       "7475         Bainbridge           Colman             35:00.0          35:00.0   \n",
       "\n",
       "     Actual_Arrival  TransitTime  \n",
       "7471        52:53.0         31.0  \n",
       "7472        41:21.0         37.0  \n",
       "7473        25:12.0         31.0  \n",
       "7474        20:07.0         36.0  \n",
       "7475        04:01.0         29.0  "
      ]
     },
     "execution_count": 44,
     "metadata": {},
     "output_type": "execute_result"
    }
   ],
   "source": [
    "bainbridge_departures[7470:].head()"
   ]
  },
  {
   "cell_type": "code",
   "execution_count": 45,
   "metadata": {},
   "outputs": [
    {
     "name": "stdout",
     "output_type": "stream",
     "text": [
      "Was able to match departure times up until this row at index 7493:\n",
      "departure_terminal     Bainbridge\n",
      "arrival_terminal           Colman\n",
      "scheduled_departure       45:00.0\n",
      "actual_departure          45:58.0\n",
      "Actual_Arrival            20:01.0\n",
      "TransitTime                    35\n",
      "Name: 7493, dtype: object\n",
      "\n",
      "                    Was trying to insert this timestamp: 2013-11-29 05:20:00\n"
     ]
    }
   ],
   "source": [
    "nov2813timestamps = generate_timestamps(bainbridge_departures[7470:], may2713, 0, 2013, 11, 28)"
   ]
  },
  {
   "cell_type": "code",
   "execution_count": 46,
   "metadata": {
    "collapsed": true
   },
   "outputs": [],
   "source": [
    "timestamps = timestamps + nov2813timestamps"
   ]
  },
  {
   "cell_type": "code",
   "execution_count": 47,
   "metadata": {},
   "outputs": [
    {
     "data": {
      "text/html": [
       "<div>\n",
       "<style scoped>\n",
       "    .dataframe tbody tr th:only-of-type {\n",
       "        vertical-align: middle;\n",
       "    }\n",
       "\n",
       "    .dataframe tbody tr th {\n",
       "        vertical-align: top;\n",
       "    }\n",
       "\n",
       "    .dataframe thead th {\n",
       "        text-align: right;\n",
       "    }\n",
       "</style>\n",
       "<table border=\"1\" class=\"dataframe\">\n",
       "  <thead>\n",
       "    <tr style=\"text-align: right;\">\n",
       "      <th></th>\n",
       "      <th>departure_terminal</th>\n",
       "      <th>arrival_terminal</th>\n",
       "      <th>scheduled_departure</th>\n",
       "      <th>actual_departure</th>\n",
       "      <th>Actual_Arrival</th>\n",
       "      <th>TransitTime</th>\n",
       "    </tr>\n",
       "  </thead>\n",
       "  <tbody>\n",
       "    <tr>\n",
       "      <th>7493</th>\n",
       "      <td>Bainbridge</td>\n",
       "      <td>Colman</td>\n",
       "      <td>45:00.0</td>\n",
       "      <td>45:58.0</td>\n",
       "      <td>20:01.0</td>\n",
       "      <td>35.0</td>\n",
       "    </tr>\n",
       "    <tr>\n",
       "      <th>7494</th>\n",
       "      <td>Bainbridge</td>\n",
       "      <td>Colman</td>\n",
       "      <td>20:00.0</td>\n",
       "      <td>20:03.0</td>\n",
       "      <td>51:11.0</td>\n",
       "      <td>31.0</td>\n",
       "    </tr>\n",
       "    <tr>\n",
       "      <th>7495</th>\n",
       "      <td>Bainbridge</td>\n",
       "      <td>Colman</td>\n",
       "      <td>20:00.0</td>\n",
       "      <td>22:03.0</td>\n",
       "      <td>52:19.0</td>\n",
       "      <td>30.0</td>\n",
       "    </tr>\n",
       "    <tr>\n",
       "      <th>7496</th>\n",
       "      <td>Bainbridge</td>\n",
       "      <td>Colman</td>\n",
       "      <td>05:00.0</td>\n",
       "      <td>05:01.0</td>\n",
       "      <td>35:29.0</td>\n",
       "      <td>30.0</td>\n",
       "    </tr>\n",
       "    <tr>\n",
       "      <th>7497</th>\n",
       "      <td>Bainbridge</td>\n",
       "      <td>Colman</td>\n",
       "      <td>55:00.0</td>\n",
       "      <td>55:26.0</td>\n",
       "      <td>26:27.0</td>\n",
       "      <td>31.0</td>\n",
       "    </tr>\n",
       "  </tbody>\n",
       "</table>\n",
       "</div>"
      ],
      "text/plain": [
       "     departure_terminal arrival_terminal scheduled_departure actual_departure  \\\n",
       "7493         Bainbridge           Colman             45:00.0          45:58.0   \n",
       "7494         Bainbridge           Colman             20:00.0          20:03.0   \n",
       "7495         Bainbridge           Colman             20:00.0          22:03.0   \n",
       "7496         Bainbridge           Colman             05:00.0          05:01.0   \n",
       "7497         Bainbridge           Colman             55:00.0          55:26.0   \n",
       "\n",
       "     Actual_Arrival  TransitTime  \n",
       "7493        20:01.0         35.0  \n",
       "7494        51:11.0         31.0  \n",
       "7495        52:19.0         30.0  \n",
       "7496        35:29.0         30.0  \n",
       "7497        26:27.0         31.0  "
      ]
     },
     "execution_count": 47,
     "metadata": {},
     "output_type": "execute_result"
    }
   ],
   "source": [
    "bainbridge_departures[7492:].head()"
   ]
  },
  {
   "cell_type": "markdown",
   "metadata": {},
   "source": [
    "The top of the above is Friday, November 29, 2013"
   ]
  },
  {
   "cell_type": "code",
   "execution_count": 48,
   "metadata": {},
   "outputs": [
    {
     "name": "stdout",
     "output_type": "stream",
     "text": [
      "Was able to match departure times up until this row at index 8079:\n",
      "departure_terminal     Bainbridge\n",
      "arrival_terminal           Colman\n",
      "scheduled_departure       20:00.0\n",
      "actual_departure          20:15.0\n",
      "Actual_Arrival            51:40.0\n",
      "TransitTime                    31\n",
      "Name: 8079, dtype: object\n",
      "\n",
      "                    Was trying to insert this timestamp: 2013-12-25 04:45:00\n"
     ]
    }
   ],
   "source": [
    "timestamps_2 = generate_timestamps(bainbridge_departures[7492:], wkw13_scheduled_departures_24h, (23*4) + 1, 2013, 11, 29)"
   ]
  },
  {
   "cell_type": "code",
   "execution_count": 49,
   "metadata": {
    "collapsed": true
   },
   "outputs": [],
   "source": [
    "timestamps = timestamps + timestamps_2"
   ]
  },
  {
   "cell_type": "code",
   "execution_count": 50,
   "metadata": {},
   "outputs": [
    {
     "data": {
      "text/html": [
       "<div>\n",
       "<style scoped>\n",
       "    .dataframe tbody tr th:only-of-type {\n",
       "        vertical-align: middle;\n",
       "    }\n",
       "\n",
       "    .dataframe tbody tr th {\n",
       "        vertical-align: top;\n",
       "    }\n",
       "\n",
       "    .dataframe thead th {\n",
       "        text-align: right;\n",
       "    }\n",
       "</style>\n",
       "<table border=\"1\" class=\"dataframe\">\n",
       "  <thead>\n",
       "    <tr style=\"text-align: right;\">\n",
       "      <th></th>\n",
       "      <th>departure_terminal</th>\n",
       "      <th>arrival_terminal</th>\n",
       "      <th>scheduled_departure</th>\n",
       "      <th>actual_departure</th>\n",
       "      <th>Actual_Arrival</th>\n",
       "      <th>TransitTime</th>\n",
       "    </tr>\n",
       "  </thead>\n",
       "  <tbody>\n",
       "    <tr>\n",
       "      <th>8079</th>\n",
       "      <td>Bainbridge</td>\n",
       "      <td>Colman</td>\n",
       "      <td>20:00.0</td>\n",
       "      <td>20:15.0</td>\n",
       "      <td>51:40.0</td>\n",
       "      <td>31.0</td>\n",
       "    </tr>\n",
       "    <tr>\n",
       "      <th>8080</th>\n",
       "      <td>Bainbridge</td>\n",
       "      <td>Colman</td>\n",
       "      <td>05:00.0</td>\n",
       "      <td>06:36.0</td>\n",
       "      <td>38:42.0</td>\n",
       "      <td>32.0</td>\n",
       "    </tr>\n",
       "    <tr>\n",
       "      <th>8081</th>\n",
       "      <td>Bainbridge</td>\n",
       "      <td>Colman</td>\n",
       "      <td>55:00.0</td>\n",
       "      <td>55:25.0</td>\n",
       "      <td>24:45.0</td>\n",
       "      <td>29.0</td>\n",
       "    </tr>\n",
       "    <tr>\n",
       "      <th>8082</th>\n",
       "      <td>Bainbridge</td>\n",
       "      <td>Colman</td>\n",
       "      <td>45:00.0</td>\n",
       "      <td>45:00.0</td>\n",
       "      <td>15:54.0</td>\n",
       "      <td>30.0</td>\n",
       "    </tr>\n",
       "    <tr>\n",
       "      <th>8083</th>\n",
       "      <td>Bainbridge</td>\n",
       "      <td>Colman</td>\n",
       "      <td>35:00.0</td>\n",
       "      <td>37:32.0</td>\n",
       "      <td>11:13.0</td>\n",
       "      <td>34.0</td>\n",
       "    </tr>\n",
       "  </tbody>\n",
       "</table>\n",
       "</div>"
      ],
      "text/plain": [
       "     departure_terminal arrival_terminal scheduled_departure actual_departure  \\\n",
       "8079         Bainbridge           Colman             20:00.0          20:15.0   \n",
       "8080         Bainbridge           Colman             05:00.0          06:36.0   \n",
       "8081         Bainbridge           Colman             55:00.0          55:25.0   \n",
       "8082         Bainbridge           Colman             45:00.0          45:00.0   \n",
       "8083         Bainbridge           Colman             35:00.0          37:32.0   \n",
       "\n",
       "     Actual_Arrival  TransitTime  \n",
       "8079        51:40.0         31.0  \n",
       "8080        38:42.0         32.0  \n",
       "8081        24:45.0         29.0  \n",
       "8082        15:54.0         30.0  \n",
       "8083        11:13.0         34.0  "
      ]
     },
     "execution_count": 50,
     "metadata": {},
     "output_type": "execute_result"
    }
   ],
   "source": [
    "bainbridge_departures[8078:].head()"
   ]
  },
  {
   "cell_type": "code",
   "execution_count": 51,
   "metadata": {},
   "outputs": [
    {
     "name": "stdout",
     "output_type": "stream",
     "text": [
      "Was able to match departure times up until this row at index 8101:\n",
      "departure_terminal     Bainbridge\n",
      "arrival_terminal           Colman\n",
      "scheduled_departure       45:00.0\n",
      "actual_departure          44:36.0\n",
      "Actual_Arrival            14:25.0\n",
      "TransitTime                    30\n",
      "Name: 8101, dtype: object\n",
      "\n",
      "                    Was trying to insert this timestamp: 2013-12-26 05:20:00\n"
     ]
    }
   ],
   "source": [
    "dec2513timestamps = generate_timestamps(bainbridge_departures[8078:], may2713, 0, 2013, 12, 25)"
   ]
  },
  {
   "cell_type": "code",
   "execution_count": 52,
   "metadata": {
    "collapsed": true
   },
   "outputs": [],
   "source": [
    "timestamps = timestamps + dec2513timestamps"
   ]
  },
  {
   "cell_type": "code",
   "execution_count": 53,
   "metadata": {},
   "outputs": [
    {
     "data": {
      "text/html": [
       "<div>\n",
       "<style scoped>\n",
       "    .dataframe tbody tr th:only-of-type {\n",
       "        vertical-align: middle;\n",
       "    }\n",
       "\n",
       "    .dataframe tbody tr th {\n",
       "        vertical-align: top;\n",
       "    }\n",
       "\n",
       "    .dataframe thead th {\n",
       "        text-align: right;\n",
       "    }\n",
       "</style>\n",
       "<table border=\"1\" class=\"dataframe\">\n",
       "  <thead>\n",
       "    <tr style=\"text-align: right;\">\n",
       "      <th></th>\n",
       "      <th>departure_terminal</th>\n",
       "      <th>arrival_terminal</th>\n",
       "      <th>scheduled_departure</th>\n",
       "      <th>actual_departure</th>\n",
       "      <th>Actual_Arrival</th>\n",
       "      <th>TransitTime</th>\n",
       "    </tr>\n",
       "  </thead>\n",
       "  <tbody>\n",
       "    <tr>\n",
       "      <th>8101</th>\n",
       "      <td>Bainbridge</td>\n",
       "      <td>Colman</td>\n",
       "      <td>45:00.0</td>\n",
       "      <td>44:36.0</td>\n",
       "      <td>14:25.0</td>\n",
       "      <td>30.0</td>\n",
       "    </tr>\n",
       "    <tr>\n",
       "      <th>8102</th>\n",
       "      <td>Bainbridge</td>\n",
       "      <td>Colman</td>\n",
       "      <td>20:00.0</td>\n",
       "      <td>20:53.0</td>\n",
       "      <td>50:24.0</td>\n",
       "      <td>30.0</td>\n",
       "    </tr>\n",
       "    <tr>\n",
       "      <th>8103</th>\n",
       "      <td>Bainbridge</td>\n",
       "      <td>Colman</td>\n",
       "      <td>20:00.0</td>\n",
       "      <td>19:40.0</td>\n",
       "      <td>50:15.0</td>\n",
       "      <td>31.0</td>\n",
       "    </tr>\n",
       "    <tr>\n",
       "      <th>8104</th>\n",
       "      <td>Bainbridge</td>\n",
       "      <td>Colman</td>\n",
       "      <td>05:00.0</td>\n",
       "      <td>06:06.0</td>\n",
       "      <td>35:48.0</td>\n",
       "      <td>29.0</td>\n",
       "    </tr>\n",
       "    <tr>\n",
       "      <th>8105</th>\n",
       "      <td>Bainbridge</td>\n",
       "      <td>Colman</td>\n",
       "      <td>55:00.0</td>\n",
       "      <td>55:29.0</td>\n",
       "      <td>26:33.0</td>\n",
       "      <td>31.0</td>\n",
       "    </tr>\n",
       "  </tbody>\n",
       "</table>\n",
       "</div>"
      ],
      "text/plain": [
       "     departure_terminal arrival_terminal scheduled_departure actual_departure  \\\n",
       "8101         Bainbridge           Colman             45:00.0          44:36.0   \n",
       "8102         Bainbridge           Colman             20:00.0          20:53.0   \n",
       "8103         Bainbridge           Colman             20:00.0          19:40.0   \n",
       "8104         Bainbridge           Colman             05:00.0          06:06.0   \n",
       "8105         Bainbridge           Colman             55:00.0          55:29.0   \n",
       "\n",
       "     Actual_Arrival  TransitTime  \n",
       "8101        14:25.0         30.0  \n",
       "8102        50:24.0         30.0  \n",
       "8103        50:15.0         31.0  \n",
       "8104        35:48.0         29.0  \n",
       "8105        26:33.0         31.0  "
      ]
     },
     "execution_count": 53,
     "metadata": {},
     "output_type": "execute_result"
    }
   ],
   "source": [
    "bainbridge_departures[8100:].head()"
   ]
  },
  {
   "cell_type": "markdown",
   "metadata": {},
   "source": [
    "The top of above is Thursday December 26, 2013"
   ]
  },
  {
   "cell_type": "code",
   "execution_count": 54,
   "metadata": {},
   "outputs": [
    {
     "name": "stdout",
     "output_type": "stream",
     "text": [
      "Was able to match departure times up until this row at index 8236:\n",
      "departure_terminal     Bainbridge\n",
      "arrival_terminal           Colman\n",
      "scheduled_departure       20:00.0\n",
      "actual_departure          20:00.0\n",
      "Actual_Arrival            55:34.0\n",
      "TransitTime                    35\n",
      "Name: 8236, dtype: object\n",
      "\n",
      "                    Was trying to insert this timestamp: 2014-01-01 04:45:00\n"
     ]
    }
   ],
   "source": [
    "timestamps_2 = generate_timestamps(bainbridge_departures[8100:], wkw13_scheduled_departures_24h, (23*3) + 1, 2013, 12, 26)"
   ]
  },
  {
   "cell_type": "code",
   "execution_count": 55,
   "metadata": {
    "collapsed": true
   },
   "outputs": [],
   "source": [
    "timestamps = timestamps + timestamps_2"
   ]
  },
  {
   "cell_type": "code",
   "execution_count": 56,
   "metadata": {},
   "outputs": [
    {
     "data": {
      "text/plain": [
       "8235"
      ]
     },
     "execution_count": 56,
     "metadata": {},
     "output_type": "execute_result"
    }
   ],
   "source": [
    "len(timestamps)"
   ]
  },
  {
   "cell_type": "code",
   "execution_count": 57,
   "metadata": {
    "collapsed": true
   },
   "outputs": [],
   "source": [
    "bainbridge_departures_2013_with_index = bainbridge_departures[0:8235]\n",
    "bainbridge_departures_2013_with_index.index = pd.to_datetime(timestamps)"
   ]
  },
  {
   "cell_type": "code",
   "execution_count": 58,
   "metadata": {
    "collapsed": true
   },
   "outputs": [],
   "source": [
    "bainbridge_departures_2013_with_index = bainbridge_departures_2013_with_index[\"2013\"]"
   ]
  },
  {
   "cell_type": "code",
   "execution_count": 59,
   "metadata": {
    "collapsed": true
   },
   "outputs": [],
   "source": [
    "bainbridge_departures_2013_with_index.index.name = \"timestamps\""
   ]
  },
  {
   "cell_type": "code",
   "execution_count": 60,
   "metadata": {},
   "outputs": [
    {
     "name": "stdout",
     "output_type": "stream",
     "text": [
      "Success!\n"
     ]
    }
   ],
   "source": [
    "verify_timestamps(bainbridge_departures_2013_with_index)"
   ]
  },
  {
   "cell_type": "code",
   "execution_count": 61,
   "metadata": {},
   "outputs": [
    {
     "data": {
      "text/html": [
       "<div>\n",
       "<style scoped>\n",
       "    .dataframe tbody tr th:only-of-type {\n",
       "        vertical-align: middle;\n",
       "    }\n",
       "\n",
       "    .dataframe tbody tr th {\n",
       "        vertical-align: top;\n",
       "    }\n",
       "\n",
       "    .dataframe thead th {\n",
       "        text-align: right;\n",
       "    }\n",
       "</style>\n",
       "<table border=\"1\" class=\"dataframe\">\n",
       "  <thead>\n",
       "    <tr style=\"text-align: right;\">\n",
       "      <th></th>\n",
       "      <th>departure_terminal</th>\n",
       "      <th>arrival_terminal</th>\n",
       "      <th>scheduled_departure</th>\n",
       "      <th>actual_departure</th>\n",
       "      <th>Actual_Arrival</th>\n",
       "      <th>TransitTime</th>\n",
       "    </tr>\n",
       "  </thead>\n",
       "  <tbody>\n",
       "    <tr>\n",
       "      <th>2013-06-03 17:30:00</th>\n",
       "      <td>Bainbridge</td>\n",
       "      <td>Pier 54 - Standby</td>\n",
       "      <td>30:00.0</td>\n",
       "      <td>NaN</td>\n",
       "      <td>03:02.0</td>\n",
       "      <td>NaN</td>\n",
       "    </tr>\n",
       "    <tr>\n",
       "      <th>2013-06-21 14:05:00</th>\n",
       "      <td>Bainbridge</td>\n",
       "      <td>Orcas</td>\n",
       "      <td>05:00.0</td>\n",
       "      <td>NaN</td>\n",
       "      <td>17:22.0</td>\n",
       "      <td>NaN</td>\n",
       "    </tr>\n",
       "    <tr>\n",
       "      <th>2013-09-18 09:40:00</th>\n",
       "      <td>Bainbridge</td>\n",
       "      <td>Pier 54 - Standby</td>\n",
       "      <td>40:00.0</td>\n",
       "      <td>NaN</td>\n",
       "      <td>12:12.0</td>\n",
       "      <td>NaN</td>\n",
       "    </tr>\n",
       "  </tbody>\n",
       "</table>\n",
       "</div>"
      ],
      "text/plain": [
       "                    departure_terminal   arrival_terminal scheduled_departure  \\\n",
       "2013-06-03 17:30:00         Bainbridge  Pier 54 - Standby             30:00.0   \n",
       "2013-06-21 14:05:00         Bainbridge              Orcas             05:00.0   \n",
       "2013-09-18 09:40:00         Bainbridge  Pier 54 - Standby             40:00.0   \n",
       "\n",
       "                     actual_departure Actual_Arrival  TransitTime  \n",
       "2013-06-03 17:30:00               NaN        03:02.0          NaN  \n",
       "2013-06-21 14:05:00               NaN        17:22.0          NaN  \n",
       "2013-09-18 09:40:00               NaN        12:12.0          NaN  "
      ]
     },
     "execution_count": 61,
     "metadata": {},
     "output_type": "execute_result"
    }
   ],
   "source": [
    "odd_terminals = verify_arrival_terminals(bainbridge_departures_2013_with_index)\n",
    "odd_terminals"
   ]
  },
  {
   "cell_type": "code",
   "execution_count": 62,
   "metadata": {
    "collapsed": true
   },
   "outputs": [],
   "source": [
    "bainbridge_departures_2013_with_index = remove_odd_terminals(bainbridge_departures_2013_with_index, odd_terminals)"
   ]
  },
  {
   "cell_type": "code",
   "execution_count": 63,
   "metadata": {},
   "outputs": [
    {
     "data": {
      "text/html": [
       "<div>\n",
       "<style scoped>\n",
       "    .dataframe tbody tr th:only-of-type {\n",
       "        vertical-align: middle;\n",
       "    }\n",
       "\n",
       "    .dataframe tbody tr th {\n",
       "        vertical-align: top;\n",
       "    }\n",
       "\n",
       "    .dataframe thead th {\n",
       "        text-align: right;\n",
       "    }\n",
       "</style>\n",
       "<table border=\"1\" class=\"dataframe\">\n",
       "  <thead>\n",
       "    <tr style=\"text-align: right;\">\n",
       "      <th></th>\n",
       "      <th>departure_terminal</th>\n",
       "      <th>arrival_terminal</th>\n",
       "      <th>scheduled_departure</th>\n",
       "      <th>actual_departure</th>\n",
       "      <th>Actual_Arrival</th>\n",
       "      <th>TransitTime</th>\n",
       "    </tr>\n",
       "    <tr>\n",
       "      <th>timestamps</th>\n",
       "      <th></th>\n",
       "      <th></th>\n",
       "      <th></th>\n",
       "      <th></th>\n",
       "      <th></th>\n",
       "      <th></th>\n",
       "    </tr>\n",
       "  </thead>\n",
       "  <tbody>\n",
       "    <tr>\n",
       "      <th>2013-01-01 00:55:00</th>\n",
       "      <td>Bainbridge</td>\n",
       "      <td>Colman</td>\n",
       "      <td>55:00.0</td>\n",
       "      <td>05:56.0</td>\n",
       "      <td>37:37.0</td>\n",
       "      <td>32.0</td>\n",
       "    </tr>\n",
       "    <tr>\n",
       "      <th>2013-01-01 04:45:00</th>\n",
       "      <td>Bainbridge</td>\n",
       "      <td>NaN</td>\n",
       "      <td>45:00.0</td>\n",
       "      <td>NaN</td>\n",
       "      <td>NaN</td>\n",
       "      <td>NaN</td>\n",
       "    </tr>\n",
       "    <tr>\n",
       "      <th>2013-01-01 05:20:00</th>\n",
       "      <td>Bainbridge</td>\n",
       "      <td>Colman</td>\n",
       "      <td>20:00.0</td>\n",
       "      <td>19:01.0</td>\n",
       "      <td>49:40.0</td>\n",
       "      <td>30.0</td>\n",
       "    </tr>\n",
       "    <tr>\n",
       "      <th>2013-01-01 06:20:00</th>\n",
       "      <td>Bainbridge</td>\n",
       "      <td>NaN</td>\n",
       "      <td>20:00.0</td>\n",
       "      <td>NaN</td>\n",
       "      <td>NaN</td>\n",
       "      <td>NaN</td>\n",
       "    </tr>\n",
       "    <tr>\n",
       "      <th>2013-01-01 07:05:00</th>\n",
       "      <td>Bainbridge</td>\n",
       "      <td>NaN</td>\n",
       "      <td>05:00.0</td>\n",
       "      <td>06:16.0</td>\n",
       "      <td>NaN</td>\n",
       "      <td>NaN</td>\n",
       "    </tr>\n",
       "  </tbody>\n",
       "</table>\n",
       "</div>"
      ],
      "text/plain": [
       "                    departure_terminal arrival_terminal scheduled_departure  \\\n",
       "timestamps                                                                    \n",
       "2013-01-01 00:55:00         Bainbridge           Colman             55:00.0   \n",
       "2013-01-01 04:45:00         Bainbridge              NaN             45:00.0   \n",
       "2013-01-01 05:20:00         Bainbridge           Colman             20:00.0   \n",
       "2013-01-01 06:20:00         Bainbridge              NaN             20:00.0   \n",
       "2013-01-01 07:05:00         Bainbridge              NaN             05:00.0   \n",
       "\n",
       "                    actual_departure Actual_Arrival  TransitTime  \n",
       "timestamps                                                        \n",
       "2013-01-01 00:55:00          05:56.0        37:37.0         32.0  \n",
       "2013-01-01 04:45:00              NaN            NaN          NaN  \n",
       "2013-01-01 05:20:00          19:01.0        49:40.0         30.0  \n",
       "2013-01-01 06:20:00              NaN            NaN          NaN  \n",
       "2013-01-01 07:05:00          06:16.0            NaN          NaN  "
      ]
     },
     "execution_count": 63,
     "metadata": {},
     "output_type": "execute_result"
    }
   ],
   "source": [
    "bainbridge_departures_2013_with_index.head()"
   ]
  },
  {
   "cell_type": "code",
   "execution_count": 64,
   "metadata": {},
   "outputs": [
    {
     "data": {
      "text/html": [
       "<div>\n",
       "<style scoped>\n",
       "    .dataframe tbody tr th:only-of-type {\n",
       "        vertical-align: middle;\n",
       "    }\n",
       "\n",
       "    .dataframe tbody tr th {\n",
       "        vertical-align: top;\n",
       "    }\n",
       "\n",
       "    .dataframe thead th {\n",
       "        text-align: right;\n",
       "    }\n",
       "</style>\n",
       "<table border=\"1\" class=\"dataframe\">\n",
       "  <thead>\n",
       "    <tr style=\"text-align: right;\">\n",
       "      <th></th>\n",
       "      <th>departure_terminal</th>\n",
       "      <th>arrival_terminal</th>\n",
       "      <th>scheduled_departure</th>\n",
       "      <th>actual_departure</th>\n",
       "      <th>Actual_Arrival</th>\n",
       "      <th>TransitTime</th>\n",
       "    </tr>\n",
       "    <tr>\n",
       "      <th>timestamps</th>\n",
       "      <th></th>\n",
       "      <th></th>\n",
       "      <th></th>\n",
       "      <th></th>\n",
       "      <th></th>\n",
       "      <th></th>\n",
       "    </tr>\n",
       "  </thead>\n",
       "  <tbody>\n",
       "    <tr>\n",
       "      <th>2013-12-31 19:10:00</th>\n",
       "      <td>Bainbridge</td>\n",
       "      <td>Colman</td>\n",
       "      <td>10:00.0</td>\n",
       "      <td>10:03.0</td>\n",
       "      <td>44:26.0</td>\n",
       "      <td>34.0</td>\n",
       "    </tr>\n",
       "    <tr>\n",
       "      <th>2013-12-31 20:10:00</th>\n",
       "      <td>Bainbridge</td>\n",
       "      <td>Colman</td>\n",
       "      <td>10:00.0</td>\n",
       "      <td>10:53.0</td>\n",
       "      <td>41:57.0</td>\n",
       "      <td>31.0</td>\n",
       "    </tr>\n",
       "    <tr>\n",
       "      <th>2013-12-31 20:55:00</th>\n",
       "      <td>Bainbridge</td>\n",
       "      <td>Colman</td>\n",
       "      <td>55:00.0</td>\n",
       "      <td>55:00.0</td>\n",
       "      <td>26:36.0</td>\n",
       "      <td>31.0</td>\n",
       "    </tr>\n",
       "    <tr>\n",
       "      <th>2013-12-31 21:45:00</th>\n",
       "      <td>Bainbridge</td>\n",
       "      <td>Colman</td>\n",
       "      <td>45:00.0</td>\n",
       "      <td>45:17.0</td>\n",
       "      <td>17:09.0</td>\n",
       "      <td>32.0</td>\n",
       "    </tr>\n",
       "    <tr>\n",
       "      <th>2013-12-31 22:35:00</th>\n",
       "      <td>Bainbridge</td>\n",
       "      <td>Colman</td>\n",
       "      <td>35:00.0</td>\n",
       "      <td>38:45.0</td>\n",
       "      <td>13:36.0</td>\n",
       "      <td>35.0</td>\n",
       "    </tr>\n",
       "  </tbody>\n",
       "</table>\n",
       "</div>"
      ],
      "text/plain": [
       "                    departure_terminal arrival_terminal scheduled_departure  \\\n",
       "timestamps                                                                    \n",
       "2013-12-31 19:10:00         Bainbridge           Colman             10:00.0   \n",
       "2013-12-31 20:10:00         Bainbridge           Colman             10:00.0   \n",
       "2013-12-31 20:55:00         Bainbridge           Colman             55:00.0   \n",
       "2013-12-31 21:45:00         Bainbridge           Colman             45:00.0   \n",
       "2013-12-31 22:35:00         Bainbridge           Colman             35:00.0   \n",
       "\n",
       "                    actual_departure Actual_Arrival  TransitTime  \n",
       "timestamps                                                        \n",
       "2013-12-31 19:10:00          10:03.0        44:26.0         34.0  \n",
       "2013-12-31 20:10:00          10:53.0        41:57.0         31.0  \n",
       "2013-12-31 20:55:00          55:00.0        26:36.0         31.0  \n",
       "2013-12-31 21:45:00          45:17.0        17:09.0         32.0  \n",
       "2013-12-31 22:35:00          38:45.0        13:36.0         35.0  "
      ]
     },
     "execution_count": 64,
     "metadata": {},
     "output_type": "execute_result"
    }
   ],
   "source": [
    "bainbridge_departures_2013_with_index.tail()"
   ]
  },
  {
   "cell_type": "code",
   "execution_count": 65,
   "metadata": {},
   "outputs": [
    {
     "data": {
      "text/plain": [
       "(8231, 6)"
      ]
     },
     "execution_count": 65,
     "metadata": {},
     "output_type": "execute_result"
    }
   ],
   "source": [
    "bainbridge_departures_2013_with_index.shape"
   ]
  },
  {
   "cell_type": "code",
   "execution_count": 66,
   "metadata": {
    "collapsed": true
   },
   "outputs": [],
   "source": [
    "timestamps_2013 = bainbridge_departures_2013_with_index.index"
   ]
  },
  {
   "cell_type": "markdown",
   "metadata": {},
   "source": [
    "# Generating 2014"
   ]
  },
  {
   "cell_type": "markdown",
   "metadata": {},
   "source": [
    "<a href = \"https://stackoverflow.com/questions/48796729/how-to-add-a-year-to-a-column-of-dates-in-pandas\">How to add a year to a column of dates in pandas </a>"
   ]
  },
  {
   "cell_type": "code",
   "execution_count": 67,
   "metadata": {
    "collapsed": true
   },
   "outputs": [],
   "source": [
    "timestamps_2014 = timestamps_2013 + pd.offsets.DateOffset(years=1)"
   ]
  },
  {
   "cell_type": "markdown",
   "metadata": {},
   "source": [
    "The Holdiays in 2014:\n",
    "- Wednesday, January 1, 2014\n",
    "- Monday, May 26, 2014\n",
    "- Friday, July 4, 2014\n",
    "- Monday, September 1, 2014\n",
    "- Thursday, November 27, 2014\n",
    "- Thursday, December 25, 2014"
   ]
  },
  {
   "cell_type": "markdown",
   "metadata": {},
   "source": [
    "`d.weekday()`: <a href = \"https://docs.python.org/2/library/datetime.html\">Monday is 0 and Sunday is 6</a>"
   ]
  },
  {
   "cell_type": "markdown",
   "metadata": {},
   "source": [
    "<a href = \"https://stackoverflow.com/questions/17152719/change-date-of-a-datetimeindex\">Change date of a DateTimeIndex</a>\n",
    "\n",
    "<a href = \"https://stackoverflow.com/questions/952914/how-to-make-a-flat-list-out-of-list-of-lists\">How to make a flat list out of list of lists?</a>"
   ]
  },
  {
   "cell_type": "code",
   "execution_count": 68,
   "metadata": {
    "collapsed": true
   },
   "outputs": [],
   "source": [
    "from collections import OrderedDict\n",
    "def generate_more_timestamps(startingDate, holidays, weekday, saturday, sunday, firstEntries = False):\n",
    "    \"\"\"This method is able to generate more timestamps given the past years timestamps. Generally, the schedule\n",
    "    does not change much so we can take a previous years timestamps and just move around the holidays and add one year\n",
    "    and that should be the next years timestamps.\n",
    "\n",
    "    Keyword arguments:\n",
    "    startingDate -- datetime object representing the starting date of our new timestamps to be generated\n",
    "    holidays -- a list with the holiday departure schedule\n",
    "    weekday -- a list with the weekday departure schedule\n",
    "    saturday -- a list with the saturday departure schedule\n",
    "    sunday -- a list with the sunday departure schedule\n",
    "    firstEntries -- a list with the entries to start out list out with. This is because the schedule includes\n",
    "    next day departures on a previous days schedules. (ex on the 'Sunday' schedule there might be a 12:05 departure\n",
    "    since 12:05 is past midnight this actually departs on Monday but it only happens right after Sunday.)\n",
    "    \"\"\"\n",
    "    if(not firstEntries):\n",
    "        timestamps = [[pd.Timestamp('%s-01-01 00:55:00' % (startingDate.year))]]\n",
    "    else:\n",
    "        timestamps = [firstEntries]\n",
    "        \n",
    "    startingYear = startingDate.year\n",
    "    d = startingDate\n",
    "    \n",
    "    \n",
    "    while(not (d.year == (startingYear + 1))):\n",
    "        #pdb.set_trace()\n",
    "        if(d in holidays):\n",
    "            timestamps.append(saturday[1:].map(lambda t: t.replace(year=d.year, month=d.month, day=d.day)).tolist())\n",
    "            temp = d + datetime.timedelta(days = 1)\n",
    "            timestamps.append(sunday[0:2].map(lambda t: t.replace(year=temp.year, month=temp.month, day=temp.day)).tolist())\n",
    "        else:\n",
    "            if(d.weekday() == 5):\n",
    "                timestamps.append(saturday[1:].map(lambda t: t.replace(year=d.year, month=d.month, day=d.day)).tolist())\n",
    "                temp = d + datetime.timedelta(days = 1)\n",
    "                timestamps.append(sunday[0:2].map(lambda t: t.replace(year=temp.year, month=temp.month, day=temp.day)).tolist())\n",
    "            elif(d.weekday() == 6):\n",
    "                timestamps.append(sunday[2:].map(lambda t: t.replace(year=d.year, month=d.month, day=d.day)).tolist())\n",
    "                temp = d + datetime.timedelta(days = 1)\n",
    "                timestamps.append(sunday[0:2].map(lambda t: t.replace(year=temp.year, month=temp.month, day=temp.day)).tolist())\n",
    "            else:\n",
    "                timestamps.append(weekday[1:].map(lambda t: t.replace(year=d.year, month=d.month, day=d.day)).tolist())\n",
    "                temp = d + datetime.timedelta(days = 1)\n",
    "                timestamps.append(weekday[0:1].map(lambda t: t.replace(year=temp.year, month=temp.month, day=temp.day)).tolist())\n",
    "        \n",
    "        d = d + datetime.timedelta(days = 1)\n",
    "        \n",
    "    return list(OrderedDict.fromkeys([item for sublist in timestamps for item in sublist]))"
   ]
  },
  {
   "cell_type": "code",
   "execution_count": 69,
   "metadata": {
    "collapsed": true
   },
   "outputs": [],
   "source": [
    "holidays = [datetime.date(2014, 1, 1), datetime.date(2014, 5, 26), datetime.date(2014, 7, 4), datetime.date(2014, 9, 1),\n",
    "           datetime.date(2014, 11, 27), datetime.date(2014, 12, 25)]\n",
    "weekday = bainbridge_departures_2013_with_index[\"2013-01-02\"].index + pd.offsets.DateOffset(years=1)\n",
    "saturday = bainbridge_departures_2013_with_index[\"2013-01-05\"].index + pd.offsets.DateOffset(years=1)\n",
    "sunday = bainbridge_departures_2013_with_index[\"2013-01-06\"].index + pd.offsets.DateOffset(years=1)\n",
    "\n",
    "startingDate = datetime.date(2014, 1, 1)"
   ]
  },
  {
   "cell_type": "code",
   "execution_count": 70,
   "metadata": {
    "collapsed": true
   },
   "outputs": [],
   "source": [
    "timestamps_2014 = generate_more_timestamps(startingDate, holidays, weekday, saturday, sunday)"
   ]
  },
  {
   "cell_type": "code",
   "execution_count": 71,
   "metadata": {},
   "outputs": [
    {
     "data": {
      "text/plain": [
       "8234"
      ]
     },
     "execution_count": 71,
     "metadata": {},
     "output_type": "execute_result"
    }
   ],
   "source": [
    "len(timestamps_2014)"
   ]
  },
  {
   "cell_type": "code",
   "execution_count": 72,
   "metadata": {
    "collapsed": true
   },
   "outputs": [],
   "source": [
    "# Dropping 2013\n",
    "bainbridge_departures_n13 = bainbridge_departures[8234:]"
   ]
  },
  {
   "cell_type": "code",
   "execution_count": 73,
   "metadata": {
    "collapsed": true
   },
   "outputs": [],
   "source": [
    "bainbridge_departures_n13 = bainbridge_departures_n13.reset_index(drop=True)"
   ]
  },
  {
   "cell_type": "code",
   "execution_count": 74,
   "metadata": {},
   "outputs": [
    {
     "data": {
      "text/html": [
       "<div>\n",
       "<style scoped>\n",
       "    .dataframe tbody tr th:only-of-type {\n",
       "        vertical-align: middle;\n",
       "    }\n",
       "\n",
       "    .dataframe tbody tr th {\n",
       "        vertical-align: top;\n",
       "    }\n",
       "\n",
       "    .dataframe thead th {\n",
       "        text-align: right;\n",
       "    }\n",
       "</style>\n",
       "<table border=\"1\" class=\"dataframe\">\n",
       "  <thead>\n",
       "    <tr style=\"text-align: right;\">\n",
       "      <th></th>\n",
       "      <th>departure_terminal</th>\n",
       "      <th>arrival_terminal</th>\n",
       "      <th>scheduled_departure</th>\n",
       "      <th>actual_departure</th>\n",
       "      <th>Actual_Arrival</th>\n",
       "      <th>TransitTime</th>\n",
       "    </tr>\n",
       "  </thead>\n",
       "  <tbody>\n",
       "    <tr>\n",
       "      <th>0</th>\n",
       "      <td>Bainbridge</td>\n",
       "      <td>Colman</td>\n",
       "      <td>55:00.0</td>\n",
       "      <td>13:39.0</td>\n",
       "      <td>46:53.0</td>\n",
       "      <td>33.0</td>\n",
       "    </tr>\n",
       "    <tr>\n",
       "      <th>1</th>\n",
       "      <td>Bainbridge</td>\n",
       "      <td>Colman</td>\n",
       "      <td>20:00.0</td>\n",
       "      <td>20:00.0</td>\n",
       "      <td>55:34.0</td>\n",
       "      <td>35.0</td>\n",
       "    </tr>\n",
       "    <tr>\n",
       "      <th>2</th>\n",
       "      <td>Bainbridge</td>\n",
       "      <td>Colman</td>\n",
       "      <td>05:00.0</td>\n",
       "      <td>04:34.0</td>\n",
       "      <td>35:51.0</td>\n",
       "      <td>31.0</td>\n",
       "    </tr>\n",
       "    <tr>\n",
       "      <th>3</th>\n",
       "      <td>Bainbridge</td>\n",
       "      <td>Colman</td>\n",
       "      <td>55:00.0</td>\n",
       "      <td>55:00.0</td>\n",
       "      <td>26:14.0</td>\n",
       "      <td>31.0</td>\n",
       "    </tr>\n",
       "    <tr>\n",
       "      <th>4</th>\n",
       "      <td>Bainbridge</td>\n",
       "      <td>Colman</td>\n",
       "      <td>45:00.0</td>\n",
       "      <td>45:00.0</td>\n",
       "      <td>14:54.0</td>\n",
       "      <td>29.0</td>\n",
       "    </tr>\n",
       "  </tbody>\n",
       "</table>\n",
       "</div>"
      ],
      "text/plain": [
       "  departure_terminal arrival_terminal scheduled_departure actual_departure  \\\n",
       "0         Bainbridge           Colman             55:00.0          13:39.0   \n",
       "1         Bainbridge           Colman             20:00.0          20:00.0   \n",
       "2         Bainbridge           Colman             05:00.0          04:34.0   \n",
       "3         Bainbridge           Colman             55:00.0          55:00.0   \n",
       "4         Bainbridge           Colman             45:00.0          45:00.0   \n",
       "\n",
       "  Actual_Arrival  TransitTime  \n",
       "0        46:53.0         33.0  \n",
       "1        55:34.0         35.0  \n",
       "2        35:51.0         31.0  \n",
       "3        26:14.0         31.0  \n",
       "4        14:54.0         29.0  "
      ]
     },
     "execution_count": 74,
     "metadata": {},
     "output_type": "execute_result"
    }
   ],
   "source": [
    "bainbridge_departures_n13.head()"
   ]
  },
  {
   "cell_type": "code",
   "execution_count": 75,
   "metadata": {},
   "outputs": [
    {
     "data": {
      "text/html": [
       "<div>\n",
       "<style scoped>\n",
       "    .dataframe tbody tr th:only-of-type {\n",
       "        vertical-align: middle;\n",
       "    }\n",
       "\n",
       "    .dataframe tbody tr th {\n",
       "        vertical-align: top;\n",
       "    }\n",
       "\n",
       "    .dataframe thead th {\n",
       "        text-align: right;\n",
       "    }\n",
       "</style>\n",
       "<table border=\"1\" class=\"dataframe\">\n",
       "  <thead>\n",
       "    <tr style=\"text-align: right;\">\n",
       "      <th></th>\n",
       "      <th>departure_terminal</th>\n",
       "      <th>arrival_terminal</th>\n",
       "      <th>scheduled_departure</th>\n",
       "      <th>actual_departure</th>\n",
       "      <th>Actual_Arrival</th>\n",
       "      <th>TransitTime</th>\n",
       "    </tr>\n",
       "  </thead>\n",
       "  <tbody>\n",
       "    <tr>\n",
       "      <th>8230</th>\n",
       "      <td>Bainbridge</td>\n",
       "      <td>Colman</td>\n",
       "      <td>10:00.0</td>\n",
       "      <td>11:05.0</td>\n",
       "      <td>41:10.0</td>\n",
       "      <td>30.0</td>\n",
       "    </tr>\n",
       "    <tr>\n",
       "      <th>8231</th>\n",
       "      <td>Bainbridge</td>\n",
       "      <td>Colman</td>\n",
       "      <td>55:00.0</td>\n",
       "      <td>55:10.0</td>\n",
       "      <td>26:03.0</td>\n",
       "      <td>31.0</td>\n",
       "    </tr>\n",
       "    <tr>\n",
       "      <th>8232</th>\n",
       "      <td>Bainbridge</td>\n",
       "      <td>Colman</td>\n",
       "      <td>45:00.0</td>\n",
       "      <td>47:13.0</td>\n",
       "      <td>19:07.0</td>\n",
       "      <td>32.0</td>\n",
       "    </tr>\n",
       "    <tr>\n",
       "      <th>8233</th>\n",
       "      <td>Bainbridge</td>\n",
       "      <td>Colman</td>\n",
       "      <td>35:00.0</td>\n",
       "      <td>39:34.0</td>\n",
       "      <td>11:57.0</td>\n",
       "      <td>32.0</td>\n",
       "    </tr>\n",
       "    <tr>\n",
       "      <th>8234</th>\n",
       "      <td>Bainbridge</td>\n",
       "      <td>Colman</td>\n",
       "      <td>55:00.0</td>\n",
       "      <td>05:15.0</td>\n",
       "      <td>36:38.0</td>\n",
       "      <td>31.0</td>\n",
       "    </tr>\n",
       "  </tbody>\n",
       "</table>\n",
       "</div>"
      ],
      "text/plain": [
       "     departure_terminal arrival_terminal scheduled_departure actual_departure  \\\n",
       "8230         Bainbridge           Colman             10:00.0          11:05.0   \n",
       "8231         Bainbridge           Colman             55:00.0          55:10.0   \n",
       "8232         Bainbridge           Colman             45:00.0          47:13.0   \n",
       "8233         Bainbridge           Colman             35:00.0          39:34.0   \n",
       "8234         Bainbridge           Colman             55:00.0          05:15.0   \n",
       "\n",
       "     Actual_Arrival  TransitTime  \n",
       "8230        41:10.0         30.0  \n",
       "8231        26:03.0         31.0  \n",
       "8232        19:07.0         32.0  \n",
       "8233        11:57.0         32.0  \n",
       "8234        36:38.0         31.0  "
      ]
     },
     "execution_count": 75,
     "metadata": {},
     "output_type": "execute_result"
    }
   ],
   "source": [
    "bainbridge_departures_2014_with_index = bainbridge_departures_n13[:8235]\n",
    "bainbridge_departures_2014_with_index.tail()\n",
    "#bainbridge_departures_2013_with_index.index = pd.to_datetime(timestamps_2014)"
   ]
  },
  {
   "cell_type": "code",
   "execution_count": 76,
   "metadata": {
    "collapsed": true
   },
   "outputs": [],
   "source": [
    "bainbridge_departures_2014_with_index = bainbridge_departures_2014_with_index.drop(2763)\n",
    "bainbridge_departures_2014_with_index = bainbridge_departures_2014_with_index.reset_index(drop=True)"
   ]
  },
  {
   "cell_type": "code",
   "execution_count": 77,
   "metadata": {},
   "outputs": [
    {
     "data": {
      "text/plain": [
       "8234"
      ]
     },
     "execution_count": 77,
     "metadata": {},
     "output_type": "execute_result"
    }
   ],
   "source": [
    "len(timestamps_2014)"
   ]
  },
  {
   "cell_type": "code",
   "execution_count": 78,
   "metadata": {},
   "outputs": [
    {
     "data": {
      "text/plain": [
       "(8234, 6)"
      ]
     },
     "execution_count": 78,
     "metadata": {},
     "output_type": "execute_result"
    }
   ],
   "source": [
    "bainbridge_departures_2014_with_index.shape"
   ]
  },
  {
   "cell_type": "code",
   "execution_count": 79,
   "metadata": {
    "collapsed": true
   },
   "outputs": [],
   "source": [
    "bainbridge_departures_2014_with_index.index = pd.to_datetime(timestamps_2014)\n",
    "bainbridge_departures_2014_with_index = bainbridge_departures_2014_with_index[\"2014\"]"
   ]
  },
  {
   "cell_type": "code",
   "execution_count": 80,
   "metadata": {
    "collapsed": true
   },
   "outputs": [],
   "source": [
    "bainbridge_departures_2014_with_index.index.name = \"timestamps\""
   ]
  },
  {
   "cell_type": "code",
   "execution_count": 81,
   "metadata": {},
   "outputs": [
    {
     "name": "stdout",
     "output_type": "stream",
     "text": [
      "Success!\n"
     ]
    }
   ],
   "source": [
    "verify_timestamps(bainbridge_departures_2014_with_index)"
   ]
  },
  {
   "cell_type": "code",
   "execution_count": 82,
   "metadata": {},
   "outputs": [
    {
     "data": {
      "text/html": [
       "<div>\n",
       "<style scoped>\n",
       "    .dataframe tbody tr th:only-of-type {\n",
       "        vertical-align: middle;\n",
       "    }\n",
       "\n",
       "    .dataframe tbody tr th {\n",
       "        vertical-align: top;\n",
       "    }\n",
       "\n",
       "    .dataframe thead th {\n",
       "        text-align: right;\n",
       "    }\n",
       "</style>\n",
       "<table border=\"1\" class=\"dataframe\">\n",
       "  <thead>\n",
       "    <tr style=\"text-align: right;\">\n",
       "      <th></th>\n",
       "      <th>departure_terminal</th>\n",
       "      <th>arrival_terminal</th>\n",
       "      <th>scheduled_departure</th>\n",
       "      <th>actual_departure</th>\n",
       "      <th>Actual_Arrival</th>\n",
       "      <th>TransitTime</th>\n",
       "    </tr>\n",
       "  </thead>\n",
       "  <tbody>\n",
       "    <tr>\n",
       "      <th>2014-05-31 10:25:00</th>\n",
       "      <td>Bainbridge</td>\n",
       "      <td>Todd Shipyard (2)</td>\n",
       "      <td>25:00.0</td>\n",
       "      <td>NaN</td>\n",
       "      <td>35:03.0</td>\n",
       "      <td>NaN</td>\n",
       "    </tr>\n",
       "    <tr>\n",
       "      <th>2014-09-03 21:45:00</th>\n",
       "      <td>Bainbridge</td>\n",
       "      <td>Pier 54 - Standby</td>\n",
       "      <td>45:00.0</td>\n",
       "      <td>NaN</td>\n",
       "      <td>21:54.0</td>\n",
       "      <td>NaN</td>\n",
       "    </tr>\n",
       "  </tbody>\n",
       "</table>\n",
       "</div>"
      ],
      "text/plain": [
       "                    departure_terminal   arrival_terminal scheduled_departure  \\\n",
       "2014-05-31 10:25:00         Bainbridge  Todd Shipyard (2)             25:00.0   \n",
       "2014-09-03 21:45:00         Bainbridge  Pier 54 - Standby             45:00.0   \n",
       "\n",
       "                     actual_departure Actual_Arrival  TransitTime  \n",
       "2014-05-31 10:25:00               NaN        35:03.0          NaN  \n",
       "2014-09-03 21:45:00               NaN        21:54.0          NaN  "
      ]
     },
     "execution_count": 82,
     "metadata": {},
     "output_type": "execute_result"
    }
   ],
   "source": [
    "odd_terminals = verify_arrival_terminals(bainbridge_departures_2014_with_index)\n",
    "odd_terminals"
   ]
  },
  {
   "cell_type": "code",
   "execution_count": 83,
   "metadata": {
    "collapsed": true
   },
   "outputs": [],
   "source": [
    "bainbridge_departures_2014_with_index = remove_odd_terminals(bainbridge_departures_2014_with_index, odd_terminals)"
   ]
  },
  {
   "cell_type": "code",
   "execution_count": 84,
   "metadata": {},
   "outputs": [
    {
     "data": {
      "text/html": [
       "<div>\n",
       "<style scoped>\n",
       "    .dataframe tbody tr th:only-of-type {\n",
       "        vertical-align: middle;\n",
       "    }\n",
       "\n",
       "    .dataframe tbody tr th {\n",
       "        vertical-align: top;\n",
       "    }\n",
       "\n",
       "    .dataframe thead th {\n",
       "        text-align: right;\n",
       "    }\n",
       "</style>\n",
       "<table border=\"1\" class=\"dataframe\">\n",
       "  <thead>\n",
       "    <tr style=\"text-align: right;\">\n",
       "      <th></th>\n",
       "      <th>departure_terminal</th>\n",
       "      <th>arrival_terminal</th>\n",
       "      <th>scheduled_departure</th>\n",
       "      <th>actual_departure</th>\n",
       "      <th>Actual_Arrival</th>\n",
       "      <th>TransitTime</th>\n",
       "    </tr>\n",
       "    <tr>\n",
       "      <th>timestamps</th>\n",
       "      <th></th>\n",
       "      <th></th>\n",
       "      <th></th>\n",
       "      <th></th>\n",
       "      <th></th>\n",
       "      <th></th>\n",
       "    </tr>\n",
       "  </thead>\n",
       "  <tbody>\n",
       "    <tr>\n",
       "      <th>2014-01-01 00:55:00</th>\n",
       "      <td>Bainbridge</td>\n",
       "      <td>Colman</td>\n",
       "      <td>55:00.0</td>\n",
       "      <td>13:39.0</td>\n",
       "      <td>46:53.0</td>\n",
       "      <td>33.0</td>\n",
       "    </tr>\n",
       "    <tr>\n",
       "      <th>2014-01-01 05:20:00</th>\n",
       "      <td>Bainbridge</td>\n",
       "      <td>Colman</td>\n",
       "      <td>20:00.0</td>\n",
       "      <td>20:00.0</td>\n",
       "      <td>55:34.0</td>\n",
       "      <td>35.0</td>\n",
       "    </tr>\n",
       "    <tr>\n",
       "      <th>2014-01-01 07:05:00</th>\n",
       "      <td>Bainbridge</td>\n",
       "      <td>Colman</td>\n",
       "      <td>05:00.0</td>\n",
       "      <td>04:34.0</td>\n",
       "      <td>35:51.0</td>\n",
       "      <td>31.0</td>\n",
       "    </tr>\n",
       "    <tr>\n",
       "      <th>2014-01-01 07:55:00</th>\n",
       "      <td>Bainbridge</td>\n",
       "      <td>Colman</td>\n",
       "      <td>55:00.0</td>\n",
       "      <td>55:00.0</td>\n",
       "      <td>26:14.0</td>\n",
       "      <td>31.0</td>\n",
       "    </tr>\n",
       "    <tr>\n",
       "      <th>2014-01-01 08:45:00</th>\n",
       "      <td>Bainbridge</td>\n",
       "      <td>Colman</td>\n",
       "      <td>45:00.0</td>\n",
       "      <td>45:00.0</td>\n",
       "      <td>14:54.0</td>\n",
       "      <td>29.0</td>\n",
       "    </tr>\n",
       "  </tbody>\n",
       "</table>\n",
       "</div>"
      ],
      "text/plain": [
       "                    departure_terminal arrival_terminal scheduled_departure  \\\n",
       "timestamps                                                                    \n",
       "2014-01-01 00:55:00         Bainbridge           Colman             55:00.0   \n",
       "2014-01-01 05:20:00         Bainbridge           Colman             20:00.0   \n",
       "2014-01-01 07:05:00         Bainbridge           Colman             05:00.0   \n",
       "2014-01-01 07:55:00         Bainbridge           Colman             55:00.0   \n",
       "2014-01-01 08:45:00         Bainbridge           Colman             45:00.0   \n",
       "\n",
       "                    actual_departure Actual_Arrival  TransitTime  \n",
       "timestamps                                                        \n",
       "2014-01-01 00:55:00          13:39.0        46:53.0         33.0  \n",
       "2014-01-01 05:20:00          20:00.0        55:34.0         35.0  \n",
       "2014-01-01 07:05:00          04:34.0        35:51.0         31.0  \n",
       "2014-01-01 07:55:00          55:00.0        26:14.0         31.0  \n",
       "2014-01-01 08:45:00          45:00.0        14:54.0         29.0  "
      ]
     },
     "execution_count": 84,
     "metadata": {},
     "output_type": "execute_result"
    }
   ],
   "source": [
    "bainbridge_departures_2014_with_index.head()"
   ]
  },
  {
   "cell_type": "code",
   "execution_count": 85,
   "metadata": {},
   "outputs": [
    {
     "data": {
      "text/html": [
       "<div>\n",
       "<style scoped>\n",
       "    .dataframe tbody tr th:only-of-type {\n",
       "        vertical-align: middle;\n",
       "    }\n",
       "\n",
       "    .dataframe tbody tr th {\n",
       "        vertical-align: top;\n",
       "    }\n",
       "\n",
       "    .dataframe thead th {\n",
       "        text-align: right;\n",
       "    }\n",
       "</style>\n",
       "<table border=\"1\" class=\"dataframe\">\n",
       "  <thead>\n",
       "    <tr style=\"text-align: right;\">\n",
       "      <th></th>\n",
       "      <th>departure_terminal</th>\n",
       "      <th>arrival_terminal</th>\n",
       "      <th>scheduled_departure</th>\n",
       "      <th>actual_departure</th>\n",
       "      <th>Actual_Arrival</th>\n",
       "      <th>TransitTime</th>\n",
       "    </tr>\n",
       "    <tr>\n",
       "      <th>timestamps</th>\n",
       "      <th></th>\n",
       "      <th></th>\n",
       "      <th></th>\n",
       "      <th></th>\n",
       "      <th></th>\n",
       "      <th></th>\n",
       "    </tr>\n",
       "  </thead>\n",
       "  <tbody>\n",
       "    <tr>\n",
       "      <th>2014-12-31 19:10:00</th>\n",
       "      <td>Bainbridge</td>\n",
       "      <td>Colman</td>\n",
       "      <td>10:00.0</td>\n",
       "      <td>16:19.0</td>\n",
       "      <td>48:52.0</td>\n",
       "      <td>32.0</td>\n",
       "    </tr>\n",
       "    <tr>\n",
       "      <th>2014-12-31 20:10:00</th>\n",
       "      <td>Bainbridge</td>\n",
       "      <td>Colman</td>\n",
       "      <td>10:00.0</td>\n",
       "      <td>11:05.0</td>\n",
       "      <td>41:10.0</td>\n",
       "      <td>30.0</td>\n",
       "    </tr>\n",
       "    <tr>\n",
       "      <th>2014-12-31 20:55:00</th>\n",
       "      <td>Bainbridge</td>\n",
       "      <td>Colman</td>\n",
       "      <td>55:00.0</td>\n",
       "      <td>55:10.0</td>\n",
       "      <td>26:03.0</td>\n",
       "      <td>31.0</td>\n",
       "    </tr>\n",
       "    <tr>\n",
       "      <th>2014-12-31 21:45:00</th>\n",
       "      <td>Bainbridge</td>\n",
       "      <td>Colman</td>\n",
       "      <td>45:00.0</td>\n",
       "      <td>47:13.0</td>\n",
       "      <td>19:07.0</td>\n",
       "      <td>32.0</td>\n",
       "    </tr>\n",
       "    <tr>\n",
       "      <th>2014-12-31 22:35:00</th>\n",
       "      <td>Bainbridge</td>\n",
       "      <td>Colman</td>\n",
       "      <td>35:00.0</td>\n",
       "      <td>39:34.0</td>\n",
       "      <td>11:57.0</td>\n",
       "      <td>32.0</td>\n",
       "    </tr>\n",
       "  </tbody>\n",
       "</table>\n",
       "</div>"
      ],
      "text/plain": [
       "                    departure_terminal arrival_terminal scheduled_departure  \\\n",
       "timestamps                                                                    \n",
       "2014-12-31 19:10:00         Bainbridge           Colman             10:00.0   \n",
       "2014-12-31 20:10:00         Bainbridge           Colman             10:00.0   \n",
       "2014-12-31 20:55:00         Bainbridge           Colman             55:00.0   \n",
       "2014-12-31 21:45:00         Bainbridge           Colman             45:00.0   \n",
       "2014-12-31 22:35:00         Bainbridge           Colman             35:00.0   \n",
       "\n",
       "                    actual_departure Actual_Arrival  TransitTime  \n",
       "timestamps                                                        \n",
       "2014-12-31 19:10:00          16:19.0        48:52.0         32.0  \n",
       "2014-12-31 20:10:00          11:05.0        41:10.0         30.0  \n",
       "2014-12-31 20:55:00          55:10.0        26:03.0         31.0  \n",
       "2014-12-31 21:45:00          47:13.0        19:07.0         32.0  \n",
       "2014-12-31 22:35:00          39:34.0        11:57.0         32.0  "
      ]
     },
     "execution_count": 85,
     "metadata": {},
     "output_type": "execute_result"
    }
   ],
   "source": [
    "bainbridge_departures_2014_with_index.tail()"
   ]
  },
  {
   "cell_type": "code",
   "execution_count": 86,
   "metadata": {
    "collapsed": true
   },
   "outputs": [],
   "source": [
    "bainbridge_departures_2014_with_index.index.name = \"timestamps\""
   ]
  },
  {
   "cell_type": "code",
   "execution_count": 87,
   "metadata": {},
   "outputs": [
    {
     "data": {
      "text/plain": [
       "departure_terminal     Bainbridge\n",
       "arrival_terminal           Colman\n",
       "scheduled_departure       55:00.0\n",
       "actual_departure          05:15.0\n",
       "Actual_Arrival            36:38.0\n",
       "TransitTime                    31\n",
       "Name: 8234, dtype: object"
      ]
     },
     "execution_count": 87,
     "metadata": {},
     "output_type": "execute_result"
    }
   ],
   "source": [
    "bainbridge_departures_n13.iloc[8234]"
   ]
  },
  {
   "cell_type": "code",
   "execution_count": 88,
   "metadata": {
    "collapsed": true
   },
   "outputs": [],
   "source": [
    "bainbridge_departures_n13_n14 = bainbridge_departures_n13.iloc[8234:].reset_index(drop=True)"
   ]
  },
  {
   "cell_type": "markdown",
   "metadata": {},
   "source": [
    "# Generating 2015"
   ]
  },
  {
   "cell_type": "markdown",
   "metadata": {},
   "source": [
    "Here is the start of 2015!"
   ]
  },
  {
   "cell_type": "code",
   "execution_count": 89,
   "metadata": {},
   "outputs": [
    {
     "data": {
      "text/html": [
       "<div>\n",
       "<style scoped>\n",
       "    .dataframe tbody tr th:only-of-type {\n",
       "        vertical-align: middle;\n",
       "    }\n",
       "\n",
       "    .dataframe tbody tr th {\n",
       "        vertical-align: top;\n",
       "    }\n",
       "\n",
       "    .dataframe thead th {\n",
       "        text-align: right;\n",
       "    }\n",
       "</style>\n",
       "<table border=\"1\" class=\"dataframe\">\n",
       "  <thead>\n",
       "    <tr style=\"text-align: right;\">\n",
       "      <th></th>\n",
       "      <th>departure_terminal</th>\n",
       "      <th>arrival_terminal</th>\n",
       "      <th>scheduled_departure</th>\n",
       "      <th>actual_departure</th>\n",
       "      <th>Actual_Arrival</th>\n",
       "      <th>TransitTime</th>\n",
       "    </tr>\n",
       "  </thead>\n",
       "  <tbody>\n",
       "    <tr>\n",
       "      <th>0</th>\n",
       "      <td>Bainbridge</td>\n",
       "      <td>Colman</td>\n",
       "      <td>55:00.0</td>\n",
       "      <td>05:15.0</td>\n",
       "      <td>36:38.0</td>\n",
       "      <td>31.0</td>\n",
       "    </tr>\n",
       "    <tr>\n",
       "      <th>1</th>\n",
       "      <td>Bainbridge</td>\n",
       "      <td>Colman</td>\n",
       "      <td>20:00.0</td>\n",
       "      <td>21:48.0</td>\n",
       "      <td>51:23.0</td>\n",
       "      <td>30.0</td>\n",
       "    </tr>\n",
       "    <tr>\n",
       "      <th>2</th>\n",
       "      <td>Bainbridge</td>\n",
       "      <td>Colman</td>\n",
       "      <td>05:00.0</td>\n",
       "      <td>06:20.0</td>\n",
       "      <td>36:29.0</td>\n",
       "      <td>30.0</td>\n",
       "    </tr>\n",
       "    <tr>\n",
       "      <th>3</th>\n",
       "      <td>Bainbridge</td>\n",
       "      <td>Colman</td>\n",
       "      <td>55:00.0</td>\n",
       "      <td>55:00.0</td>\n",
       "      <td>27:16.0</td>\n",
       "      <td>32.0</td>\n",
       "    </tr>\n",
       "    <tr>\n",
       "      <th>4</th>\n",
       "      <td>Bainbridge</td>\n",
       "      <td>Colman</td>\n",
       "      <td>45:00.0</td>\n",
       "      <td>45:55.0</td>\n",
       "      <td>15:02.0</td>\n",
       "      <td>30.0</td>\n",
       "    </tr>\n",
       "  </tbody>\n",
       "</table>\n",
       "</div>"
      ],
      "text/plain": [
       "  departure_terminal arrival_terminal scheduled_departure actual_departure  \\\n",
       "0         Bainbridge           Colman             55:00.0          05:15.0   \n",
       "1         Bainbridge           Colman             20:00.0          21:48.0   \n",
       "2         Bainbridge           Colman             05:00.0          06:20.0   \n",
       "3         Bainbridge           Colman             55:00.0          55:00.0   \n",
       "4         Bainbridge           Colman             45:00.0          45:55.0   \n",
       "\n",
       "  Actual_Arrival  TransitTime  \n",
       "0        36:38.0         31.0  \n",
       "1        51:23.0         30.0  \n",
       "2        36:29.0         30.0  \n",
       "3        27:16.0         32.0  \n",
       "4        15:02.0         30.0  "
      ]
     },
     "execution_count": 89,
     "metadata": {},
     "output_type": "execute_result"
    }
   ],
   "source": [
    "bainbridge_departures_n13_n14.head()"
   ]
  },
  {
   "cell_type": "markdown",
   "metadata": {},
   "source": [
    "The Holdiays in 2015:\n",
    "- Thursday, January 1, 2015\n",
    "- Monday, May 25, 2015\n",
    "- Saturday, July 4, 2015\n",
    "- Monday, September 7, 2015\n",
    "- Thursday, November 26, 2015\n",
    "- Friday, December 25, 2015"
   ]
  },
  {
   "cell_type": "code",
   "execution_count": 90,
   "metadata": {
    "collapsed": true
   },
   "outputs": [],
   "source": [
    "holidays = [datetime.date(2015, 1, 1), datetime.date(2015, 5, 25), datetime.date(2015, 7, 4), datetime.date(2015, 9, 7),\n",
    "           datetime.date(2015, 11, 26), datetime.date(2015, 12, 25)]\n",
    "weekday = bainbridge_departures_2013_with_index[\"2013-01-02\"].index + pd.offsets.DateOffset(years=1)\n",
    "saturday = bainbridge_departures_2013_with_index[\"2013-01-05\"].index + pd.offsets.DateOffset(years=1)\n",
    "sunday = bainbridge_departures_2013_with_index[\"2013-01-06\"].index + pd.offsets.DateOffset(years=1)\n",
    "\n",
    "startingDate = datetime.date(2015, 1, 1)"
   ]
  },
  {
   "cell_type": "code",
   "execution_count": 91,
   "metadata": {
    "collapsed": true
   },
   "outputs": [],
   "source": [
    "timestamps_2015 = generate_more_timestamps(startingDate, holidays, weekday, saturday, sunday)"
   ]
  },
  {
   "cell_type": "code",
   "execution_count": 92,
   "metadata": {},
   "outputs": [
    {
     "data": {
      "text/plain": [
       "8235"
      ]
     },
     "execution_count": 92,
     "metadata": {},
     "output_type": "execute_result"
    }
   ],
   "source": [
    "len(timestamps_2015)"
   ]
  },
  {
   "cell_type": "code",
   "execution_count": 93,
   "metadata": {},
   "outputs": [
    {
     "data": {
      "text/plain": [
       "Timestamp('2016-01-01 00:55:00')"
      ]
     },
     "execution_count": 93,
     "metadata": {},
     "output_type": "execute_result"
    }
   ],
   "source": [
    "timestamps_2015[8234]"
   ]
  },
  {
   "cell_type": "code",
   "execution_count": 94,
   "metadata": {
    "collapsed": true
   },
   "outputs": [],
   "source": [
    "# Only want 2015 not the first entry of 2016\n",
    "timestamps_2015 = timestamps_2015[:8234]"
   ]
  },
  {
   "cell_type": "code",
   "execution_count": 95,
   "metadata": {
    "collapsed": true
   },
   "outputs": [],
   "source": [
    "bainbridge_departures_2015_with_index = bainbridge_departures_n13_n14[:8234].reset_index(drop=True)\n",
    "bainbridge_departures_2015_with_index.index = pd.to_datetime(timestamps_2015)\n",
    "bainbridge_departures_2015_with_index = bainbridge_departures_2015_with_index[\"2015\"]"
   ]
  },
  {
   "cell_type": "code",
   "execution_count": 96,
   "metadata": {},
   "outputs": [
    {
     "name": "stdout",
     "output_type": "stream",
     "text": [
      "Success!\n"
     ]
    }
   ],
   "source": [
    "verify_timestamps(bainbridge_departures_2015_with_index)"
   ]
  },
  {
   "cell_type": "code",
   "execution_count": 97,
   "metadata": {},
   "outputs": [
    {
     "data": {
      "text/html": [
       "<div>\n",
       "<style scoped>\n",
       "    .dataframe tbody tr th:only-of-type {\n",
       "        vertical-align: middle;\n",
       "    }\n",
       "\n",
       "    .dataframe tbody tr th {\n",
       "        vertical-align: top;\n",
       "    }\n",
       "\n",
       "    .dataframe thead th {\n",
       "        text-align: right;\n",
       "    }\n",
       "</style>\n",
       "<table border=\"1\" class=\"dataframe\">\n",
       "  <thead>\n",
       "    <tr style=\"text-align: right;\">\n",
       "      <th></th>\n",
       "      <th>departure_terminal</th>\n",
       "      <th>arrival_terminal</th>\n",
       "      <th>scheduled_departure</th>\n",
       "      <th>actual_departure</th>\n",
       "      <th>Actual_Arrival</th>\n",
       "      <th>TransitTime</th>\n",
       "    </tr>\n",
       "  </thead>\n",
       "  <tbody>\n",
       "    <tr>\n",
       "      <th>2015-01-01 11:30:00</th>\n",
       "      <td>Bainbridge</td>\n",
       "      <td>Lake Union Shipyard</td>\n",
       "      <td>30:00.0</td>\n",
       "      <td>NaN</td>\n",
       "      <td>45:06.0</td>\n",
       "      <td>NaN</td>\n",
       "    </tr>\n",
       "    <tr>\n",
       "      <th>2015-01-29 14:55:00</th>\n",
       "      <td>Bainbridge</td>\n",
       "      <td>Fuel Dock - Pier 15</td>\n",
       "      <td>55:00.0</td>\n",
       "      <td>NaN</td>\n",
       "      <td>14:27.0</td>\n",
       "      <td>NaN</td>\n",
       "    </tr>\n",
       "    <tr>\n",
       "      <th>2015-03-20 16:35:00</th>\n",
       "      <td>Bainbridge</td>\n",
       "      <td>Pier 54 - Standby</td>\n",
       "      <td>35:00.0</td>\n",
       "      <td>NaN</td>\n",
       "      <td>20:38.0</td>\n",
       "      <td>NaN</td>\n",
       "    </tr>\n",
       "  </tbody>\n",
       "</table>\n",
       "</div>"
      ],
      "text/plain": [
       "                    departure_terminal     arrival_terminal  \\\n",
       "2015-01-01 11:30:00         Bainbridge  Lake Union Shipyard   \n",
       "2015-01-29 14:55:00         Bainbridge  Fuel Dock - Pier 15   \n",
       "2015-03-20 16:35:00         Bainbridge    Pier 54 - Standby   \n",
       "\n",
       "                    scheduled_departure  actual_departure Actual_Arrival  \\\n",
       "2015-01-01 11:30:00             30:00.0               NaN        45:06.0   \n",
       "2015-01-29 14:55:00             55:00.0               NaN        14:27.0   \n",
       "2015-03-20 16:35:00             35:00.0               NaN        20:38.0   \n",
       "\n",
       "                     TransitTime  \n",
       "2015-01-01 11:30:00          NaN  \n",
       "2015-01-29 14:55:00          NaN  \n",
       "2015-03-20 16:35:00          NaN  "
      ]
     },
     "execution_count": 97,
     "metadata": {},
     "output_type": "execute_result"
    }
   ],
   "source": [
    "odd_terminals = verify_arrival_terminals(bainbridge_departures_2015_with_index)\n",
    "odd_terminals"
   ]
  },
  {
   "cell_type": "code",
   "execution_count": 98,
   "metadata": {
    "collapsed": true
   },
   "outputs": [],
   "source": [
    "bainbridge_departures_2015_with_index = remove_odd_terminals(bainbridge_departures_2015_with_index, odd_terminals)"
   ]
  },
  {
   "cell_type": "code",
   "execution_count": 99,
   "metadata": {},
   "outputs": [
    {
     "data": {
      "text/html": [
       "<div>\n",
       "<style scoped>\n",
       "    .dataframe tbody tr th:only-of-type {\n",
       "        vertical-align: middle;\n",
       "    }\n",
       "\n",
       "    .dataframe tbody tr th {\n",
       "        vertical-align: top;\n",
       "    }\n",
       "\n",
       "    .dataframe thead th {\n",
       "        text-align: right;\n",
       "    }\n",
       "</style>\n",
       "<table border=\"1\" class=\"dataframe\">\n",
       "  <thead>\n",
       "    <tr style=\"text-align: right;\">\n",
       "      <th></th>\n",
       "      <th>departure_terminal</th>\n",
       "      <th>arrival_terminal</th>\n",
       "      <th>scheduled_departure</th>\n",
       "      <th>actual_departure</th>\n",
       "      <th>Actual_Arrival</th>\n",
       "      <th>TransitTime</th>\n",
       "    </tr>\n",
       "  </thead>\n",
       "  <tbody>\n",
       "    <tr>\n",
       "      <th>2015-01-01 00:55:00</th>\n",
       "      <td>Bainbridge</td>\n",
       "      <td>Colman</td>\n",
       "      <td>55:00.0</td>\n",
       "      <td>05:15.0</td>\n",
       "      <td>36:38.0</td>\n",
       "      <td>31.0</td>\n",
       "    </tr>\n",
       "    <tr>\n",
       "      <th>2015-01-01 05:20:00</th>\n",
       "      <td>Bainbridge</td>\n",
       "      <td>Colman</td>\n",
       "      <td>20:00.0</td>\n",
       "      <td>21:48.0</td>\n",
       "      <td>51:23.0</td>\n",
       "      <td>30.0</td>\n",
       "    </tr>\n",
       "    <tr>\n",
       "      <th>2015-01-01 07:05:00</th>\n",
       "      <td>Bainbridge</td>\n",
       "      <td>Colman</td>\n",
       "      <td>05:00.0</td>\n",
       "      <td>06:20.0</td>\n",
       "      <td>36:29.0</td>\n",
       "      <td>30.0</td>\n",
       "    </tr>\n",
       "    <tr>\n",
       "      <th>2015-01-01 07:55:00</th>\n",
       "      <td>Bainbridge</td>\n",
       "      <td>Colman</td>\n",
       "      <td>55:00.0</td>\n",
       "      <td>55:00.0</td>\n",
       "      <td>27:16.0</td>\n",
       "      <td>32.0</td>\n",
       "    </tr>\n",
       "    <tr>\n",
       "      <th>2015-01-01 08:45:00</th>\n",
       "      <td>Bainbridge</td>\n",
       "      <td>Colman</td>\n",
       "      <td>45:00.0</td>\n",
       "      <td>45:55.0</td>\n",
       "      <td>15:02.0</td>\n",
       "      <td>30.0</td>\n",
       "    </tr>\n",
       "  </tbody>\n",
       "</table>\n",
       "</div>"
      ],
      "text/plain": [
       "                    departure_terminal arrival_terminal scheduled_departure  \\\n",
       "2015-01-01 00:55:00         Bainbridge           Colman             55:00.0   \n",
       "2015-01-01 05:20:00         Bainbridge           Colman             20:00.0   \n",
       "2015-01-01 07:05:00         Bainbridge           Colman             05:00.0   \n",
       "2015-01-01 07:55:00         Bainbridge           Colman             55:00.0   \n",
       "2015-01-01 08:45:00         Bainbridge           Colman             45:00.0   \n",
       "\n",
       "                    actual_departure Actual_Arrival  TransitTime  \n",
       "2015-01-01 00:55:00          05:15.0        36:38.0         31.0  \n",
       "2015-01-01 05:20:00          21:48.0        51:23.0         30.0  \n",
       "2015-01-01 07:05:00          06:20.0        36:29.0         30.0  \n",
       "2015-01-01 07:55:00          55:00.0        27:16.0         32.0  \n",
       "2015-01-01 08:45:00          45:55.0        15:02.0         30.0  "
      ]
     },
     "execution_count": 99,
     "metadata": {},
     "output_type": "execute_result"
    }
   ],
   "source": [
    "bainbridge_departures_2015_with_index.head()"
   ]
  },
  {
   "cell_type": "code",
   "execution_count": 100,
   "metadata": {},
   "outputs": [
    {
     "data": {
      "text/plain": [
       "8231"
      ]
     },
     "execution_count": 100,
     "metadata": {},
     "output_type": "execute_result"
    }
   ],
   "source": [
    "len(bainbridge_departures_2015_with_index)"
   ]
  },
  {
   "cell_type": "code",
   "execution_count": 101,
   "metadata": {
    "collapsed": true
   },
   "outputs": [],
   "source": [
    "bainbridge_departures_n13_n14_n15 = bainbridge_departures_n13_n14[8234:].reset_index(drop=True)"
   ]
  },
  {
   "cell_type": "markdown",
   "metadata": {},
   "source": [
    "# Generating 2016"
   ]
  },
  {
   "cell_type": "markdown",
   "metadata": {},
   "source": [
    "Here is the start of 2016!"
   ]
  },
  {
   "cell_type": "code",
   "execution_count": 102,
   "metadata": {},
   "outputs": [
    {
     "data": {
      "text/html": [
       "<div>\n",
       "<style scoped>\n",
       "    .dataframe tbody tr th:only-of-type {\n",
       "        vertical-align: middle;\n",
       "    }\n",
       "\n",
       "    .dataframe tbody tr th {\n",
       "        vertical-align: top;\n",
       "    }\n",
       "\n",
       "    .dataframe thead th {\n",
       "        text-align: right;\n",
       "    }\n",
       "</style>\n",
       "<table border=\"1\" class=\"dataframe\">\n",
       "  <thead>\n",
       "    <tr style=\"text-align: right;\">\n",
       "      <th></th>\n",
       "      <th>departure_terminal</th>\n",
       "      <th>arrival_terminal</th>\n",
       "      <th>scheduled_departure</th>\n",
       "      <th>actual_departure</th>\n",
       "      <th>Actual_Arrival</th>\n",
       "      <th>TransitTime</th>\n",
       "    </tr>\n",
       "  </thead>\n",
       "  <tbody>\n",
       "    <tr>\n",
       "      <th>0</th>\n",
       "      <td>Bainbridge</td>\n",
       "      <td>Colman</td>\n",
       "      <td>55:00.0</td>\n",
       "      <td>15:15.0</td>\n",
       "      <td>45:51.0</td>\n",
       "      <td>30.0</td>\n",
       "    </tr>\n",
       "    <tr>\n",
       "      <th>1</th>\n",
       "      <td>Bainbridge</td>\n",
       "      <td>Colman</td>\n",
       "      <td>20:00.0</td>\n",
       "      <td>21:45.0</td>\n",
       "      <td>54:24.0</td>\n",
       "      <td>33.0</td>\n",
       "    </tr>\n",
       "    <tr>\n",
       "      <th>2</th>\n",
       "      <td>Bainbridge</td>\n",
       "      <td>Colman</td>\n",
       "      <td>05:00.0</td>\n",
       "      <td>05:49.0</td>\n",
       "      <td>39:03.0</td>\n",
       "      <td>34.0</td>\n",
       "    </tr>\n",
       "    <tr>\n",
       "      <th>3</th>\n",
       "      <td>Bainbridge</td>\n",
       "      <td>Colman</td>\n",
       "      <td>55:00.0</td>\n",
       "      <td>56:22.0</td>\n",
       "      <td>27:20.0</td>\n",
       "      <td>31.0</td>\n",
       "    </tr>\n",
       "    <tr>\n",
       "      <th>4</th>\n",
       "      <td>Bainbridge</td>\n",
       "      <td>Colman</td>\n",
       "      <td>45:00.0</td>\n",
       "      <td>45:42.0</td>\n",
       "      <td>15:53.0</td>\n",
       "      <td>30.0</td>\n",
       "    </tr>\n",
       "  </tbody>\n",
       "</table>\n",
       "</div>"
      ],
      "text/plain": [
       "  departure_terminal arrival_terminal scheduled_departure actual_departure  \\\n",
       "0         Bainbridge           Colman             55:00.0          15:15.0   \n",
       "1         Bainbridge           Colman             20:00.0          21:45.0   \n",
       "2         Bainbridge           Colman             05:00.0          05:49.0   \n",
       "3         Bainbridge           Colman             55:00.0          56:22.0   \n",
       "4         Bainbridge           Colman             45:00.0          45:42.0   \n",
       "\n",
       "  Actual_Arrival  TransitTime  \n",
       "0        45:51.0         30.0  \n",
       "1        54:24.0         33.0  \n",
       "2        39:03.0         34.0  \n",
       "3        27:20.0         31.0  \n",
       "4        15:53.0         30.0  "
      ]
     },
     "execution_count": 102,
     "metadata": {},
     "output_type": "execute_result"
    }
   ],
   "source": [
    "bainbridge_departures_n13_n14_n15.head()"
   ]
  },
  {
   "cell_type": "markdown",
   "metadata": {},
   "source": [
    "The Holdiays in 2016:\n",
    "- Friday, January 1, 2016\n",
    "- Monday, May 30, 2016\n",
    "- Monday, July 4, 2016\n",
    "- Monday, September 5, 2016\n",
    "- Thursday, November 24, 2016\n",
    "- Sunday, December 25, 2016"
   ]
  },
  {
   "cell_type": "markdown",
   "metadata": {},
   "source": [
    "<i>Note that since Christmas is on a Sunday December 26 is considered a holiday.</i>"
   ]
  },
  {
   "cell_type": "code",
   "execution_count": 103,
   "metadata": {
    "collapsed": true
   },
   "outputs": [],
   "source": [
    "holidays = [datetime.date(2016, 1, 1), datetime.date(2016, 5, 30), datetime.date(2016, 7, 4), datetime.date(2016, 9, 5),\n",
    "           datetime.date(2016, 11, 24), datetime.date(2016, 12, 26)]\n",
    "weekday = bainbridge_departures_2013_with_index[\"2013-01-02\"].index + pd.offsets.DateOffset(years=1)\n",
    "saturday = bainbridge_departures_2013_with_index[\"2013-01-05\"].index + pd.offsets.DateOffset(years=1)\n",
    "sunday = bainbridge_departures_2013_with_index[\"2013-01-06\"].index + pd.offsets.DateOffset(years=1)\n",
    "\n",
    "startingDate = datetime.date(2016, 1, 1)"
   ]
  },
  {
   "cell_type": "code",
   "execution_count": 104,
   "metadata": {
    "collapsed": true
   },
   "outputs": [],
   "source": [
    "timestamps_2016 = generate_more_timestamps(startingDate, holidays, weekday, saturday, sunday)"
   ]
  },
  {
   "cell_type": "code",
   "execution_count": 105,
   "metadata": {},
   "outputs": [
    {
     "data": {
      "text/plain": [
       "8256"
      ]
     },
     "execution_count": 105,
     "metadata": {},
     "output_type": "execute_result"
    }
   ],
   "source": [
    "len(timestamps_2016)"
   ]
  },
  {
   "cell_type": "code",
   "execution_count": 106,
   "metadata": {
    "collapsed": true
   },
   "outputs": [],
   "source": [
    "bainbridge_departures_2016_with_index = bainbridge_departures_n13_n14_n15[:8256].reset_index(drop=True)\n",
    "bainbridge_departures_2016_with_index.index = pd.to_datetime(timestamps_2016)\n",
    "bainbridge_departures_2016_with_index = bainbridge_departures_2016_with_index[\"2016\"]"
   ]
  },
  {
   "cell_type": "code",
   "execution_count": 107,
   "metadata": {},
   "outputs": [
    {
     "name": "stdout",
     "output_type": "stream",
     "text": [
      "Was able to match departure times up until this row at index 2016-06-12 09:35:00:\n",
      "departure_terminal     Bainbridge\n",
      "arrival_terminal           Colman\n",
      "scheduled_departure       45:00.0\n",
      "actual_departure          46:38.0\n",
      "Actual_Arrival            18:28.0\n",
      "TransitTime                    32\n",
      "Name: 2016-06-12 09:35:00, dtype: object\n"
     ]
    }
   ],
   "source": [
    "verify_timestamps(bainbridge_departures_2016_with_index)"
   ]
  },
  {
   "cell_type": "markdown",
   "metadata": {},
   "source": [
    "The <a href = \"https://web.archive.org/web/20160617152902/http:/www.wsdot.wa.gov/ferries/pdf/2016Summer.pdf\">Summer of 2016</a> had a schedule change in it. This starts in June 12, 2016"
   ]
  },
  {
   "cell_type": "code",
   "execution_count": 108,
   "metadata": {
    "collapsed": true
   },
   "outputs": [],
   "source": [
    "timestamps_2016 = bainbridge_departures_2016_with_index[:\"2016-06-11\"].index.tolist()"
   ]
  },
  {
   "cell_type": "code",
   "execution_count": 109,
   "metadata": {
    "collapsed": true
   },
   "outputs": [],
   "source": [
    "# Monday-Friday leave Bainbridge Island Summer 2016\n",
    "# mfw16 means Monday-Friday Summer 2016\n",
    "mfs16_scheduled_departures_24h = [\"0:55:00\", \"4:45:00\", \"5:20:00\", \"6:20:00\", \"7:05:00\", \"7:55:00\",\"8:45:00\", \"9:40:00\", \n",
    "                            \"10:25:00\", \"11:30:00\", \"12:20:00\", \"13:10:00\", \"14:05:00\", \"14:55:00\", \"15:50:00\", \"16:35:00\", \n",
    "                            \"17:30:00\", \"18:30:00\", \"19:10:00\", \"20:10:00\", \"20:55:00\", \"21:45:00\", \"22:35:00\"]\n",
    "\n",
    "# satw16 means Saturday Summer 2016\n",
    "sats16_scheduled_departures_24h = [\"0:55:00\",\"05:20:00\",\"07:05:00\",\"07:55:00\",\"08:45:00\",\"9:45:00\", \"10:25:00\",\n",
    "                                  \"11:30:00\",\"12:20:00\",\"13:10:00\",\"14:05:00\",\"14:55:00\",\"15:50:00\",\n",
    "                                  \"16:35:00\",\"17:30:00\",\"18:30:00\",\"19:10:00\",\"20:10:00\",\"20:55:00\",\n",
    "                                  \"21:45:00\",\"22:30:00\"]\n",
    "\n",
    "# sunw16 means Sunday Summer 2016\n",
    "suns16_scheduled_departures_24h = [\"0:00:00\", \"1:25:00\", \"05:20:00\",\"07:05:00\",\"08:45:00\",\"9:45:00\", \"10:25:00\",\n",
    "                                  \"11:30:00\",\"12:20:00\",\"13:10:00\",\"14:05:00\",\"14:55:00\",\"15:50:00\",\n",
    "                                  \"16:35:00\",\"17:30:00\",\"18:30:00\",\"19:10:00\",\"20:10:00\",\"20:55:00\",\n",
    "                                  \"21:45:00\",\"22:30:00\"]\n",
    "\n",
    "#wks16 means Week Summer 2016\n",
    "wks16_scheduled_departures_24h = (5*mfw13_scheduled_departures_24h) + satw13_scheduled_departures_24h + sunw13_scheduled_departures_24h"
   ]
  },
  {
   "cell_type": "markdown",
   "metadata": {},
   "source": [
    "`stringsToDatetime` takes in something like \n",
    "\n",
    "`[\"05:20:00\",\"07:05:00\",\"08:45:00\"]` \n",
    "\n",
    "and returns \n",
    "\n",
    "`[datetime.datetime(1900, 1, 1, 5, 20), datetime.datetime(1900, 1, 1, 7, 5), datetime.datetime(1900, 1, 1, 8, 45)]`"
   ]
  },
  {
   "cell_type": "code",
   "execution_count": 110,
   "metadata": {
    "collapsed": true
   },
   "outputs": [],
   "source": [
    "def stringsToDatetime(strings):\n",
    "    \"\"\"Turns a list of strings that represent 24h time and turns them into datetime object.\n",
    "\n",
    "    Keyword arguments:\n",
    "    strings -- list of strings representing a 24h time.\n",
    "    \"\"\"\n",
    "    return pd.to_datetime([datetime.datetime.strptime(x, '%H:%M:%S') for x in strings])"
   ]
  },
  {
   "cell_type": "code",
   "execution_count": 111,
   "metadata": {
    "collapsed": true
   },
   "outputs": [],
   "source": [
    "holidays = [datetime.date(2016, 1, 1), datetime.date(2016, 5, 30), datetime.date(2016, 7, 4), datetime.date(2016, 9, 5),\n",
    "           datetime.date(2016, 11, 24), datetime.date(2016, 12, 26)]\n",
    "weekday = stringsToDatetime(mfs16_scheduled_departures_24h)\n",
    "saturday = stringsToDatetime(sats16_scheduled_departures_24h)\n",
    "sunday = stringsToDatetime(suns16_scheduled_departures_24h)\n",
    "\n",
    "startingDate = datetime.date(2016, 6, 12)"
   ]
  },
  {
   "cell_type": "code",
   "execution_count": 112,
   "metadata": {
    "collapsed": true
   },
   "outputs": [],
   "source": [
    "timestamps_2016_2 = generate_more_timestamps(startingDate, holidays, weekday, saturday, sunday,\n",
    "                                             [pd.Timestamp(2016, 6, 12, 0, 0), pd.Timestamp(2016, 6, 12, 1, 25)])"
   ]
  },
  {
   "cell_type": "code",
   "execution_count": 113,
   "metadata": {
    "collapsed": true
   },
   "outputs": [],
   "source": [
    "timestamps_2016 = timestamps_2016 + timestamps_2016_2"
   ]
  },
  {
   "cell_type": "code",
   "execution_count": 114,
   "metadata": {},
   "outputs": [
    {
     "data": {
      "text/plain": [
       "8256"
      ]
     },
     "execution_count": 114,
     "metadata": {},
     "output_type": "execute_result"
    }
   ],
   "source": [
    "len(timestamps_2016)"
   ]
  },
  {
   "cell_type": "code",
   "execution_count": 115,
   "metadata": {
    "collapsed": true
   },
   "outputs": [],
   "source": [
    "bainbridge_departures_2016_with_index = bainbridge_departures_n13_n14_n15[:8256].reset_index(drop=True)\n",
    "bainbridge_departures_2016_with_index.index = pd.to_datetime(timestamps_2016)\n",
    "bainbridge_departures_2016_with_index = bainbridge_departures_2016_with_index[\"2016\"]"
   ]
  },
  {
   "cell_type": "code",
   "execution_count": 116,
   "metadata": {},
   "outputs": [
    {
     "name": "stdout",
     "output_type": "stream",
     "text": [
      "Success!\n"
     ]
    }
   ],
   "source": [
    "verify_timestamps(bainbridge_departures_2016_with_index)"
   ]
  },
  {
   "cell_type": "code",
   "execution_count": 117,
   "metadata": {},
   "outputs": [
    {
     "data": {
      "text/html": [
       "<div>\n",
       "<style scoped>\n",
       "    .dataframe tbody tr th:only-of-type {\n",
       "        vertical-align: middle;\n",
       "    }\n",
       "\n",
       "    .dataframe tbody tr th {\n",
       "        vertical-align: top;\n",
       "    }\n",
       "\n",
       "    .dataframe thead th {\n",
       "        text-align: right;\n",
       "    }\n",
       "</style>\n",
       "<table border=\"1\" class=\"dataframe\">\n",
       "  <thead>\n",
       "    <tr style=\"text-align: right;\">\n",
       "      <th></th>\n",
       "      <th>departure_terminal</th>\n",
       "      <th>arrival_terminal</th>\n",
       "      <th>scheduled_departure</th>\n",
       "      <th>actual_departure</th>\n",
       "      <th>Actual_Arrival</th>\n",
       "      <th>TransitTime</th>\n",
       "    </tr>\n",
       "  </thead>\n",
       "  <tbody>\n",
       "    <tr>\n",
       "      <th>2016-10-02 18:30:00</th>\n",
       "      <td>Bainbridge</td>\n",
       "      <td>Eagle Harbor</td>\n",
       "      <td>30:00.0</td>\n",
       "      <td>NaN</td>\n",
       "      <td>43:26.0</td>\n",
       "      <td>NaN</td>\n",
       "    </tr>\n",
       "  </tbody>\n",
       "</table>\n",
       "</div>"
      ],
      "text/plain": [
       "                    departure_terminal arrival_terminal scheduled_departure  \\\n",
       "2016-10-02 18:30:00         Bainbridge     Eagle Harbor             30:00.0   \n",
       "\n",
       "                     actual_departure Actual_Arrival  TransitTime  \n",
       "2016-10-02 18:30:00               NaN        43:26.0          NaN  "
      ]
     },
     "execution_count": 117,
     "metadata": {},
     "output_type": "execute_result"
    }
   ],
   "source": [
    "odd_terminals = verify_arrival_terminals(bainbridge_departures_2016_with_index)\n",
    "odd_terminals"
   ]
  },
  {
   "cell_type": "code",
   "execution_count": 118,
   "metadata": {
    "collapsed": true
   },
   "outputs": [],
   "source": [
    "bainbridge_departures_2016_with_index = remove_odd_terminals(bainbridge_departures_2016_with_index, odd_terminals)"
   ]
  },
  {
   "cell_type": "code",
   "execution_count": 119,
   "metadata": {},
   "outputs": [
    {
     "data": {
      "text/html": [
       "<div>\n",
       "<style scoped>\n",
       "    .dataframe tbody tr th:only-of-type {\n",
       "        vertical-align: middle;\n",
       "    }\n",
       "\n",
       "    .dataframe tbody tr th {\n",
       "        vertical-align: top;\n",
       "    }\n",
       "\n",
       "    .dataframe thead th {\n",
       "        text-align: right;\n",
       "    }\n",
       "</style>\n",
       "<table border=\"1\" class=\"dataframe\">\n",
       "  <thead>\n",
       "    <tr style=\"text-align: right;\">\n",
       "      <th></th>\n",
       "      <th>departure_terminal</th>\n",
       "      <th>arrival_terminal</th>\n",
       "      <th>scheduled_departure</th>\n",
       "      <th>actual_departure</th>\n",
       "      <th>Actual_Arrival</th>\n",
       "      <th>TransitTime</th>\n",
       "    </tr>\n",
       "  </thead>\n",
       "  <tbody>\n",
       "    <tr>\n",
       "      <th>2016-12-31 19:10:00</th>\n",
       "      <td>Bainbridge</td>\n",
       "      <td>Colman</td>\n",
       "      <td>10:00.0</td>\n",
       "      <td>10:00.0</td>\n",
       "      <td>41:26.0</td>\n",
       "      <td>31.0</td>\n",
       "    </tr>\n",
       "    <tr>\n",
       "      <th>2016-12-31 20:10:00</th>\n",
       "      <td>Bainbridge</td>\n",
       "      <td>Colman</td>\n",
       "      <td>10:00.0</td>\n",
       "      <td>09:40.0</td>\n",
       "      <td>41:45.0</td>\n",
       "      <td>32.0</td>\n",
       "    </tr>\n",
       "    <tr>\n",
       "      <th>2016-12-31 20:55:00</th>\n",
       "      <td>Bainbridge</td>\n",
       "      <td>Colman</td>\n",
       "      <td>55:00.0</td>\n",
       "      <td>55:00.0</td>\n",
       "      <td>25:50.0</td>\n",
       "      <td>30.0</td>\n",
       "    </tr>\n",
       "    <tr>\n",
       "      <th>2016-12-31 21:45:00</th>\n",
       "      <td>Bainbridge</td>\n",
       "      <td>Colman</td>\n",
       "      <td>45:00.0</td>\n",
       "      <td>45:19.0</td>\n",
       "      <td>19:24.0</td>\n",
       "      <td>34.0</td>\n",
       "    </tr>\n",
       "    <tr>\n",
       "      <th>2016-12-31 22:30:00</th>\n",
       "      <td>Bainbridge</td>\n",
       "      <td>Colman</td>\n",
       "      <td>30:00.0</td>\n",
       "      <td>31:11.0</td>\n",
       "      <td>03:02.0</td>\n",
       "      <td>32.0</td>\n",
       "    </tr>\n",
       "  </tbody>\n",
       "</table>\n",
       "</div>"
      ],
      "text/plain": [
       "                    departure_terminal arrival_terminal scheduled_departure  \\\n",
       "2016-12-31 19:10:00         Bainbridge           Colman             10:00.0   \n",
       "2016-12-31 20:10:00         Bainbridge           Colman             10:00.0   \n",
       "2016-12-31 20:55:00         Bainbridge           Colman             55:00.0   \n",
       "2016-12-31 21:45:00         Bainbridge           Colman             45:00.0   \n",
       "2016-12-31 22:30:00         Bainbridge           Colman             30:00.0   \n",
       "\n",
       "                    actual_departure Actual_Arrival  TransitTime  \n",
       "2016-12-31 19:10:00          10:00.0        41:26.0         31.0  \n",
       "2016-12-31 20:10:00          09:40.0        41:45.0         32.0  \n",
       "2016-12-31 20:55:00          55:00.0        25:50.0         30.0  \n",
       "2016-12-31 21:45:00          45:19.0        19:24.0         34.0  \n",
       "2016-12-31 22:30:00          31:11.0        03:02.0         32.0  "
      ]
     },
     "execution_count": 119,
     "metadata": {},
     "output_type": "execute_result"
    }
   ],
   "source": [
    "bainbridge_departures_2016_with_index.tail()"
   ]
  },
  {
   "cell_type": "code",
   "execution_count": 120,
   "metadata": {},
   "outputs": [
    {
     "data": {
      "text/plain": [
       "8253"
      ]
     },
     "execution_count": 120,
     "metadata": {},
     "output_type": "execute_result"
    }
   ],
   "source": [
    "len(bainbridge_departures_2016_with_index)"
   ]
  },
  {
   "cell_type": "code",
   "execution_count": 121,
   "metadata": {
    "collapsed": true
   },
   "outputs": [],
   "source": [
    "bainbridge_departures_n13_n14_n15_n16 = bainbridge_departures_n13_n14_n15[8254:].reset_index(drop=True)"
   ]
  },
  {
   "cell_type": "markdown",
   "metadata": {},
   "source": [
    "# Generating 2017"
   ]
  },
  {
   "cell_type": "markdown",
   "metadata": {},
   "source": [
    "Here is the start of 2017!"
   ]
  },
  {
   "cell_type": "code",
   "execution_count": 122,
   "metadata": {},
   "outputs": [
    {
     "data": {
      "text/html": [
       "<div>\n",
       "<style scoped>\n",
       "    .dataframe tbody tr th:only-of-type {\n",
       "        vertical-align: middle;\n",
       "    }\n",
       "\n",
       "    .dataframe tbody tr th {\n",
       "        vertical-align: top;\n",
       "    }\n",
       "\n",
       "    .dataframe thead th {\n",
       "        text-align: right;\n",
       "    }\n",
       "</style>\n",
       "<table border=\"1\" class=\"dataframe\">\n",
       "  <thead>\n",
       "    <tr style=\"text-align: right;\">\n",
       "      <th></th>\n",
       "      <th>departure_terminal</th>\n",
       "      <th>arrival_terminal</th>\n",
       "      <th>scheduled_departure</th>\n",
       "      <th>actual_departure</th>\n",
       "      <th>Actual_Arrival</th>\n",
       "      <th>TransitTime</th>\n",
       "    </tr>\n",
       "  </thead>\n",
       "  <tbody>\n",
       "    <tr>\n",
       "      <th>0</th>\n",
       "      <td>Bainbridge</td>\n",
       "      <td>Colman</td>\n",
       "      <td>00:00.0</td>\n",
       "      <td>59:34.0</td>\n",
       "      <td>30:25.0</td>\n",
       "      <td>31.0</td>\n",
       "    </tr>\n",
       "    <tr>\n",
       "      <th>1</th>\n",
       "      <td>Bainbridge</td>\n",
       "      <td>Colman</td>\n",
       "      <td>25:00.0</td>\n",
       "      <td>33:50.0</td>\n",
       "      <td>06:40.0</td>\n",
       "      <td>33.0</td>\n",
       "    </tr>\n",
       "    <tr>\n",
       "      <th>2</th>\n",
       "      <td>Bainbridge</td>\n",
       "      <td>Colman</td>\n",
       "      <td>20:00.0</td>\n",
       "      <td>20:52.0</td>\n",
       "      <td>52:31.0</td>\n",
       "      <td>32.0</td>\n",
       "    </tr>\n",
       "    <tr>\n",
       "      <th>3</th>\n",
       "      <td>Bainbridge</td>\n",
       "      <td>Colman</td>\n",
       "      <td>05:00.0</td>\n",
       "      <td>06:03.0</td>\n",
       "      <td>35:15.0</td>\n",
       "      <td>29.0</td>\n",
       "    </tr>\n",
       "    <tr>\n",
       "      <th>4</th>\n",
       "      <td>Bainbridge</td>\n",
       "      <td>Colman</td>\n",
       "      <td>45:00.0</td>\n",
       "      <td>44:31.0</td>\n",
       "      <td>15:34.0</td>\n",
       "      <td>31.0</td>\n",
       "    </tr>\n",
       "  </tbody>\n",
       "</table>\n",
       "</div>"
      ],
      "text/plain": [
       "  departure_terminal arrival_terminal scheduled_departure actual_departure  \\\n",
       "0         Bainbridge           Colman             00:00.0          59:34.0   \n",
       "1         Bainbridge           Colman             25:00.0          33:50.0   \n",
       "2         Bainbridge           Colman             20:00.0          20:52.0   \n",
       "3         Bainbridge           Colman             05:00.0          06:03.0   \n",
       "4         Bainbridge           Colman             45:00.0          44:31.0   \n",
       "\n",
       "  Actual_Arrival  TransitTime  \n",
       "0        30:25.0         31.0  \n",
       "1        06:40.0         33.0  \n",
       "2        52:31.0         32.0  \n",
       "3        35:15.0         29.0  \n",
       "4        15:34.0         31.0  "
      ]
     },
     "execution_count": 122,
     "metadata": {},
     "output_type": "execute_result"
    }
   ],
   "source": [
    "bainbridge_departures_n13_n14_n15_n16.head()"
   ]
  },
  {
   "cell_type": "markdown",
   "metadata": {},
   "source": [
    "The Holdiays in 2017:\n",
    "- Monday, January 2, 2017 (Since Jan 1 is a Sunday)\n",
    "- Monday, May 29, 2017\n",
    "- Tuesday, July 4, 2017\n",
    "- Monday, September 4, 2017\n",
    "- Thursday, November 23, 2017\n",
    "- Monday, December 25, 2016"
   ]
  },
  {
   "cell_type": "markdown",
   "metadata": {},
   "source": [
    "Note: was originally have issues with:\n",
    "\n",
    "`weekday = bainbridge_departures_2016_with_index[\"2016-01-04\"].index + pd.offsets.DateOffset(years=1)`\n",
    "\n",
    "This is because January 4, 2016 is right after a weekend so the past midnight sailings from the Sunday schedule carry over and we do not want that for a general weekday. In the future always remeber to choose a weekday the proceeds a regular weekday and not a holiday or weekend."
   ]
  },
  {
   "cell_type": "code",
   "execution_count": 123,
   "metadata": {
    "collapsed": true
   },
   "outputs": [],
   "source": [
    "holidays = [datetime.date(2017, 1, 2), datetime.date(2017, 5, 29), datetime.date(2017, 7, 4), datetime.date(2017, 9, 4),\n",
    "           datetime.date(2017, 11, 23), datetime.date(2017, 12, 25)]\n",
    "weekday = bainbridge_departures_2016_with_index[\"2016-01-05\"].index + pd.offsets.DateOffset(years=1)\n",
    "saturday = bainbridge_departures_2016_with_index[\"2016-07-9\"].index + pd.offsets.DateOffset(years=1)\n",
    "sunday = bainbridge_departures_2016_with_index[\"2016-07-10\"].index + pd.offsets.DateOffset(years=1)\n",
    "\n",
    "startingDate = datetime.date(2017, 1, 1)"
   ]
  },
  {
   "cell_type": "code",
   "execution_count": 124,
   "metadata": {
    "collapsed": true
   },
   "outputs": [],
   "source": [
    "timestamps_2017 = generate_more_timestamps(startingDate, holidays, weekday, saturday, sunday,\n",
    "                                          [pd.Timestamp(2017, 1, 1, 0, 0), pd.Timestamp(2017, 1, 1, 1, 25)])"
   ]
  },
  {
   "cell_type": "code",
   "execution_count": 125,
   "metadata": {},
   "outputs": [
    {
     "data": {
      "text/plain": [
       "8233"
      ]
     },
     "execution_count": 125,
     "metadata": {},
     "output_type": "execute_result"
    }
   ],
   "source": [
    "len(timestamps_2017)"
   ]
  },
  {
   "cell_type": "code",
   "execution_count": 126,
   "metadata": {
    "collapsed": true
   },
   "outputs": [],
   "source": [
    "bainbridge_departures_2017_with_index = bainbridge_departures_n13_n14_n15_n16[:8233].reset_index(drop=True)\n",
    "bainbridge_departures_2017_with_index.index = pd.to_datetime(timestamps_2017)\n",
    "bainbridge_departures_2017_with_index = bainbridge_departures_2017_with_index[\"2017\"]"
   ]
  },
  {
   "cell_type": "code",
   "execution_count": 127,
   "metadata": {},
   "outputs": [
    {
     "name": "stdout",
     "output_type": "stream",
     "text": [
      "Success!\n"
     ]
    }
   ],
   "source": [
    "verify_timestamps(bainbridge_departures_2017_with_index)"
   ]
  },
  {
   "cell_type": "code",
   "execution_count": 128,
   "metadata": {},
   "outputs": [
    {
     "data": {
      "text/html": [
       "<div>\n",
       "<style scoped>\n",
       "    .dataframe tbody tr th:only-of-type {\n",
       "        vertical-align: middle;\n",
       "    }\n",
       "\n",
       "    .dataframe tbody tr th {\n",
       "        vertical-align: top;\n",
       "    }\n",
       "\n",
       "    .dataframe thead th {\n",
       "        text-align: right;\n",
       "    }\n",
       "</style>\n",
       "<table border=\"1\" class=\"dataframe\">\n",
       "  <thead>\n",
       "    <tr style=\"text-align: right;\">\n",
       "      <th></th>\n",
       "    </tr>\n",
       "  </thead>\n",
       "  <tbody>\n",
       "  </tbody>\n",
       "</table>\n",
       "</div>"
      ],
      "text/plain": [
       "Empty DataFrame\n",
       "Columns: []\n",
       "Index: []"
      ]
     },
     "execution_count": 128,
     "metadata": {},
     "output_type": "execute_result"
    }
   ],
   "source": [
    "odd_terminals = verify_arrival_terminals(bainbridge_departures_2017_with_index)\n",
    "odd_terminals"
   ]
  },
  {
   "cell_type": "code",
   "execution_count": 129,
   "metadata": {},
   "outputs": [
    {
     "data": {
      "text/html": [
       "<div>\n",
       "<style scoped>\n",
       "    .dataframe tbody tr th:only-of-type {\n",
       "        vertical-align: middle;\n",
       "    }\n",
       "\n",
       "    .dataframe tbody tr th {\n",
       "        vertical-align: top;\n",
       "    }\n",
       "\n",
       "    .dataframe thead th {\n",
       "        text-align: right;\n",
       "    }\n",
       "</style>\n",
       "<table border=\"1\" class=\"dataframe\">\n",
       "  <thead>\n",
       "    <tr style=\"text-align: right;\">\n",
       "      <th></th>\n",
       "      <th>departure_terminal</th>\n",
       "      <th>arrival_terminal</th>\n",
       "      <th>scheduled_departure</th>\n",
       "      <th>actual_departure</th>\n",
       "      <th>Actual_Arrival</th>\n",
       "      <th>TransitTime</th>\n",
       "    </tr>\n",
       "  </thead>\n",
       "  <tbody>\n",
       "    <tr>\n",
       "      <th>2017-12-31 19:10:00</th>\n",
       "      <td>Bainbridge</td>\n",
       "      <td>Colman</td>\n",
       "      <td>10:00.0</td>\n",
       "      <td>10:00.0</td>\n",
       "      <td>44:24.0</td>\n",
       "      <td>34.0</td>\n",
       "    </tr>\n",
       "    <tr>\n",
       "      <th>2017-12-31 20:10:00</th>\n",
       "      <td>Bainbridge</td>\n",
       "      <td>Colman</td>\n",
       "      <td>10:00.0</td>\n",
       "      <td>10:00.0</td>\n",
       "      <td>42:46.0</td>\n",
       "      <td>32.0</td>\n",
       "    </tr>\n",
       "    <tr>\n",
       "      <th>2017-12-31 20:55:00</th>\n",
       "      <td>Bainbridge</td>\n",
       "      <td>Colman</td>\n",
       "      <td>55:00.0</td>\n",
       "      <td>55:00.0</td>\n",
       "      <td>27:58.0</td>\n",
       "      <td>32.0</td>\n",
       "    </tr>\n",
       "    <tr>\n",
       "      <th>2017-12-31 21:45:00</th>\n",
       "      <td>Bainbridge</td>\n",
       "      <td>Colman</td>\n",
       "      <td>45:00.0</td>\n",
       "      <td>45:00.0</td>\n",
       "      <td>16:20.0</td>\n",
       "      <td>31.0</td>\n",
       "    </tr>\n",
       "    <tr>\n",
       "      <th>2017-12-31 22:30:00</th>\n",
       "      <td>Bainbridge</td>\n",
       "      <td>Colman</td>\n",
       "      <td>30:00.0</td>\n",
       "      <td>30:00.0</td>\n",
       "      <td>03:56.0</td>\n",
       "      <td>33.0</td>\n",
       "    </tr>\n",
       "  </tbody>\n",
       "</table>\n",
       "</div>"
      ],
      "text/plain": [
       "                    departure_terminal arrival_terminal scheduled_departure  \\\n",
       "2017-12-31 19:10:00         Bainbridge           Colman             10:00.0   \n",
       "2017-12-31 20:10:00         Bainbridge           Colman             10:00.0   \n",
       "2017-12-31 20:55:00         Bainbridge           Colman             55:00.0   \n",
       "2017-12-31 21:45:00         Bainbridge           Colman             45:00.0   \n",
       "2017-12-31 22:30:00         Bainbridge           Colman             30:00.0   \n",
       "\n",
       "                    actual_departure Actual_Arrival  TransitTime  \n",
       "2017-12-31 19:10:00          10:00.0        44:24.0         34.0  \n",
       "2017-12-31 20:10:00          10:00.0        42:46.0         32.0  \n",
       "2017-12-31 20:55:00          55:00.0        27:58.0         32.0  \n",
       "2017-12-31 21:45:00          45:00.0        16:20.0         31.0  \n",
       "2017-12-31 22:30:00          30:00.0        03:56.0         33.0  "
      ]
     },
     "execution_count": 129,
     "metadata": {},
     "output_type": "execute_result"
    }
   ],
   "source": [
    "bainbridge_departures_2017_with_index.tail()"
   ]
  },
  {
   "cell_type": "code",
   "execution_count": 130,
   "metadata": {},
   "outputs": [
    {
     "data": {
      "text/plain": [
       "8231"
      ]
     },
     "execution_count": 130,
     "metadata": {},
     "output_type": "execute_result"
    }
   ],
   "source": [
    "len(bainbridge_departures_2017_with_index)"
   ]
  },
  {
   "cell_type": "code",
   "execution_count": 131,
   "metadata": {
    "collapsed": true
   },
   "outputs": [],
   "source": [
    "bainbridge_departures_n13_n14_n15_n16_n17 = bainbridge_departures_n13_n14_n15_n16[8231:].reset_index(drop=True)"
   ]
  },
  {
   "cell_type": "markdown",
   "metadata": {},
   "source": [
    "# Generating 2018"
   ]
  },
  {
   "cell_type": "markdown",
   "metadata": {},
   "source": [
    "Here is the start of 2018!"
   ]
  },
  {
   "cell_type": "code",
   "execution_count": 132,
   "metadata": {},
   "outputs": [
    {
     "data": {
      "text/html": [
       "<div>\n",
       "<style scoped>\n",
       "    .dataframe tbody tr th:only-of-type {\n",
       "        vertical-align: middle;\n",
       "    }\n",
       "\n",
       "    .dataframe tbody tr th {\n",
       "        vertical-align: top;\n",
       "    }\n",
       "\n",
       "    .dataframe thead th {\n",
       "        text-align: right;\n",
       "    }\n",
       "</style>\n",
       "<table border=\"1\" class=\"dataframe\">\n",
       "  <thead>\n",
       "    <tr style=\"text-align: right;\">\n",
       "      <th></th>\n",
       "      <th>departure_terminal</th>\n",
       "      <th>arrival_terminal</th>\n",
       "      <th>scheduled_departure</th>\n",
       "      <th>actual_departure</th>\n",
       "      <th>Actual_Arrival</th>\n",
       "      <th>TransitTime</th>\n",
       "    </tr>\n",
       "  </thead>\n",
       "  <tbody>\n",
       "    <tr>\n",
       "      <th>0</th>\n",
       "      <td>Bainbridge</td>\n",
       "      <td>Colman</td>\n",
       "      <td>00:00.0</td>\n",
       "      <td>00:00.0</td>\n",
       "      <td>31:23.0</td>\n",
       "      <td>31.0</td>\n",
       "    </tr>\n",
       "    <tr>\n",
       "      <th>1</th>\n",
       "      <td>Bainbridge</td>\n",
       "      <td>Colman</td>\n",
       "      <td>25:00.0</td>\n",
       "      <td>40:26.0</td>\n",
       "      <td>13:57.0</td>\n",
       "      <td>33.0</td>\n",
       "    </tr>\n",
       "    <tr>\n",
       "      <th>2</th>\n",
       "      <td>Bainbridge</td>\n",
       "      <td>Colman</td>\n",
       "      <td>20:00.0</td>\n",
       "      <td>20:30.0</td>\n",
       "      <td>54:45.0</td>\n",
       "      <td>34.0</td>\n",
       "    </tr>\n",
       "    <tr>\n",
       "      <th>3</th>\n",
       "      <td>Bainbridge</td>\n",
       "      <td>Colman</td>\n",
       "      <td>05:00.0</td>\n",
       "      <td>05:12.0</td>\n",
       "      <td>39:06.0</td>\n",
       "      <td>34.0</td>\n",
       "    </tr>\n",
       "    <tr>\n",
       "      <th>4</th>\n",
       "      <td>Bainbridge</td>\n",
       "      <td>Colman</td>\n",
       "      <td>55:00.0</td>\n",
       "      <td>55:00.0</td>\n",
       "      <td>24:34.0</td>\n",
       "      <td>29.0</td>\n",
       "    </tr>\n",
       "  </tbody>\n",
       "</table>\n",
       "</div>"
      ],
      "text/plain": [
       "  departure_terminal arrival_terminal scheduled_departure actual_departure  \\\n",
       "0         Bainbridge           Colman             00:00.0          00:00.0   \n",
       "1         Bainbridge           Colman             25:00.0          40:26.0   \n",
       "2         Bainbridge           Colman             20:00.0          20:30.0   \n",
       "3         Bainbridge           Colman             05:00.0          05:12.0   \n",
       "4         Bainbridge           Colman             55:00.0          55:00.0   \n",
       "\n",
       "  Actual_Arrival  TransitTime  \n",
       "0        31:23.0         31.0  \n",
       "1        13:57.0         33.0  \n",
       "2        54:45.0         34.0  \n",
       "3        39:06.0         34.0  \n",
       "4        24:34.0         29.0  "
      ]
     },
     "execution_count": 132,
     "metadata": {},
     "output_type": "execute_result"
    }
   ],
   "source": [
    "bainbridge_departures_n13_n14_n15_n16_n17.head()"
   ]
  },
  {
   "cell_type": "markdown",
   "metadata": {},
   "source": [
    "The Holdiays in 2018:\n",
    "- Monday, January 1, 2018\n",
    "- Monday, May 28, 2018\n",
    "- Wednesday, July 4, 2018\n",
    "- Monday, September 3, 2018\n",
    "- Thursday, November 22, 2018\n",
    "- Tuesday, December 25, 2018"
   ]
  },
  {
   "cell_type": "code",
   "execution_count": 133,
   "metadata": {
    "collapsed": true
   },
   "outputs": [],
   "source": [
    "holidays = [datetime.date(2018, 1, 1), datetime.date(2018, 5, 28), datetime.date(2018, 7, 4), datetime.date(2018, 9, 3),\n",
    "           datetime.date(2018, 11, 22), datetime.date(2018, 12, 25)]\n",
    "weekday = bainbridge_departures_2016_with_index[\"2016-01-5\"].index + pd.offsets.DateOffset(years=1)\n",
    "saturday = bainbridge_departures_2016_with_index[\"2016-07-9\"].index + pd.offsets.DateOffset(years=1)\n",
    "sunday = bainbridge_departures_2016_with_index[\"2016-07-10\"].index + pd.offsets.DateOffset(years=1)\n",
    "\n",
    "startingDate = datetime.date(2018, 1, 1)"
   ]
  },
  {
   "cell_type": "code",
   "execution_count": 134,
   "metadata": {
    "collapsed": true
   },
   "outputs": [],
   "source": [
    "timestamps_2018 = generate_more_timestamps(startingDate, holidays, weekday, saturday, sunday,\n",
    "                                          [pd.Timestamp(2018, 1, 1, 0, 0), pd.Timestamp(2018, 1, 1, 1, 25)])"
   ]
  },
  {
   "cell_type": "code",
   "execution_count": 135,
   "metadata": {},
   "outputs": [
    {
     "data": {
      "text/plain": [
       "5726"
      ]
     },
     "execution_count": 135,
     "metadata": {},
     "output_type": "execute_result"
    }
   ],
   "source": [
    "len(bainbridge_departures_n13_n14_n15_n16_n17)"
   ]
  },
  {
   "cell_type": "code",
   "execution_count": 136,
   "metadata": {
    "collapsed": true
   },
   "outputs": [],
   "source": [
    "timestamps_2018 = timestamps_2018[:5726]"
   ]
  },
  {
   "cell_type": "code",
   "execution_count": 137,
   "metadata": {
    "collapsed": true
   },
   "outputs": [],
   "source": [
    "bainbridge_departures_2018_with_index = bainbridge_departures_n13_n14_n15_n16_n17.reset_index(drop=True)\n",
    "bainbridge_departures_2018_with_index.index = pd.to_datetime(timestamps_2018)\n",
    "bainbridge_departures_2018_with_index = bainbridge_departures_2018_with_index[\"2018\"]"
   ]
  },
  {
   "cell_type": "code",
   "execution_count": 138,
   "metadata": {},
   "outputs": [
    {
     "name": "stdout",
     "output_type": "stream",
     "text": [
      "Was able to match departure times up until this row at index 2018-01-07 11:30:00:\n",
      "departure_terminal     Bainbridge\n",
      "arrival_terminal           Colman\n",
      "scheduled_departure       35:00.0\n",
      "actual_departure          38:42.0\n",
      "Actual_Arrival            10:41.0\n",
      "TransitTime                    32\n",
      "Name: 2018-01-07 11:30:00, dtype: object\n"
     ]
    }
   ],
   "source": [
    "verify_timestamps(bainbridge_departures_2018_with_index)"
   ]
  },
  {
   "cell_type": "code",
   "execution_count": 139,
   "metadata": {
    "collapsed": true
   },
   "outputs": [],
   "source": [
    "timestamps_2018 = bainbridge_departures_2018_with_index[:\"2018-01-6\"].index.tolist()"
   ]
  },
  {
   "cell_type": "markdown",
   "metadata": {},
   "source": [
    "The <a href = \"https://web.archive.org/web/20180127104841/http://www.wsdot.wa.gov/ferries/pdf/2018Winter.pdf\">Winter of 2018</a> had a schedule change in it. This starts in January 7, 2018"
   ]
  },
  {
   "cell_type": "code",
   "execution_count": 140,
   "metadata": {
    "collapsed": true
   },
   "outputs": [],
   "source": [
    "# Monday-Friday leave Bainbridge Island Winter 2018\n",
    "# mfw18 means Monday-Friday Winter 2018\n",
    "mfw18_scheduled_departures_24h = [\"0:55:00\", \"4:45:00\", \"5:20:00\", \"6:20:00\", \"7:05:00\", \"7:55:00\",\"8:45:00\", \"9:40:00\", \n",
    "                            \"10:25:00\", \"11:30:00\", \"12:20:00\", \"13:15:00\", \"14:05:00\", \"14:55:00\", \"15:50:00\", \"16:45:00\", \"17:35:00\", \n",
    "                            \"18:40:00\", \"19:20:00\", \"20:20:00\", \"21:00:00\", \"21:55:00\", \"23:35:00\"]\n",
    "\n",
    "# satw18 means Saturday Winter 2018\n",
    "satw18_scheduled_departures_24h = [\"0:55:00\",\"05:20:00\",\"07:05:00\",\"07:55:00\",\"08:45:00\",\"9:45:00\", \"10:25:00\",\n",
    "                                  \"11:35:00\",\"12:20:00\",\"13:20:00\",\"14:10:00\",\"15:00:00\",\"15:55:00\", \"16:40:00\",\n",
    "                                  \"17:35:00\",\"18:30:00\",\"19:15:00\",\"20:10:00\",\"20:55:00\",\n",
    "                                  \"21:45:00\",\"22:30:00\"]\n",
    "\n",
    "# sunw18 means Sunday Winter 2018\n",
    "sunw18_scheduled_departures_24h = [\"0:00:00\", \"01:25:00\", \"05:20:00\",\"07:05:00\",\"08:45:00\",\"9:45:00\", \"10:25:00\",\n",
    "                                  \"11:35:00\",\"12:20:00\",\"13:20:00\",\"14:10:00\",\"15:00:00\",\"15:55:00\", \"16:40:00\",\n",
    "                                  \"17:35:00\",\"18:30:00\",\"19:15:00\",\"20:10:00\",\"20:55:00\",\n",
    "                                  \"21:45:00\",\"22:30:00\"]\n",
    "\n",
    "#wkw18 means Week Winter 2018\n",
    "wkw18_scheduled_departures_24h = (5*mfw13_scheduled_departures_24h) + satw13_scheduled_departures_24h + sunw13_scheduled_departures_24h\n",
    "\n"
   ]
  },
  {
   "cell_type": "code",
   "execution_count": 141,
   "metadata": {
    "collapsed": true
   },
   "outputs": [],
   "source": [
    "#holidays = [datetime.date(2018, 1, 1), datetime.date(2018, 5, 28), datetime.date(2018, 7, 4), datetime.date(2018, 9, 3),\n",
    "#           datetime.date(2018, 11, 22), datetime.date(2018, 12, 25)]\n",
    "holidays = [datetime.date(2018, 7, 4), datetime.date(2018, 9, 3)]\n",
    "weekday = stringsToDatetime(mfw18_scheduled_departures_24h)\n",
    "saturday = stringsToDatetime(satw18_scheduled_departures_24h)\n",
    "sunday = stringsToDatetime(sunw18_scheduled_departures_24h)\n",
    "\n",
    "startingDate = datetime.date(2018, 1, 7)"
   ]
  },
  {
   "cell_type": "code",
   "execution_count": 142,
   "metadata": {
    "collapsed": true
   },
   "outputs": [],
   "source": [
    "timestamps_2018_2 = generate_more_timestamps(startingDate, holidays, weekday, saturday, sunday,\n",
    "                                             [pd.Timestamp(2018, 1, 7, 0, 0), pd.Timestamp(2018, 1, 7, 1, 25)])"
   ]
  },
  {
   "cell_type": "code",
   "execution_count": 143,
   "metadata": {
    "collapsed": true
   },
   "outputs": [],
   "source": [
    "timestamps_2018 = (timestamps_2018 + timestamps_2018_2)[:5726]"
   ]
  },
  {
   "cell_type": "code",
   "execution_count": 144,
   "metadata": {},
   "outputs": [
    {
     "data": {
      "text/plain": [
       "5726"
      ]
     },
     "execution_count": 144,
     "metadata": {},
     "output_type": "execute_result"
    }
   ],
   "source": [
    "len(timestamps_2018)"
   ]
  },
  {
   "cell_type": "code",
   "execution_count": 145,
   "metadata": {
    "collapsed": true
   },
   "outputs": [],
   "source": [
    "bainbridge_departures_2018_with_index = bainbridge_departures_n13_n14_n15_n16_n17.reset_index(drop=True)\n",
    "bainbridge_departures_2018_with_index.index = pd.to_datetime(timestamps_2018)\n",
    "bainbridge_departures_2018_with_index = bainbridge_departures_2018_with_index[\"2018\"]"
   ]
  },
  {
   "cell_type": "code",
   "execution_count": 146,
   "metadata": {},
   "outputs": [
    {
     "name": "stdout",
     "output_type": "stream",
     "text": [
      "Was able to match departure times up until this row at index 2018-05-28 10:25:00:\n",
      "departure_terminal     Bainbridge\n",
      "arrival_terminal           Colman\n",
      "scheduled_departure       45:00.0\n",
      "actual_departure          45:21.0\n",
      "Actual_Arrival            16:17.0\n",
      "TransitTime                    31\n",
      "Name: 2018-05-28 10:25:00, dtype: object\n"
     ]
    }
   ],
   "source": [
    "verify_timestamps(bainbridge_departures_2018_with_index)"
   ]
  },
  {
   "cell_type": "code",
   "execution_count": 147,
   "metadata": {},
   "outputs": [
    {
     "data": {
      "text/html": [
       "<div>\n",
       "<style scoped>\n",
       "    .dataframe tbody tr th:only-of-type {\n",
       "        vertical-align: middle;\n",
       "    }\n",
       "\n",
       "    .dataframe tbody tr th {\n",
       "        vertical-align: top;\n",
       "    }\n",
       "\n",
       "    .dataframe thead th {\n",
       "        text-align: right;\n",
       "    }\n",
       "</style>\n",
       "<table border=\"1\" class=\"dataframe\">\n",
       "  <thead>\n",
       "    <tr style=\"text-align: right;\">\n",
       "      <th></th>\n",
       "      <th>departure_terminal</th>\n",
       "      <th>arrival_terminal</th>\n",
       "      <th>scheduled_departure</th>\n",
       "      <th>actual_departure</th>\n",
       "      <th>Actual_Arrival</th>\n",
       "      <th>TransitTime</th>\n",
       "    </tr>\n",
       "  </thead>\n",
       "  <tbody>\n",
       "    <tr>\n",
       "      <th>2018-05-28 08:45:00</th>\n",
       "      <td>Bainbridge</td>\n",
       "      <td>Colman</td>\n",
       "      <td>45:00.0</td>\n",
       "      <td>46:34.0</td>\n",
       "      <td>21:55.0</td>\n",
       "      <td>35.0</td>\n",
       "    </tr>\n",
       "    <tr>\n",
       "      <th>2018-05-28 09:40:00</th>\n",
       "      <td>Bainbridge</td>\n",
       "      <td>NaN</td>\n",
       "      <td>40:00.0</td>\n",
       "      <td>NaN</td>\n",
       "      <td>NaN</td>\n",
       "      <td>NaN</td>\n",
       "    </tr>\n",
       "    <tr>\n",
       "      <th>2018-05-28 10:25:00</th>\n",
       "      <td>Bainbridge</td>\n",
       "      <td>Colman</td>\n",
       "      <td>45:00.0</td>\n",
       "      <td>45:21.0</td>\n",
       "      <td>16:17.0</td>\n",
       "      <td>31.0</td>\n",
       "    </tr>\n",
       "    <tr>\n",
       "      <th>2018-05-28 11:30:00</th>\n",
       "      <td>Bainbridge</td>\n",
       "      <td>Colman</td>\n",
       "      <td>25:00.0</td>\n",
       "      <td>26:06.0</td>\n",
       "      <td>59:12.0</td>\n",
       "      <td>33.0</td>\n",
       "    </tr>\n",
       "  </tbody>\n",
       "</table>\n",
       "</div>"
      ],
      "text/plain": [
       "                    departure_terminal arrival_terminal scheduled_departure  \\\n",
       "2018-05-28 08:45:00         Bainbridge           Colman             45:00.0   \n",
       "2018-05-28 09:40:00         Bainbridge              NaN             40:00.0   \n",
       "2018-05-28 10:25:00         Bainbridge           Colman             45:00.0   \n",
       "2018-05-28 11:30:00         Bainbridge           Colman             25:00.0   \n",
       "\n",
       "                    actual_departure Actual_Arrival  TransitTime  \n",
       "2018-05-28 08:45:00          46:34.0        21:55.0         35.0  \n",
       "2018-05-28 09:40:00              NaN            NaN          NaN  \n",
       "2018-05-28 10:25:00          45:21.0        16:17.0         31.0  \n",
       "2018-05-28 11:30:00          26:06.0        59:12.0         33.0  "
      ]
     },
     "execution_count": 147,
     "metadata": {},
     "output_type": "execute_result"
    }
   ],
   "source": [
    "bainbridge_departures_2018_with_index[\"2018-05-28 08:25\":\"2018-05-28 11:30\"]"
   ]
  },
  {
   "cell_type": "markdown",
   "metadata": {},
   "source": [
    "`2018-05-28 10:25:00` is an erroneous entry"
   ]
  },
  {
   "cell_type": "code",
   "execution_count": 148,
   "metadata": {
    "collapsed": true
   },
   "outputs": [],
   "source": [
    "bainbridge_departures_2018_with_index = bainbridge_departures_2018_with_index.drop(pd.datetime(2018, 5, 28, 10, 25))"
   ]
  },
  {
   "cell_type": "code",
   "execution_count": 149,
   "metadata": {},
   "outputs": [
    {
     "data": {
      "text/html": [
       "<div>\n",
       "<style scoped>\n",
       "    .dataframe tbody tr th:only-of-type {\n",
       "        vertical-align: middle;\n",
       "    }\n",
       "\n",
       "    .dataframe tbody tr th {\n",
       "        vertical-align: top;\n",
       "    }\n",
       "\n",
       "    .dataframe thead th {\n",
       "        text-align: right;\n",
       "    }\n",
       "</style>\n",
       "<table border=\"1\" class=\"dataframe\">\n",
       "  <thead>\n",
       "    <tr style=\"text-align: right;\">\n",
       "      <th></th>\n",
       "      <th>departure_terminal</th>\n",
       "      <th>arrival_terminal</th>\n",
       "      <th>scheduled_departure</th>\n",
       "      <th>actual_departure</th>\n",
       "      <th>Actual_Arrival</th>\n",
       "      <th>TransitTime</th>\n",
       "    </tr>\n",
       "  </thead>\n",
       "  <tbody>\n",
       "    <tr>\n",
       "      <th>2018-05-28 08:45:00</th>\n",
       "      <td>Bainbridge</td>\n",
       "      <td>Colman</td>\n",
       "      <td>45:00.0</td>\n",
       "      <td>46:34.0</td>\n",
       "      <td>21:55.0</td>\n",
       "      <td>35.0</td>\n",
       "    </tr>\n",
       "    <tr>\n",
       "      <th>2018-05-28 09:40:00</th>\n",
       "      <td>Bainbridge</td>\n",
       "      <td>NaN</td>\n",
       "      <td>40:00.0</td>\n",
       "      <td>NaN</td>\n",
       "      <td>NaN</td>\n",
       "      <td>NaN</td>\n",
       "    </tr>\n",
       "    <tr>\n",
       "      <th>2018-05-28 11:30:00</th>\n",
       "      <td>Bainbridge</td>\n",
       "      <td>Colman</td>\n",
       "      <td>25:00.0</td>\n",
       "      <td>26:06.0</td>\n",
       "      <td>59:12.0</td>\n",
       "      <td>33.0</td>\n",
       "    </tr>\n",
       "  </tbody>\n",
       "</table>\n",
       "</div>"
      ],
      "text/plain": [
       "                    departure_terminal arrival_terminal scheduled_departure  \\\n",
       "2018-05-28 08:45:00         Bainbridge           Colman             45:00.0   \n",
       "2018-05-28 09:40:00         Bainbridge              NaN             40:00.0   \n",
       "2018-05-28 11:30:00         Bainbridge           Colman             25:00.0   \n",
       "\n",
       "                    actual_departure Actual_Arrival  TransitTime  \n",
       "2018-05-28 08:45:00          46:34.0        21:55.0         35.0  \n",
       "2018-05-28 09:40:00              NaN            NaN          NaN  \n",
       "2018-05-28 11:30:00          26:06.0        59:12.0         33.0  "
      ]
     },
     "execution_count": 149,
     "metadata": {},
     "output_type": "execute_result"
    }
   ],
   "source": [
    "bainbridge_departures_2018_with_index[\"2018-05-28 08:25\":\"2018-05-28 11:30\"]"
   ]
  },
  {
   "cell_type": "code",
   "execution_count": 150,
   "metadata": {},
   "outputs": [
    {
     "data": {
      "text/plain": [
       "5726"
      ]
     },
     "execution_count": 150,
     "metadata": {},
     "output_type": "execute_result"
    }
   ],
   "source": [
    "len(timestamps_2018)"
   ]
  },
  {
   "cell_type": "code",
   "execution_count": 151,
   "metadata": {
    "collapsed": true
   },
   "outputs": [],
   "source": [
    "bainbridge_departures_2018_with_index.index = pd.to_datetime(timestamps_2018[:5725])\n",
    "bainbridge_departures_2018_with_index = bainbridge_departures_2018_with_index[\"2018\"]"
   ]
  },
  {
   "cell_type": "code",
   "execution_count": 152,
   "metadata": {},
   "outputs": [
    {
     "name": "stdout",
     "output_type": "stream",
     "text": [
      "Was able to match departure times up until this row at index 2018-05-28 12:20:00:\n",
      "departure_terminal     Bainbridge\n",
      "arrival_terminal           Colman\n",
      "scheduled_departure       35:00.0\n",
      "actual_departure          36:14.0\n",
      "Actual_Arrival            07:55.0\n",
      "TransitTime                    31\n",
      "Name: 2018-05-28 12:20:00, dtype: object\n"
     ]
    }
   ],
   "source": [
    "verify_timestamps(bainbridge_departures_2018_with_index)"
   ]
  },
  {
   "cell_type": "code",
   "execution_count": 153,
   "metadata": {},
   "outputs": [
    {
     "data": {
      "text/html": [
       "<div>\n",
       "<style scoped>\n",
       "    .dataframe tbody tr th:only-of-type {\n",
       "        vertical-align: middle;\n",
       "    }\n",
       "\n",
       "    .dataframe tbody tr th {\n",
       "        vertical-align: top;\n",
       "    }\n",
       "\n",
       "    .dataframe thead th {\n",
       "        text-align: right;\n",
       "    }\n",
       "</style>\n",
       "<table border=\"1\" class=\"dataframe\">\n",
       "  <thead>\n",
       "    <tr style=\"text-align: right;\">\n",
       "      <th></th>\n",
       "      <th>departure_terminal</th>\n",
       "      <th>arrival_terminal</th>\n",
       "      <th>scheduled_departure</th>\n",
       "      <th>actual_departure</th>\n",
       "      <th>Actual_Arrival</th>\n",
       "      <th>TransitTime</th>\n",
       "    </tr>\n",
       "  </thead>\n",
       "  <tbody>\n",
       "    <tr>\n",
       "      <th>2018-05-28 00:00:00</th>\n",
       "      <td>Bainbridge</td>\n",
       "      <td>Colman</td>\n",
       "      <td>00:00.0</td>\n",
       "      <td>28:17.0</td>\n",
       "      <td>58:27.0</td>\n",
       "      <td>30.0</td>\n",
       "    </tr>\n",
       "    <tr>\n",
       "      <th>2018-05-28 01:25:00</th>\n",
       "      <td>Bainbridge</td>\n",
       "      <td>Colman</td>\n",
       "      <td>25:00.0</td>\n",
       "      <td>50:13.0</td>\n",
       "      <td>20:37.0</td>\n",
       "      <td>30.0</td>\n",
       "    </tr>\n",
       "    <tr>\n",
       "      <th>2018-05-28 04:45:00</th>\n",
       "      <td>Bainbridge</td>\n",
       "      <td>NaN</td>\n",
       "      <td>45:00.0</td>\n",
       "      <td>NaN</td>\n",
       "      <td>NaN</td>\n",
       "      <td>NaN</td>\n",
       "    </tr>\n",
       "    <tr>\n",
       "      <th>2018-05-28 05:20:00</th>\n",
       "      <td>Bainbridge</td>\n",
       "      <td>NaN</td>\n",
       "      <td>20:00.0</td>\n",
       "      <td>20:58.0</td>\n",
       "      <td>NaN</td>\n",
       "      <td>NaN</td>\n",
       "    </tr>\n",
       "    <tr>\n",
       "      <th>2018-05-28 06:20:00</th>\n",
       "      <td>Bainbridge</td>\n",
       "      <td>NaN</td>\n",
       "      <td>20:00.0</td>\n",
       "      <td>NaN</td>\n",
       "      <td>NaN</td>\n",
       "      <td>NaN</td>\n",
       "    </tr>\n",
       "    <tr>\n",
       "      <th>2018-05-28 07:05:00</th>\n",
       "      <td>Bainbridge</td>\n",
       "      <td>NaN</td>\n",
       "      <td>05:00.0</td>\n",
       "      <td>05:08.0</td>\n",
       "      <td>NaN</td>\n",
       "      <td>NaN</td>\n",
       "    </tr>\n",
       "    <tr>\n",
       "      <th>2018-05-28 07:55:00</th>\n",
       "      <td>Bainbridge</td>\n",
       "      <td>NaN</td>\n",
       "      <td>55:00.0</td>\n",
       "      <td>02:42.0</td>\n",
       "      <td>NaN</td>\n",
       "      <td>NaN</td>\n",
       "    </tr>\n",
       "    <tr>\n",
       "      <th>2018-05-28 08:45:00</th>\n",
       "      <td>Bainbridge</td>\n",
       "      <td>Colman</td>\n",
       "      <td>45:00.0</td>\n",
       "      <td>46:34.0</td>\n",
       "      <td>21:55.0</td>\n",
       "      <td>35.0</td>\n",
       "    </tr>\n",
       "    <tr>\n",
       "      <th>2018-05-28 09:40:00</th>\n",
       "      <td>Bainbridge</td>\n",
       "      <td>NaN</td>\n",
       "      <td>40:00.0</td>\n",
       "      <td>NaN</td>\n",
       "      <td>NaN</td>\n",
       "      <td>NaN</td>\n",
       "    </tr>\n",
       "    <tr>\n",
       "      <th>2018-05-28 10:25:00</th>\n",
       "      <td>Bainbridge</td>\n",
       "      <td>Colman</td>\n",
       "      <td>25:00.0</td>\n",
       "      <td>26:06.0</td>\n",
       "      <td>59:12.0</td>\n",
       "      <td>33.0</td>\n",
       "    </tr>\n",
       "    <tr>\n",
       "      <th>2018-05-28 11:30:00</th>\n",
       "      <td>Bainbridge</td>\n",
       "      <td>NaN</td>\n",
       "      <td>30:00.0</td>\n",
       "      <td>NaN</td>\n",
       "      <td>NaN</td>\n",
       "      <td>NaN</td>\n",
       "    </tr>\n",
       "    <tr>\n",
       "      <th>2018-05-28 12:20:00</th>\n",
       "      <td>Bainbridge</td>\n",
       "      <td>Colman</td>\n",
       "      <td>35:00.0</td>\n",
       "      <td>36:14.0</td>\n",
       "      <td>07:55.0</td>\n",
       "      <td>31.0</td>\n",
       "    </tr>\n",
       "    <tr>\n",
       "      <th>2018-05-28 13:15:00</th>\n",
       "      <td>Bainbridge</td>\n",
       "      <td>Colman</td>\n",
       "      <td>20:00.0</td>\n",
       "      <td>28:49.0</td>\n",
       "      <td>58:22.0</td>\n",
       "      <td>30.0</td>\n",
       "    </tr>\n",
       "    <tr>\n",
       "      <th>2018-05-28 14:05:00</th>\n",
       "      <td>Bainbridge</td>\n",
       "      <td>NaN</td>\n",
       "      <td>15:00.0</td>\n",
       "      <td>NaN</td>\n",
       "      <td>NaN</td>\n",
       "      <td>NaN</td>\n",
       "    </tr>\n",
       "    <tr>\n",
       "      <th>2018-05-28 14:55:00</th>\n",
       "      <td>Bainbridge</td>\n",
       "      <td>Colman</td>\n",
       "      <td>20:00.0</td>\n",
       "      <td>26:57.0</td>\n",
       "      <td>57:13.0</td>\n",
       "      <td>31.0</td>\n",
       "    </tr>\n",
       "    <tr>\n",
       "      <th>2018-05-28 15:50:00</th>\n",
       "      <td>Bainbridge</td>\n",
       "      <td>NaN</td>\n",
       "      <td>05:00.0</td>\n",
       "      <td>NaN</td>\n",
       "      <td>NaN</td>\n",
       "      <td>NaN</td>\n",
       "    </tr>\n",
       "    <tr>\n",
       "      <th>2018-05-28 16:45:00</th>\n",
       "      <td>Bainbridge</td>\n",
       "      <td>Colman</td>\n",
       "      <td>10:00.0</td>\n",
       "      <td>13:02.0</td>\n",
       "      <td>45:18.0</td>\n",
       "      <td>32.0</td>\n",
       "    </tr>\n",
       "    <tr>\n",
       "      <th>2018-05-28 17:35:00</th>\n",
       "      <td>Bainbridge</td>\n",
       "      <td>NaN</td>\n",
       "      <td>55:00.0</td>\n",
       "      <td>NaN</td>\n",
       "      <td>NaN</td>\n",
       "      <td>NaN</td>\n",
       "    </tr>\n",
       "    <tr>\n",
       "      <th>2018-05-28 18:40:00</th>\n",
       "      <td>Bainbridge</td>\n",
       "      <td>Colman</td>\n",
       "      <td>00:00.0</td>\n",
       "      <td>15:47.0</td>\n",
       "      <td>47:09.0</td>\n",
       "      <td>32.0</td>\n",
       "    </tr>\n",
       "    <tr>\n",
       "      <th>2018-05-28 19:20:00</th>\n",
       "      <td>Bainbridge</td>\n",
       "      <td>NaN</td>\n",
       "      <td>50:00.0</td>\n",
       "      <td>NaN</td>\n",
       "      <td>NaN</td>\n",
       "      <td>NaN</td>\n",
       "    </tr>\n",
       "    <tr>\n",
       "      <th>2018-05-28 20:20:00</th>\n",
       "      <td>Bainbridge</td>\n",
       "      <td>Colman</td>\n",
       "      <td>55:00.0</td>\n",
       "      <td>00:00.0</td>\n",
       "      <td>32:35.0</td>\n",
       "      <td>32.0</td>\n",
       "    </tr>\n",
       "    <tr>\n",
       "      <th>2018-05-28 21:00:00</th>\n",
       "      <td>Bainbridge</td>\n",
       "      <td>Colman</td>\n",
       "      <td>40:00.0</td>\n",
       "      <td>56:25.0</td>\n",
       "      <td>27:39.0</td>\n",
       "      <td>31.0</td>\n",
       "    </tr>\n",
       "    <tr>\n",
       "      <th>2018-05-28 21:55:00</th>\n",
       "      <td>Bainbridge</td>\n",
       "      <td>NaN</td>\n",
       "      <td>45:00.0</td>\n",
       "      <td>NaN</td>\n",
       "      <td>NaN</td>\n",
       "      <td>NaN</td>\n",
       "    </tr>\n",
       "    <tr>\n",
       "      <th>2018-05-28 23:35:00</th>\n",
       "      <td>Bainbridge</td>\n",
       "      <td>Colman</td>\n",
       "      <td>35:00.0</td>\n",
       "      <td>48:37.0</td>\n",
       "      <td>20:25.0</td>\n",
       "      <td>32.0</td>\n",
       "    </tr>\n",
       "    <tr>\n",
       "      <th>2018-05-29 00:55:00</th>\n",
       "      <td>Bainbridge</td>\n",
       "      <td>Colman</td>\n",
       "      <td>30:00.0</td>\n",
       "      <td>37:00.0</td>\n",
       "      <td>08:22.0</td>\n",
       "      <td>31.0</td>\n",
       "    </tr>\n",
       "    <tr>\n",
       "      <th>2018-05-29 04:45:00</th>\n",
       "      <td>Bainbridge</td>\n",
       "      <td>NaN</td>\n",
       "      <td>40:00.0</td>\n",
       "      <td>NaN</td>\n",
       "      <td>NaN</td>\n",
       "      <td>NaN</td>\n",
       "    </tr>\n",
       "    <tr>\n",
       "      <th>2018-05-29 05:20:00</th>\n",
       "      <td>Bainbridge</td>\n",
       "      <td>Colman</td>\n",
       "      <td>15:00.0</td>\n",
       "      <td>25:18.0</td>\n",
       "      <td>57:34.0</td>\n",
       "      <td>32.0</td>\n",
       "    </tr>\n",
       "    <tr>\n",
       "      <th>2018-05-29 06:20:00</th>\n",
       "      <td>Bainbridge</td>\n",
       "      <td>NaN</td>\n",
       "      <td>20:00.0</td>\n",
       "      <td>NaN</td>\n",
       "      <td>NaN</td>\n",
       "      <td>NaN</td>\n",
       "    </tr>\n",
       "    <tr>\n",
       "      <th>2018-05-29 07:05:00</th>\n",
       "      <td>Bainbridge</td>\n",
       "      <td>Colman</td>\n",
       "      <td>10:00.0</td>\n",
       "      <td>10:00.0</td>\n",
       "      <td>41:50.0</td>\n",
       "      <td>31.0</td>\n",
       "    </tr>\n",
       "    <tr>\n",
       "      <th>2018-05-29 07:55:00</th>\n",
       "      <td>Bainbridge</td>\n",
       "      <td>NaN</td>\n",
       "      <td>20:00.0</td>\n",
       "      <td>NaN</td>\n",
       "      <td>NaN</td>\n",
       "      <td>NaN</td>\n",
       "    </tr>\n",
       "    <tr>\n",
       "      <th>2018-05-29 08:45:00</th>\n",
       "      <td>Bainbridge</td>\n",
       "      <td>Colman</td>\n",
       "      <td>55:00.0</td>\n",
       "      <td>06:52.0</td>\n",
       "      <td>38:12.0</td>\n",
       "      <td>32.0</td>\n",
       "    </tr>\n",
       "    <tr>\n",
       "      <th>2018-05-29 09:40:00</th>\n",
       "      <td>Bainbridge</td>\n",
       "      <td>NaN</td>\n",
       "      <td>00:00.0</td>\n",
       "      <td>NaN</td>\n",
       "      <td>NaN</td>\n",
       "      <td>NaN</td>\n",
       "    </tr>\n",
       "    <tr>\n",
       "      <th>2018-05-29 10:25:00</th>\n",
       "      <td>Bainbridge</td>\n",
       "      <td>Colman</td>\n",
       "      <td>45:00.0</td>\n",
       "      <td>45:00.0</td>\n",
       "      <td>16:24.0</td>\n",
       "      <td>31.0</td>\n",
       "    </tr>\n",
       "    <tr>\n",
       "      <th>2018-05-29 11:30:00</th>\n",
       "      <td>Bainbridge</td>\n",
       "      <td>NaN</td>\n",
       "      <td>55:00.0</td>\n",
       "      <td>NaN</td>\n",
       "      <td>NaN</td>\n",
       "      <td>NaN</td>\n",
       "    </tr>\n",
       "    <tr>\n",
       "      <th>2018-05-29 12:20:00</th>\n",
       "      <td>Bainbridge</td>\n",
       "      <td>Colman</td>\n",
       "      <td>30:00.0</td>\n",
       "      <td>33:35.0</td>\n",
       "      <td>06:07.0</td>\n",
       "      <td>33.0</td>\n",
       "    </tr>\n",
       "    <tr>\n",
       "      <th>2018-05-29 13:15:00</th>\n",
       "      <td>Bainbridge</td>\n",
       "      <td>NaN</td>\n",
       "      <td>35:00.0</td>\n",
       "      <td>NaN</td>\n",
       "      <td>NaN</td>\n",
       "      <td>NaN</td>\n",
       "    </tr>\n",
       "    <tr>\n",
       "      <th>2018-05-29 14:05:00</th>\n",
       "      <td>Bainbridge</td>\n",
       "      <td>Colman</td>\n",
       "      <td>00:00.0</td>\n",
       "      <td>00:00.0</td>\n",
       "      <td>31:37.0</td>\n",
       "      <td>31.0</td>\n",
       "    </tr>\n",
       "    <tr>\n",
       "      <th>2018-05-29 14:55:00</th>\n",
       "      <td>Bainbridge</td>\n",
       "      <td>NaN</td>\n",
       "      <td>55:00.0</td>\n",
       "      <td>NaN</td>\n",
       "      <td>NaN</td>\n",
       "      <td>NaN</td>\n",
       "    </tr>\n",
       "    <tr>\n",
       "      <th>2018-05-29 15:50:00</th>\n",
       "      <td>Bainbridge</td>\n",
       "      <td>Colman</td>\n",
       "      <td>25:00.0</td>\n",
       "      <td>26:22.0</td>\n",
       "      <td>57:15.0</td>\n",
       "      <td>31.0</td>\n",
       "    </tr>\n",
       "    <tr>\n",
       "      <th>2018-05-29 16:45:00</th>\n",
       "      <td>Bainbridge</td>\n",
       "      <td>Colman</td>\n",
       "      <td>45:00.0</td>\n",
       "      <td>46:09.0</td>\n",
       "      <td>18:26.0</td>\n",
       "      <td>32.0</td>\n",
       "    </tr>\n",
       "    <tr>\n",
       "      <th>2018-05-29 17:35:00</th>\n",
       "      <td>Bainbridge</td>\n",
       "      <td>Colman</td>\n",
       "      <td>20:00.0</td>\n",
       "      <td>20:37.0</td>\n",
       "      <td>51:41.0</td>\n",
       "      <td>31.0</td>\n",
       "    </tr>\n",
       "    <tr>\n",
       "      <th>2018-05-29 18:40:00</th>\n",
       "      <td>Bainbridge</td>\n",
       "      <td>Colman</td>\n",
       "      <td>20:00.0</td>\n",
       "      <td>21:06.0</td>\n",
       "      <td>53:30.0</td>\n",
       "      <td>32.0</td>\n",
       "    </tr>\n",
       "    <tr>\n",
       "      <th>2018-05-29 19:20:00</th>\n",
       "      <td>Bainbridge</td>\n",
       "      <td>Colman</td>\n",
       "      <td>05:00.0</td>\n",
       "      <td>06:22.0</td>\n",
       "      <td>36:45.0</td>\n",
       "      <td>30.0</td>\n",
       "    </tr>\n",
       "    <tr>\n",
       "      <th>2018-05-29 20:20:00</th>\n",
       "      <td>Bainbridge</td>\n",
       "      <td>Colman</td>\n",
       "      <td>55:00.0</td>\n",
       "      <td>02:38.0</td>\n",
       "      <td>34:28.0</td>\n",
       "      <td>32.0</td>\n",
       "    </tr>\n",
       "    <tr>\n",
       "      <th>2018-05-29 21:00:00</th>\n",
       "      <td>Bainbridge</td>\n",
       "      <td>Colman</td>\n",
       "      <td>45:00.0</td>\n",
       "      <td>46:13.0</td>\n",
       "      <td>17:47.0</td>\n",
       "      <td>31.0</td>\n",
       "    </tr>\n",
       "    <tr>\n",
       "      <th>2018-05-29 21:55:00</th>\n",
       "      <td>Bainbridge</td>\n",
       "      <td>Colman</td>\n",
       "      <td>40:00.0</td>\n",
       "      <td>41:59.0</td>\n",
       "      <td>14:05.0</td>\n",
       "      <td>33.0</td>\n",
       "    </tr>\n",
       "    <tr>\n",
       "      <th>2018-05-29 23:35:00</th>\n",
       "      <td>Bainbridge</td>\n",
       "      <td>Colman</td>\n",
       "      <td>25:00.0</td>\n",
       "      <td>25:35.0</td>\n",
       "      <td>56:17.0</td>\n",
       "      <td>31.0</td>\n",
       "    </tr>\n",
       "  </tbody>\n",
       "</table>\n",
       "</div>"
      ],
      "text/plain": [
       "                    departure_terminal arrival_terminal scheduled_departure  \\\n",
       "2018-05-28 00:00:00         Bainbridge           Colman             00:00.0   \n",
       "2018-05-28 01:25:00         Bainbridge           Colman             25:00.0   \n",
       "2018-05-28 04:45:00         Bainbridge              NaN             45:00.0   \n",
       "2018-05-28 05:20:00         Bainbridge              NaN             20:00.0   \n",
       "2018-05-28 06:20:00         Bainbridge              NaN             20:00.0   \n",
       "2018-05-28 07:05:00         Bainbridge              NaN             05:00.0   \n",
       "2018-05-28 07:55:00         Bainbridge              NaN             55:00.0   \n",
       "2018-05-28 08:45:00         Bainbridge           Colman             45:00.0   \n",
       "2018-05-28 09:40:00         Bainbridge              NaN             40:00.0   \n",
       "2018-05-28 10:25:00         Bainbridge           Colman             25:00.0   \n",
       "2018-05-28 11:30:00         Bainbridge              NaN             30:00.0   \n",
       "2018-05-28 12:20:00         Bainbridge           Colman             35:00.0   \n",
       "2018-05-28 13:15:00         Bainbridge           Colman             20:00.0   \n",
       "2018-05-28 14:05:00         Bainbridge              NaN             15:00.0   \n",
       "2018-05-28 14:55:00         Bainbridge           Colman             20:00.0   \n",
       "2018-05-28 15:50:00         Bainbridge              NaN             05:00.0   \n",
       "2018-05-28 16:45:00         Bainbridge           Colman             10:00.0   \n",
       "2018-05-28 17:35:00         Bainbridge              NaN             55:00.0   \n",
       "2018-05-28 18:40:00         Bainbridge           Colman             00:00.0   \n",
       "2018-05-28 19:20:00         Bainbridge              NaN             50:00.0   \n",
       "2018-05-28 20:20:00         Bainbridge           Colman             55:00.0   \n",
       "2018-05-28 21:00:00         Bainbridge           Colman             40:00.0   \n",
       "2018-05-28 21:55:00         Bainbridge              NaN             45:00.0   \n",
       "2018-05-28 23:35:00         Bainbridge           Colman             35:00.0   \n",
       "2018-05-29 00:55:00         Bainbridge           Colman             30:00.0   \n",
       "2018-05-29 04:45:00         Bainbridge              NaN             40:00.0   \n",
       "2018-05-29 05:20:00         Bainbridge           Colman             15:00.0   \n",
       "2018-05-29 06:20:00         Bainbridge              NaN             20:00.0   \n",
       "2018-05-29 07:05:00         Bainbridge           Colman             10:00.0   \n",
       "2018-05-29 07:55:00         Bainbridge              NaN             20:00.0   \n",
       "2018-05-29 08:45:00         Bainbridge           Colman             55:00.0   \n",
       "2018-05-29 09:40:00         Bainbridge              NaN             00:00.0   \n",
       "2018-05-29 10:25:00         Bainbridge           Colman             45:00.0   \n",
       "2018-05-29 11:30:00         Bainbridge              NaN             55:00.0   \n",
       "2018-05-29 12:20:00         Bainbridge           Colman             30:00.0   \n",
       "2018-05-29 13:15:00         Bainbridge              NaN             35:00.0   \n",
       "2018-05-29 14:05:00         Bainbridge           Colman             00:00.0   \n",
       "2018-05-29 14:55:00         Bainbridge              NaN             55:00.0   \n",
       "2018-05-29 15:50:00         Bainbridge           Colman             25:00.0   \n",
       "2018-05-29 16:45:00         Bainbridge           Colman             45:00.0   \n",
       "2018-05-29 17:35:00         Bainbridge           Colman             20:00.0   \n",
       "2018-05-29 18:40:00         Bainbridge           Colman             20:00.0   \n",
       "2018-05-29 19:20:00         Bainbridge           Colman             05:00.0   \n",
       "2018-05-29 20:20:00         Bainbridge           Colman             55:00.0   \n",
       "2018-05-29 21:00:00         Bainbridge           Colman             45:00.0   \n",
       "2018-05-29 21:55:00         Bainbridge           Colman             40:00.0   \n",
       "2018-05-29 23:35:00         Bainbridge           Colman             25:00.0   \n",
       "\n",
       "                    actual_departure Actual_Arrival  TransitTime  \n",
       "2018-05-28 00:00:00          28:17.0        58:27.0         30.0  \n",
       "2018-05-28 01:25:00          50:13.0        20:37.0         30.0  \n",
       "2018-05-28 04:45:00              NaN            NaN          NaN  \n",
       "2018-05-28 05:20:00          20:58.0            NaN          NaN  \n",
       "2018-05-28 06:20:00              NaN            NaN          NaN  \n",
       "2018-05-28 07:05:00          05:08.0            NaN          NaN  \n",
       "2018-05-28 07:55:00          02:42.0            NaN          NaN  \n",
       "2018-05-28 08:45:00          46:34.0        21:55.0         35.0  \n",
       "2018-05-28 09:40:00              NaN            NaN          NaN  \n",
       "2018-05-28 10:25:00          26:06.0        59:12.0         33.0  \n",
       "2018-05-28 11:30:00              NaN            NaN          NaN  \n",
       "2018-05-28 12:20:00          36:14.0        07:55.0         31.0  \n",
       "2018-05-28 13:15:00          28:49.0        58:22.0         30.0  \n",
       "2018-05-28 14:05:00              NaN            NaN          NaN  \n",
       "2018-05-28 14:55:00          26:57.0        57:13.0         31.0  \n",
       "2018-05-28 15:50:00              NaN            NaN          NaN  \n",
       "2018-05-28 16:45:00          13:02.0        45:18.0         32.0  \n",
       "2018-05-28 17:35:00              NaN            NaN          NaN  \n",
       "2018-05-28 18:40:00          15:47.0        47:09.0         32.0  \n",
       "2018-05-28 19:20:00              NaN            NaN          NaN  \n",
       "2018-05-28 20:20:00          00:00.0        32:35.0         32.0  \n",
       "2018-05-28 21:00:00          56:25.0        27:39.0         31.0  \n",
       "2018-05-28 21:55:00              NaN            NaN          NaN  \n",
       "2018-05-28 23:35:00          48:37.0        20:25.0         32.0  \n",
       "2018-05-29 00:55:00          37:00.0        08:22.0         31.0  \n",
       "2018-05-29 04:45:00              NaN            NaN          NaN  \n",
       "2018-05-29 05:20:00          25:18.0        57:34.0         32.0  \n",
       "2018-05-29 06:20:00              NaN            NaN          NaN  \n",
       "2018-05-29 07:05:00          10:00.0        41:50.0         31.0  \n",
       "2018-05-29 07:55:00              NaN            NaN          NaN  \n",
       "2018-05-29 08:45:00          06:52.0        38:12.0         32.0  \n",
       "2018-05-29 09:40:00              NaN            NaN          NaN  \n",
       "2018-05-29 10:25:00          45:00.0        16:24.0         31.0  \n",
       "2018-05-29 11:30:00              NaN            NaN          NaN  \n",
       "2018-05-29 12:20:00          33:35.0        06:07.0         33.0  \n",
       "2018-05-29 13:15:00              NaN            NaN          NaN  \n",
       "2018-05-29 14:05:00          00:00.0        31:37.0         31.0  \n",
       "2018-05-29 14:55:00              NaN            NaN          NaN  \n",
       "2018-05-29 15:50:00          26:22.0        57:15.0         31.0  \n",
       "2018-05-29 16:45:00          46:09.0        18:26.0         32.0  \n",
       "2018-05-29 17:35:00          20:37.0        51:41.0         31.0  \n",
       "2018-05-29 18:40:00          21:06.0        53:30.0         32.0  \n",
       "2018-05-29 19:20:00          06:22.0        36:45.0         30.0  \n",
       "2018-05-29 20:20:00          02:38.0        34:28.0         32.0  \n",
       "2018-05-29 21:00:00          46:13.0        17:47.0         31.0  \n",
       "2018-05-29 21:55:00          41:59.0        14:05.0         33.0  \n",
       "2018-05-29 23:35:00          25:35.0        56:17.0         31.0  "
      ]
     },
     "execution_count": 153,
     "metadata": {},
     "output_type": "execute_result"
    }
   ],
   "source": [
    "bainbridge_departures_2018_with_index[\"2018-05-28\":\"2018-05-29\"]"
   ]
  },
  {
   "cell_type": "markdown",
   "metadata": {},
   "source": [
    "`[2018-05-28 12:20:00, 2018-05-28 14:55:00, 2018-05-28 16:45:00, 2018-05-28 18:40:00, 2018-05-28 20:20:00, 2018-05-28 21:00:00, 2018-05-29 00:55:00, 2018-05-29 05:20:00, 2018-05-29 07:05:00, 2018-05-29 08:45:00, 2018-05-29 10:25:00, 2018-05-29 12:20:00, 2018-05-29 14:05:00, 2018-05-29 15:50:00]` are all erroneous. What is up with this day?"
   ]
  },
  {
   "cell_type": "code",
   "execution_count": 154,
   "metadata": {
    "collapsed": true
   },
   "outputs": [],
   "source": [
    "to_drop = pd.to_datetime(['2018-05-28 12:20:00', '2018-05-28 14:55:00', '2018-05-28 16:45:00', '2018-05-28 18:40:00', \n",
    "                '2018-05-28 20:20:00', '2018-05-28 21:00:00', '2018-05-29 00:55:00', '2018-05-29 05:20:00', \n",
    "                '2018-05-29 07:05:00', '2018-05-29 08:45:00', '2018-05-29 10:25:00', '2018-05-29 12:20:00', \n",
    "                '2018-05-29 14:05:00', '2018-05-29 15:50:00'])"
   ]
  },
  {
   "cell_type": "code",
   "execution_count": 155,
   "metadata": {
    "collapsed": true
   },
   "outputs": [],
   "source": [
    "bainbridge_departures_2018_with_index = bainbridge_departures_2018_with_index.drop(to_drop)"
   ]
  },
  {
   "cell_type": "code",
   "execution_count": 156,
   "metadata": {
    "collapsed": true
   },
   "outputs": [],
   "source": [
    "bainbridge_departures_2018_with_index.index = pd.to_datetime(timestamps_2018[:5711])\n",
    "bainbridge_departures_2018_with_index = bainbridge_departures_2018_with_index[\"2018\"]"
   ]
  },
  {
   "cell_type": "code",
   "execution_count": 157,
   "metadata": {},
   "outputs": [
    {
     "name": "stdout",
     "output_type": "stream",
     "text": [
      "Was able to match departure times up until this row at index 2018-08-25 00:55:00:\n",
      "departure_terminal     Bainbridge\n",
      "arrival_terminal           Colman\n",
      "scheduled_departure       00:00.0\n",
      "actual_departure          02:13.0\n",
      "Actual_Arrival            33:37.0\n",
      "TransitTime                    31\n",
      "Name: 2018-08-25 00:55:00, dtype: object\n"
     ]
    }
   ],
   "source": [
    "verify_timestamps(bainbridge_departures_2018_with_index)"
   ]
  },
  {
   "cell_type": "code",
   "execution_count": 158,
   "metadata": {},
   "outputs": [
    {
     "data": {
      "text/html": [
       "<div>\n",
       "<style scoped>\n",
       "    .dataframe tbody tr th:only-of-type {\n",
       "        vertical-align: middle;\n",
       "    }\n",
       "\n",
       "    .dataframe tbody tr th {\n",
       "        vertical-align: top;\n",
       "    }\n",
       "\n",
       "    .dataframe thead th {\n",
       "        text-align: right;\n",
       "    }\n",
       "</style>\n",
       "<table border=\"1\" class=\"dataframe\">\n",
       "  <thead>\n",
       "    <tr style=\"text-align: right;\">\n",
       "      <th></th>\n",
       "      <th>departure_terminal</th>\n",
       "      <th>arrival_terminal</th>\n",
       "      <th>scheduled_departure</th>\n",
       "      <th>actual_departure</th>\n",
       "      <th>Actual_Arrival</th>\n",
       "      <th>TransitTime</th>\n",
       "    </tr>\n",
       "  </thead>\n",
       "  <tbody>\n",
       "    <tr>\n",
       "      <th>2018-08-25 00:55:00</th>\n",
       "      <td>Bainbridge</td>\n",
       "      <td>Colman</td>\n",
       "      <td>00:00.0</td>\n",
       "      <td>02:13.0</td>\n",
       "      <td>33:37.0</td>\n",
       "      <td>31.0</td>\n",
       "    </tr>\n",
       "    <tr>\n",
       "      <th>2018-08-25 05:20:00</th>\n",
       "      <td>Bainbridge</td>\n",
       "      <td>Colman</td>\n",
       "      <td>55:00.0</td>\n",
       "      <td>25:17.0</td>\n",
       "      <td>56:25.0</td>\n",
       "      <td>31.0</td>\n",
       "    </tr>\n",
       "    <tr>\n",
       "      <th>2018-08-25 07:05:00</th>\n",
       "      <td>Bainbridge</td>\n",
       "      <td>Colman</td>\n",
       "      <td>20:00.0</td>\n",
       "      <td>19:29.0</td>\n",
       "      <td>51:22.0</td>\n",
       "      <td>32.0</td>\n",
       "    </tr>\n",
       "    <tr>\n",
       "      <th>2018-08-25 07:55:00</th>\n",
       "      <td>Bainbridge</td>\n",
       "      <td>Colman</td>\n",
       "      <td>05:00.0</td>\n",
       "      <td>05:33.0</td>\n",
       "      <td>37:39.0</td>\n",
       "      <td>32.0</td>\n",
       "    </tr>\n",
       "    <tr>\n",
       "      <th>2018-08-25 08:45:00</th>\n",
       "      <td>Bainbridge</td>\n",
       "      <td>Colman</td>\n",
       "      <td>55:00.0</td>\n",
       "      <td>55:24.0</td>\n",
       "      <td>26:00.0</td>\n",
       "      <td>31.0</td>\n",
       "    </tr>\n",
       "    <tr>\n",
       "      <th>2018-08-25 09:45:00</th>\n",
       "      <td>Bainbridge</td>\n",
       "      <td>Colman PO</td>\n",
       "      <td>45:00.0</td>\n",
       "      <td>NaN</td>\n",
       "      <td>19:06.0</td>\n",
       "      <td>NaN</td>\n",
       "    </tr>\n",
       "    <tr>\n",
       "      <th>2018-08-25 10:25:00</th>\n",
       "      <td>Bainbridge</td>\n",
       "      <td>Colman</td>\n",
       "      <td>45:00.0</td>\n",
       "      <td>47:37.0</td>\n",
       "      <td>18:06.0</td>\n",
       "      <td>31.0</td>\n",
       "    </tr>\n",
       "    <tr>\n",
       "      <th>2018-08-25 11:35:00</th>\n",
       "      <td>Bainbridge</td>\n",
       "      <td>Colman PO</td>\n",
       "      <td>25:00.0</td>\n",
       "      <td>NaN</td>\n",
       "      <td>58:39.0</td>\n",
       "      <td>NaN</td>\n",
       "    </tr>\n",
       "    <tr>\n",
       "      <th>2018-08-25 12:20:00</th>\n",
       "      <td>Bainbridge</td>\n",
       "      <td>Colman</td>\n",
       "      <td>35:00.0</td>\n",
       "      <td>35:00.0</td>\n",
       "      <td>05:14.0</td>\n",
       "      <td>30.0</td>\n",
       "    </tr>\n",
       "    <tr>\n",
       "      <th>2018-08-25 13:20:00</th>\n",
       "      <td>Bainbridge</td>\n",
       "      <td>Colman PO</td>\n",
       "      <td>20:00.0</td>\n",
       "      <td>NaN</td>\n",
       "      <td>55:40.0</td>\n",
       "      <td>NaN</td>\n",
       "    </tr>\n",
       "    <tr>\n",
       "      <th>2018-08-25 14:10:00</th>\n",
       "      <td>Bainbridge</td>\n",
       "      <td>Colman</td>\n",
       "      <td>20:00.0</td>\n",
       "      <td>20:00.0</td>\n",
       "      <td>50:08.0</td>\n",
       "      <td>30.0</td>\n",
       "    </tr>\n",
       "    <tr>\n",
       "      <th>2018-08-25 15:00:00</th>\n",
       "      <td>Bainbridge</td>\n",
       "      <td>Colman PO</td>\n",
       "      <td>10:00.0</td>\n",
       "      <td>NaN</td>\n",
       "      <td>42:17.0</td>\n",
       "      <td>NaN</td>\n",
       "    </tr>\n",
       "    <tr>\n",
       "      <th>2018-08-25 15:55:00</th>\n",
       "      <td>Bainbridge</td>\n",
       "      <td>Colman</td>\n",
       "      <td>00:00.0</td>\n",
       "      <td>10:29.0</td>\n",
       "      <td>41:24.0</td>\n",
       "      <td>31.0</td>\n",
       "    </tr>\n",
       "    <tr>\n",
       "      <th>2018-08-25 16:40:00</th>\n",
       "      <td>Bainbridge</td>\n",
       "      <td>Colman</td>\n",
       "      <td>55:00.0</td>\n",
       "      <td>04:27.0</td>\n",
       "      <td>36:45.0</td>\n",
       "      <td>32.0</td>\n",
       "    </tr>\n",
       "    <tr>\n",
       "      <th>2018-08-25 17:35:00</th>\n",
       "      <td>Bainbridge</td>\n",
       "      <td>Colman</td>\n",
       "      <td>40:00.0</td>\n",
       "      <td>01:25.0</td>\n",
       "      <td>30:15.0</td>\n",
       "      <td>29.0</td>\n",
       "    </tr>\n",
       "    <tr>\n",
       "      <th>2018-08-25 18:30:00</th>\n",
       "      <td>Bainbridge</td>\n",
       "      <td>Colman</td>\n",
       "      <td>35:00.0</td>\n",
       "      <td>59:27.0</td>\n",
       "      <td>29:53.0</td>\n",
       "      <td>30.0</td>\n",
       "    </tr>\n",
       "    <tr>\n",
       "      <th>2018-08-25 19:15:00</th>\n",
       "      <td>Bainbridge</td>\n",
       "      <td>Colman</td>\n",
       "      <td>30:00.0</td>\n",
       "      <td>46:45.0</td>\n",
       "      <td>15:28.0</td>\n",
       "      <td>29.0</td>\n",
       "    </tr>\n",
       "    <tr>\n",
       "      <th>2018-08-25 20:10:00</th>\n",
       "      <td>Bainbridge</td>\n",
       "      <td>Colman</td>\n",
       "      <td>15:00.0</td>\n",
       "      <td>45:51.0</td>\n",
       "      <td>16:14.0</td>\n",
       "      <td>31.0</td>\n",
       "    </tr>\n",
       "    <tr>\n",
       "      <th>2018-08-25 20:55:00</th>\n",
       "      <td>Bainbridge</td>\n",
       "      <td>Colman</td>\n",
       "      <td>10:00.0</td>\n",
       "      <td>20:30.0</td>\n",
       "      <td>54:45.0</td>\n",
       "      <td>34.0</td>\n",
       "    </tr>\n",
       "    <tr>\n",
       "      <th>2018-08-25 21:45:00</th>\n",
       "      <td>Bainbridge</td>\n",
       "      <td>Colman PO</td>\n",
       "      <td>55:00.0</td>\n",
       "      <td>NaN</td>\n",
       "      <td>58:04.0</td>\n",
       "      <td>NaN</td>\n",
       "    </tr>\n",
       "    <tr>\n",
       "      <th>2018-08-25 22:30:00</th>\n",
       "      <td>Bainbridge</td>\n",
       "      <td>Colman</td>\n",
       "      <td>45:00.0</td>\n",
       "      <td>00:48.0</td>\n",
       "      <td>32:58.0</td>\n",
       "      <td>32.0</td>\n",
       "    </tr>\n",
       "  </tbody>\n",
       "</table>\n",
       "</div>"
      ],
      "text/plain": [
       "                    departure_terminal arrival_terminal scheduled_departure  \\\n",
       "2018-08-25 00:55:00         Bainbridge           Colman             00:00.0   \n",
       "2018-08-25 05:20:00         Bainbridge           Colman             55:00.0   \n",
       "2018-08-25 07:05:00         Bainbridge           Colman             20:00.0   \n",
       "2018-08-25 07:55:00         Bainbridge           Colman             05:00.0   \n",
       "2018-08-25 08:45:00         Bainbridge           Colman             55:00.0   \n",
       "2018-08-25 09:45:00         Bainbridge        Colman PO             45:00.0   \n",
       "2018-08-25 10:25:00         Bainbridge           Colman             45:00.0   \n",
       "2018-08-25 11:35:00         Bainbridge        Colman PO             25:00.0   \n",
       "2018-08-25 12:20:00         Bainbridge           Colman             35:00.0   \n",
       "2018-08-25 13:20:00         Bainbridge        Colman PO             20:00.0   \n",
       "2018-08-25 14:10:00         Bainbridge           Colman             20:00.0   \n",
       "2018-08-25 15:00:00         Bainbridge        Colman PO             10:00.0   \n",
       "2018-08-25 15:55:00         Bainbridge           Colman             00:00.0   \n",
       "2018-08-25 16:40:00         Bainbridge           Colman             55:00.0   \n",
       "2018-08-25 17:35:00         Bainbridge           Colman             40:00.0   \n",
       "2018-08-25 18:30:00         Bainbridge           Colman             35:00.0   \n",
       "2018-08-25 19:15:00         Bainbridge           Colman             30:00.0   \n",
       "2018-08-25 20:10:00         Bainbridge           Colman             15:00.0   \n",
       "2018-08-25 20:55:00         Bainbridge           Colman             10:00.0   \n",
       "2018-08-25 21:45:00         Bainbridge        Colman PO             55:00.0   \n",
       "2018-08-25 22:30:00         Bainbridge           Colman             45:00.0   \n",
       "\n",
       "                    actual_departure Actual_Arrival  TransitTime  \n",
       "2018-08-25 00:55:00          02:13.0        33:37.0         31.0  \n",
       "2018-08-25 05:20:00          25:17.0        56:25.0         31.0  \n",
       "2018-08-25 07:05:00          19:29.0        51:22.0         32.0  \n",
       "2018-08-25 07:55:00          05:33.0        37:39.0         32.0  \n",
       "2018-08-25 08:45:00          55:24.0        26:00.0         31.0  \n",
       "2018-08-25 09:45:00              NaN        19:06.0          NaN  \n",
       "2018-08-25 10:25:00          47:37.0        18:06.0         31.0  \n",
       "2018-08-25 11:35:00              NaN        58:39.0          NaN  \n",
       "2018-08-25 12:20:00          35:00.0        05:14.0         30.0  \n",
       "2018-08-25 13:20:00              NaN        55:40.0          NaN  \n",
       "2018-08-25 14:10:00          20:00.0        50:08.0         30.0  \n",
       "2018-08-25 15:00:00              NaN        42:17.0          NaN  \n",
       "2018-08-25 15:55:00          10:29.0        41:24.0         31.0  \n",
       "2018-08-25 16:40:00          04:27.0        36:45.0         32.0  \n",
       "2018-08-25 17:35:00          01:25.0        30:15.0         29.0  \n",
       "2018-08-25 18:30:00          59:27.0        29:53.0         30.0  \n",
       "2018-08-25 19:15:00          46:45.0        15:28.0         29.0  \n",
       "2018-08-25 20:10:00          45:51.0        16:14.0         31.0  \n",
       "2018-08-25 20:55:00          20:30.0        54:45.0         34.0  \n",
       "2018-08-25 21:45:00              NaN        58:04.0          NaN  \n",
       "2018-08-25 22:30:00          00:48.0        32:58.0         32.0  "
      ]
     },
     "execution_count": 158,
     "metadata": {},
     "output_type": "execute_result"
    }
   ],
   "source": [
    "bainbridge_departures_2018_with_index[\"2018-08-25\"]"
   ]
  },
  {
   "cell_type": "markdown",
   "metadata": {},
   "source": [
    "`2018-08-25 00:55:00` looks erroneous"
   ]
  },
  {
   "cell_type": "code",
   "execution_count": 159,
   "metadata": {
    "collapsed": true
   },
   "outputs": [],
   "source": [
    "bainbridge_departures_2018_with_index = bainbridge_departures_2018_with_index.drop(pd.to_datetime('2018-08-25 00:55:00'))"
   ]
  },
  {
   "cell_type": "code",
   "execution_count": 160,
   "metadata": {
    "collapsed": true
   },
   "outputs": [],
   "source": [
    "bainbridge_departures_2018_with_index.index = pd.to_datetime(timestamps_2018[:5710])\n",
    "bainbridge_departures_2018_with_index = bainbridge_departures_2018_with_index[\"2018\"]"
   ]
  },
  {
   "cell_type": "code",
   "execution_count": 161,
   "metadata": {},
   "outputs": [
    {
     "name": "stdout",
     "output_type": "stream",
     "text": [
      "Success!\n"
     ]
    }
   ],
   "source": [
    "verify_timestamps(bainbridge_departures_2018_with_index)"
   ]
  },
  {
   "cell_type": "markdown",
   "metadata": {},
   "source": [
    "## Writing Everything to CSV"
   ]
  },
  {
   "cell_type": "code",
   "execution_count": 163,
   "metadata": {
    "collapsed": true
   },
   "outputs": [],
   "source": [
    "bainbridge_departures_2013_with_index.to_csv(\"../csv-files/Step 1 - Indexed/Bainbridge_Departures_2013_Indexed.csv\")\n",
    "bainbridge_departures_2014_with_index.to_csv(\"../csv-files/Step 1 - Indexed/Bainbridge_Departures_2014_Indexed.csv\")\n",
    "bainbridge_departures_2015_with_index.to_csv(\"../csv-files/Step 1 - Indexed/Bainbridge_Departures_2015_Indexed.csv\")\n",
    "bainbridge_departures_2016_with_index.to_csv(\"../csv-files/Step 1 - Indexed/Bainbridge_Departures_2016_Indexed.csv\")\n",
    "bainbridge_departures_2017_with_index.to_csv(\"../csv-files/Step 1 - Indexed/Bainbridge_Departures_2017_Indexed.csv\")\n",
    "bainbridge_departures_2018_with_index.to_csv(\"../csv-files/Step 1 - Indexed/Bainbridge_Departures_2018_Indexed.csv\")"
   ]
  }
 ],
 "metadata": {
  "kernelspec": {
   "display_name": "Python 3",
   "language": "python",
   "name": "python3"
  },
  "language_info": {
   "codemirror_mode": {
    "name": "ipython",
    "version": 3
   },
   "file_extension": ".py",
   "mimetype": "text/x-python",
   "name": "python",
   "nbconvert_exporter": "python",
   "pygments_lexer": "ipython3",
   "version": "3.6.2"
  }
 },
 "nbformat": 4,
 "nbformat_minor": 2
}
