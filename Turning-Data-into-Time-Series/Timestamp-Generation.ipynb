{
 "cells": [
  {
   "cell_type": "markdown",
   "metadata": {},
   "source": [
    "Starting with the file most recent file (2013 - September 10, 2018). Working with Bainbridge departures only."
   ]
  },
  {
   "cell_type": "code",
   "execution_count": 884,
   "metadata": {
    "collapsed": true
   },
   "outputs": [],
   "source": [
    "import pandas as pd\n",
    "import numpy as np\n",
    "\n",
    "laptop_file_path = 'C:/Users/Keith/Google Drive/H Drive Full Backup/Fall 2018/CS 495 - Senior Seminar/Ferry Data/P000413-090518_2013-2018-09-10.csv'\n",
    "dataset = pd.read_csv(laptop_file_path)\n",
    "\n",
    "bainbridge_departures = dataset.loc[dataset['departure_terminal'] == 'Bainbridge'].reset_index()\n",
    "bainbridge_departures = bainbridge_departures.drop('index', axis=1)"
   ]
  },
  {
   "cell_type": "code",
   "execution_count": 885,
   "metadata": {},
   "outputs": [
    {
     "data": {
      "text/html": [
       "<div>\n",
       "<style scoped>\n",
       "    .dataframe tbody tr th:only-of-type {\n",
       "        vertical-align: middle;\n",
       "    }\n",
       "\n",
       "    .dataframe tbody tr th {\n",
       "        vertical-align: top;\n",
       "    }\n",
       "\n",
       "    .dataframe thead th {\n",
       "        text-align: right;\n",
       "    }\n",
       "</style>\n",
       "<table border=\"1\" class=\"dataframe\">\n",
       "  <thead>\n",
       "    <tr style=\"text-align: right;\">\n",
       "      <th></th>\n",
       "      <th>departure_terminal</th>\n",
       "      <th>arrival_terminal</th>\n",
       "      <th>scheduled_departure</th>\n",
       "      <th>actual_departure</th>\n",
       "      <th>Actual_Arrival</th>\n",
       "      <th>TransitTime</th>\n",
       "    </tr>\n",
       "  </thead>\n",
       "  <tbody>\n",
       "    <tr>\n",
       "      <th>0</th>\n",
       "      <td>Bainbridge</td>\n",
       "      <td>Colman</td>\n",
       "      <td>55:00.0</td>\n",
       "      <td>05:56.0</td>\n",
       "      <td>37:37.0</td>\n",
       "      <td>32.0</td>\n",
       "    </tr>\n",
       "    <tr>\n",
       "      <th>1</th>\n",
       "      <td>Bainbridge</td>\n",
       "      <td>NaN</td>\n",
       "      <td>45:00.0</td>\n",
       "      <td>NaN</td>\n",
       "      <td>NaN</td>\n",
       "      <td>NaN</td>\n",
       "    </tr>\n",
       "    <tr>\n",
       "      <th>2</th>\n",
       "      <td>Bainbridge</td>\n",
       "      <td>Colman</td>\n",
       "      <td>20:00.0</td>\n",
       "      <td>19:01.0</td>\n",
       "      <td>49:40.0</td>\n",
       "      <td>30.0</td>\n",
       "    </tr>\n",
       "    <tr>\n",
       "      <th>3</th>\n",
       "      <td>Bainbridge</td>\n",
       "      <td>NaN</td>\n",
       "      <td>20:00.0</td>\n",
       "      <td>NaN</td>\n",
       "      <td>NaN</td>\n",
       "      <td>NaN</td>\n",
       "    </tr>\n",
       "    <tr>\n",
       "      <th>4</th>\n",
       "      <td>Bainbridge</td>\n",
       "      <td>NaN</td>\n",
       "      <td>05:00.0</td>\n",
       "      <td>06:16.0</td>\n",
       "      <td>NaN</td>\n",
       "      <td>NaN</td>\n",
       "    </tr>\n",
       "  </tbody>\n",
       "</table>\n",
       "</div>"
      ],
      "text/plain": [
       "  departure_terminal arrival_terminal scheduled_departure actual_departure  \\\n",
       "0         Bainbridge           Colman             55:00.0          05:56.0   \n",
       "1         Bainbridge              NaN             45:00.0              NaN   \n",
       "2         Bainbridge           Colman             20:00.0          19:01.0   \n",
       "3         Bainbridge              NaN             20:00.0              NaN   \n",
       "4         Bainbridge              NaN             05:00.0          06:16.0   \n",
       "\n",
       "  Actual_Arrival  TransitTime  \n",
       "0        37:37.0         32.0  \n",
       "1            NaN          NaN  \n",
       "2        49:40.0         30.0  \n",
       "3            NaN          NaN  \n",
       "4            NaN          NaN  "
      ]
     },
     "execution_count": 885,
     "metadata": {},
     "output_type": "execute_result"
    }
   ],
   "source": [
    "bainbridge_departures.head()"
   ]
  },
  {
   "cell_type": "markdown",
   "metadata": {},
   "source": [
    "<a href = \"https://web.archive.org/web/20130123233819/http:/www.wsdot.wa.gov/ferries/pdf/2013winter.pdf\"> Winter 2013 Schedule </a>"
   ]
  },
  {
   "cell_type": "code",
   "execution_count": 886,
   "metadata": {
    "collapsed": true
   },
   "outputs": [],
   "source": [
    "# Monday-Friday leave Bainbridge Island Winter 2013\n",
    "# mfw13 means Monday-Friday Winter 2013\n",
    "mfw13_scheduled_departures_24h = [\"0:55:00\", \"4:45:00\", \"5:20:00\", \"6:20:00\", \"7:05:00\", \"7:55:00\",\"8:45:00\", \"9:40:00\", \n",
    "                            \"10:25:00\", \"11:30:00\", \"12:20:00\", \"13:10:00\", \"14:05:00\", \"14:55:00\", \"15:50:00\", \"16:35:00\", \n",
    "                            \"17:30:00\", \"18:30:00\", \"19:10:00\", \"20:10:00\", \"20:55:00\", \"21:45:00\", \"22:35:00\"]\n",
    "\n",
    "# satw13 means Saturday Winter 2013\n",
    "satw13_scheduled_departures_24h = [\"0:55:00\",\"05:20:00\",\"07:05:00\",\"07:55:00\",\"08:45:00\",\"9:35:00\", \"10:25:00\",\n",
    "                                  \"11:30:00\",\"12:20:00\",\"13:10:00\",\"14:05:00\",\"14:55:00\",\"15:50:00\",\n",
    "                                  \"16:35:00\",\"17:30:00\",\"18:30:00\",\"19:10:00\",\"20:10:00\",\"20:55:00\",\n",
    "                                  \"21:45:00\",\"22:30:00\",\"0:00:00\",\"1:25:00\"]\n",
    "\n",
    "# sunw13 means Sunday Winter 2013\n",
    "sunw13_scheduled_departures_24h = [\"05:20:00\",\"07:05:00\",\"08:45:00\",\"9:35:00\", \"10:25:00\",\n",
    "                                  \"11:30:00\",\"12:20:00\",\"13:10:00\",\"14:05:00\",\"14:55:00\",\"15:50:00\",\n",
    "                                  \"16:35:00\",\"17:30:00\",\"18:30:00\",\"19:10:00\",\"20:10:00\",\"20:55:00\",\n",
    "                                  \"21:45:00\",\"22:30:00\",\"0:00:00\",\"1:25:00\"]\n",
    "\n",
    "#wkw13 means Week Winder 2013\n",
    "wkw13_scheduled_departures_24h = (5*mfw13_scheduled_departures_24h) + satw13_scheduled_departures_24h + sunw13_scheduled_departures_24h"
   ]
  },
  {
   "cell_type": "code",
   "execution_count": 887,
   "metadata": {
    "collapsed": true
   },
   "outputs": [],
   "source": [
    "def extractMinutesPastHour(time):\n",
    "    m = time.split(':')\n",
    "    return int(float(m[0]))\n",
    "\n",
    "# For time in format hh:mm:ss this method returns mm\n",
    "def extractMinutes24h(time):\n",
    "    m = time.split(':')\n",
    "    return int(m[1])"
   ]
  },
  {
   "cell_type": "code",
   "execution_count": 888,
   "metadata": {
    "collapsed": true
   },
   "outputs": [],
   "source": [
    "import datetime\n",
    "\n",
    "def generate_timestamps(dataset, scheduled_departures_24h, starting_point, year, month, day):\n",
    "    #import pdb; pdb.set_trace()\n",
    "\n",
    "    tdelta = datetime.timedelta(days = 1)\n",
    "\n",
    "    prevHour = 0\n",
    "\n",
    "    departure_times = []\n",
    "    timestamps = []\n",
    "    weekdays = []\n",
    "\n",
    "    i = starting_point\n",
    "\n",
    "    for index, row in dataset.iterrows():\n",
    "        departure24h = scheduled_departures_24h[i % len(scheduled_departures_24h)]\n",
    "        hour, minute, seconds = departure24h.split(\":\")\n",
    "        scheduled_departure_minutes = extractMinutesPastHour(row.iloc[2])\n",
    "        scheduled_departure_24h = extractMinutes24h(departure24h)\n",
    "\n",
    "        if(int(prevHour) > int(hour)):\n",
    "            d = d + tdelta\n",
    "            year = d.year\n",
    "            month = d.month\n",
    "            day = d.day\n",
    "\n",
    "        if (not scheduled_departure_minutes == scheduled_departure_24h):\n",
    "            if(d.weekday() == 1):\n",
    "                # --- this is a quick fix not sure why this works ----\n",
    "                d = d - tdelta\n",
    "                year = d.year\n",
    "                month = d.month\n",
    "                day = d.day\n",
    "                # ------------------------------------\n",
    "\n",
    "                i = i + 1\n",
    "\n",
    "                departure24h = scheduled_departures_24h[i % len(scheduled_departures_24h)]\n",
    "                scheduled_hour, scheduled_minutes, scheduled_seconds = departure24h.split(\":\")\n",
    "                scheduled_departure_minutes = extractMinutesPastHour(row.iloc[2])\n",
    "\n",
    "                departure_times.append(departure24h)\n",
    "                d = datetime.date(year, month, day)\n",
    "                timestamps.append(\"%s %02d:%02d:%02d\" % (d, int(scheduled_hour), int(scheduled_minutes), int(scheduled_seconds)))\n",
    "                weekdays.append(d.weekday())\n",
    "\n",
    "                prevHour = hour  \n",
    "                i = i + 1\n",
    "                continue\n",
    "                if (not scheduled_departure_minutes == scheduled_minutes):\n",
    "                    print(\"ERROR\")\n",
    "                    break\n",
    "\n",
    "            print(\"\"\"Was able to match departure times up until this row at index %d:\\n%s\\n\n",
    "                    Was trying to insert this timestamp: %s\"\"\" % \n",
    "                                              (index, row,(\"%s %02d:%02d:%02d\" % (d, int(hour), int(minute), int(seconds)))))\n",
    "            break\n",
    "\n",
    "        departure_times.append(departure24h)\n",
    "        d = datetime.date(year, month, day)\n",
    "        timestamps.append(\"%s %02d:%02d:%02d\" % (d, int(hour), int(minute), int(seconds)))\n",
    "        weekdays.append(d.weekday())\n",
    "\n",
    "        prevHour = hour\n",
    "        i = i + 1\n",
    "        \n",
    "    return timestamps"
   ]
  },
  {
   "cell_type": "code",
   "execution_count": 889,
   "metadata": {},
   "outputs": [
    {
     "name": "stdout",
     "output_type": "stream",
     "text": [
      "Was able to match departure times up until this row at index 3297:\n",
      "departure_terminal     Bainbridge\n",
      "arrival_terminal           Colman\n",
      "scheduled_departure       05:00.0\n",
      "actual_departure          05:30.0\n",
      "Actual_Arrival            36:59.0\n",
      "TransitTime                    31\n",
      "Name: 3297, dtype: object\n",
      "\n",
      "                    Was trying to insert this timestamp: 2013-05-27 05:20:00\n"
     ]
    }
   ],
   "source": [
    "timestamps = generate_timestamps(bainbridge_departures, wkw13_scheduled_departures_24h, 23, 2013, 1, 1)"
   ]
  },
  {
   "cell_type": "code",
   "execution_count": 890,
   "metadata": {},
   "outputs": [
    {
     "data": {
      "text/plain": [
       "3297"
      ]
     },
     "execution_count": 890,
     "metadata": {},
     "output_type": "execute_result"
    }
   ],
   "source": [
    "len(timestamps)"
   ]
  },
  {
   "cell_type": "code",
   "execution_count": 891,
   "metadata": {},
   "outputs": [
    {
     "data": {
      "text/plain": [
       "['2013-05-26 20:10:00',\n",
       " '2013-05-26 20:55:00',\n",
       " '2013-05-26 21:45:00',\n",
       " '2013-05-26 22:30:00',\n",
       " '2013-05-27 00:00:00',\n",
       " '2013-05-27 01:25:00',\n",
       " '2013-05-27 04:45:00']"
      ]
     },
     "execution_count": 891,
     "metadata": {},
     "output_type": "execute_result"
    }
   ],
   "source": [
    "timestamps[3290:]"
   ]
  },
  {
   "cell_type": "markdown",
   "metadata": {},
   "source": [
    "Want to git rid of those last three dates."
   ]
  },
  {
   "cell_type": "code",
   "execution_count": 892,
   "metadata": {
    "collapsed": true
   },
   "outputs": [],
   "source": [
    "timestamps = timestamps[:3296]"
   ]
  },
  {
   "cell_type": "code",
   "execution_count": 893,
   "metadata": {},
   "outputs": [
    {
     "data": {
      "text/plain": [
       "3296"
      ]
     },
     "execution_count": 893,
     "metadata": {},
     "output_type": "execute_result"
    }
   ],
   "source": [
    "len(timestamps)"
   ]
  },
  {
   "cell_type": "markdown",
   "metadata": {},
   "source": [
    "May 27, 2013 Starts at index 3296 in `bainbridge_departures`"
   ]
  },
  {
   "cell_type": "code",
   "execution_count": 894,
   "metadata": {},
   "outputs": [
    {
     "data": {
      "text/html": [
       "<div>\n",
       "<style scoped>\n",
       "    .dataframe tbody tr th:only-of-type {\n",
       "        vertical-align: middle;\n",
       "    }\n",
       "\n",
       "    .dataframe tbody tr th {\n",
       "        vertical-align: top;\n",
       "    }\n",
       "\n",
       "    .dataframe thead th {\n",
       "        text-align: right;\n",
       "    }\n",
       "</style>\n",
       "<table border=\"1\" class=\"dataframe\">\n",
       "  <thead>\n",
       "    <tr style=\"text-align: right;\">\n",
       "      <th></th>\n",
       "      <th>departure_terminal</th>\n",
       "      <th>arrival_terminal</th>\n",
       "      <th>scheduled_departure</th>\n",
       "      <th>actual_departure</th>\n",
       "      <th>Actual_Arrival</th>\n",
       "      <th>TransitTime</th>\n",
       "    </tr>\n",
       "  </thead>\n",
       "  <tbody>\n",
       "    <tr>\n",
       "      <th>3296</th>\n",
       "      <td>Bainbridge</td>\n",
       "      <td>Colman</td>\n",
       "      <td>20:00.0</td>\n",
       "      <td>20:11.0</td>\n",
       "      <td>51:37.0</td>\n",
       "      <td>31.0</td>\n",
       "    </tr>\n",
       "    <tr>\n",
       "      <th>3297</th>\n",
       "      <td>Bainbridge</td>\n",
       "      <td>Colman</td>\n",
       "      <td>05:00.0</td>\n",
       "      <td>05:30.0</td>\n",
       "      <td>36:59.0</td>\n",
       "      <td>31.0</td>\n",
       "    </tr>\n",
       "    <tr>\n",
       "      <th>3298</th>\n",
       "      <td>Bainbridge</td>\n",
       "      <td>Colman</td>\n",
       "      <td>55:00.0</td>\n",
       "      <td>56:22.0</td>\n",
       "      <td>26:55.0</td>\n",
       "      <td>30.0</td>\n",
       "    </tr>\n",
       "    <tr>\n",
       "      <th>3299</th>\n",
       "      <td>Bainbridge</td>\n",
       "      <td>Colman</td>\n",
       "      <td>45:00.0</td>\n",
       "      <td>45:00.0</td>\n",
       "      <td>16:17.0</td>\n",
       "      <td>31.0</td>\n",
       "    </tr>\n",
       "  </tbody>\n",
       "</table>\n",
       "</div>"
      ],
      "text/plain": [
       "     departure_terminal arrival_terminal scheduled_departure actual_departure  \\\n",
       "3296         Bainbridge           Colman             20:00.0          20:11.0   \n",
       "3297         Bainbridge           Colman             05:00.0          05:30.0   \n",
       "3298         Bainbridge           Colman             55:00.0          56:22.0   \n",
       "3299         Bainbridge           Colman             45:00.0          45:00.0   \n",
       "\n",
       "     Actual_Arrival  TransitTime  \n",
       "3296        51:37.0         31.0  \n",
       "3297        36:59.0         31.0  \n",
       "3298        26:55.0         30.0  \n",
       "3299        16:17.0         31.0  "
      ]
     },
     "execution_count": 894,
     "metadata": {},
     "output_type": "execute_result"
    }
   ],
   "source": [
    "bainbridge_departures.iloc[3296:3300]"
   ]
  },
  {
   "cell_type": "markdown",
   "metadata": {},
   "source": [
    "The only difference between the <a href = \"https://web.archive.org/web/20130123233819/http:/www.wsdot.wa.gov/ferries/pdf/2013winter.pdf\"> Winter 2013 Schedule</a> and the <a href = \"https://web.archive.org/web/20130624071202/http:/www.wsdot.wa.gov/ferries/pdf/2013Spring.pdf\"> Spring 2013 Schedule</a> happend on May 27, 2013"
   ]
  },
  {
   "cell_type": "code",
   "execution_count": 895,
   "metadata": {
    "collapsed": true
   },
   "outputs": [],
   "source": [
    "# May 27, 2013\n",
    "may2713 = [\"05:20:00\",\"07:05:00\",\"07:55:00\",\"08:45:00\",\"9:35:00\", \"10:25:00\",\"11:30:00\",\"12:20:00\",\"13:10:00\",\n",
    "           \"14:05:00\",\"14:55:00\",\"15:50:00\",\"16:35:00\",\"17:30:00\",\"18:30:00\",\"19:10:00\",\"20:10:00\",\"20:55:00\",\n",
    "           \"21:45:00\",\"22:30:00\",\"0:00:00\",\"1:25:00\"]"
   ]
  },
  {
   "cell_type": "code",
   "execution_count": 896,
   "metadata": {},
   "outputs": [
    {
     "name": "stdout",
     "output_type": "stream",
     "text": [
      "Was able to match departure times up until this row at index 3319:\n",
      "departure_terminal     Bainbridge\n",
      "arrival_terminal           Colman\n",
      "scheduled_departure       20:00.0\n",
      "actual_departure          20:00.0\n",
      "Actual_Arrival            51:12.0\n",
      "TransitTime                    31\n",
      "Name: 3319, dtype: object\n",
      "\n",
      "                    Was trying to insert this timestamp: 2013-05-27 07:55:00\n"
     ]
    }
   ],
   "source": [
    "may2713timestamps = generate_timestamps(bainbridge_departures.iloc[3296:], may2713, 0, 2013, 5, 27)"
   ]
  },
  {
   "cell_type": "code",
   "execution_count": 897,
   "metadata": {
    "collapsed": true
   },
   "outputs": [],
   "source": [
    "may2713timestamps = may2713timestamps[:22]"
   ]
  },
  {
   "cell_type": "code",
   "execution_count": 898,
   "metadata": {
    "collapsed": true
   },
   "outputs": [],
   "source": [
    "timestamps = timestamps + may2713timestamps"
   ]
  },
  {
   "cell_type": "markdown",
   "metadata": {},
   "source": [
    "This below is the beginning of Tuesday, May 28, 2013"
   ]
  },
  {
   "cell_type": "code",
   "execution_count": 899,
   "metadata": {},
   "outputs": [
    {
     "data": {
      "text/html": [
       "<div>\n",
       "<style scoped>\n",
       "    .dataframe tbody tr th:only-of-type {\n",
       "        vertical-align: middle;\n",
       "    }\n",
       "\n",
       "    .dataframe tbody tr th {\n",
       "        vertical-align: top;\n",
       "    }\n",
       "\n",
       "    .dataframe thead th {\n",
       "        text-align: right;\n",
       "    }\n",
       "</style>\n",
       "<table border=\"1\" class=\"dataframe\">\n",
       "  <thead>\n",
       "    <tr style=\"text-align: right;\">\n",
       "      <th></th>\n",
       "      <th>departure_terminal</th>\n",
       "      <th>arrival_terminal</th>\n",
       "      <th>scheduled_departure</th>\n",
       "      <th>actual_departure</th>\n",
       "      <th>Actual_Arrival</th>\n",
       "      <th>TransitTime</th>\n",
       "    </tr>\n",
       "  </thead>\n",
       "  <tbody>\n",
       "    <tr>\n",
       "      <th>3318</th>\n",
       "      <td>Bainbridge</td>\n",
       "      <td>Colman</td>\n",
       "      <td>45:00.0</td>\n",
       "      <td>45:56.0</td>\n",
       "      <td>16:44.0</td>\n",
       "      <td>31.0</td>\n",
       "    </tr>\n",
       "    <tr>\n",
       "      <th>3319</th>\n",
       "      <td>Bainbridge</td>\n",
       "      <td>Colman</td>\n",
       "      <td>20:00.0</td>\n",
       "      <td>20:00.0</td>\n",
       "      <td>51:12.0</td>\n",
       "      <td>31.0</td>\n",
       "    </tr>\n",
       "    <tr>\n",
       "      <th>3320</th>\n",
       "      <td>Bainbridge</td>\n",
       "      <td>Colman</td>\n",
       "      <td>20:00.0</td>\n",
       "      <td>23:59.0</td>\n",
       "      <td>51:35.0</td>\n",
       "      <td>28.0</td>\n",
       "    </tr>\n",
       "    <tr>\n",
       "      <th>3321</th>\n",
       "      <td>Bainbridge</td>\n",
       "      <td>Colman</td>\n",
       "      <td>05:00.0</td>\n",
       "      <td>06:51.0</td>\n",
       "      <td>40:22.0</td>\n",
       "      <td>34.0</td>\n",
       "    </tr>\n",
       "  </tbody>\n",
       "</table>\n",
       "</div>"
      ],
      "text/plain": [
       "     departure_terminal arrival_terminal scheduled_departure actual_departure  \\\n",
       "3318         Bainbridge           Colman             45:00.0          45:56.0   \n",
       "3319         Bainbridge           Colman             20:00.0          20:00.0   \n",
       "3320         Bainbridge           Colman             20:00.0          23:59.0   \n",
       "3321         Bainbridge           Colman             05:00.0          06:51.0   \n",
       "\n",
       "     Actual_Arrival  TransitTime  \n",
       "3318        16:44.0         31.0  \n",
       "3319        51:12.0         31.0  \n",
       "3320        51:35.0         28.0  \n",
       "3321        40:22.0         34.0  "
      ]
     },
     "execution_count": 899,
     "metadata": {},
     "output_type": "execute_result"
    }
   ],
   "source": [
    "bainbridge_departures.iloc[3318:3322]"
   ]
  },
  {
   "cell_type": "code",
   "execution_count": 900,
   "metadata": {},
   "outputs": [
    {
     "data": {
      "text/plain": [
       "23"
      ]
     },
     "execution_count": 900,
     "metadata": {},
     "output_type": "execute_result"
    }
   ],
   "source": [
    "len(mfw13_scheduled_departures_24h)"
   ]
  },
  {
   "cell_type": "code",
   "execution_count": 901,
   "metadata": {},
   "outputs": [
    {
     "name": "stdout",
     "output_type": "stream",
     "text": [
      "Was able to match departure times up until this row at index 4154:\n",
      "departure_terminal     Bainbridge\n",
      "arrival_terminal           Colman\n",
      "scheduled_departure       20:00.0\n",
      "actual_departure          19:33.0\n",
      "Actual_Arrival            49:12.0\n",
      "TransitTime                    30\n",
      "Name: 4154, dtype: object\n",
      "\n",
      "                    Was trying to insert this timestamp: 2013-07-04 04:45:00\n"
     ]
    }
   ],
   "source": [
    "timestamps_2 = generate_timestamps(bainbridge_departures.iloc[3318:], wkw13_scheduled_departures_24h, 24, 2013, 5, 28)"
   ]
  },
  {
   "cell_type": "code",
   "execution_count": 902,
   "metadata": {
    "collapsed": true
   },
   "outputs": [],
   "source": [
    "timestamps = timestamps + timestamps_2"
   ]
  },
  {
   "cell_type": "code",
   "execution_count": 903,
   "metadata": {},
   "outputs": [
    {
     "data": {
      "text/plain": [
       "4154"
      ]
     },
     "execution_count": 903,
     "metadata": {},
     "output_type": "execute_result"
    }
   ],
   "source": [
    "len(timestamps)"
   ]
  },
  {
   "cell_type": "code",
   "execution_count": 904,
   "metadata": {},
   "outputs": [
    {
     "data": {
      "text/plain": [
       "['2013-07-03 20:55:00',\n",
       " '2013-07-03 21:45:00',\n",
       " '2013-07-03 22:35:00',\n",
       " '2013-07-04 00:55:00']"
      ]
     },
     "execution_count": 904,
     "metadata": {},
     "output_type": "execute_result"
    }
   ],
   "source": [
    "timestamps[4150:]"
   ]
  },
  {
   "cell_type": "markdown",
   "metadata": {},
   "source": [
    "The fourth of July schedule is the same as the May 27, 2013 schedule."
   ]
  },
  {
   "cell_type": "markdown",
   "metadata": {},
   "source": [
    "Thursday, July 4, 2013"
   ]
  },
  {
   "cell_type": "code",
   "execution_count": 905,
   "metadata": {},
   "outputs": [
    {
     "name": "stdout",
     "output_type": "stream",
     "text": [
      "Was able to match departure times up until this row at index 4176:\n",
      "departure_terminal     Bainbridge\n",
      "arrival_terminal           Colman\n",
      "scheduled_departure       45:00.0\n",
      "actual_departure          44:36.0\n",
      "Actual_Arrival            13:56.0\n",
      "TransitTime                    29\n",
      "Name: 4176, dtype: object\n",
      "\n",
      "                    Was trying to insert this timestamp: 2013-07-05 05:20:00\n"
     ]
    }
   ],
   "source": [
    "july0413timestamps = generate_timestamps(bainbridge_departures[4154:], may2713, 0, 2013, 7, 4)"
   ]
  },
  {
   "cell_type": "code",
   "execution_count": 906,
   "metadata": {
    "collapsed": true
   },
   "outputs": [],
   "source": [
    "timestamps = timestamps + july0413timestamps"
   ]
  },
  {
   "cell_type": "code",
   "execution_count": 907,
   "metadata": {},
   "outputs": [
    {
     "data": {
      "text/plain": [
       "4176"
      ]
     },
     "execution_count": 907,
     "metadata": {},
     "output_type": "execute_result"
    }
   ],
   "source": [
    "len(timestamps)"
   ]
  },
  {
   "cell_type": "markdown",
   "metadata": {},
   "source": [
    "Need to start again this time from Thursday"
   ]
  },
  {
   "cell_type": "code",
   "execution_count": 908,
   "metadata": {},
   "outputs": [
    {
     "name": "stdout",
     "output_type": "stream",
     "text": [
      "Was able to match departure times up until this row at index 5507:\n",
      "departure_terminal     Bainbridge\n",
      "arrival_terminal           Colman\n",
      "scheduled_departure       05:00.0\n",
      "actual_departure          05:06.0\n",
      "Actual_Arrival            32:58.0\n",
      "TransitTime                    27\n",
      "Name: 5507, dtype: object\n",
      "\n",
      "                    Was trying to insert this timestamp: 2013-09-02 05:20:00\n"
     ]
    }
   ],
   "source": [
    "timestamps_2 = generate_timestamps(bainbridge_departures[4176:], wkw13_scheduled_departures_24h, (23*4) + 1, 2013, 7, 5)"
   ]
  },
  {
   "cell_type": "code",
   "execution_count": 909,
   "metadata": {
    "collapsed": true
   },
   "outputs": [],
   "source": [
    "timestamps = timestamps + timestamps_2"
   ]
  },
  {
   "cell_type": "markdown",
   "metadata": {},
   "source": [
    "Monday, September 2, 2013 was a holiday."
   ]
  },
  {
   "cell_type": "code",
   "execution_count": 910,
   "metadata": {
    "collapsed": true
   },
   "outputs": [],
   "source": [
    "timestamps = timestamps[:5506]"
   ]
  },
  {
   "cell_type": "code",
   "execution_count": 911,
   "metadata": {},
   "outputs": [
    {
     "data": {
      "text/plain": [
       "5506"
      ]
     },
     "execution_count": 911,
     "metadata": {},
     "output_type": "execute_result"
    }
   ],
   "source": [
    "len(timestamps)"
   ]
  },
  {
   "cell_type": "code",
   "execution_count": 912,
   "metadata": {},
   "outputs": [
    {
     "data": {
      "text/plain": [
       "['2013-09-01 20:10:00',\n",
       " '2013-09-01 20:55:00',\n",
       " '2013-09-01 21:45:00',\n",
       " '2013-09-01 22:30:00',\n",
       " '2013-09-02 00:00:00',\n",
       " '2013-09-02 01:25:00']"
      ]
     },
     "execution_count": 912,
     "metadata": {},
     "output_type": "execute_result"
    }
   ],
   "source": [
    "timestamps[5500:]"
   ]
  },
  {
   "cell_type": "code",
   "execution_count": 913,
   "metadata": {},
   "outputs": [
    {
     "data": {
      "text/html": [
       "<div>\n",
       "<style scoped>\n",
       "    .dataframe tbody tr th:only-of-type {\n",
       "        vertical-align: middle;\n",
       "    }\n",
       "\n",
       "    .dataframe tbody tr th {\n",
       "        vertical-align: top;\n",
       "    }\n",
       "\n",
       "    .dataframe thead th {\n",
       "        text-align: right;\n",
       "    }\n",
       "</style>\n",
       "<table border=\"1\" class=\"dataframe\">\n",
       "  <thead>\n",
       "    <tr style=\"text-align: right;\">\n",
       "      <th></th>\n",
       "      <th>departure_terminal</th>\n",
       "      <th>arrival_terminal</th>\n",
       "      <th>scheduled_departure</th>\n",
       "      <th>actual_departure</th>\n",
       "      <th>Actual_Arrival</th>\n",
       "      <th>TransitTime</th>\n",
       "    </tr>\n",
       "  </thead>\n",
       "  <tbody>\n",
       "    <tr>\n",
       "      <th>5506</th>\n",
       "      <td>Bainbridge</td>\n",
       "      <td>Colman</td>\n",
       "      <td>20:00.0</td>\n",
       "      <td>20:16.0</td>\n",
       "      <td>49:50.0</td>\n",
       "      <td>29.0</td>\n",
       "    </tr>\n",
       "    <tr>\n",
       "      <th>5507</th>\n",
       "      <td>Bainbridge</td>\n",
       "      <td>Colman</td>\n",
       "      <td>05:00.0</td>\n",
       "      <td>05:06.0</td>\n",
       "      <td>32:58.0</td>\n",
       "      <td>27.0</td>\n",
       "    </tr>\n",
       "    <tr>\n",
       "      <th>5508</th>\n",
       "      <td>Bainbridge</td>\n",
       "      <td>Colman</td>\n",
       "      <td>55:00.0</td>\n",
       "      <td>55:00.0</td>\n",
       "      <td>26:35.0</td>\n",
       "      <td>31.0</td>\n",
       "    </tr>\n",
       "    <tr>\n",
       "      <th>5509</th>\n",
       "      <td>Bainbridge</td>\n",
       "      <td>Colman</td>\n",
       "      <td>45:00.0</td>\n",
       "      <td>45:06.0</td>\n",
       "      <td>14:50.0</td>\n",
       "      <td>29.0</td>\n",
       "    </tr>\n",
       "    <tr>\n",
       "      <th>5510</th>\n",
       "      <td>Bainbridge</td>\n",
       "      <td>Colman</td>\n",
       "      <td>35:00.0</td>\n",
       "      <td>35:36.0</td>\n",
       "      <td>06:01.0</td>\n",
       "      <td>31.0</td>\n",
       "    </tr>\n",
       "  </tbody>\n",
       "</table>\n",
       "</div>"
      ],
      "text/plain": [
       "     departure_terminal arrival_terminal scheduled_departure actual_departure  \\\n",
       "5506         Bainbridge           Colman             20:00.0          20:16.0   \n",
       "5507         Bainbridge           Colman             05:00.0          05:06.0   \n",
       "5508         Bainbridge           Colman             55:00.0          55:00.0   \n",
       "5509         Bainbridge           Colman             45:00.0          45:06.0   \n",
       "5510         Bainbridge           Colman             35:00.0          35:36.0   \n",
       "\n",
       "     Actual_Arrival  TransitTime  \n",
       "5506        49:50.0         29.0  \n",
       "5507        32:58.0         27.0  \n",
       "5508        26:35.0         31.0  \n",
       "5509        14:50.0         29.0  \n",
       "5510        06:01.0         31.0  "
      ]
     },
     "execution_count": 913,
     "metadata": {},
     "output_type": "execute_result"
    }
   ],
   "source": [
    "bainbridge_departures.iloc[5506:].head()"
   ]
  },
  {
   "cell_type": "code",
   "execution_count": 914,
   "metadata": {},
   "outputs": [
    {
     "name": "stdout",
     "output_type": "stream",
     "text": [
      "Was able to match departure times up until this row at index 5529:\n",
      "departure_terminal     Bainbridge\n",
      "arrival_terminal           Colman\n",
      "scheduled_departure       20:00.0\n",
      "actual_departure          20:05.0\n",
      "Actual_Arrival            53:03.0\n",
      "TransitTime                    33\n",
      "Name: 5529, dtype: object\n",
      "\n",
      "                    Was trying to insert this timestamp: 2013-09-02 07:55:00\n"
     ]
    }
   ],
   "source": [
    "sept0213timestamps = generate_timestamps(bainbridge_departures[5506:], may2713, 0, 2013, 9, 2)"
   ]
  },
  {
   "cell_type": "code",
   "execution_count": 915,
   "metadata": {
    "collapsed": true
   },
   "outputs": [],
   "source": [
    "sept0213timestamps = sept0213timestamps[:22]"
   ]
  },
  {
   "cell_type": "code",
   "execution_count": 916,
   "metadata": {
    "collapsed": true
   },
   "outputs": [],
   "source": [
    "timestamps = timestamps + sept0213timestamps"
   ]
  },
  {
   "cell_type": "code",
   "execution_count": 917,
   "metadata": {},
   "outputs": [
    {
     "data": {
      "text/plain": [
       "5528"
      ]
     },
     "execution_count": 917,
     "metadata": {},
     "output_type": "execute_result"
    }
   ],
   "source": [
    "len(timestamps)"
   ]
  },
  {
   "cell_type": "code",
   "execution_count": 918,
   "metadata": {},
   "outputs": [
    {
     "data": {
      "text/plain": [
       "['2013-09-02 18:30:00',\n",
       " '2013-09-02 19:10:00',\n",
       " '2013-09-02 20:10:00',\n",
       " '2013-09-02 20:55:00',\n",
       " '2013-09-02 21:45:00',\n",
       " '2013-09-02 22:30:00',\n",
       " '2013-09-03 00:00:00',\n",
       " '2013-09-03 01:25:00']"
      ]
     },
     "execution_count": 918,
     "metadata": {},
     "output_type": "execute_result"
    }
   ],
   "source": [
    "timestamps[5520:]"
   ]
  },
  {
   "cell_type": "code",
   "execution_count": 919,
   "metadata": {},
   "outputs": [
    {
     "data": {
      "text/html": [
       "<div>\n",
       "<style scoped>\n",
       "    .dataframe tbody tr th:only-of-type {\n",
       "        vertical-align: middle;\n",
       "    }\n",
       "\n",
       "    .dataframe tbody tr th {\n",
       "        vertical-align: top;\n",
       "    }\n",
       "\n",
       "    .dataframe thead th {\n",
       "        text-align: right;\n",
       "    }\n",
       "</style>\n",
       "<table border=\"1\" class=\"dataframe\">\n",
       "  <thead>\n",
       "    <tr style=\"text-align: right;\">\n",
       "      <th></th>\n",
       "      <th>departure_terminal</th>\n",
       "      <th>arrival_terminal</th>\n",
       "      <th>scheduled_departure</th>\n",
       "      <th>actual_departure</th>\n",
       "      <th>Actual_Arrival</th>\n",
       "      <th>TransitTime</th>\n",
       "    </tr>\n",
       "  </thead>\n",
       "  <tbody>\n",
       "    <tr>\n",
       "      <th>5528</th>\n",
       "      <td>Bainbridge</td>\n",
       "      <td>Colman</td>\n",
       "      <td>45:00.0</td>\n",
       "      <td>45:07.0</td>\n",
       "      <td>12:15.0</td>\n",
       "      <td>27.0</td>\n",
       "    </tr>\n",
       "    <tr>\n",
       "      <th>5529</th>\n",
       "      <td>Bainbridge</td>\n",
       "      <td>Colman</td>\n",
       "      <td>20:00.0</td>\n",
       "      <td>20:05.0</td>\n",
       "      <td>53:03.0</td>\n",
       "      <td>33.0</td>\n",
       "    </tr>\n",
       "    <tr>\n",
       "      <th>5530</th>\n",
       "      <td>Bainbridge</td>\n",
       "      <td>Colman</td>\n",
       "      <td>20:00.0</td>\n",
       "      <td>20:00.0</td>\n",
       "      <td>49:57.0</td>\n",
       "      <td>29.0</td>\n",
       "    </tr>\n",
       "    <tr>\n",
       "      <th>5531</th>\n",
       "      <td>Bainbridge</td>\n",
       "      <td>Colman</td>\n",
       "      <td>05:00.0</td>\n",
       "      <td>06:03.0</td>\n",
       "      <td>36:39.0</td>\n",
       "      <td>30.0</td>\n",
       "    </tr>\n",
       "    <tr>\n",
       "      <th>5532</th>\n",
       "      <td>Bainbridge</td>\n",
       "      <td>Colman</td>\n",
       "      <td>55:00.0</td>\n",
       "      <td>56:43.0</td>\n",
       "      <td>26:53.0</td>\n",
       "      <td>30.0</td>\n",
       "    </tr>\n",
       "  </tbody>\n",
       "</table>\n",
       "</div>"
      ],
      "text/plain": [
       "     departure_terminal arrival_terminal scheduled_departure actual_departure  \\\n",
       "5528         Bainbridge           Colman             45:00.0          45:07.0   \n",
       "5529         Bainbridge           Colman             20:00.0          20:05.0   \n",
       "5530         Bainbridge           Colman             20:00.0          20:00.0   \n",
       "5531         Bainbridge           Colman             05:00.0          06:03.0   \n",
       "5532         Bainbridge           Colman             55:00.0          56:43.0   \n",
       "\n",
       "     Actual_Arrival  TransitTime  \n",
       "5528        12:15.0         27.0  \n",
       "5529        53:03.0         33.0  \n",
       "5530        49:57.0         29.0  \n",
       "5531        36:39.0         30.0  \n",
       "5532        26:53.0         30.0  "
      ]
     },
     "execution_count": 919,
     "metadata": {},
     "output_type": "execute_result"
    }
   ],
   "source": [
    "bainbridge_departures.iloc[5528:].head()"
   ]
  },
  {
   "cell_type": "markdown",
   "metadata": {},
   "source": [
    "Tuesday, September 3, 2013 (is the start of whats above)"
   ]
  },
  {
   "cell_type": "code",
   "execution_count": 920,
   "metadata": {
    "collapsed": true
   },
   "outputs": [],
   "source": [
    "bainbridge_departures = bainbridge_departures.drop(7185)"
   ]
  },
  {
   "cell_type": "code",
   "execution_count": 921,
   "metadata": {},
   "outputs": [
    {
     "name": "stdout",
     "output_type": "stream",
     "text": [
      "Was able to match departure times up until this row at index 7471:\n",
      "departure_terminal     Bainbridge\n",
      "arrival_terminal           Colman\n",
      "scheduled_departure       20:00.0\n",
      "actual_departure          21:09.0\n",
      "Actual_Arrival            52:53.0\n",
      "TransitTime                    31\n",
      "Name: 7471, dtype: object\n",
      "\n",
      "                    Was trying to insert this timestamp: 2013-11-28 04:45:00\n"
     ]
    }
   ],
   "source": [
    "timestamps_2 = generate_timestamps(bainbridge_departures[5528:], wkw13_scheduled_departures_24h, (23*1) + 1, 2013, 9, 3)"
   ]
  },
  {
   "cell_type": "code",
   "execution_count": 922,
   "metadata": {},
   "outputs": [
    {
     "data": {
      "text/plain": [
       "1942"
      ]
     },
     "execution_count": 922,
     "metadata": {},
     "output_type": "execute_result"
    }
   ],
   "source": [
    "len(timestamps_2)"
   ]
  },
  {
   "cell_type": "code",
   "execution_count": 923,
   "metadata": {
    "collapsed": true
   },
   "outputs": [],
   "source": [
    "timestamps = timestamps + timestamps_2"
   ]
  },
  {
   "cell_type": "code",
   "execution_count": 924,
   "metadata": {},
   "outputs": [
    {
     "data": {
      "text/plain": [
       "['2013-11-27 18:30:00',\n",
       " '2013-11-27 19:10:00',\n",
       " '2013-11-27 20:10:00',\n",
       " '2013-11-27 20:55:00',\n",
       " '2013-11-27 21:45:00',\n",
       " '2013-11-27 22:35:00',\n",
       " '2013-11-28 00:55:00']"
      ]
     },
     "execution_count": 924,
     "metadata": {},
     "output_type": "execute_result"
    }
   ],
   "source": [
    "timestamps_2[1935:]"
   ]
  },
  {
   "cell_type": "code",
   "execution_count": 925,
   "metadata": {},
   "outputs": [
    {
     "data": {
      "text/html": [
       "<div>\n",
       "<style scoped>\n",
       "    .dataframe tbody tr th:only-of-type {\n",
       "        vertical-align: middle;\n",
       "    }\n",
       "\n",
       "    .dataframe tbody tr th {\n",
       "        vertical-align: top;\n",
       "    }\n",
       "\n",
       "    .dataframe thead th {\n",
       "        text-align: right;\n",
       "    }\n",
       "</style>\n",
       "<table border=\"1\" class=\"dataframe\">\n",
       "  <thead>\n",
       "    <tr style=\"text-align: right;\">\n",
       "      <th></th>\n",
       "      <th>departure_terminal</th>\n",
       "      <th>arrival_terminal</th>\n",
       "      <th>scheduled_departure</th>\n",
       "      <th>actual_departure</th>\n",
       "      <th>Actual_Arrival</th>\n",
       "      <th>TransitTime</th>\n",
       "    </tr>\n",
       "  </thead>\n",
       "  <tbody>\n",
       "    <tr>\n",
       "      <th>7471</th>\n",
       "      <td>Bainbridge</td>\n",
       "      <td>Colman</td>\n",
       "      <td>20:00.0</td>\n",
       "      <td>21:09.0</td>\n",
       "      <td>52:53.0</td>\n",
       "      <td>31.0</td>\n",
       "    </tr>\n",
       "    <tr>\n",
       "      <th>7472</th>\n",
       "      <td>Bainbridge</td>\n",
       "      <td>Colman</td>\n",
       "      <td>05:00.0</td>\n",
       "      <td>04:41.0</td>\n",
       "      <td>41:21.0</td>\n",
       "      <td>37.0</td>\n",
       "    </tr>\n",
       "    <tr>\n",
       "      <th>7473</th>\n",
       "      <td>Bainbridge</td>\n",
       "      <td>Colman</td>\n",
       "      <td>55:00.0</td>\n",
       "      <td>54:33.0</td>\n",
       "      <td>25:12.0</td>\n",
       "      <td>31.0</td>\n",
       "    </tr>\n",
       "    <tr>\n",
       "      <th>7474</th>\n",
       "      <td>Bainbridge</td>\n",
       "      <td>Colman</td>\n",
       "      <td>45:00.0</td>\n",
       "      <td>44:43.0</td>\n",
       "      <td>20:07.0</td>\n",
       "      <td>36.0</td>\n",
       "    </tr>\n",
       "    <tr>\n",
       "      <th>7475</th>\n",
       "      <td>Bainbridge</td>\n",
       "      <td>Colman</td>\n",
       "      <td>35:00.0</td>\n",
       "      <td>35:00.0</td>\n",
       "      <td>04:01.0</td>\n",
       "      <td>29.0</td>\n",
       "    </tr>\n",
       "  </tbody>\n",
       "</table>\n",
       "</div>"
      ],
      "text/plain": [
       "     departure_terminal arrival_terminal scheduled_departure actual_departure  \\\n",
       "7471         Bainbridge           Colman             20:00.0          21:09.0   \n",
       "7472         Bainbridge           Colman             05:00.0          04:41.0   \n",
       "7473         Bainbridge           Colman             55:00.0          54:33.0   \n",
       "7474         Bainbridge           Colman             45:00.0          44:43.0   \n",
       "7475         Bainbridge           Colman             35:00.0          35:00.0   \n",
       "\n",
       "     Actual_Arrival  TransitTime  \n",
       "7471        52:53.0         31.0  \n",
       "7472        41:21.0         37.0  \n",
       "7473        25:12.0         31.0  \n",
       "7474        20:07.0         36.0  \n",
       "7475        04:01.0         29.0  "
      ]
     },
     "execution_count": 925,
     "metadata": {},
     "output_type": "execute_result"
    }
   ],
   "source": [
    "bainbridge_departures[7470:].head()"
   ]
  },
  {
   "cell_type": "code",
   "execution_count": 926,
   "metadata": {},
   "outputs": [
    {
     "name": "stdout",
     "output_type": "stream",
     "text": [
      "Was able to match departure times up until this row at index 7493:\n",
      "departure_terminal     Bainbridge\n",
      "arrival_terminal           Colman\n",
      "scheduled_departure       45:00.0\n",
      "actual_departure          45:58.0\n",
      "Actual_Arrival            20:01.0\n",
      "TransitTime                    35\n",
      "Name: 7493, dtype: object\n",
      "\n",
      "                    Was trying to insert this timestamp: 2013-11-29 05:20:00\n"
     ]
    }
   ],
   "source": [
    "nov2813timestamps = generate_timestamps(bainbridge_departures[7470:], may2713, 0, 2013, 11, 28)"
   ]
  },
  {
   "cell_type": "code",
   "execution_count": 927,
   "metadata": {
    "collapsed": true
   },
   "outputs": [],
   "source": [
    "timestamps = timestamps + nov2813timestamps"
   ]
  },
  {
   "cell_type": "code",
   "execution_count": 928,
   "metadata": {},
   "outputs": [
    {
     "data": {
      "text/html": [
       "<div>\n",
       "<style scoped>\n",
       "    .dataframe tbody tr th:only-of-type {\n",
       "        vertical-align: middle;\n",
       "    }\n",
       "\n",
       "    .dataframe tbody tr th {\n",
       "        vertical-align: top;\n",
       "    }\n",
       "\n",
       "    .dataframe thead th {\n",
       "        text-align: right;\n",
       "    }\n",
       "</style>\n",
       "<table border=\"1\" class=\"dataframe\">\n",
       "  <thead>\n",
       "    <tr style=\"text-align: right;\">\n",
       "      <th></th>\n",
       "      <th>departure_terminal</th>\n",
       "      <th>arrival_terminal</th>\n",
       "      <th>scheduled_departure</th>\n",
       "      <th>actual_departure</th>\n",
       "      <th>Actual_Arrival</th>\n",
       "      <th>TransitTime</th>\n",
       "    </tr>\n",
       "  </thead>\n",
       "  <tbody>\n",
       "    <tr>\n",
       "      <th>7493</th>\n",
       "      <td>Bainbridge</td>\n",
       "      <td>Colman</td>\n",
       "      <td>45:00.0</td>\n",
       "      <td>45:58.0</td>\n",
       "      <td>20:01.0</td>\n",
       "      <td>35.0</td>\n",
       "    </tr>\n",
       "    <tr>\n",
       "      <th>7494</th>\n",
       "      <td>Bainbridge</td>\n",
       "      <td>Colman</td>\n",
       "      <td>20:00.0</td>\n",
       "      <td>20:03.0</td>\n",
       "      <td>51:11.0</td>\n",
       "      <td>31.0</td>\n",
       "    </tr>\n",
       "    <tr>\n",
       "      <th>7495</th>\n",
       "      <td>Bainbridge</td>\n",
       "      <td>Colman</td>\n",
       "      <td>20:00.0</td>\n",
       "      <td>22:03.0</td>\n",
       "      <td>52:19.0</td>\n",
       "      <td>30.0</td>\n",
       "    </tr>\n",
       "    <tr>\n",
       "      <th>7496</th>\n",
       "      <td>Bainbridge</td>\n",
       "      <td>Colman</td>\n",
       "      <td>05:00.0</td>\n",
       "      <td>05:01.0</td>\n",
       "      <td>35:29.0</td>\n",
       "      <td>30.0</td>\n",
       "    </tr>\n",
       "    <tr>\n",
       "      <th>7497</th>\n",
       "      <td>Bainbridge</td>\n",
       "      <td>Colman</td>\n",
       "      <td>55:00.0</td>\n",
       "      <td>55:26.0</td>\n",
       "      <td>26:27.0</td>\n",
       "      <td>31.0</td>\n",
       "    </tr>\n",
       "  </tbody>\n",
       "</table>\n",
       "</div>"
      ],
      "text/plain": [
       "     departure_terminal arrival_terminal scheduled_departure actual_departure  \\\n",
       "7493         Bainbridge           Colman             45:00.0          45:58.0   \n",
       "7494         Bainbridge           Colman             20:00.0          20:03.0   \n",
       "7495         Bainbridge           Colman             20:00.0          22:03.0   \n",
       "7496         Bainbridge           Colman             05:00.0          05:01.0   \n",
       "7497         Bainbridge           Colman             55:00.0          55:26.0   \n",
       "\n",
       "     Actual_Arrival  TransitTime  \n",
       "7493        20:01.0         35.0  \n",
       "7494        51:11.0         31.0  \n",
       "7495        52:19.0         30.0  \n",
       "7496        35:29.0         30.0  \n",
       "7497        26:27.0         31.0  "
      ]
     },
     "execution_count": 928,
     "metadata": {},
     "output_type": "execute_result"
    }
   ],
   "source": [
    "bainbridge_departures[7492:].head()"
   ]
  },
  {
   "cell_type": "markdown",
   "metadata": {},
   "source": [
    "The top of the above is Friday, November 29, 2013"
   ]
  },
  {
   "cell_type": "code",
   "execution_count": 929,
   "metadata": {},
   "outputs": [
    {
     "name": "stdout",
     "output_type": "stream",
     "text": [
      "Was able to match departure times up until this row at index 8079:\n",
      "departure_terminal     Bainbridge\n",
      "arrival_terminal           Colman\n",
      "scheduled_departure       20:00.0\n",
      "actual_departure          20:15.0\n",
      "Actual_Arrival            51:40.0\n",
      "TransitTime                    31\n",
      "Name: 8079, dtype: object\n",
      "\n",
      "                    Was trying to insert this timestamp: 2013-12-25 04:45:00\n"
     ]
    }
   ],
   "source": [
    "timestamps_2 = generate_timestamps(bainbridge_departures[7492:], wkw13_scheduled_departures_24h, (23*4) + 1, 2013, 11, 29)"
   ]
  },
  {
   "cell_type": "code",
   "execution_count": 930,
   "metadata": {},
   "outputs": [],
   "source": [
    "timestamps = timestamps + timestamps_2"
   ]
  },
  {
   "cell_type": "code",
   "execution_count": 931,
   "metadata": {},
   "outputs": [
    {
     "data": {
      "text/html": [
       "<div>\n",
       "<style scoped>\n",
       "    .dataframe tbody tr th:only-of-type {\n",
       "        vertical-align: middle;\n",
       "    }\n",
       "\n",
       "    .dataframe tbody tr th {\n",
       "        vertical-align: top;\n",
       "    }\n",
       "\n",
       "    .dataframe thead th {\n",
       "        text-align: right;\n",
       "    }\n",
       "</style>\n",
       "<table border=\"1\" class=\"dataframe\">\n",
       "  <thead>\n",
       "    <tr style=\"text-align: right;\">\n",
       "      <th></th>\n",
       "      <th>departure_terminal</th>\n",
       "      <th>arrival_terminal</th>\n",
       "      <th>scheduled_departure</th>\n",
       "      <th>actual_departure</th>\n",
       "      <th>Actual_Arrival</th>\n",
       "      <th>TransitTime</th>\n",
       "    </tr>\n",
       "  </thead>\n",
       "  <tbody>\n",
       "    <tr>\n",
       "      <th>8079</th>\n",
       "      <td>Bainbridge</td>\n",
       "      <td>Colman</td>\n",
       "      <td>20:00.0</td>\n",
       "      <td>20:15.0</td>\n",
       "      <td>51:40.0</td>\n",
       "      <td>31.0</td>\n",
       "    </tr>\n",
       "    <tr>\n",
       "      <th>8080</th>\n",
       "      <td>Bainbridge</td>\n",
       "      <td>Colman</td>\n",
       "      <td>05:00.0</td>\n",
       "      <td>06:36.0</td>\n",
       "      <td>38:42.0</td>\n",
       "      <td>32.0</td>\n",
       "    </tr>\n",
       "    <tr>\n",
       "      <th>8081</th>\n",
       "      <td>Bainbridge</td>\n",
       "      <td>Colman</td>\n",
       "      <td>55:00.0</td>\n",
       "      <td>55:25.0</td>\n",
       "      <td>24:45.0</td>\n",
       "      <td>29.0</td>\n",
       "    </tr>\n",
       "    <tr>\n",
       "      <th>8082</th>\n",
       "      <td>Bainbridge</td>\n",
       "      <td>Colman</td>\n",
       "      <td>45:00.0</td>\n",
       "      <td>45:00.0</td>\n",
       "      <td>15:54.0</td>\n",
       "      <td>30.0</td>\n",
       "    </tr>\n",
       "    <tr>\n",
       "      <th>8083</th>\n",
       "      <td>Bainbridge</td>\n",
       "      <td>Colman</td>\n",
       "      <td>35:00.0</td>\n",
       "      <td>37:32.0</td>\n",
       "      <td>11:13.0</td>\n",
       "      <td>34.0</td>\n",
       "    </tr>\n",
       "  </tbody>\n",
       "</table>\n",
       "</div>"
      ],
      "text/plain": [
       "     departure_terminal arrival_terminal scheduled_departure actual_departure  \\\n",
       "8079         Bainbridge           Colman             20:00.0          20:15.0   \n",
       "8080         Bainbridge           Colman             05:00.0          06:36.0   \n",
       "8081         Bainbridge           Colman             55:00.0          55:25.0   \n",
       "8082         Bainbridge           Colman             45:00.0          45:00.0   \n",
       "8083         Bainbridge           Colman             35:00.0          37:32.0   \n",
       "\n",
       "     Actual_Arrival  TransitTime  \n",
       "8079        51:40.0         31.0  \n",
       "8080        38:42.0         32.0  \n",
       "8081        24:45.0         29.0  \n",
       "8082        15:54.0         30.0  \n",
       "8083        11:13.0         34.0  "
      ]
     },
     "execution_count": 931,
     "metadata": {},
     "output_type": "execute_result"
    }
   ],
   "source": [
    "bainbridge_departures[8078:].head()"
   ]
  },
  {
   "cell_type": "code",
   "execution_count": 932,
   "metadata": {},
   "outputs": [
    {
     "name": "stdout",
     "output_type": "stream",
     "text": [
      "Was able to match departure times up until this row at index 8101:\n",
      "departure_terminal     Bainbridge\n",
      "arrival_terminal           Colman\n",
      "scheduled_departure       45:00.0\n",
      "actual_departure          44:36.0\n",
      "Actual_Arrival            14:25.0\n",
      "TransitTime                    30\n",
      "Name: 8101, dtype: object\n",
      "\n",
      "                    Was trying to insert this timestamp: 2013-12-26 05:20:00\n"
     ]
    }
   ],
   "source": [
    "dec2513timestamps = generate_timestamps(bainbridge_departures[8078:], may2713, 0, 2013, 12, 25)"
   ]
  },
  {
   "cell_type": "code",
   "execution_count": 933,
   "metadata": {
    "collapsed": true
   },
   "outputs": [],
   "source": [
    "timestamps = timestamps + dec2513timestamps"
   ]
  },
  {
   "cell_type": "code",
   "execution_count": 934,
   "metadata": {},
   "outputs": [
    {
     "data": {
      "text/html": [
       "<div>\n",
       "<style scoped>\n",
       "    .dataframe tbody tr th:only-of-type {\n",
       "        vertical-align: middle;\n",
       "    }\n",
       "\n",
       "    .dataframe tbody tr th {\n",
       "        vertical-align: top;\n",
       "    }\n",
       "\n",
       "    .dataframe thead th {\n",
       "        text-align: right;\n",
       "    }\n",
       "</style>\n",
       "<table border=\"1\" class=\"dataframe\">\n",
       "  <thead>\n",
       "    <tr style=\"text-align: right;\">\n",
       "      <th></th>\n",
       "      <th>departure_terminal</th>\n",
       "      <th>arrival_terminal</th>\n",
       "      <th>scheduled_departure</th>\n",
       "      <th>actual_departure</th>\n",
       "      <th>Actual_Arrival</th>\n",
       "      <th>TransitTime</th>\n",
       "    </tr>\n",
       "  </thead>\n",
       "  <tbody>\n",
       "    <tr>\n",
       "      <th>8101</th>\n",
       "      <td>Bainbridge</td>\n",
       "      <td>Colman</td>\n",
       "      <td>45:00.0</td>\n",
       "      <td>44:36.0</td>\n",
       "      <td>14:25.0</td>\n",
       "      <td>30.0</td>\n",
       "    </tr>\n",
       "    <tr>\n",
       "      <th>8102</th>\n",
       "      <td>Bainbridge</td>\n",
       "      <td>Colman</td>\n",
       "      <td>20:00.0</td>\n",
       "      <td>20:53.0</td>\n",
       "      <td>50:24.0</td>\n",
       "      <td>30.0</td>\n",
       "    </tr>\n",
       "    <tr>\n",
       "      <th>8103</th>\n",
       "      <td>Bainbridge</td>\n",
       "      <td>Colman</td>\n",
       "      <td>20:00.0</td>\n",
       "      <td>19:40.0</td>\n",
       "      <td>50:15.0</td>\n",
       "      <td>31.0</td>\n",
       "    </tr>\n",
       "    <tr>\n",
       "      <th>8104</th>\n",
       "      <td>Bainbridge</td>\n",
       "      <td>Colman</td>\n",
       "      <td>05:00.0</td>\n",
       "      <td>06:06.0</td>\n",
       "      <td>35:48.0</td>\n",
       "      <td>29.0</td>\n",
       "    </tr>\n",
       "    <tr>\n",
       "      <th>8105</th>\n",
       "      <td>Bainbridge</td>\n",
       "      <td>Colman</td>\n",
       "      <td>55:00.0</td>\n",
       "      <td>55:29.0</td>\n",
       "      <td>26:33.0</td>\n",
       "      <td>31.0</td>\n",
       "    </tr>\n",
       "  </tbody>\n",
       "</table>\n",
       "</div>"
      ],
      "text/plain": [
       "     departure_terminal arrival_terminal scheduled_departure actual_departure  \\\n",
       "8101         Bainbridge           Colman             45:00.0          44:36.0   \n",
       "8102         Bainbridge           Colman             20:00.0          20:53.0   \n",
       "8103         Bainbridge           Colman             20:00.0          19:40.0   \n",
       "8104         Bainbridge           Colman             05:00.0          06:06.0   \n",
       "8105         Bainbridge           Colman             55:00.0          55:29.0   \n",
       "\n",
       "     Actual_Arrival  TransitTime  \n",
       "8101        14:25.0         30.0  \n",
       "8102        50:24.0         30.0  \n",
       "8103        50:15.0         31.0  \n",
       "8104        35:48.0         29.0  \n",
       "8105        26:33.0         31.0  "
      ]
     },
     "execution_count": 934,
     "metadata": {},
     "output_type": "execute_result"
    }
   ],
   "source": [
    "bainbridge_departures[8100:].head()"
   ]
  },
  {
   "cell_type": "markdown",
   "metadata": {},
   "source": [
    "The top of above is Thursday December 26, 2013"
   ]
  },
  {
   "cell_type": "code",
   "execution_count": 935,
   "metadata": {},
   "outputs": [
    {
     "name": "stdout",
     "output_type": "stream",
     "text": [
      "Was able to match departure times up until this row at index 8236:\n",
      "departure_terminal     Bainbridge\n",
      "arrival_terminal           Colman\n",
      "scheduled_departure       20:00.0\n",
      "actual_departure          20:00.0\n",
      "Actual_Arrival            55:34.0\n",
      "TransitTime                    35\n",
      "Name: 8236, dtype: object\n",
      "\n",
      "                    Was trying to insert this timestamp: 2014-01-01 04:45:00\n"
     ]
    }
   ],
   "source": [
    "timestamps_2 = generate_timestamps(bainbridge_departures[8100:], wkw13_scheduled_departures_24h, (23*3) + 1, 2013, 12, 26)"
   ]
  },
  {
   "cell_type": "code",
   "execution_count": 936,
   "metadata": {
    "collapsed": true
   },
   "outputs": [],
   "source": [
    "timestamps = timestamps + timestamps_2"
   ]
  },
  {
   "cell_type": "code",
   "execution_count": 937,
   "metadata": {},
   "outputs": [
    {
     "data": {
      "text/plain": [
       "8235"
      ]
     },
     "execution_count": 937,
     "metadata": {},
     "output_type": "execute_result"
    }
   ],
   "source": [
    "len(timestamps)"
   ]
  },
  {
   "cell_type": "code",
   "execution_count": 938,
   "metadata": {},
   "outputs": [],
   "source": [
    "bainbridge_departures_2013_with_index = bainbridge_departures[0:8235]\n",
    "bainbridge_departures_2013_with_index.index = pd.to_datetime(timestamps)"
   ]
  },
  {
   "cell_type": "code",
   "execution_count": 939,
   "metadata": {},
   "outputs": [],
   "source": [
    "bainbridge_departures_2013_with_index = bainbridge_departures_with_index[\"2013\"]"
   ]
  },
  {
   "cell_type": "code",
   "execution_count": 940,
   "metadata": {},
   "outputs": [
    {
     "data": {
      "text/html": [
       "<div>\n",
       "<style scoped>\n",
       "    .dataframe tbody tr th:only-of-type {\n",
       "        vertical-align: middle;\n",
       "    }\n",
       "\n",
       "    .dataframe tbody tr th {\n",
       "        vertical-align: top;\n",
       "    }\n",
       "\n",
       "    .dataframe thead th {\n",
       "        text-align: right;\n",
       "    }\n",
       "</style>\n",
       "<table border=\"1\" class=\"dataframe\">\n",
       "  <thead>\n",
       "    <tr style=\"text-align: right;\">\n",
       "      <th></th>\n",
       "      <th>departure_terminal</th>\n",
       "      <th>arrival_terminal</th>\n",
       "      <th>scheduled_departure</th>\n",
       "      <th>actual_departure</th>\n",
       "      <th>Actual_Arrival</th>\n",
       "      <th>TransitTime</th>\n",
       "    </tr>\n",
       "  </thead>\n",
       "  <tbody>\n",
       "    <tr>\n",
       "      <th>2013-01-01 00:55:00</th>\n",
       "      <td>Bainbridge</td>\n",
       "      <td>Colman</td>\n",
       "      <td>55:00.0</td>\n",
       "      <td>05:56.0</td>\n",
       "      <td>37:37.0</td>\n",
       "      <td>32.0</td>\n",
       "    </tr>\n",
       "    <tr>\n",
       "      <th>2013-01-01 04:45:00</th>\n",
       "      <td>Bainbridge</td>\n",
       "      <td>NaN</td>\n",
       "      <td>45:00.0</td>\n",
       "      <td>NaN</td>\n",
       "      <td>NaN</td>\n",
       "      <td>NaN</td>\n",
       "    </tr>\n",
       "    <tr>\n",
       "      <th>2013-01-01 05:20:00</th>\n",
       "      <td>Bainbridge</td>\n",
       "      <td>Colman</td>\n",
       "      <td>20:00.0</td>\n",
       "      <td>19:01.0</td>\n",
       "      <td>49:40.0</td>\n",
       "      <td>30.0</td>\n",
       "    </tr>\n",
       "    <tr>\n",
       "      <th>2013-01-01 06:20:00</th>\n",
       "      <td>Bainbridge</td>\n",
       "      <td>NaN</td>\n",
       "      <td>20:00.0</td>\n",
       "      <td>NaN</td>\n",
       "      <td>NaN</td>\n",
       "      <td>NaN</td>\n",
       "    </tr>\n",
       "    <tr>\n",
       "      <th>2013-01-01 07:05:00</th>\n",
       "      <td>Bainbridge</td>\n",
       "      <td>NaN</td>\n",
       "      <td>05:00.0</td>\n",
       "      <td>06:16.0</td>\n",
       "      <td>NaN</td>\n",
       "      <td>NaN</td>\n",
       "    </tr>\n",
       "  </tbody>\n",
       "</table>\n",
       "</div>"
      ],
      "text/plain": [
       "                    departure_terminal arrival_terminal scheduled_departure  \\\n",
       "2013-01-01 00:55:00         Bainbridge           Colman             55:00.0   \n",
       "2013-01-01 04:45:00         Bainbridge              NaN             45:00.0   \n",
       "2013-01-01 05:20:00         Bainbridge           Colman             20:00.0   \n",
       "2013-01-01 06:20:00         Bainbridge              NaN             20:00.0   \n",
       "2013-01-01 07:05:00         Bainbridge              NaN             05:00.0   \n",
       "\n",
       "                    actual_departure Actual_Arrival  TransitTime  \n",
       "2013-01-01 00:55:00          05:56.0        37:37.0         32.0  \n",
       "2013-01-01 04:45:00              NaN            NaN          NaN  \n",
       "2013-01-01 05:20:00          19:01.0        49:40.0         30.0  \n",
       "2013-01-01 06:20:00              NaN            NaN          NaN  \n",
       "2013-01-01 07:05:00          06:16.0            NaN          NaN  "
      ]
     },
     "execution_count": 940,
     "metadata": {},
     "output_type": "execute_result"
    }
   ],
   "source": [
    "bainbridge_departures_2013_with_index.head()"
   ]
  },
  {
   "cell_type": "code",
   "execution_count": 941,
   "metadata": {},
   "outputs": [
    {
     "data": {
      "text/html": [
       "<div>\n",
       "<style scoped>\n",
       "    .dataframe tbody tr th:only-of-type {\n",
       "        vertical-align: middle;\n",
       "    }\n",
       "\n",
       "    .dataframe tbody tr th {\n",
       "        vertical-align: top;\n",
       "    }\n",
       "\n",
       "    .dataframe thead th {\n",
       "        text-align: right;\n",
       "    }\n",
       "</style>\n",
       "<table border=\"1\" class=\"dataframe\">\n",
       "  <thead>\n",
       "    <tr style=\"text-align: right;\">\n",
       "      <th></th>\n",
       "      <th>departure_terminal</th>\n",
       "      <th>arrival_terminal</th>\n",
       "      <th>scheduled_departure</th>\n",
       "      <th>actual_departure</th>\n",
       "      <th>Actual_Arrival</th>\n",
       "      <th>TransitTime</th>\n",
       "    </tr>\n",
       "  </thead>\n",
       "  <tbody>\n",
       "    <tr>\n",
       "      <th>2013-12-31 19:10:00</th>\n",
       "      <td>Bainbridge</td>\n",
       "      <td>Colman</td>\n",
       "      <td>10:00.0</td>\n",
       "      <td>10:03.0</td>\n",
       "      <td>44:26.0</td>\n",
       "      <td>34.0</td>\n",
       "    </tr>\n",
       "    <tr>\n",
       "      <th>2013-12-31 20:10:00</th>\n",
       "      <td>Bainbridge</td>\n",
       "      <td>Colman</td>\n",
       "      <td>10:00.0</td>\n",
       "      <td>10:53.0</td>\n",
       "      <td>41:57.0</td>\n",
       "      <td>31.0</td>\n",
       "    </tr>\n",
       "    <tr>\n",
       "      <th>2013-12-31 20:55:00</th>\n",
       "      <td>Bainbridge</td>\n",
       "      <td>Colman</td>\n",
       "      <td>55:00.0</td>\n",
       "      <td>55:00.0</td>\n",
       "      <td>26:36.0</td>\n",
       "      <td>31.0</td>\n",
       "    </tr>\n",
       "    <tr>\n",
       "      <th>2013-12-31 21:45:00</th>\n",
       "      <td>Bainbridge</td>\n",
       "      <td>Colman</td>\n",
       "      <td>45:00.0</td>\n",
       "      <td>45:17.0</td>\n",
       "      <td>17:09.0</td>\n",
       "      <td>32.0</td>\n",
       "    </tr>\n",
       "    <tr>\n",
       "      <th>2013-12-31 22:35:00</th>\n",
       "      <td>Bainbridge</td>\n",
       "      <td>Colman</td>\n",
       "      <td>35:00.0</td>\n",
       "      <td>38:45.0</td>\n",
       "      <td>13:36.0</td>\n",
       "      <td>35.0</td>\n",
       "    </tr>\n",
       "  </tbody>\n",
       "</table>\n",
       "</div>"
      ],
      "text/plain": [
       "                    departure_terminal arrival_terminal scheduled_departure  \\\n",
       "2013-12-31 19:10:00         Bainbridge           Colman             10:00.0   \n",
       "2013-12-31 20:10:00         Bainbridge           Colman             10:00.0   \n",
       "2013-12-31 20:55:00         Bainbridge           Colman             55:00.0   \n",
       "2013-12-31 21:45:00         Bainbridge           Colman             45:00.0   \n",
       "2013-12-31 22:35:00         Bainbridge           Colman             35:00.0   \n",
       "\n",
       "                    actual_departure Actual_Arrival  TransitTime  \n",
       "2013-12-31 19:10:00          10:03.0        44:26.0         34.0  \n",
       "2013-12-31 20:10:00          10:53.0        41:57.0         31.0  \n",
       "2013-12-31 20:55:00          55:00.0        26:36.0         31.0  \n",
       "2013-12-31 21:45:00          45:17.0        17:09.0         32.0  \n",
       "2013-12-31 22:35:00          38:45.0        13:36.0         35.0  "
      ]
     },
     "execution_count": 941,
     "metadata": {},
     "output_type": "execute_result"
    }
   ],
   "source": [
    "bainbridge_departures_2013_with_index.tail()"
   ]
  },
  {
   "cell_type": "code",
   "execution_count": 942,
   "metadata": {},
   "outputs": [
    {
     "data": {
      "text/plain": [
       "(8234, 6)"
      ]
     },
     "execution_count": 942,
     "metadata": {},
     "output_type": "execute_result"
    }
   ],
   "source": [
    "bainbridge_departures_2013_with_index.shape"
   ]
  },
  {
   "cell_type": "code",
   "execution_count": 943,
   "metadata": {
    "collapsed": true
   },
   "outputs": [],
   "source": [
    "timestamps_2013 = bainbridge_departures_2013_with_index.index"
   ]
  },
  {
   "cell_type": "markdown",
   "metadata": {},
   "source": [
    "<a href = \"https://stackoverflow.com/questions/48796729/how-to-add-a-year-to-a-column-of-dates-in-pandas\">How to add a year to a column of dates in pandas </a>"
   ]
  },
  {
   "cell_type": "code",
   "execution_count": 944,
   "metadata": {},
   "outputs": [],
   "source": [
    "timestamps_2014 = timestamps_2013 + pd.offsets.DateOffset(years=1)"
   ]
  },
  {
   "cell_type": "markdown",
   "metadata": {},
   "source": [
    "The Holdiays in 2014:\n",
    "- Wednesday, January 1, 2014\n",
    "- Monday, May 26, 2014\n",
    "- Friday, July 4, 2014\n",
    "- Monday, September 1, 2014\n",
    "- Thursday, November 27, 2014\n",
    "- Thursday, December 25, 2014"
   ]
  },
  {
   "cell_type": "markdown",
   "metadata": {},
   "source": [
    "`d.weekday()`: <a href = \"https://docs.python.org/2/library/datetime.html\">Monday is 0 and Sunday is 6</a>"
   ]
  },
  {
   "cell_type": "markdown",
   "metadata": {},
   "source": [
    "<a href = \"https://stackoverflow.com/questions/17152719/change-date-of-a-datetimeindex\">Change date of a DateTimeIndex</a>\n",
    "\n",
    "<a href = \"https://stackoverflow.com/questions/952914/how-to-make-a-flat-list-out-of-list-of-lists\">How to make a flat list out of list of lists?</a>"
   ]
  },
  {
   "cell_type": "code",
   "execution_count": 945,
   "metadata": {
    "collapsed": true
   },
   "outputs": [],
   "source": [
    "def generate_more_timestamps(startingDate, holidays, weekday, saturday, sunday):\n",
    "    timestamps = []\n",
    "    \n",
    "    startingYear = startingDate.year\n",
    "    d = startingDate\n",
    "    \n",
    "    \n",
    "    while(not (d.year == (startingYear + 1))):\n",
    "        if(d in holidays):\n",
    "            timestamps.append(saturday.map(lambda t: t.replace(year=d.year, month=d.month, day=d.day)).tolist())\n",
    "        else:\n",
    "            if(d.weekday() == 5):\n",
    "                timestamps.append(saturday.map(lambda t: t.replace(year=d.year, month=d.month, day=d.day)).tolist())\n",
    "            elif(d.weekday() == 6):\n",
    "                timestamps.append(sunday.map(lambda t: t.replace(year=d.year, month=d.month, day=d.day)).tolist())\n",
    "            else:\n",
    "                timestamps.append(weekday.map(lambda t: t.replace(year=d.year, month=d.month, day=d.day)).tolist())\n",
    "        \n",
    "        d = d + datetime.timedelta(days = 1)\n",
    "        \n",
    "    return [item for sublist in timestamps for item in sublist]"
   ]
  },
  {
   "cell_type": "code",
   "execution_count": 946,
   "metadata": {},
   "outputs": [],
   "source": [
    "holidays = [datetime.date(2014, 1, 1), datetime.date(2014, 5, 26), datetime.date(2014, 7, 4), datetime.date(2014, 10, 1),\n",
    "           datetime.date(2014, 11, 27), datetime.date(2014, 12, 25)]\n",
    "weekday = bainbridge_departures_2013_with_index[\"2013-01-02\"].index + pd.offsets.DateOffset(years=1)\n",
    "saturday = bainbridge_departures_2013_with_index[\"2013-01-05\"].index + pd.offsets.DateOffset(years=1)\n",
    "sunday = bainbridge_departures_2013_with_index[\"2013-01-06\"].index + pd.offsets.DateOffset(years=1)\n",
    "\n",
    "startingDate = datetime.date(2014, 1, 1)"
   ]
  },
  {
   "cell_type": "code",
   "execution_count": 947,
   "metadata": {},
   "outputs": [],
   "source": [
    "timestamps_2014 = generate_more_timestamps(startingDate, holidays, weekday, saturday, sunday)"
   ]
  },
  {
   "cell_type": "code",
   "execution_count": 948,
   "metadata": {},
   "outputs": [
    {
     "data": {
      "text/plain": [
       "8175"
      ]
     },
     "execution_count": 948,
     "metadata": {},
     "output_type": "execute_result"
    }
   ],
   "source": [
    "len(timestamps_2014)"
   ]
  },
  {
   "cell_type": "code",
   "execution_count": 949,
   "metadata": {},
   "outputs": [],
   "source": [
    "# Dropping 2013\n",
    "bainbridge_departures_n13 = bainbridge_departures[8234:]"
   ]
  },
  {
   "cell_type": "code",
   "execution_count": 950,
   "metadata": {},
   "outputs": [],
   "source": [
    "bainbridge_departures_n13 = bainbridge_departures_n13.reset_index(drop=True)"
   ]
  },
  {
   "cell_type": "code",
   "execution_count": 951,
   "metadata": {},
   "outputs": [
    {
     "data": {
      "text/html": [
       "<div>\n",
       "<style scoped>\n",
       "    .dataframe tbody tr th:only-of-type {\n",
       "        vertical-align: middle;\n",
       "    }\n",
       "\n",
       "    .dataframe tbody tr th {\n",
       "        vertical-align: top;\n",
       "    }\n",
       "\n",
       "    .dataframe thead th {\n",
       "        text-align: right;\n",
       "    }\n",
       "</style>\n",
       "<table border=\"1\" class=\"dataframe\">\n",
       "  <thead>\n",
       "    <tr style=\"text-align: right;\">\n",
       "      <th></th>\n",
       "      <th>departure_terminal</th>\n",
       "      <th>arrival_terminal</th>\n",
       "      <th>scheduled_departure</th>\n",
       "      <th>actual_departure</th>\n",
       "      <th>Actual_Arrival</th>\n",
       "      <th>TransitTime</th>\n",
       "    </tr>\n",
       "  </thead>\n",
       "  <tbody>\n",
       "    <tr>\n",
       "      <th>0</th>\n",
       "      <td>Bainbridge</td>\n",
       "      <td>Colman</td>\n",
       "      <td>55:00.0</td>\n",
       "      <td>13:39.0</td>\n",
       "      <td>46:53.0</td>\n",
       "      <td>33.0</td>\n",
       "    </tr>\n",
       "    <tr>\n",
       "      <th>1</th>\n",
       "      <td>Bainbridge</td>\n",
       "      <td>Colman</td>\n",
       "      <td>20:00.0</td>\n",
       "      <td>20:00.0</td>\n",
       "      <td>55:34.0</td>\n",
       "      <td>35.0</td>\n",
       "    </tr>\n",
       "    <tr>\n",
       "      <th>2</th>\n",
       "      <td>Bainbridge</td>\n",
       "      <td>Colman</td>\n",
       "      <td>05:00.0</td>\n",
       "      <td>04:34.0</td>\n",
       "      <td>35:51.0</td>\n",
       "      <td>31.0</td>\n",
       "    </tr>\n",
       "    <tr>\n",
       "      <th>3</th>\n",
       "      <td>Bainbridge</td>\n",
       "      <td>Colman</td>\n",
       "      <td>55:00.0</td>\n",
       "      <td>55:00.0</td>\n",
       "      <td>26:14.0</td>\n",
       "      <td>31.0</td>\n",
       "    </tr>\n",
       "    <tr>\n",
       "      <th>4</th>\n",
       "      <td>Bainbridge</td>\n",
       "      <td>Colman</td>\n",
       "      <td>45:00.0</td>\n",
       "      <td>45:00.0</td>\n",
       "      <td>14:54.0</td>\n",
       "      <td>29.0</td>\n",
       "    </tr>\n",
       "  </tbody>\n",
       "</table>\n",
       "</div>"
      ],
      "text/plain": [
       "  departure_terminal arrival_terminal scheduled_departure actual_departure  \\\n",
       "0         Bainbridge           Colman             55:00.0          13:39.0   \n",
       "1         Bainbridge           Colman             20:00.0          20:00.0   \n",
       "2         Bainbridge           Colman             05:00.0          04:34.0   \n",
       "3         Bainbridge           Colman             55:00.0          55:00.0   \n",
       "4         Bainbridge           Colman             45:00.0          45:00.0   \n",
       "\n",
       "  Actual_Arrival  TransitTime  \n",
       "0        46:53.0         33.0  \n",
       "1        55:34.0         35.0  \n",
       "2        35:51.0         31.0  \n",
       "3        26:14.0         31.0  \n",
       "4        14:54.0         29.0  "
      ]
     },
     "execution_count": 951,
     "metadata": {},
     "output_type": "execute_result"
    }
   ],
   "source": [
    "bainbridge_departures_n13.head()"
   ]
  },
  {
   "cell_type": "code",
   "execution_count": 954,
   "metadata": {},
   "outputs": [
    {
     "data": {
      "text/html": [
       "<div>\n",
       "<style scoped>\n",
       "    .dataframe tbody tr th:only-of-type {\n",
       "        vertical-align: middle;\n",
       "    }\n",
       "\n",
       "    .dataframe tbody tr th {\n",
       "        vertical-align: top;\n",
       "    }\n",
       "\n",
       "    .dataframe thead th {\n",
       "        text-align: right;\n",
       "    }\n",
       "</style>\n",
       "<table border=\"1\" class=\"dataframe\">\n",
       "  <thead>\n",
       "    <tr style=\"text-align: right;\">\n",
       "      <th></th>\n",
       "      <th>departure_terminal</th>\n",
       "      <th>arrival_terminal</th>\n",
       "      <th>scheduled_departure</th>\n",
       "      <th>actual_departure</th>\n",
       "      <th>Actual_Arrival</th>\n",
       "      <th>TransitTime</th>\n",
       "    </tr>\n",
       "  </thead>\n",
       "  <tbody>\n",
       "    <tr>\n",
       "      <th>8170</th>\n",
       "      <td>Bainbridge</td>\n",
       "      <td>Colman</td>\n",
       "      <td>55:00.0</td>\n",
       "      <td>57:35.0</td>\n",
       "      <td>28:57.0</td>\n",
       "      <td>31.0</td>\n",
       "    </tr>\n",
       "    <tr>\n",
       "      <th>8171</th>\n",
       "      <td>Bainbridge</td>\n",
       "      <td>Colman</td>\n",
       "      <td>45:00.0</td>\n",
       "      <td>45:00.0</td>\n",
       "      <td>14:57.0</td>\n",
       "      <td>29.0</td>\n",
       "    </tr>\n",
       "    <tr>\n",
       "      <th>8172</th>\n",
       "      <td>Bainbridge</td>\n",
       "      <td>Colman</td>\n",
       "      <td>40:00.0</td>\n",
       "      <td>40:00.0</td>\n",
       "      <td>13:18.0</td>\n",
       "      <td>33.0</td>\n",
       "    </tr>\n",
       "    <tr>\n",
       "      <th>8173</th>\n",
       "      <td>Bainbridge</td>\n",
       "      <td>Colman</td>\n",
       "      <td>25:00.0</td>\n",
       "      <td>27:10.0</td>\n",
       "      <td>57:52.0</td>\n",
       "      <td>30.0</td>\n",
       "    </tr>\n",
       "    <tr>\n",
       "      <th>8174</th>\n",
       "      <td>Bainbridge</td>\n",
       "      <td>Colman</td>\n",
       "      <td>30:00.0</td>\n",
       "      <td>34:23.0</td>\n",
       "      <td>04:29.0</td>\n",
       "      <td>30.0</td>\n",
       "    </tr>\n",
       "  </tbody>\n",
       "</table>\n",
       "</div>"
      ],
      "text/plain": [
       "     departure_terminal arrival_terminal scheduled_departure actual_departure  \\\n",
       "8170         Bainbridge           Colman             55:00.0          57:35.0   \n",
       "8171         Bainbridge           Colman             45:00.0          45:00.0   \n",
       "8172         Bainbridge           Colman             40:00.0          40:00.0   \n",
       "8173         Bainbridge           Colman             25:00.0          27:10.0   \n",
       "8174         Bainbridge           Colman             30:00.0          34:23.0   \n",
       "\n",
       "     Actual_Arrival  TransitTime  \n",
       "8170        28:57.0         31.0  \n",
       "8171        14:57.0         29.0  \n",
       "8172        13:18.0         33.0  \n",
       "8173        57:52.0         30.0  \n",
       "8174        04:29.0         30.0  "
      ]
     },
     "execution_count": 954,
     "metadata": {},
     "output_type": "execute_result"
    }
   ],
   "source": [
    "bainbridge_departures_2014_with_index = bainbridge_departures_n13[:8175]\n",
    "bainbridge_departures_2014_with_index.tail()\n",
    "#bainbridge_departures_2013_with_index.index = pd.to_datetime(timestamps_2014)"
   ]
  },
  {
   "cell_type": "code",
   "execution_count": 955,
   "metadata": {},
   "outputs": [
    {
     "data": {
      "text/plain": [
       "[Timestamp('2014-12-31 19:10:00'),\n",
       " Timestamp('2014-12-31 20:10:00'),\n",
       " Timestamp('2014-12-31 20:55:00'),\n",
       " Timestamp('2014-12-31 21:45:00'),\n",
       " Timestamp('2014-12-31 22:35:00')]"
      ]
     },
     "execution_count": 955,
     "metadata": {},
     "output_type": "execute_result"
    }
   ],
   "source": [
    "timestamps_2014[8170:]"
   ]
  }
 ],
 "metadata": {
  "kernelspec": {
   "display_name": "Python 3",
   "language": "python",
   "name": "python3"
  },
  "language_info": {
   "codemirror_mode": {
    "name": "ipython",
    "version": 3
   },
   "file_extension": ".py",
   "mimetype": "text/x-python",
   "name": "python",
   "nbconvert_exporter": "python",
   "pygments_lexer": "ipython3",
   "version": "3.6.2"
  }
 },
 "nbformat": 4,
 "nbformat_minor": 2
}
