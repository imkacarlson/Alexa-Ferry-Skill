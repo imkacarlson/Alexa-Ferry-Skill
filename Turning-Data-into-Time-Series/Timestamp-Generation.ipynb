{
 "cells": [
  {
   "cell_type": "markdown",
   "metadata": {},
   "source": [
    "Starting with the file most recent file (2013 - September 10, 2018). Working with Bainbridge departures only."
   ]
  },
  {
   "cell_type": "code",
   "execution_count": 26,
   "metadata": {
    "collapsed": true
   },
   "outputs": [],
   "source": [
    "import pandas as pd\n",
    "import numpy as np\n",
    "\n",
    "laptop_file_path = 'C:/Users/Keith/Google Drive/H Drive Full Backup/Fall 2018/CS 495 - Senior Seminar/Ferry Data/P000413-090518_2013-2018-09-10.csv'\n",
    "dataset = pd.read_csv(laptop_file_path)\n",
    "\n",
    "bainbridge_departures = dataset.loc[dataset['departure_terminal'] == 'Bainbridge'].reset_index()\n",
    "bainbridge_departures = bainbridge_departures.drop('index', axis=1)"
   ]
  },
  {
   "cell_type": "code",
   "execution_count": 27,
   "metadata": {},
   "outputs": [
    {
     "data": {
      "text/html": [
       "<div>\n",
       "<style scoped>\n",
       "    .dataframe tbody tr th:only-of-type {\n",
       "        vertical-align: middle;\n",
       "    }\n",
       "\n",
       "    .dataframe tbody tr th {\n",
       "        vertical-align: top;\n",
       "    }\n",
       "\n",
       "    .dataframe thead th {\n",
       "        text-align: right;\n",
       "    }\n",
       "</style>\n",
       "<table border=\"1\" class=\"dataframe\">\n",
       "  <thead>\n",
       "    <tr style=\"text-align: right;\">\n",
       "      <th></th>\n",
       "      <th>departure_terminal</th>\n",
       "      <th>arrival_terminal</th>\n",
       "      <th>scheduled_departure</th>\n",
       "      <th>actual_departure</th>\n",
       "      <th>Actual_Arrival</th>\n",
       "      <th>TransitTime</th>\n",
       "    </tr>\n",
       "  </thead>\n",
       "  <tbody>\n",
       "    <tr>\n",
       "      <th>0</th>\n",
       "      <td>Bainbridge</td>\n",
       "      <td>Colman</td>\n",
       "      <td>55:00.0</td>\n",
       "      <td>05:56.0</td>\n",
       "      <td>37:37.0</td>\n",
       "      <td>32.0</td>\n",
       "    </tr>\n",
       "    <tr>\n",
       "      <th>1</th>\n",
       "      <td>Bainbridge</td>\n",
       "      <td>NaN</td>\n",
       "      <td>45:00.0</td>\n",
       "      <td>NaN</td>\n",
       "      <td>NaN</td>\n",
       "      <td>NaN</td>\n",
       "    </tr>\n",
       "    <tr>\n",
       "      <th>2</th>\n",
       "      <td>Bainbridge</td>\n",
       "      <td>Colman</td>\n",
       "      <td>20:00.0</td>\n",
       "      <td>19:01.0</td>\n",
       "      <td>49:40.0</td>\n",
       "      <td>30.0</td>\n",
       "    </tr>\n",
       "    <tr>\n",
       "      <th>3</th>\n",
       "      <td>Bainbridge</td>\n",
       "      <td>NaN</td>\n",
       "      <td>20:00.0</td>\n",
       "      <td>NaN</td>\n",
       "      <td>NaN</td>\n",
       "      <td>NaN</td>\n",
       "    </tr>\n",
       "    <tr>\n",
       "      <th>4</th>\n",
       "      <td>Bainbridge</td>\n",
       "      <td>NaN</td>\n",
       "      <td>05:00.0</td>\n",
       "      <td>06:16.0</td>\n",
       "      <td>NaN</td>\n",
       "      <td>NaN</td>\n",
       "    </tr>\n",
       "  </tbody>\n",
       "</table>\n",
       "</div>"
      ],
      "text/plain": [
       "  departure_terminal arrival_terminal scheduled_departure actual_departure  \\\n",
       "0         Bainbridge           Colman             55:00.0          05:56.0   \n",
       "1         Bainbridge              NaN             45:00.0              NaN   \n",
       "2         Bainbridge           Colman             20:00.0          19:01.0   \n",
       "3         Bainbridge              NaN             20:00.0              NaN   \n",
       "4         Bainbridge              NaN             05:00.0          06:16.0   \n",
       "\n",
       "  Actual_Arrival  TransitTime  \n",
       "0        37:37.0         32.0  \n",
       "1            NaN          NaN  \n",
       "2        49:40.0         30.0  \n",
       "3            NaN          NaN  \n",
       "4            NaN          NaN  "
      ]
     },
     "execution_count": 27,
     "metadata": {},
     "output_type": "execute_result"
    }
   ],
   "source": [
    "bainbridge_departures.head()"
   ]
  },
  {
   "cell_type": "markdown",
   "metadata": {},
   "source": [
    "<a href = \"https://web.archive.org/web/20130123233819/http:/www.wsdot.wa.gov/ferries/pdf/2013winter.pdf\"> Winter 2013 Schedule </a>"
   ]
  },
  {
   "cell_type": "code",
   "execution_count": 28,
   "metadata": {
    "collapsed": true
   },
   "outputs": [],
   "source": [
    "# Monday-Friday leave Bainbridge Island Winter 2013\n",
    "# mfw13 means Monday-Friday Winter 2013\n",
    "mfw13_scheduled_departures_24h = [\"0:55:00\", \"4:45:00\", \"5:20:00\", \"6:20:00\", \"7:05:00\", \"7:55:00\",\"8:45:00\", \"9:40:00\", \n",
    "                            \"10:25:00\", \"11:30:00\", \"12:20:00\", \"13:10:00\", \"14:05:00\", \"14:55:00\", \"15:50:00\", \"16:35:00\", \n",
    "                            \"17:30:00\", \"18:30:00\", \"19:10:00\", \"20:10:00\", \"20:55:00\", \"21:45:00\", \"22:35:00\"]\n",
    "\n",
    "# satw13 means Saturday Winter 2013\n",
    "satw13_scheduled_departures_24h = [\"0:55:00\",\"05:20:00\",\"07:05:00\",\"07:55:00\",\"08:45:00\",\"9:35:00\", \"10:25:00\",\n",
    "                                  \"11:30:00\",\"12:20:00\",\"13:10:00\",\"14:05:00\",\"14:55:00\",\"15:50:00\",\n",
    "                                  \"16:35:00\",\"17:30:00\",\"18:30:00\",\"19:10:00\",\"20:10:00\",\"20:55:00\",\n",
    "                                  \"21:45:00\",\"22:30:00\",\"0:00:00\",\"1:25:00\"]\n",
    "\n",
    "# sunw13 means Sunday Winter 2013\n",
    "sunw13_scheduled_departures_24h = [\"05:20:00\",\"07:05:00\",\"08:45:00\",\"9:35:00\", \"10:25:00\",\n",
    "                                  \"11:30:00\",\"12:20:00\",\"13:10:00\",\"14:05:00\",\"14:55:00\",\"15:50:00\",\n",
    "                                  \"16:35:00\",\"17:30:00\",\"18:30:00\",\"19:10:00\",\"20:10:00\",\"20:55:00\",\n",
    "                                  \"21:45:00\",\"22:30:00\",\"0:00:00\",\"1:25:00\"]\n",
    "\n",
    "#wkw13 means Week Winder 2013\n",
    "wkw13_scheduled_departures_24h = (5*mfw13_scheduled_departures_24h) + satw13_scheduled_departures_24h + sunw13_scheduled_departures_24h"
   ]
  },
  {
   "cell_type": "code",
   "execution_count": 29,
   "metadata": {
    "collapsed": true
   },
   "outputs": [],
   "source": [
    "def extractMinutesPastHour(time):\n",
    "    m = time.split(':')\n",
    "    return int(float(m[0]))\n",
    "\n",
    "# For time in format hh:mm:ss this method returns mm\n",
    "def extractMinutes24h(time):\n",
    "    m = time.split(':')\n",
    "    return int(m[1])"
   ]
  },
  {
   "cell_type": "code",
   "execution_count": 30,
   "metadata": {},
   "outputs": [],
   "source": [
    "import datetime\n",
    "\n",
    "def generate_timestamps(dataset, scheduled_departures_24h, starting_point):\n",
    "    year = 2013\n",
    "    month = 1\n",
    "    day = 1\n",
    "\n",
    "    tdelta = datetime.timedelta(days = 1)\n",
    "\n",
    "    prevHour = 0\n",
    "\n",
    "    departure_times = []\n",
    "    timestamps = []\n",
    "    weekdays = []\n",
    "\n",
    "    i = starting_point\n",
    "\n",
    "    for index, row in dataset.iterrows():\n",
    "        departure24h = wkw13_scheduled_departures_24h[i % len(scheduled_departures_24h)]\n",
    "        hour, minute, seconds = departure24h.split(\":\")\n",
    "        scheduled_departure_minutes = extractMinutesPastHour(row.iloc[2])\n",
    "        scheduled_departure_24h = extractMinutes24h(departure24h)\n",
    "\n",
    "        if(int(prevHour) > int(hour)):\n",
    "            d = d + tdelta\n",
    "            year = d.year\n",
    "            month = d.month\n",
    "            day = d.day\n",
    "\n",
    "        if (not scheduled_departure_minutes == scheduled_departure_24h):\n",
    "            if(d.weekday() == 1):\n",
    "                # --- this is a quick fix not sure why this works ----\n",
    "                d = d - tdelta\n",
    "                year = d.year\n",
    "                month = d.month\n",
    "                day = d.day\n",
    "                # ------------------------------------\n",
    "\n",
    "                i = i + 1\n",
    "\n",
    "                departure24h = scheduled_departures_24h[i % len(scheduled_departures_24h)]\n",
    "                scheduled_hour, scheduled_minutes, scheduled_seconds = departure24h.split(\":\")\n",
    "                scheduled_departure_minutes = extractMinutesPastHour(row.iloc[2])\n",
    "\n",
    "                departure_times.append(departure24h)\n",
    "                d = datetime.date(year, month, day)\n",
    "                timestamps.append(\"%s %02d:%02d:%02d\" % (d, int(scheduled_hour), int(scheduled_minutes), int(scheduled_seconds)))\n",
    "                weekdays.append(d.weekday())\n",
    "\n",
    "                prevHour = hour  \n",
    "                i = i + 1\n",
    "                continue\n",
    "                if (not scheduled_departure_minutes == scheduled_minutes):\n",
    "                    print(\"ERROR\")\n",
    "                    break\n",
    "\n",
    "            print(\"\"\"Was able to match departure times up until this row at index %d:\\n%s\\n\n",
    "                    Was trying to insert this timestamp: %s\"\"\" % \n",
    "                                              (index, row,(\"%s %02d:%02d:%02d\" % (d, int(hour), int(minute), int(seconds)))))\n",
    "            break\n",
    "\n",
    "        departure_times.append(departure24h)\n",
    "        d = datetime.date(year, month, day)\n",
    "        timestamps.append(\"%s %02d:%02d:%02d\" % (d, int(hour), int(minute), int(seconds)))\n",
    "        weekdays.append(d.weekday())\n",
    "\n",
    "        prevHour = hour\n",
    "        i = i + 1\n",
    "        \n",
    "    return timestamps"
   ]
  },
  {
   "cell_type": "code",
   "execution_count": 31,
   "metadata": {},
   "outputs": [
    {
     "name": "stdout",
     "output_type": "stream",
     "text": [
      "Was able to match departure times up until this row at index 3297:\n",
      "departure_terminal     Bainbridge\n",
      "arrival_terminal           Colman\n",
      "scheduled_departure       05:00.0\n",
      "actual_departure          05:30.0\n",
      "Actual_Arrival            36:59.0\n",
      "TransitTime                    31\n",
      "Name: 3297, dtype: object\n",
      "\n",
      "                    Was trying to insert this timestamp: 2013-05-27 05:20:00\n"
     ]
    }
   ],
   "source": [
    "timestamps = generate_timestamps(bainbridge_departures, wkw13_scheduled_departures_24h, 23)"
   ]
  },
  {
   "cell_type": "markdown",
   "metadata": {},
   "source": [
    "It made it pretty far before the pattern was broken! Even past the Winter 2013 schedule.\n",
    "\n",
    "Adding these timestamps to the dataframe we have"
   ]
  },
  {
   "cell_type": "code",
   "execution_count": 32,
   "metadata": {
    "collapsed": true
   },
   "outputs": [],
   "source": [
    "bainbridge_departures_with_timestamps = bainbridge_departures.iloc[0:3297]\n",
    "bainbridge_departures_with_timestamps.index = pd.to_datetime(timestamps)"
   ]
  },
  {
   "cell_type": "markdown",
   "metadata": {},
   "source": [
    "<a href = \"https://stackoverflow.com/questions/40541265/convert-pandas-dataframe-column-to-np-datetime64\">convert pandas dataframe column to np.datetime64 </a>"
   ]
  },
  {
   "cell_type": "code",
   "execution_count": 33,
   "metadata": {},
   "outputs": [
    {
     "data": {
      "text/plain": [
       "(1851, 6)"
      ]
     },
     "execution_count": 33,
     "metadata": {},
     "output_type": "execute_result"
    }
   ],
   "source": [
    "# Bainbridge Winter 2013 (Starting January 1, 2013 - March 23, 2013)\n",
    "bainbrigdew13 = bainbridge_departures_with_timestamps[\"2013-01-01\" : \"2013-03-23\"]\n",
    "bainbrigdew13.shape"
   ]
  },
  {
   "cell_type": "code",
   "execution_count": 34,
   "metadata": {},
   "outputs": [
    {
     "data": {
      "text/html": [
       "<div>\n",
       "<style scoped>\n",
       "    .dataframe tbody tr th:only-of-type {\n",
       "        vertical-align: middle;\n",
       "    }\n",
       "\n",
       "    .dataframe tbody tr th {\n",
       "        vertical-align: top;\n",
       "    }\n",
       "\n",
       "    .dataframe thead th {\n",
       "        text-align: right;\n",
       "    }\n",
       "</style>\n",
       "<table border=\"1\" class=\"dataframe\">\n",
       "  <thead>\n",
       "    <tr style=\"text-align: right;\">\n",
       "      <th></th>\n",
       "      <th>departure_terminal</th>\n",
       "      <th>arrival_terminal</th>\n",
       "      <th>scheduled_departure</th>\n",
       "      <th>actual_departure</th>\n",
       "      <th>Actual_Arrival</th>\n",
       "      <th>TransitTime</th>\n",
       "    </tr>\n",
       "  </thead>\n",
       "  <tbody>\n",
       "    <tr>\n",
       "      <th>2013-03-23 19:10:00</th>\n",
       "      <td>Bainbridge</td>\n",
       "      <td>Colman</td>\n",
       "      <td>10:00.0</td>\n",
       "      <td>32:08.0</td>\n",
       "      <td>03:29.0</td>\n",
       "      <td>31.0</td>\n",
       "    </tr>\n",
       "    <tr>\n",
       "      <th>2013-03-23 20:10:00</th>\n",
       "      <td>Bainbridge</td>\n",
       "      <td>Colman</td>\n",
       "      <td>10:00.0</td>\n",
       "      <td>10:39.0</td>\n",
       "      <td>42:37.0</td>\n",
       "      <td>32.0</td>\n",
       "    </tr>\n",
       "    <tr>\n",
       "      <th>2013-03-23 20:55:00</th>\n",
       "      <td>Bainbridge</td>\n",
       "      <td>Colman</td>\n",
       "      <td>55:00.0</td>\n",
       "      <td>05:16.0</td>\n",
       "      <td>36:54.0</td>\n",
       "      <td>31.0</td>\n",
       "    </tr>\n",
       "    <tr>\n",
       "      <th>2013-03-23 21:45:00</th>\n",
       "      <td>Bainbridge</td>\n",
       "      <td>Colman</td>\n",
       "      <td>45:00.0</td>\n",
       "      <td>45:56.0</td>\n",
       "      <td>18:06.0</td>\n",
       "      <td>33.0</td>\n",
       "    </tr>\n",
       "    <tr>\n",
       "      <th>2013-03-23 22:30:00</th>\n",
       "      <td>Bainbridge</td>\n",
       "      <td>Colman</td>\n",
       "      <td>30:00.0</td>\n",
       "      <td>31:30.0</td>\n",
       "      <td>03:31.0</td>\n",
       "      <td>32.0</td>\n",
       "    </tr>\n",
       "  </tbody>\n",
       "</table>\n",
       "</div>"
      ],
      "text/plain": [
       "                    departure_terminal arrival_terminal scheduled_departure  \\\n",
       "2013-03-23 19:10:00         Bainbridge           Colman             10:00.0   \n",
       "2013-03-23 20:10:00         Bainbridge           Colman             10:00.0   \n",
       "2013-03-23 20:55:00         Bainbridge           Colman             55:00.0   \n",
       "2013-03-23 21:45:00         Bainbridge           Colman             45:00.0   \n",
       "2013-03-23 22:30:00         Bainbridge           Colman             30:00.0   \n",
       "\n",
       "                    actual_departure Actual_Arrival  TransitTime  \n",
       "2013-03-23 19:10:00          32:08.0        03:29.0         31.0  \n",
       "2013-03-23 20:10:00          10:39.0        42:37.0         32.0  \n",
       "2013-03-23 20:55:00          05:16.0        36:54.0         31.0  \n",
       "2013-03-23 21:45:00          45:56.0        18:06.0         33.0  \n",
       "2013-03-23 22:30:00          31:30.0        03:31.0         32.0  "
      ]
     },
     "execution_count": 34,
     "metadata": {},
     "output_type": "execute_result"
    }
   ],
   "source": [
    "bainbrigdew13.tail()"
   ]
  },
  {
   "cell_type": "markdown",
   "metadata": {},
   "source": [
    "Now lets try <a href = \"https://web.archive.org/web/20130624071202/http:/www.wsdot.wa.gov/ferries/pdf/2013Spring.pdf\"> Spring 2013 </a>"
   ]
  },
  {
   "cell_type": "code",
   "execution_count": 37,
   "metadata": {
    "collapsed": true
   },
   "outputs": [],
   "source": [
    "# Cutting out winter 2013 from bainbridge_departures\n",
    "bainbridge_departures_nw13 = bainbridge_departures.iloc[1851:]"
   ]
  },
  {
   "cell_type": "code",
   "execution_count": 38,
   "metadata": {},
   "outputs": [
    {
     "data": {
      "text/html": [
       "<div>\n",
       "<style scoped>\n",
       "    .dataframe tbody tr th:only-of-type {\n",
       "        vertical-align: middle;\n",
       "    }\n",
       "\n",
       "    .dataframe tbody tr th {\n",
       "        vertical-align: top;\n",
       "    }\n",
       "\n",
       "    .dataframe thead th {\n",
       "        text-align: right;\n",
       "    }\n",
       "</style>\n",
       "<table border=\"1\" class=\"dataframe\">\n",
       "  <thead>\n",
       "    <tr style=\"text-align: right;\">\n",
       "      <th></th>\n",
       "      <th>departure_terminal</th>\n",
       "      <th>arrival_terminal</th>\n",
       "      <th>scheduled_departure</th>\n",
       "      <th>actual_departure</th>\n",
       "      <th>Actual_Arrival</th>\n",
       "      <th>TransitTime</th>\n",
       "    </tr>\n",
       "  </thead>\n",
       "  <tbody>\n",
       "    <tr>\n",
       "      <th>1851</th>\n",
       "      <td>Bainbridge</td>\n",
       "      <td>Colman</td>\n",
       "      <td>00:00.0</td>\n",
       "      <td>00:00.0</td>\n",
       "      <td>31:03.0</td>\n",
       "      <td>31.0</td>\n",
       "    </tr>\n",
       "    <tr>\n",
       "      <th>1852</th>\n",
       "      <td>Bainbridge</td>\n",
       "      <td>Colman</td>\n",
       "      <td>25:00.0</td>\n",
       "      <td>28:00.0</td>\n",
       "      <td>59:24.0</td>\n",
       "      <td>31.0</td>\n",
       "    </tr>\n",
       "    <tr>\n",
       "      <th>1853</th>\n",
       "      <td>Bainbridge</td>\n",
       "      <td>Colman</td>\n",
       "      <td>20:00.0</td>\n",
       "      <td>21:27.0</td>\n",
       "      <td>53:07.0</td>\n",
       "      <td>32.0</td>\n",
       "    </tr>\n",
       "    <tr>\n",
       "      <th>1854</th>\n",
       "      <td>Bainbridge</td>\n",
       "      <td>Colman</td>\n",
       "      <td>05:00.0</td>\n",
       "      <td>05:10.0</td>\n",
       "      <td>36:45.0</td>\n",
       "      <td>31.0</td>\n",
       "    </tr>\n",
       "    <tr>\n",
       "      <th>1855</th>\n",
       "      <td>Bainbridge</td>\n",
       "      <td>Colman</td>\n",
       "      <td>45:00.0</td>\n",
       "      <td>45:00.0</td>\n",
       "      <td>17:25.0</td>\n",
       "      <td>32.0</td>\n",
       "    </tr>\n",
       "  </tbody>\n",
       "</table>\n",
       "</div>"
      ],
      "text/plain": [
       "     departure_terminal arrival_terminal scheduled_departure actual_departure  \\\n",
       "1851         Bainbridge           Colman             00:00.0          00:00.0   \n",
       "1852         Bainbridge           Colman             25:00.0          28:00.0   \n",
       "1853         Bainbridge           Colman             20:00.0          21:27.0   \n",
       "1854         Bainbridge           Colman             05:00.0          05:10.0   \n",
       "1855         Bainbridge           Colman             45:00.0          45:00.0   \n",
       "\n",
       "     Actual_Arrival  TransitTime  \n",
       "1851        31:03.0         31.0  \n",
       "1852        59:24.0         31.0  \n",
       "1853        53:07.0         32.0  \n",
       "1854        36:45.0         31.0  \n",
       "1855        17:25.0         32.0  "
      ]
     },
     "execution_count": 38,
     "metadata": {},
     "output_type": "execute_result"
    }
   ],
   "source": [
    "bainbridge_departures_nw13.head()"
   ]
  },
  {
   "cell_type": "markdown",
   "metadata": {},
   "source": [
    "Spring 2013 schedule is effective Sunday, March 24, 2013 - Saturday, June 15, 2013"
   ]
  },
  {
   "cell_type": "code",
   "execution_count": null,
   "metadata": {
    "collapsed": true
   },
   "outputs": [],
   "source": [
    "# All are times departing Bainbridge Island Spring 2013\n",
    "\n",
    "# mfs13 means Monday-Friday Spring 2013\n",
    "mfs13_scheduled_departures_24h = [\"0:55:00\", \"4:45:00\", \"5:20:00\", \"6:20:00\", \"7:05:00\", \"7:55:00\",\"8:45:00\", \"9:40:00\", \n",
    "                            \"10:25:00\", \"11:30:00\", \"12:20:00\", \"13:10:00\", \"14:05:00\", \"14:55:00\", \"15:50:00\", \"16:35:00\", \n",
    "                            \"17:30:00\", \"18:30:00\", \"19:10:00\", \"20:10:00\", \"20:55:00\", \"21:45:00\", \"22:35:00\"]\n",
    "\n",
    "# sats13 means Saturday Spring 2013\n",
    "sats13_scheduled_departures_24h = [\"0:55:00\",\"05:20:00\",\"07:05:00\",\"07:55:00\",\"08:45:00\",\"9:35:00\", \"10:25:00\",\n",
    "                                  \"11:30:00\",\"12:20:00\",\"13:10:00\",\"14:05:00\",\"14:55:00\",\"15:50:00\",\n",
    "                                  \"16:35:00\",\"17:30:00\",\"18:30:00\",\"19:10:00\",\"20:10:00\",\"20:55:00\",\n",
    "                                  \"21:45:00\",\"22:30:00\",\"0:00:00\",\"1:25:00\"]\n",
    "\n",
    "# may27s13 means may 27 Spring 2013\n",
    "may27s13_scheduled_departures_24h = sats13_scheduled_departures_24h\n",
    "\n",
    "# suns13 means Sunday Spring 2013\n",
    "suns13_scheduled_departures_24h = [\"05:20:00\",\"07:05:00\",\"08:45:00\",\"9:35:00\", \"10:25:00\",\n",
    "                                  \"11:30:00\",\"12:20:00\",\"13:10:00\",\"14:05:00\",\"14:55:00\",\"15:50:00\",\n",
    "                                  \"16:35:00\",\"17:30:00\",\"18:30:00\",\"19:10:00\",\"20:10:00\",\"20:55:00\",\n",
    "                                  \"21:45:00\",\"22:30:00\",\"0:00:00\",\"1:25:00\"]\n",
    "\n",
    "#s13 means Spring 2013\n",
    "s13_scheduled_departures_24h = (5*mfw13_scheduled_departures_24h) + satw13_scheduled_departures_24h + sunw13_scheduled_departures_24h"
   ]
  }
 ],
 "metadata": {
  "kernelspec": {
   "display_name": "Python 3",
   "language": "python",
   "name": "python3"
  },
  "language_info": {
   "codemirror_mode": {
    "name": "ipython",
    "version": 3
   },
   "file_extension": ".py",
   "mimetype": "text/x-python",
   "name": "python",
   "nbconvert_exporter": "python",
   "pygments_lexer": "ipython3",
   "version": "3.6.2"
  }
 },
 "nbformat": 4,
 "nbformat_minor": 2
}
