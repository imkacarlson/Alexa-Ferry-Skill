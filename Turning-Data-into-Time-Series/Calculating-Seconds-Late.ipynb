{
 "cells": [
  {
   "cell_type": "markdown",
   "metadata": {},
   "source": [
    "The purpose of this notebook is to loop through the rows of a dataset and and calculate the amount of time that the ferry was delayed for each row. Then a new column is created with this data."
   ]
  },
  {
   "cell_type": "code",
   "execution_count": 1,
   "metadata": {
    "collapsed": true
   },
   "outputs": [],
   "source": [
    "import pandas as pd\n",
    "\n",
    "df = pd.read_csv(\"../Cleaned-Data/Bainbridge_Departures_2013_Indexed.csv\", parse_dates = [\"timestamps\"], index_col = \"timestamps\")"
   ]
  },
  {
   "cell_type": "code",
   "execution_count": 2,
   "metadata": {},
   "outputs": [
    {
     "data": {
      "text/html": [
       "<div>\n",
       "<style scoped>\n",
       "    .dataframe tbody tr th:only-of-type {\n",
       "        vertical-align: middle;\n",
       "    }\n",
       "\n",
       "    .dataframe tbody tr th {\n",
       "        vertical-align: top;\n",
       "    }\n",
       "\n",
       "    .dataframe thead th {\n",
       "        text-align: right;\n",
       "    }\n",
       "</style>\n",
       "<table border=\"1\" class=\"dataframe\">\n",
       "  <thead>\n",
       "    <tr style=\"text-align: right;\">\n",
       "      <th></th>\n",
       "      <th>departure_terminal</th>\n",
       "      <th>arrival_terminal</th>\n",
       "      <th>scheduled_departure</th>\n",
       "      <th>actual_departure</th>\n",
       "      <th>Actual_Arrival</th>\n",
       "      <th>TransitTime</th>\n",
       "    </tr>\n",
       "    <tr>\n",
       "      <th>timestamps</th>\n",
       "      <th></th>\n",
       "      <th></th>\n",
       "      <th></th>\n",
       "      <th></th>\n",
       "      <th></th>\n",
       "      <th></th>\n",
       "    </tr>\n",
       "  </thead>\n",
       "  <tbody>\n",
       "    <tr>\n",
       "      <th>2013-01-01 00:55:00</th>\n",
       "      <td>Bainbridge</td>\n",
       "      <td>Colman</td>\n",
       "      <td>55:00.0</td>\n",
       "      <td>05:56.0</td>\n",
       "      <td>37:37.0</td>\n",
       "      <td>32.0</td>\n",
       "    </tr>\n",
       "    <tr>\n",
       "      <th>2013-01-01 04:45:00</th>\n",
       "      <td>Bainbridge</td>\n",
       "      <td>NaN</td>\n",
       "      <td>45:00.0</td>\n",
       "      <td>NaN</td>\n",
       "      <td>NaN</td>\n",
       "      <td>NaN</td>\n",
       "    </tr>\n",
       "    <tr>\n",
       "      <th>2013-01-01 05:20:00</th>\n",
       "      <td>Bainbridge</td>\n",
       "      <td>Colman</td>\n",
       "      <td>20:00.0</td>\n",
       "      <td>19:01.0</td>\n",
       "      <td>49:40.0</td>\n",
       "      <td>30.0</td>\n",
       "    </tr>\n",
       "    <tr>\n",
       "      <th>2013-01-01 06:20:00</th>\n",
       "      <td>Bainbridge</td>\n",
       "      <td>NaN</td>\n",
       "      <td>20:00.0</td>\n",
       "      <td>NaN</td>\n",
       "      <td>NaN</td>\n",
       "      <td>NaN</td>\n",
       "    </tr>\n",
       "    <tr>\n",
       "      <th>2013-01-01 07:05:00</th>\n",
       "      <td>Bainbridge</td>\n",
       "      <td>NaN</td>\n",
       "      <td>05:00.0</td>\n",
       "      <td>06:16.0</td>\n",
       "      <td>NaN</td>\n",
       "      <td>NaN</td>\n",
       "    </tr>\n",
       "  </tbody>\n",
       "</table>\n",
       "</div>"
      ],
      "text/plain": [
       "                    departure_terminal arrival_terminal scheduled_departure  \\\n",
       "timestamps                                                                    \n",
       "2013-01-01 00:55:00         Bainbridge           Colman             55:00.0   \n",
       "2013-01-01 04:45:00         Bainbridge              NaN             45:00.0   \n",
       "2013-01-01 05:20:00         Bainbridge           Colman             20:00.0   \n",
       "2013-01-01 06:20:00         Bainbridge              NaN             20:00.0   \n",
       "2013-01-01 07:05:00         Bainbridge              NaN             05:00.0   \n",
       "\n",
       "                    actual_departure Actual_Arrival  TransitTime  \n",
       "timestamps                                                        \n",
       "2013-01-01 00:55:00          05:56.0        37:37.0         32.0  \n",
       "2013-01-01 04:45:00              NaN            NaN          NaN  \n",
       "2013-01-01 05:20:00          19:01.0        49:40.0         30.0  \n",
       "2013-01-01 06:20:00              NaN            NaN          NaN  \n",
       "2013-01-01 07:05:00          06:16.0            NaN          NaN  "
      ]
     },
     "execution_count": 2,
     "metadata": {},
     "output_type": "execute_result"
    }
   ],
   "source": [
    "df.head()"
   ]
  },
  {
   "cell_type": "code",
   "execution_count": 4,
   "metadata": {
    "collapsed": true
   },
   "outputs": [],
   "source": [
    "def minutesToSeconds(minutes):\n",
    "    if(\":\" in minutes):\n",
    "        m, s = minutes.split(':')\n",
    "        return (int(m)*60)+int(float(s))\n",
    "    return (int(minutes)*60)\n",
    "\n",
    "def pastHourDepartureDifference(actual_departure_minutes, scheduled_departure_minutes):\n",
    "    # Calculate how far from end of the hour schedule_departure_minutes is\n",
    "    actual_departure_past_hour = (60*60) - scheduled_departure_minutes\n",
    "    \n",
    "    # Add this on to the actual departure minutes\n",
    "    return actual_departure_past_hour + actual_departure_minutes"
   ]
  },
  {
   "cell_type": "code",
   "execution_count": 17,
   "metadata": {},
   "outputs": [],
   "source": [
    "def calculate_seconds_late(df):\n",
    "    seconds_late = []\n",
    "\n",
    "    for index, row in df.iterrows():\n",
    "\n",
    "        if(not str(row.iloc[3]) == \"nan\"):\n",
    "            actual_departure_seconds = minutesToSeconds(row.iloc[3])\n",
    "        else:\n",
    "            seconds_late.append(float('nan'))\n",
    "            continue\n",
    "\n",
    "        scheduled_departure_seconds = minutesToSeconds((row.iloc[2].split(\":\")[0]))\n",
    "\n",
    "        # ex: actual_departure (05:56.0), scheduled_departure (0:55:00)\n",
    "        if(actual_departure_seconds < scheduled_departure_seconds):\n",
    "            difference = abs(actual_departure_seconds - scheduled_departure_seconds)\n",
    "\n",
    "            # Making the assumption here that more than 5 minutes early is not possible.\n",
    "            if(difference > (5*60)):\n",
    "                seconds_late.append(pastHourDepartureDifference(actual_departure_seconds, scheduled_departure_seconds))\n",
    "            #If less than 5 minutes then lets take it\n",
    "            else:\n",
    "                seconds_late.append((actual_departure_seconds - scheduled_departure_seconds))      \n",
    "        elif(actual_departure_seconds > scheduled_departure_seconds):\n",
    "            seconds_late.append(actual_departure_seconds - scheduled_departure_seconds)\n",
    "        elif(actual_departure_seconds == scheduled_departure_seconds):\n",
    "            seconds_late.append(0)\n",
    "            \n",
    "    return seconds_late"
   ]
  },
  {
   "cell_type": "code",
   "execution_count": 18,
   "metadata": {
    "collapsed": true
   },
   "outputs": [],
   "source": [
    "bainbrigde_2013_seconds_late = calculate_seconds_late(df)"
   ]
  },
  {
   "cell_type": "code",
   "execution_count": 19,
   "metadata": {},
   "outputs": [
    {
     "data": {
      "text/plain": [
       "8234"
      ]
     },
     "execution_count": 19,
     "metadata": {},
     "output_type": "execute_result"
    }
   ],
   "source": [
    "len(bainbrigde_2013_seconds_late)"
   ]
  },
  {
   "cell_type": "code",
   "execution_count": 20,
   "metadata": {},
   "outputs": [
    {
     "data": {
      "text/plain": [
       "(8234, 7)"
      ]
     },
     "execution_count": 20,
     "metadata": {},
     "output_type": "execute_result"
    }
   ],
   "source": [
    "df.shape"
   ]
  },
  {
   "cell_type": "code",
   "execution_count": 21,
   "metadata": {
    "collapsed": true
   },
   "outputs": [],
   "source": [
    "df[\"seconds_late\"] = seconds_late"
   ]
  },
  {
   "cell_type": "code",
   "execution_count": 22,
   "metadata": {},
   "outputs": [
    {
     "data": {
      "text/html": [
       "<div>\n",
       "<style scoped>\n",
       "    .dataframe tbody tr th:only-of-type {\n",
       "        vertical-align: middle;\n",
       "    }\n",
       "\n",
       "    .dataframe tbody tr th {\n",
       "        vertical-align: top;\n",
       "    }\n",
       "\n",
       "    .dataframe thead th {\n",
       "        text-align: right;\n",
       "    }\n",
       "</style>\n",
       "<table border=\"1\" class=\"dataframe\">\n",
       "  <thead>\n",
       "    <tr style=\"text-align: right;\">\n",
       "      <th></th>\n",
       "      <th>departure_terminal</th>\n",
       "      <th>arrival_terminal</th>\n",
       "      <th>scheduled_departure</th>\n",
       "      <th>actual_departure</th>\n",
       "      <th>Actual_Arrival</th>\n",
       "      <th>TransitTime</th>\n",
       "      <th>seconds_late</th>\n",
       "    </tr>\n",
       "    <tr>\n",
       "      <th>timestamps</th>\n",
       "      <th></th>\n",
       "      <th></th>\n",
       "      <th></th>\n",
       "      <th></th>\n",
       "      <th></th>\n",
       "      <th></th>\n",
       "      <th></th>\n",
       "    </tr>\n",
       "  </thead>\n",
       "  <tbody>\n",
       "    <tr>\n",
       "      <th>2013-01-01 00:55:00</th>\n",
       "      <td>Bainbridge</td>\n",
       "      <td>Colman</td>\n",
       "      <td>55:00.0</td>\n",
       "      <td>05:56.0</td>\n",
       "      <td>37:37.0</td>\n",
       "      <td>32.0</td>\n",
       "      <td>656.0</td>\n",
       "    </tr>\n",
       "    <tr>\n",
       "      <th>2013-01-01 04:45:00</th>\n",
       "      <td>Bainbridge</td>\n",
       "      <td>NaN</td>\n",
       "      <td>45:00.0</td>\n",
       "      <td>NaN</td>\n",
       "      <td>NaN</td>\n",
       "      <td>NaN</td>\n",
       "      <td>NaN</td>\n",
       "    </tr>\n",
       "    <tr>\n",
       "      <th>2013-01-01 05:20:00</th>\n",
       "      <td>Bainbridge</td>\n",
       "      <td>Colman</td>\n",
       "      <td>20:00.0</td>\n",
       "      <td>19:01.0</td>\n",
       "      <td>49:40.0</td>\n",
       "      <td>30.0</td>\n",
       "      <td>-59.0</td>\n",
       "    </tr>\n",
       "    <tr>\n",
       "      <th>2013-01-01 06:20:00</th>\n",
       "      <td>Bainbridge</td>\n",
       "      <td>NaN</td>\n",
       "      <td>20:00.0</td>\n",
       "      <td>NaN</td>\n",
       "      <td>NaN</td>\n",
       "      <td>NaN</td>\n",
       "      <td>NaN</td>\n",
       "    </tr>\n",
       "    <tr>\n",
       "      <th>2013-01-01 07:05:00</th>\n",
       "      <td>Bainbridge</td>\n",
       "      <td>NaN</td>\n",
       "      <td>05:00.0</td>\n",
       "      <td>06:16.0</td>\n",
       "      <td>NaN</td>\n",
       "      <td>NaN</td>\n",
       "      <td>76.0</td>\n",
       "    </tr>\n",
       "  </tbody>\n",
       "</table>\n",
       "</div>"
      ],
      "text/plain": [
       "                    departure_terminal arrival_terminal scheduled_departure  \\\n",
       "timestamps                                                                    \n",
       "2013-01-01 00:55:00         Bainbridge           Colman             55:00.0   \n",
       "2013-01-01 04:45:00         Bainbridge              NaN             45:00.0   \n",
       "2013-01-01 05:20:00         Bainbridge           Colman             20:00.0   \n",
       "2013-01-01 06:20:00         Bainbridge              NaN             20:00.0   \n",
       "2013-01-01 07:05:00         Bainbridge              NaN             05:00.0   \n",
       "\n",
       "                    actual_departure Actual_Arrival  TransitTime  seconds_late  \n",
       "timestamps                                                                      \n",
       "2013-01-01 00:55:00          05:56.0        37:37.0         32.0         656.0  \n",
       "2013-01-01 04:45:00              NaN            NaN          NaN           NaN  \n",
       "2013-01-01 05:20:00          19:01.0        49:40.0         30.0         -59.0  \n",
       "2013-01-01 06:20:00              NaN            NaN          NaN           NaN  \n",
       "2013-01-01 07:05:00          06:16.0            NaN          NaN          76.0  "
      ]
     },
     "execution_count": 22,
     "metadata": {},
     "output_type": "execute_result"
    }
   ],
   "source": [
    "df.head()"
   ]
  },
  {
   "cell_type": "code",
   "execution_count": 23,
   "metadata": {},
   "outputs": [
    {
     "data": {
      "text/html": [
       "<div>\n",
       "<style scoped>\n",
       "    .dataframe tbody tr th:only-of-type {\n",
       "        vertical-align: middle;\n",
       "    }\n",
       "\n",
       "    .dataframe tbody tr th {\n",
       "        vertical-align: top;\n",
       "    }\n",
       "\n",
       "    .dataframe thead th {\n",
       "        text-align: right;\n",
       "    }\n",
       "</style>\n",
       "<table border=\"1\" class=\"dataframe\">\n",
       "  <thead>\n",
       "    <tr style=\"text-align: right;\">\n",
       "      <th></th>\n",
       "      <th>departure_terminal</th>\n",
       "      <th>arrival_terminal</th>\n",
       "      <th>scheduled_departure</th>\n",
       "      <th>actual_departure</th>\n",
       "      <th>Actual_Arrival</th>\n",
       "      <th>TransitTime</th>\n",
       "      <th>seconds_late</th>\n",
       "    </tr>\n",
       "    <tr>\n",
       "      <th>timestamps</th>\n",
       "      <th></th>\n",
       "      <th></th>\n",
       "      <th></th>\n",
       "      <th></th>\n",
       "      <th></th>\n",
       "      <th></th>\n",
       "      <th></th>\n",
       "    </tr>\n",
       "  </thead>\n",
       "  <tbody>\n",
       "    <tr>\n",
       "      <th>2013-12-31 19:10:00</th>\n",
       "      <td>Bainbridge</td>\n",
       "      <td>Colman</td>\n",
       "      <td>10:00.0</td>\n",
       "      <td>10:03.0</td>\n",
       "      <td>44:26.0</td>\n",
       "      <td>34.0</td>\n",
       "      <td>3.0</td>\n",
       "    </tr>\n",
       "    <tr>\n",
       "      <th>2013-12-31 20:10:00</th>\n",
       "      <td>Bainbridge</td>\n",
       "      <td>Colman</td>\n",
       "      <td>10:00.0</td>\n",
       "      <td>10:53.0</td>\n",
       "      <td>41:57.0</td>\n",
       "      <td>31.0</td>\n",
       "      <td>53.0</td>\n",
       "    </tr>\n",
       "    <tr>\n",
       "      <th>2013-12-31 20:55:00</th>\n",
       "      <td>Bainbridge</td>\n",
       "      <td>Colman</td>\n",
       "      <td>55:00.0</td>\n",
       "      <td>55:00.0</td>\n",
       "      <td>26:36.0</td>\n",
       "      <td>31.0</td>\n",
       "      <td>0.0</td>\n",
       "    </tr>\n",
       "    <tr>\n",
       "      <th>2013-12-31 21:45:00</th>\n",
       "      <td>Bainbridge</td>\n",
       "      <td>Colman</td>\n",
       "      <td>45:00.0</td>\n",
       "      <td>45:17.0</td>\n",
       "      <td>17:09.0</td>\n",
       "      <td>32.0</td>\n",
       "      <td>17.0</td>\n",
       "    </tr>\n",
       "    <tr>\n",
       "      <th>2013-12-31 22:35:00</th>\n",
       "      <td>Bainbridge</td>\n",
       "      <td>Colman</td>\n",
       "      <td>35:00.0</td>\n",
       "      <td>38:45.0</td>\n",
       "      <td>13:36.0</td>\n",
       "      <td>35.0</td>\n",
       "      <td>225.0</td>\n",
       "    </tr>\n",
       "  </tbody>\n",
       "</table>\n",
       "</div>"
      ],
      "text/plain": [
       "                    departure_terminal arrival_terminal scheduled_departure  \\\n",
       "timestamps                                                                    \n",
       "2013-12-31 19:10:00         Bainbridge           Colman             10:00.0   \n",
       "2013-12-31 20:10:00         Bainbridge           Colman             10:00.0   \n",
       "2013-12-31 20:55:00         Bainbridge           Colman             55:00.0   \n",
       "2013-12-31 21:45:00         Bainbridge           Colman             45:00.0   \n",
       "2013-12-31 22:35:00         Bainbridge           Colman             35:00.0   \n",
       "\n",
       "                    actual_departure Actual_Arrival  TransitTime  seconds_late  \n",
       "timestamps                                                                      \n",
       "2013-12-31 19:10:00          10:03.0        44:26.0         34.0           3.0  \n",
       "2013-12-31 20:10:00          10:53.0        41:57.0         31.0          53.0  \n",
       "2013-12-31 20:55:00          55:00.0        26:36.0         31.0           0.0  \n",
       "2013-12-31 21:45:00          45:17.0        17:09.0         32.0          17.0  \n",
       "2013-12-31 22:35:00          38:45.0        13:36.0         35.0         225.0  "
      ]
     },
     "execution_count": 23,
     "metadata": {},
     "output_type": "execute_result"
    }
   ],
   "source": [
    "df.tail()"
   ]
  },
  {
   "cell_type": "code",
   "execution_count": 24,
   "metadata": {
    "collapsed": true
   },
   "outputs": [],
   "source": [
    "df.to_csv(\"Bainbridge_Departures_2013_with_Seconds_Late.csv\")"
   ]
  }
 ],
 "metadata": {
  "kernelspec": {
   "display_name": "Python 3",
   "language": "python",
   "name": "python3"
  },
  "language_info": {
   "codemirror_mode": {
    "name": "ipython",
    "version": 3
   },
   "file_extension": ".py",
   "mimetype": "text/x-python",
   "name": "python",
   "nbconvert_exporter": "python",
   "pygments_lexer": "ipython3",
   "version": "3.6.2"
  }
 },
 "nbformat": 4,
 "nbformat_minor": 2
}
