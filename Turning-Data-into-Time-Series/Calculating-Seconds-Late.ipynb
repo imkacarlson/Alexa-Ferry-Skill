{
 "cells": [
  {
   "cell_type": "markdown",
   "metadata": {},
   "source": [
    "The purpose of this notebook is to loop through the rows of a dataset and and calculate the amount of time that the ferry was delayed for each row. Then a new column is created with this data. This loop below does this for all `csv` files in `\"../csv-files/Step 1 - Indexed/\"` "
   ]
  },
  {
   "cell_type": "code",
   "execution_count": 1,
   "metadata": {
    "collapsed": true
   },
   "outputs": [],
   "source": [
    "def minutesToSeconds(minutes):\n",
    "    if(\":\" in minutes):\n",
    "        m, s = minutes.split(':')\n",
    "        return (int(m)*60)+int(float(s))\n",
    "    return (int(minutes)*60)\n",
    "\n",
    "def pastHourDepartureDifference(actual_departure_minutes, scheduled_departure_minutes):\n",
    "    # Calculate how far from end of the hour schedule_departure_minutes is\n",
    "    actual_departure_past_hour = (60*60) - scheduled_departure_minutes\n",
    "    \n",
    "    # Add this on to the actual departure minutes\n",
    "    return actual_departure_past_hour + actual_departure_minutes"
   ]
  },
  {
   "cell_type": "code",
   "execution_count": 2,
   "metadata": {
    "collapsed": true
   },
   "outputs": [],
   "source": [
    "def calculate_seconds_late(df):\n",
    "    seconds_late = []\n",
    "\n",
    "    for index, row in df.iterrows():\n",
    "\n",
    "        if(not str(row.iloc[4]) == \"nan\"):\n",
    "            actual_departure_seconds = minutesToSeconds(row.iloc[4])\n",
    "        else:\n",
    "            seconds_late.append(float('nan'))\n",
    "            continue\n",
    "\n",
    "        scheduled_departure_seconds = minutesToSeconds((row.iloc[3].split(\":\")[0]))\n",
    "\n",
    "        # ex: actual_departure (05:56.0), scheduled_departure (0:55:00)\n",
    "        if(actual_departure_seconds < scheduled_departure_seconds):\n",
    "            difference = abs(actual_departure_seconds - scheduled_departure_seconds)\n",
    "\n",
    "            # Making the assumption here that more than 5 minutes early is not possible.\n",
    "            if(difference > (5*60)):\n",
    "                seconds_late.append(pastHourDepartureDifference(actual_departure_seconds, scheduled_departure_seconds))\n",
    "            #If less than 5 minutes then lets take it\n",
    "            else:\n",
    "                seconds_late.append((actual_departure_seconds - scheduled_departure_seconds))      \n",
    "        elif(actual_departure_seconds > scheduled_departure_seconds):\n",
    "            seconds_late.append(actual_departure_seconds - scheduled_departure_seconds)\n",
    "        elif(actual_departure_seconds == scheduled_departure_seconds):\n",
    "            seconds_late.append(0)\n",
    "            \n",
    "    return seconds_late"
   ]
  },
  {
   "cell_type": "code",
   "execution_count": 3,
   "metadata": {
    "collapsed": true
   },
   "outputs": [],
   "source": [
    "import os\n",
    "import pandas as pd\n",
    "\n",
    "for filename in os.listdir(\"../csv-files/Step 1 - Indexed/\"):\n",
    "    df = pd.read_csv(\"../csv-files/Step 1 - Indexed/%s\" % (filename), parse_dates = [0])\n",
    "    seconds_late = calculate_seconds_late(df)\n",
    "    df[\"seconds_late\"] = seconds_late\n",
    "    df.to_csv(\"../csv-files/Step 2 - Seconds Late/Bainbridge_Departures_%s_with_Seconds_Late.csv\" % filename.split(\"_\")[2],\n",
    "             index = False)"
   ]
  }
 ],
 "metadata": {
  "kernelspec": {
   "display_name": "Python 3",
   "language": "python",
   "name": "python3"
  },
  "language_info": {
   "codemirror_mode": {
    "name": "ipython",
    "version": 3
   },
   "file_extension": ".py",
   "mimetype": "text/x-python",
   "name": "python",
   "nbconvert_exporter": "python",
   "pygments_lexer": "ipython3",
   "version": "3.6.2"
  }
 },
 "nbformat": 4,
 "nbformat_minor": 2
}
