{
 "cells": [
  {
   "cell_type": "markdown",
   "metadata": {},
   "source": [
    "This time series data is not consistent. The goal of the notebook is to use Linear Interpolation to generate consiste timestamps for every 5 minutes.\n",
    "\n",
    "First I will generate more timestamps for evey 5 minute interval."
   ]
  },
  {
   "cell_type": "markdown",
   "metadata": {},
   "source": [
    "<a href = \"https://stackoverflow.com/questions/13295735/how-can-i-replace-all-the-nan-values-with-zeros-in-a-column-of-a-pandas-datafra\">How can I replace all the NaN values with Zero's in a column of a pandas dataframe</a>"
   ]
  },
  {
   "cell_type": "code",
   "execution_count": 3,
   "metadata": {
    "collapsed": true
   },
   "outputs": [],
   "source": [
    "def generate_filler_timestamps(df, year, step = 5):\n",
    "    prev_date = df.iloc[0].name\n",
    "\n",
    "    tdelta = datetime.timedelta(minutes = step)\n",
    "\n",
    "    original_indicies = df.index.to_series()\n",
    "\n",
    "    new_timestamps = []\n",
    "\n",
    "    while (not prev_date == datetime.datetime(year, 12, 31, 23, 55)):\n",
    "        if(prev_date in original_indicies):\n",
    "            prev_date = prev_date + tdelta\n",
    "            continue\n",
    "        new_timestamps.append(prev_date)\n",
    "        prev_date = prev_date + tdelta\n",
    "\n",
    "    new_timestamps.append(datetime.datetime(year, 12, 31, 23,55,0))\n",
    "\n",
    "    df2 = pd.DataFrame(index = new_timestamps, columns=[\"departure_terminal\", \"arrival_terminal\",\n",
    "                                                        \"scheduled_departure\", \"actual_departure\",\n",
    "                                                        \"Actual_Arrival\", \"TransitTime\", \"seconds_late\"])\n",
    "    df2[\"departure_terminal\"].fillna(\"Bainbridge\", inplace = True)\n",
    "    df2[\"arrival_terminal\"].fillna(\"Colman\", inplace = True)\n",
    "    df2.index.rename(\"timestamps\", inplace = True)\n",
    "\n",
    "    df3 = df.append(df2)\n",
    "    df3 = df3.sort_values(by = \"timestamps\")\n",
    "    \n",
    "    return df3"
   ]
  },
  {
   "cell_type": "code",
   "execution_count": 4,
   "metadata": {},
   "outputs": [],
   "source": [
    "import os\n",
    "import pandas as pd\n",
    "import datetime\n",
    "\n",
    "for filename in os.listdir(\"../csv-files/Step 2 - Seconds Late/\"):\n",
    "    df = pd.read_csv(\"../csv-files/Step 2 - Seconds Late/%s\" % (filename), parse_dates = [0], index_col = [0])\n",
    "    df.index.name = \"timestamps\"\n",
    "    year = filename.split(\"_\")[2]\n",
    "    dfLarge = generate_filler_timestamps(df, int(year))\n",
    "    dfLarge[\"seconds_late\"] = dfLarge[\"seconds_late\"].interpolate()\n",
    "    dfLarge.to_csv(\"../csv-files/Step 3 - Interpolated/Bainbridge_Departures_%s_Interpolated.csv\" % year)"
   ]
  }
 ],
 "metadata": {
  "kernelspec": {
   "display_name": "Python 3",
   "language": "python",
   "name": "python3"
  }
 },
 "nbformat": 4,
 "nbformat_minor": 2
}
