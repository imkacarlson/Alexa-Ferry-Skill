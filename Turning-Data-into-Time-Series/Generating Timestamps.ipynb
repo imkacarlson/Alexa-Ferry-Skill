{
 "cells": [
  {
   "cell_type": "markdown",
   "metadata": {},
   "source": [
    "## File 1: 2001 - 2006"
   ]
  },
  {
   "cell_type": "markdown",
   "metadata": {},
   "source": [
    "Monday, January 1, 2000"
   ]
  },
  {
   "cell_type": "code",
   "execution_count": 3,
   "metadata": {
    "collapsed": true
   },
   "outputs": [],
   "source": [
    "import pandas as pd\n",
    "import numpy as np\n",
    "\n",
    "laptop_file_path = 'C:/Users/Keith/Google Drive/H Drive Full Backup/Fall 2018/CS 495 - Senior Seminar/Ferry Data/P000413-090518_2001-2006.csv'\n",
    "dataset = pd.read_csv(laptop_file_path)"
   ]
  },
  {
   "cell_type": "code",
   "execution_count": 4,
   "metadata": {
    "scrolled": true
   },
   "outputs": [
    {
     "data": {
      "text/html": [
       "<div>\n",
       "<style scoped>\n",
       "    .dataframe tbody tr th:only-of-type {\n",
       "        vertical-align: middle;\n",
       "    }\n",
       "\n",
       "    .dataframe tbody tr th {\n",
       "        vertical-align: top;\n",
       "    }\n",
       "\n",
       "    .dataframe thead th {\n",
       "        text-align: right;\n",
       "    }\n",
       "</style>\n",
       "<table border=\"1\" class=\"dataframe\">\n",
       "  <thead>\n",
       "    <tr style=\"text-align: right;\">\n",
       "      <th></th>\n",
       "      <th>departure_terminal</th>\n",
       "      <th>arrival_terminal</th>\n",
       "      <th>scheduled_departure</th>\n",
       "      <th>actual_departure</th>\n",
       "      <th>Actual_Arrival</th>\n",
       "      <th>TransitTime</th>\n",
       "    </tr>\n",
       "  </thead>\n",
       "  <tbody>\n",
       "    <tr>\n",
       "      <th>0</th>\n",
       "      <td>Edmonds</td>\n",
       "      <td>Kingston</td>\n",
       "      <td>05:00.0</td>\n",
       "      <td>06:47.0</td>\n",
       "      <td>27:47.0</td>\n",
       "      <td>21.0</td>\n",
       "    </tr>\n",
       "    <tr>\n",
       "      <th>1</th>\n",
       "      <td>Kingston</td>\n",
       "      <td>Edmonds</td>\n",
       "      <td>10:00.0</td>\n",
       "      <td>11:40.0</td>\n",
       "      <td>32:10.0</td>\n",
       "      <td>21.0</td>\n",
       "    </tr>\n",
       "    <tr>\n",
       "      <th>2</th>\n",
       "      <td>Southworth</td>\n",
       "      <td>NaN</td>\n",
       "      <td>15:00.0</td>\n",
       "      <td>NaN</td>\n",
       "      <td>NaN</td>\n",
       "      <td>NaN</td>\n",
       "    </tr>\n",
       "    <tr>\n",
       "      <th>3</th>\n",
       "      <td>Vashon</td>\n",
       "      <td>Southworth</td>\n",
       "      <td>15:00.0</td>\n",
       "      <td>16:40.0</td>\n",
       "      <td>27:40.0</td>\n",
       "      <td>11.0</td>\n",
       "    </tr>\n",
       "    <tr>\n",
       "      <th>4</th>\n",
       "      <td>Bainbridge</td>\n",
       "      <td>Colman</td>\n",
       "      <td>20:00.0</td>\n",
       "      <td>21:10.0</td>\n",
       "      <td>50:30.0</td>\n",
       "      <td>29.0</td>\n",
       "    </tr>\n",
       "    <tr>\n",
       "      <th>5</th>\n",
       "      <td>Colman</td>\n",
       "      <td>Bainbridge</td>\n",
       "      <td>25:00.0</td>\n",
       "      <td>26:17.0</td>\n",
       "      <td>54:32.0</td>\n",
       "      <td>28.0</td>\n",
       "    </tr>\n",
       "    <tr>\n",
       "      <th>6</th>\n",
       "      <td>Tahlequah</td>\n",
       "      <td>Pt. Defiance</td>\n",
       "      <td>25:00.0</td>\n",
       "      <td>27:04.0</td>\n",
       "      <td>37:33.0</td>\n",
       "      <td>10.0</td>\n",
       "    </tr>\n",
       "    <tr>\n",
       "      <th>7</th>\n",
       "      <td>Clinton</td>\n",
       "      <td>Mukilteo</td>\n",
       "      <td>30:00.0</td>\n",
       "      <td>32:52.0</td>\n",
       "      <td>43:52.0</td>\n",
       "      <td>11.0</td>\n",
       "    </tr>\n",
       "    <tr>\n",
       "      <th>8</th>\n",
       "      <td>Fauntleroy</td>\n",
       "      <td>Vashon</td>\n",
       "      <td>30:00.0</td>\n",
       "      <td>32:02.0</td>\n",
       "      <td>46:17.0</td>\n",
       "      <td>14.0</td>\n",
       "    </tr>\n",
       "    <tr>\n",
       "      <th>9</th>\n",
       "      <td>Keystone</td>\n",
       "      <td>Port Townsend</td>\n",
       "      <td>30:00.0</td>\n",
       "      <td>33:02.0</td>\n",
       "      <td>02:47.0</td>\n",
       "      <td>29.0</td>\n",
       "    </tr>\n",
       "  </tbody>\n",
       "</table>\n",
       "</div>"
      ],
      "text/plain": [
       "  departure_terminal arrival_terminal scheduled_departure actual_departure  \\\n",
       "0            Edmonds         Kingston             05:00.0          06:47.0   \n",
       "1           Kingston          Edmonds             10:00.0          11:40.0   \n",
       "2         Southworth              NaN             15:00.0              NaN   \n",
       "3             Vashon       Southworth             15:00.0          16:40.0   \n",
       "4         Bainbridge           Colman             20:00.0          21:10.0   \n",
       "5             Colman       Bainbridge             25:00.0          26:17.0   \n",
       "6          Tahlequah     Pt. Defiance             25:00.0          27:04.0   \n",
       "7            Clinton         Mukilteo             30:00.0          32:52.0   \n",
       "8         Fauntleroy           Vashon             30:00.0          32:02.0   \n",
       "9           Keystone    Port Townsend             30:00.0          33:02.0   \n",
       "\n",
       "  Actual_Arrival  TransitTime  \n",
       "0        27:47.0         21.0  \n",
       "1        32:10.0         21.0  \n",
       "2            NaN          NaN  \n",
       "3        27:40.0         11.0  \n",
       "4        50:30.0         29.0  \n",
       "5        54:32.0         28.0  \n",
       "6        37:33.0         10.0  \n",
       "7        43:52.0         11.0  \n",
       "8        46:17.0         14.0  \n",
       "9        02:47.0         29.0  "
      ]
     },
     "execution_count": 4,
     "metadata": {},
     "output_type": "execute_result"
    }
   ],
   "source": [
    "dataset.head(10)"
   ]
  },
  {
   "cell_type": "markdown",
   "metadata": {},
   "source": [
    "The first entry looks like it is the 12:05 pm sailing leaving Edmonds in <a href = \"https://web.archive.org/web/20120409013013/http:/www.wsdot.wa.gov/ferries/pdf/Fall2000-All.pdf\"> Fall 2000 Sailing Schedule </a>"
   ]
  },
  {
   "cell_type": "markdown",
   "metadata": {},
   "source": [
    "<a href = \"https://www.pythonforbeginners.com/basics/getting-user-input-from-the-keyboard\"> Getting user input from the keyboard</a>"
   ]
  },
  {
   "cell_type": "code",
   "execution_count": 5,
   "metadata": {},
   "outputs": [
    {
     "name": "stdout",
     "output_type": "stream",
     "text": [
      "What is your name? Keith\n"
     ]
    }
   ],
   "source": [
    "name = input(\"What is your name? \")"
   ]
  },
  {
   "cell_type": "code",
   "execution_count": 6,
   "metadata": {},
   "outputs": [
    {
     "name": "stdout",
     "output_type": "stream",
     "text": [
      "Keith\n"
     ]
    }
   ],
   "source": [
    "print(name)"
   ]
  }
 ],
 "metadata": {
  "kernelspec": {
   "display_name": "Python 3",
   "language": "python",
   "name": "python3"
  },
  "language_info": {
   "codemirror_mode": {
    "name": "ipython",
    "version": 3
   },
   "file_extension": ".py",
   "mimetype": "text/x-python",
   "name": "python",
   "nbconvert_exporter": "python",
   "pygments_lexer": "ipython3",
   "version": "3.6.2"
  }
 },
 "nbformat": 4,
 "nbformat_minor": 2
}
