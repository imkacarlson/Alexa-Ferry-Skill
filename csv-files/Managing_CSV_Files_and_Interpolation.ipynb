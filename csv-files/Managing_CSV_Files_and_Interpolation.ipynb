{
 "cells": [
  {
   "cell_type": "code",
   "execution_count": 15,
   "metadata": {
    "collapsed": true
   },
   "outputs": [],
   "source": [
    "import pandas as pd"
   ]
  },
  {
   "cell_type": "markdown",
   "metadata": {},
   "source": [
    "## Want a csv file with one week of Bainbridge Departures in 2013\n",
    "\n",
    "I am choosing the week of Sunday, January 6, 2013 - Saturday, January 12, 2019"
   ]
  },
  {
   "cell_type": "code",
   "execution_count": 16,
   "metadata": {
    "collapsed": true
   },
   "outputs": [],
   "source": [
    "#df = pd.read_csv(\"Bainbridge_Departures_2013_Interpolated.csv\", parse_dates = [\"timestamps\"], index_col = \"timestamps\")"
   ]
  },
  {
   "cell_type": "code",
   "execution_count": 17,
   "metadata": {
    "collapsed": true
   },
   "outputs": [],
   "source": [
    "#df[\"2013-01-06\":\"2013-01-12\"].to_csv(\"One_Week_Jan2013_Interpolated.csv\")"
   ]
  },
  {
   "cell_type": "markdown",
   "metadata": {},
   "source": [
    "# Combining the `csv`'s in the `Step 2 - Seconds Late` into one large interpolated dataframe with 5 minute frequency"
   ]
  },
  {
   "cell_type": "code",
   "execution_count": 21,
   "metadata": {},
   "outputs": [],
   "source": [
    "import os\n",
    "import pandas as pd\n",
    "\n",
    "dataframes = []\n",
    "\n",
    "for filename in os.listdir(\"Step 2 - Seconds Late\"):\n",
    "    dataframes.append(pd.read_csv(\"Step 2 - Seconds Late/%s\" % (filename), parse_dates = [0], index_col=0))\n",
    "\n",
    "mergedDf = pd.concat(dataframes)\n",
    "mergedDf.index.name =\"timestamps\"\n",
    "mergedDf = mergedDf.asfreq('5min')\n",
    "mergedDf[\"seconds_late\"] = mergedDf[\"seconds_late\"].interpolate()\n",
    "mergedDf.to_csv(\"Bainbridge_Departures_Master.csv\")"
   ]
  }
 ],
 "metadata": {
  "kernelspec": {
   "display_name": "Python 3",
   "language": "python",
   "name": "python3"
  },
  "language_info": {
   "codemirror_mode": {
    "name": "ipython",
    "version": 3
   },
   "file_extension": ".py",
   "mimetype": "text/x-python",
   "name": "python",
   "nbconvert_exporter": "python",
   "pygments_lexer": "ipython3",
   "version": "3.6.2"
  }
 },
 "nbformat": 4,
 "nbformat_minor": 2
}
